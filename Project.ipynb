{
 "cells": [
  {
   "cell_type": "code",
   "execution_count": 7,
   "metadata": {},
   "outputs": [
    {
     "name": "stdout",
     "output_type": "stream",
     "text": [
      "Loading Data from file and removing missing data\n",
      "Dataset Loaded !!!\n"
     ]
    }
   ],
   "source": [
    "from datasets import load_dataset\n",
    "import pandas as pd\n",
    "# Reading the .csv file\n",
    "print(\"Loading Data from file and removing missing data\")\n",
    "bcb = pd.read_csv(\n",
    "    \"/Users/aayushgupta/Library/Mobile Documents/com~apple~CloudDocs/Program testing and analysis/PAT-Clone-Detection_old/train_featureengineered.csv\")\n",
    "\n",
    "\n",
    "print(\"Dataset Loaded !!!\")\n",
    "\n",
    "\n",
    "# def load_big_clone_bench(split=None):\n",
    "#     bcb = load_dataset(\"code_x_glue_cc_clone_detection_big_clone_bench\")\n",
    "#     if split == None:\n",
    "#         return bcb\n",
    "#     else:\n",
    "#         return bcb[split]\n"
   ]
  },
  {
   "cell_type": "code",
   "execution_count": 8,
   "metadata": {},
   "outputs": [],
   "source": [
    "import difflib\n",
    "import javalang\n",
    "import pandas as pd\n",
    "from tqdm import tqdm\n",
    "\n",
    "\n",
    "def line_diff(s1: str, s2: str, match_speed=\"real_quick\"):\n",
    "    differ = difflib.Differ()\n",
    "    diff = differ.compare(s1.splitlines(True), s2.splitlines(True))\n",
    "    result = {\"unique_s1_lines\": 0, \"unique_s2_lines\": 0, \"shared_lines\": 0}\n",
    "    for line in diff:\n",
    "        if line.startswith(\"- \"):\n",
    "            result[\"unique_s1_lines\"] += 1\n",
    "        elif line.startswith(\"+ \"):\n",
    "            result[\"unique_s2_lines\"] += 1\n",
    "        elif line.startswith(\"  \"):\n",
    "            result[\"shared_lines\"] += 1\n",
    "    seq_match = difflib.SequenceMatcher(None, s1, s2)\n",
    "    if match_speed == \"slow\":\n",
    "        result[\"similarity_ratio\"] = seq_match.ratio()\n",
    "    elif match_speed == \"quick\":\n",
    "        result[\"similarity_ratio\"] = seq_match.quick_ratio()\n",
    "    elif match_speed == \"real_quick\":\n",
    "        result[\"similarity_ratio\"] = seq_match.real_quick_ratio()\n",
    "    return result\n",
    "\n",
    "# TODO: generate features from Java ast\n",
    "# def parse_java(java_string):\n",
    "#     parse_results = dict()\n",
    "#     tree = javalang.parse.parse(java_string)\n",
    "#     return parse_results\n",
    "\n",
    "\n",
    "def big_clone_bench_preprocess(bcb):\n",
    "    '''\n",
    "    Generates DataFrame of features from an input in the format of the BigCloneBench dataset https://huggingface.co/datasets/code_x_glue_cc_clone_detection_big_clone_bench\n",
    "    '''\n",
    "    df = pd.DataFrame()\n",
    "    # parse_results = dict()\n",
    "    print(f\"Preprocessing {len(bcb)} examples...\")\n",
    "    for i in tqdm(range(len(bcb))):\n",
    "        example = bcb[i]\n",
    "        example_dict = line_diff(example[\"func1\"], example[\"func2\"])\n",
    "        example_dict[\"target\"] = int(example[\"label\"])\n",
    "        # if example[\"id1\"] not in parse_results:\n",
    "        #     parse_results[example[\"id1\"]] = parse_java(example[\"func1\"])\n",
    "        # if example[\"id2\"] not in parse_results:\n",
    "        #     parse_results[example[\"id2\"]] = parse_java(example[\"func2\"])\n",
    "        df = pd.concat([df, pd.DataFrame([example_dict])], ignore_index=True)\n",
    "    return df\n"
   ]
  },
  {
   "cell_type": "code",
   "execution_count": 9,
   "metadata": {},
   "outputs": [
    {
     "name": "stderr",
     "output_type": "stream",
     "text": [
      "Found cached dataset code_x_glue_cc_clone_detection_big_clone_bench (/Users/aayushgupta/.cache/huggingface/datasets/code_x_glue_cc_clone_detection_big_clone_bench/default/0.0.0/4c85673dc4ced396531cf81e6c10e61f23eca84ca840ca137f52a15dd19c8789)\n"
     ]
    },
    {
     "data": {
      "application/vnd.jupyter.widget-view+json": {
       "model_id": "a7c790aaf3d24f2ba7c9a3291a60a570",
       "version_major": 2,
       "version_minor": 0
      },
      "text/plain": [
       "  0%|          | 0/3 [00:00<?, ?it/s]"
      ]
     },
     "metadata": {},
     "output_type": "display_data"
    },
    {
     "name": "stdout",
     "output_type": "stream",
     "text": [
      "Preprocessing 901028 examples...\n"
     ]
    },
    {
     "name": "stderr",
     "output_type": "stream",
     "text": [
      "100%|██████████| 901028/901028 [4:37:26<00:00, 54.13it/s]     \n"
     ]
    }
   ],
   "source": [
    "from data_loader import load_big_clone_bench\n",
    "from data_preprocess import big_clone_bench_preprocess\n",
    "import multiprocessing as mp \n",
    "\n",
    "pool = mp.Pool(mp.cpu_count())\n",
    "bcb = load_big_clone_bench(\"train\")\n",
    "train_df = big_clone_bench_preprocess(bcb)\n",
    "pool.close()"
   ]
  },
  {
   "cell_type": "code",
   "execution_count": 10,
   "metadata": {},
   "outputs": [],
   "source": [
    "import matplotlib.pyplot as plt \n",
    "import pandas as pd\n",
    "\n",
    "from IPython.display import display\n",
    "\n",
    "import numpy as np \n",
    "\n",
    "import seaborn as sns \n",
    "\n",
    "%matplotlib inline \n",
    "\n",
    "from sklearn import model_selection\n",
    "from sklearn.model_selection import train_test_split\n",
    "from sklearn.model_selection import cross_val_score \n",
    "from sklearn.model_selection import GridSearchCV\n",
    "from sklearn.tree import DecisionTreeClassifier\n",
    "from sklearn.neural_network import MLPClassifier\n",
    "from sklearn.svm import SVC \n",
    "from sklearn.metrics import accuracy_score\n",
    "from sklearn.metrics import classification_report\n",
    "from sklearn.svm import LinearSVC\n",
    "from sklearn.ensemble import RandomForestClassifier\n",
    "from sklearn import svm \n",
    "from sklearn.preprocessing import MinMaxScaler\n",
    "\n",
    "\n"
   ]
  },
  {
   "cell_type": "code",
   "execution_count": 11,
   "metadata": {},
   "outputs": [
    {
     "name": "stdout",
     "output_type": "stream",
     "text": [
      "Summary of dataset \n"
     ]
    },
    {
     "data": {
      "text/html": [
       "<div>\n",
       "<style scoped>\n",
       "    .dataframe tbody tr th:only-of-type {\n",
       "        vertical-align: middle;\n",
       "    }\n",
       "\n",
       "    .dataframe tbody tr th {\n",
       "        vertical-align: top;\n",
       "    }\n",
       "\n",
       "    .dataframe thead th {\n",
       "        text-align: right;\n",
       "    }\n",
       "</style>\n",
       "<table border=\"1\" class=\"dataframe\">\n",
       "  <thead>\n",
       "    <tr style=\"text-align: right;\">\n",
       "      <th></th>\n",
       "      <th>unique_s1_lines</th>\n",
       "      <th>unique_s2_lines</th>\n",
       "      <th>shared_lines</th>\n",
       "      <th>similarity_ratio</th>\n",
       "      <th>target</th>\n",
       "    </tr>\n",
       "  </thead>\n",
       "  <tbody>\n",
       "    <tr>\n",
       "      <th>count</th>\n",
       "      <td>901028.000000</td>\n",
       "      <td>901028.000000</td>\n",
       "      <td>901028.000000</td>\n",
       "      <td>901028.000000</td>\n",
       "      <td>901028.000000</td>\n",
       "    </tr>\n",
       "    <tr>\n",
       "      <th>mean</th>\n",
       "      <td>29.854949</td>\n",
       "      <td>30.425676</td>\n",
       "      <td>2.937218</td>\n",
       "      <td>0.634136</td>\n",
       "      <td>0.500386</td>\n",
       "    </tr>\n",
       "    <tr>\n",
       "      <th>std</th>\n",
       "      <td>40.197042</td>\n",
       "      <td>44.367902</td>\n",
       "      <td>2.754870</td>\n",
       "      <td>0.240125</td>\n",
       "      <td>0.500000</td>\n",
       "    </tr>\n",
       "    <tr>\n",
       "      <th>min</th>\n",
       "      <td>0.000000</td>\n",
       "      <td>0.000000</td>\n",
       "      <td>0.000000</td>\n",
       "      <td>0.007355</td>\n",
       "      <td>0.000000</td>\n",
       "    </tr>\n",
       "    <tr>\n",
       "      <th>25%</th>\n",
       "      <td>12.000000</td>\n",
       "      <td>12.000000</td>\n",
       "      <td>2.000000</td>\n",
       "      <td>0.455645</td>\n",
       "      <td>0.000000</td>\n",
       "    </tr>\n",
       "    <tr>\n",
       "      <th>50%</th>\n",
       "      <td>19.000000</td>\n",
       "      <td>20.000000</td>\n",
       "      <td>3.000000</td>\n",
       "      <td>0.662607</td>\n",
       "      <td>1.000000</td>\n",
       "    </tr>\n",
       "    <tr>\n",
       "      <th>75%</th>\n",
       "      <td>33.000000</td>\n",
       "      <td>34.000000</td>\n",
       "      <td>4.000000</td>\n",
       "      <td>0.837137</td>\n",
       "      <td>1.000000</td>\n",
       "    </tr>\n",
       "    <tr>\n",
       "      <th>max</th>\n",
       "      <td>915.000000</td>\n",
       "      <td>916.000000</td>\n",
       "      <td>716.000000</td>\n",
       "      <td>1.000000</td>\n",
       "      <td>1.000000</td>\n",
       "    </tr>\n",
       "  </tbody>\n",
       "</table>\n",
       "</div>"
      ],
      "text/plain": [
       "       unique_s1_lines  unique_s2_lines   shared_lines  similarity_ratio  \\\n",
       "count    901028.000000    901028.000000  901028.000000     901028.000000   \n",
       "mean         29.854949        30.425676       2.937218          0.634136   \n",
       "std          40.197042        44.367902       2.754870          0.240125   \n",
       "min           0.000000         0.000000       0.000000          0.007355   \n",
       "25%          12.000000        12.000000       2.000000          0.455645   \n",
       "50%          19.000000        20.000000       3.000000          0.662607   \n",
       "75%          33.000000        34.000000       4.000000          0.837137   \n",
       "max         915.000000       916.000000     716.000000          1.000000   \n",
       "\n",
       "              target  \n",
       "count  901028.000000  \n",
       "mean        0.500386  \n",
       "std         0.500000  \n",
       "min         0.000000  \n",
       "25%         0.000000  \n",
       "50%         1.000000  \n",
       "75%         1.000000  \n",
       "max         1.000000  "
      ]
     },
     "metadata": {},
     "output_type": "display_data"
    },
    {
     "name": "stdout",
     "output_type": "stream",
     "text": [
      "Graphical Representation of data\n"
     ]
    },
    {
     "data": {
      "image/png": "[encoded data removed]",
      "text/plain": [
       "<Figure size 640x480 with 6 Axes>"
      ]
     },
     "metadata": {},
     "output_type": "display_data"
    }
   ],
   "source": [
    "print(\"Summary of dataset \")\n",
    "display(train_df.describe(include='all'))\n",
    "print(\"Graphical Representation of data\")\n",
    "train_df.hist() \n",
    "sns.set(style=\"darkgrid\")\n",
    "plt.show()\n"
   ]
  },
  {
   "cell_type": "code",
   "execution_count": 12,
   "metadata": {},
   "outputs": [],
   "source": [
    "X = train_df.drop('target',axis=1)\n",
    "\n",
    "y_name = 'target'\n",
    "y = train_df[y_name]"
   ]
  },
  {
   "cell_type": "code",
   "execution_count": 13,
   "metadata": {},
   "outputs": [],
   "source": [
    "seed = 42 \n",
    "\n",
    "test_size = 0.20 \n",
    "\n",
    "X_train, X_test, y_train, y_test = model_selection.train_test_split(X,y, test_size=test_size, random_state=seed)\n",
    "\n",
    "scoring = 'accuracy'"
   ]
  },
  {
   "cell_type": "code",
   "execution_count": 96,
   "metadata": {},
   "outputs": [
    {
     "name": "stderr",
     "output_type": "stream",
     "text": [
      "  0%|          | 0/8 [00:00<?, ?it/s]"
     ]
    },
    {
     "name": "stdout",
     "output_type": "stream",
     "text": [
      " ++ NOW WORKING ON ALGORITHM Logistic Regression ++\n",
      "Splitting data into 5 folds\n",
      "Training model on each split\n"
     ]
    },
    {
     "name": "stderr",
     "output_type": "stream",
     "text": [
      " 12%|█▎        | 1/8 [00:05<00:40,  5.80s/it]"
     ]
    },
    {
     "name": "stdout",
     "output_type": "stream",
     "text": [
      "algorithm Logistic Regression accuracy results: mean = 0.500402 (std = 0.000660)\n",
      " ++ NOW WORKING ON ALGORITHM K-Neighbor ++\n",
      "Splitting data into 5 folds\n",
      "Training model on each split\n"
     ]
    },
    {
     "name": "stderr",
     "output_type": "stream",
     "text": [
      " 25%|██▌       | 2/8 [00:19<01:02, 10.41s/it]"
     ]
    },
    {
     "name": "stdout",
     "output_type": "stream",
     "text": [
      "algorithm K-Neighbor accuracy results: mean = 0.631618 (std = 0.001338)\n",
      " ++ NOW WORKING ON ALGORITHM Bagging Classifier ++\n",
      "Splitting data into 5 folds\n",
      "Training model on each split\n"
     ]
    },
    {
     "name": "stderr",
     "output_type": "stream",
     "text": [
      " 38%|███▊      | 3/8 [01:29<03:08, 37.61s/it]"
     ]
    },
    {
     "name": "stdout",
     "output_type": "stream",
     "text": [
      "algorithm Bagging Classifier accuracy results: mean = 0.746118 (std = 0.001203)\n",
      " ++ NOW WORKING ON ALGORITHM AdaBoost Classifier ++\n",
      "Splitting data into 5 folds\n",
      "Training model on each split\n"
     ]
    },
    {
     "name": "stderr",
     "output_type": "stream",
     "text": [
      " 50%|█████     | 4/8 [02:19<02:49, 42.45s/it]"
     ]
    },
    {
     "name": "stdout",
     "output_type": "stream",
     "text": [
      "algorithm AdaBoost Classifier accuracy results: mean = 0.568396 (std = 0.001731)\n",
      " ++ NOW WORKING ON ALGORITHM Decision Tree ++\n",
      "Splitting data into 5 folds\n",
      "Training model on each split\n"
     ]
    },
    {
     "name": "stderr",
     "output_type": "stream",
     "text": [
      " 62%|██████▎   | 5/8 [02:29<01:32, 30.84s/it]"
     ]
    },
    {
     "name": "stdout",
     "output_type": "stream",
     "text": [
      "algorithm Decision Tree accuracy results: mean = 0.739572 (std = 0.000669)\n",
      " ++ NOW WORKING ON ALGORITHM Random Forest ++\n",
      "Splitting data into 5 folds\n",
      "Training model on each split\n"
     ]
    },
    {
     "name": "stderr",
     "output_type": "stream",
     "text": [
      " 75%|███████▌  | 6/8 [08:54<05:02, 151.38s/it]"
     ]
    },
    {
     "name": "stdout",
     "output_type": "stream",
     "text": [
      "algorithm Random Forest accuracy results: mean = 0.755417 (std = 0.000958)\n",
      " ++ NOW WORKING ON ALGORITHM Linear SVC ++\n",
      "Splitting data into 5 folds\n",
      "Training model on each split\n"
     ]
    },
    {
     "name": "stderr",
     "output_type": "stream",
     "text": [
      "Liblinear failed to converge, increase the number of iterations.\n",
      "Liblinear failed to converge, increase the number of iterations.\n",
      "Liblinear failed to converge, increase the number of iterations.\n",
      "Liblinear failed to converge, increase the number of iterations.\n",
      "Liblinear failed to converge, increase the number of iterations.\n",
      " 88%|████████▊ | 7/8 [14:23<03:29, 209.20s/it]"
     ]
    },
    {
     "name": "stdout",
     "output_type": "stream",
     "text": [
      "algorithm Linear SVC accuracy results: mean = 0.505705 (std = 0.006140)\n",
      " ++ NOW WORKING ON ALGORITHM Multi-Layer Perceptron ++\n",
      "Splitting data into 5 folds\n",
      "Training model on each split\n"
     ]
    },
    {
     "name": "stderr",
     "output_type": "stream",
     "text": [
      "100%|██████████| 8/8 [21:57<00:00, 164.64s/it]"
     ]
    },
    {
     "name": "stdout",
     "output_type": "stream",
     "text": [
      "algorithm Multi-Layer Perceptron accuracy results: mean = 0.561114 (std = 0.001131)\n",
      "done \n",
      "\n"
     ]
    },
    {
     "name": "stderr",
     "output_type": "stream",
     "text": [
      "\n"
     ]
    }
   ],
   "source": [
    "# import logisticregression classifier\n",
    "from sklearn.linear_model import LogisticRegression\n",
    "\n",
    "# import knn classifier\n",
    "from sklearn.neighbors import KNeighborsClassifier\n",
    "from sklearn.ensemble import BaggingClassifier\n",
    "from sklearn.ensemble import AdaBoostClassifier\n",
    "\n",
    "#Chose the algorithms\n",
    "models = []\n",
    "\n",
    "#Based on Decision Tree\n",
    "models.append(('Logistic Regression', LogisticRegression(max_iter=500)))\n",
    "models.append(('K-Neighbor', KNeighborsClassifier()))\n",
    "models.append(('Bagging Classifier', BaggingClassifier()))\n",
    "models.append(('AdaBoost Classifier', AdaBoostClassifier()))\n",
    "models.append(('Decision Tree', DecisionTreeClassifier()))\n",
    "models.append(('Random Forest', RandomForestClassifier()))\n",
    "\n",
    "# Based on SVMs\n",
    "models.append(('Linear SVC', LinearSVC()))\n",
    "\n",
    "# Based on Neural Network \n",
    "models.append((\"Multi-Layer Perceptron\", MLPClassifier()))\n",
    "\n",
    "k4folds = 5\n",
    "results = []\n",
    "names = []\n",
    "pool = mp.Pool(mp.cpu_count())\n",
    "for name, model in tqdm(models):   # Select each model in turn\n",
    "    print(\" ++ NOW WORKING ON ALGORITHM %s ++\" % name)\n",
    "    print(\"Splitting data into %s folds\" % k4folds)\n",
    "    kfold = model_selection.KFold(\n",
    "        n_splits=k4folds, random_state=seed, shuffle=True)\n",
    "    print(\"Training model on each split\")\n",
    "    cv_results = model_selection.cross_val_score(\n",
    "        model, X_train, y_train, cv=kfold, scoring=scoring)\n",
    "    results.append(cv_results)\n",
    "    names.append(name)\n",
    "    msg = \"algorithm %s %s results: mean = %f (std = %f)\" % (\n",
    "        name, scoring, cv_results.mean(), cv_results.std())\n",
    "    print(msg)\n",
    "pool.close()\n",
    "print('done \\n')\n"
   ]
  },
  {
   "cell_type": "code",
   "execution_count": 49,
   "metadata": {},
   "outputs": [
    {
     "data": {
      "text/plain": [
       "['compare.joblib']"
      ]
     },
     "execution_count": 49,
     "metadata": {},
     "output_type": "execute_result"
    }
   ],
   "source": [
    "import joblib \n",
    "joblib.dump(models, 'compare.joblib',compress=3)"
   ]
  },
  {
   "cell_type": "code",
   "execution_count": 97,
   "metadata": {},
   "outputs": [
    {
     "data": {
      "application/vnd.plotly.v1+json": {
       "config": {
        "plotlyServerURL": "https://plot.ly"
       },
       "data": [
        {
         "error_y": {
          "array": [
           0.000659905333739079
          ],
          "type": "data",
          "visible": true
         },
         "marker": {
          "color": "#636EFA"
         },
         "name": "Logistic Regression",
         "opacity": 0.7,
         "text": "Mean: 0.50",
         "textposition": "auto",
         "type": "bar",
         "x": [
          "Logistic Regression"
         ],
         "y": [
          0.5004023166839358
         ]
        },
        {
         "error_y": {
          "array": [
           0.0013375767099599934
          ],
          "type": "data",
          "visible": true
         },
         "marker": {
          "color": "#EF553B"
         },
         "name": "K-Neighbor",
         "opacity": 0.7,
         "text": "Mean: 0.63",
         "textposition": "auto",
         "type": "bar",
         "x": [
          "K-Neighbor"
         ],
         "y": [
          0.6316177910567837
         ]
        },
        {
         "error_y": {
          "array": [
           0.0012029140860566956
          ],
          "type": "data",
          "visible": true
         },
         "marker": {
          "color": "#00CC96"
         },
         "name": "Bagging Classifier",
         "opacity": 0.7,
         "text": "Mean: 0.75",
         "textposition": "auto",
         "type": "bar",
         "x": [
          "Bagging Classifier"
         ],
         "y": [
          0.7461176266193241
         ]
        },
        {
         "error_y": {
          "array": [
           0.0017308715204532438
          ],
          "type": "data",
          "visible": true
         },
         "marker": {
          "color": "#AB63FA"
         },
         "name": "AdaBoost Classifier",
         "opacity": 0.7,
         "text": "Mean: 0.57",
         "textposition": "auto",
         "type": "bar",
         "x": [
          "AdaBoost Classifier"
         ],
         "y": [
          0.568395527272231
         ]
        },
        {
         "error_y": {
          "array": [
           0.0006693524823163278
          ],
          "type": "data",
          "visible": true
         },
         "marker": {
          "color": "#FFA15A"
         },
         "name": "Decision Tree",
         "opacity": 0.7,
         "text": "Mean: 0.74",
         "textposition": "auto",
         "type": "bar",
         "x": [
          "Decision Tree"
         ],
         "y": [
          0.7395723194717275
         ]
        },
        {
         "error_y": {
          "array": [
           0.0009579729630524368
          ],
          "type": "data",
          "visible": true
         },
         "marker": {
          "color": "#19D3F3"
         },
         "name": "Random Forest",
         "opacity": 0.7,
         "text": "Mean: 0.76",
         "textposition": "auto",
         "type": "bar",
         "x": [
          "Random Forest"
         ],
         "y": [
          0.7554167309306852
         ]
        },
        {
         "error_y": {
          "array": [
           0.006139806247622867
          ],
          "type": "data",
          "visible": true
         },
         "marker": {
          "color": "#FF6692"
         },
         "name": "Linear SVC",
         "opacity": 0.7,
         "text": "Mean: 0.51",
         "textposition": "auto",
         "type": "bar",
         "x": [
          "Linear SVC"
         ],
         "y": [
          0.5057046143241182
         ]
        },
        {
         "error_y": {
          "array": [
           0.0011306113694878744
          ],
          "type": "data",
          "visible": true
         },
         "marker": {
          "color": "#B6E880"
         },
         "name": "Multi-Layer Perceptron",
         "opacity": 0.7,
         "text": "Mean: 0.56",
         "textposition": "auto",
         "type": "bar",
         "x": [
          "Multi-Layer Perceptron"
         ],
         "y": [
          0.5611135588302449
         ]
        }
       ],
       "layout": {
        "font": {
         "color": "RebeccaPurple",
         "family": "Arial, monospace",
         "size": 14
        },
        "height": 500,
        "hovermode": "x unified",
        "showlegend": false,
        "template": {
         "data": {
          "bar": [
           {
            "error_x": {
             "color": "#2a3f5f"
            },
            "error_y": {
             "color": "#2a3f5f"
            },
            "marker": {
             "line": {
              "color": "white",
              "width": 0.5
             },
             "pattern": {
              "fillmode": "overlay",
              "size": 10,
              "solidity": 0.2
             }
            },
            "type": "bar"
           }
          ],
          "barpolar": [
           {
            "marker": {
             "line": {
              "color": "white",
              "width": 0.5
             },
             "pattern": {
              "fillmode": "overlay",
              "size": 10,
              "solidity": 0.2
             }
            },
            "type": "barpolar"
           }
          ],
          "carpet": [
           {
            "aaxis": {
             "endlinecolor": "#2a3f5f",
             "gridcolor": "#C8D4E3",
             "linecolor": "#C8D4E3",
             "minorgridcolor": "#C8D4E3",
             "startlinecolor": "#2a3f5f"
            },
            "baxis": {
             "endlinecolor": "#2a3f5f",
             "gridcolor": "#C8D4E3",
             "linecolor": "#C8D4E3",
             "minorgridcolor": "#C8D4E3",
             "startlinecolor": "#2a3f5f"
            },
            "type": "carpet"
           }
          ],
          "choropleth": [
           {
            "colorbar": {
             "outlinewidth": 0,
             "ticks": ""
            },
            "type": "choropleth"
           }
          ],
          "contour": [
           {
            "colorbar": {
             "outlinewidth": 0,
             "ticks": ""
            },
            "colorscale": [
             [
              0,
              "#0d0887"
             ],
             [
              0.1111111111111111,
              "#46039f"
             ],
             [
              0.2222222222222222,
              "#7201a8"
             ],
             [
              0.3333333333333333,
              "#9c179e"
             ],
             [
              0.4444444444444444,
              "#bd3786"
             ],
             [
              0.5555555555555556,
              "#d8576b"
             ],
             [
              0.6666666666666666,
              "#ed7953"
             ],
             [
              0.7777777777777778,
              "#fb9f3a"
             ],
             [
              0.8888888888888888,
              "#fdca26"
             ],
             [
              1,
              "#f0f921"
             ]
            ],
            "type": "contour"
           }
          ],
          "contourcarpet": [
           {
            "colorbar": {
             "outlinewidth": 0,
             "ticks": ""
            },
            "type": "contourcarpet"
           }
          ],
          "heatmap": [
           {
            "colorbar": {
             "outlinewidth": 0,
             "ticks": ""
            },
            "colorscale": [
             [
              0,
              "#0d0887"
             ],
             [
              0.1111111111111111,
              "#46039f"
             ],
             [
              0.2222222222222222,
              "#7201a8"
             ],
             [
              0.3333333333333333,
              "#9c179e"
             ],
             [
              0.4444444444444444,
              "#bd3786"
             ],
             [
              0.5555555555555556,
              "#d8576b"
             ],
             [
              0.6666666666666666,
              "#ed7953"
             ],
             [
              0.7777777777777778,
              "#fb9f3a"
             ],
             [
              0.8888888888888888,
              "#fdca26"
             ],
             [
              1,
              "#f0f921"
             ]
            ],
            "type": "heatmap"
           }
          ],
          "heatmapgl": [
           {
            "colorbar": {
             "outlinewidth": 0,
             "ticks": ""
            },
            "colorscale": [
             [
              0,
              "#0d0887"
             ],
             [
              0.1111111111111111,
              "#46039f"
             ],
             [
              0.2222222222222222,
              "#7201a8"
             ],
             [
              0.3333333333333333,
              "#9c179e"
             ],
             [
              0.4444444444444444,
              "#bd3786"
             ],
             [
              0.5555555555555556,
              "#d8576b"
             ],
             [
              0.6666666666666666,
              "#ed7953"
             ],
             [
              0.7777777777777778,
              "#fb9f3a"
             ],
             [
              0.8888888888888888,
              "#fdca26"
             ],
             [
              1,
              "#f0f921"
             ]
            ],
            "type": "heatmapgl"
           }
          ],
          "histogram": [
           {
            "marker": {
             "pattern": {
              "fillmode": "overlay",
              "size": 10,
              "solidity": 0.2
             }
            },
            "type": "histogram"
           }
          ],
          "histogram2d": [
           {
            "colorbar": {
             "outlinewidth": 0,
             "ticks": ""
            },
            "colorscale": [
             [
              0,
              "#0d0887"
             ],
             [
              0.1111111111111111,
              "#46039f"
             ],
             [
              0.2222222222222222,
              "#7201a8"
             ],
             [
              0.3333333333333333,
              "#9c179e"
             ],
             [
              0.4444444444444444,
              "#bd3786"
             ],
             [
              0.5555555555555556,
              "#d8576b"
             ],
             [
              0.6666666666666666,
              "#ed7953"
             ],
             [
              0.7777777777777778,
              "#fb9f3a"
             ],
             [
              0.8888888888888888,
              "#fdca26"
             ],
             [
              1,
              "#f0f921"
             ]
            ],
            "type": "histogram2d"
           }
          ],
          "histogram2dcontour": [
           {
            "colorbar": {
             "outlinewidth": 0,
             "ticks": ""
            },
            "colorscale": [
             [
              0,
              "#0d0887"
             ],
             [
              0.1111111111111111,
              "#46039f"
             ],
             [
              0.2222222222222222,
              "#7201a8"
             ],
             [
              0.3333333333333333,
              "#9c179e"
             ],
             [
              0.4444444444444444,
              "#bd3786"
             ],
             [
              0.5555555555555556,
              "#d8576b"
             ],
             [
              0.6666666666666666,
              "#ed7953"
             ],
             [
              0.7777777777777778,
              "#fb9f3a"
             ],
             [
              0.8888888888888888,
              "#fdca26"
             ],
             [
              1,
              "#f0f921"
             ]
            ],
            "type": "histogram2dcontour"
           }
          ],
          "mesh3d": [
           {
            "colorbar": {
             "outlinewidth": 0,
             "ticks": ""
            },
            "type": "mesh3d"
           }
          ],
          "parcoords": [
           {
            "line": {
             "colorbar": {
              "outlinewidth": 0,
              "ticks": ""
             }
            },
            "type": "parcoords"
           }
          ],
          "pie": [
           {
            "automargin": true,
            "type": "pie"
           }
          ],
          "scatter": [
           {
            "fillpattern": {
             "fillmode": "overlay",
             "size": 10,
             "solidity": 0.2
            },
            "type": "scatter"
           }
          ],
          "scatter3d": [
           {
            "line": {
             "colorbar": {
              "outlinewidth": 0,
              "ticks": ""
             }
            },
            "marker": {
             "colorbar": {
              "outlinewidth": 0,
              "ticks": ""
             }
            },
            "type": "scatter3d"
           }
          ],
          "scattercarpet": [
           {
            "marker": {
             "colorbar": {
              "outlinewidth": 0,
              "ticks": ""
             }
            },
            "type": "scattercarpet"
           }
          ],
          "scattergeo": [
           {
            "marker": {
             "colorbar": {
              "outlinewidth": 0,
              "ticks": ""
             }
            },
            "type": "scattergeo"
           }
          ],
          "scattergl": [
           {
            "marker": {
             "colorbar": {
              "outlinewidth": 0,
              "ticks": ""
             }
            },
            "type": "scattergl"
           }
          ],
          "scattermapbox": [
           {
            "marker": {
             "colorbar": {
              "outlinewidth": 0,
              "ticks": ""
             }
            },
            "type": "scattermapbox"
           }
          ],
          "scatterpolar": [
           {
            "marker": {
             "colorbar": {
              "outlinewidth": 0,
              "ticks": ""
             }
            },
            "type": "scatterpolar"
           }
          ],
          "scatterpolargl": [
           {
            "marker": {
             "colorbar": {
              "outlinewidth": 0,
              "ticks": ""
             }
            },
            "type": "scatterpolargl"
           }
          ],
          "scatterternary": [
           {
            "marker": {
             "colorbar": {
              "outlinewidth": 0,
              "ticks": ""
             }
            },
            "type": "scatterternary"
           }
          ],
          "surface": [
           {
            "colorbar": {
             "outlinewidth": 0,
             "ticks": ""
            },
            "colorscale": [
             [
              0,
              "#0d0887"
             ],
             [
              0.1111111111111111,
              "#46039f"
             ],
             [
              0.2222222222222222,
              "#7201a8"
             ],
             [
              0.3333333333333333,
              "#9c179e"
             ],
             [
              0.4444444444444444,
              "#bd3786"
             ],
             [
              0.5555555555555556,
              "#d8576b"
             ],
             [
              0.6666666666666666,
              "#ed7953"
             ],
             [
              0.7777777777777778,
              "#fb9f3a"
             ],
             [
              0.8888888888888888,
              "#fdca26"
             ],
             [
              1,
              "#f0f921"
             ]
            ],
            "type": "surface"
           }
          ],
          "table": [
           {
            "cells": {
             "fill": {
              "color": "#EBF0F8"
             },
             "line": {
              "color": "white"
             }
            },
            "header": {
             "fill": {
              "color": "#C8D4E3"
             },
             "line": {
              "color": "white"
             }
            },
            "type": "table"
           }
          ]
         },
         "layout": {
          "annotationdefaults": {
           "arrowcolor": "#2a3f5f",
           "arrowhead": 0,
           "arrowwidth": 1
          },
          "autotypenumbers": "strict",
          "coloraxis": {
           "colorbar": {
            "outlinewidth": 0,
            "ticks": ""
           }
          },
          "colorscale": {
           "diverging": [
            [
             0,
             "#8e0152"
            ],
            [
             0.1,
             "#c51b7d"
            ],
            [
             0.2,
             "#de77ae"
            ],
            [
             0.3,
             "#f1b6da"
            ],
            [
             0.4,
             "#fde0ef"
            ],
            [
             0.5,
             "#f7f7f7"
            ],
            [
             0.6,
             "#e6f5d0"
            ],
            [
             0.7,
             "#b8e186"
            ],
            [
             0.8,
             "#7fbc41"
            ],
            [
             0.9,
             "#4d9221"
            ],
            [
             1,
             "#276419"
            ]
           ],
           "sequential": [
            [
             0,
             "#0d0887"
            ],
            [
             0.1111111111111111,
             "#46039f"
            ],
            [
             0.2222222222222222,
             "#7201a8"
            ],
            [
             0.3333333333333333,
             "#9c179e"
            ],
            [
             0.4444444444444444,
             "#bd3786"
            ],
            [
             0.5555555555555556,
             "#d8576b"
            ],
            [
             0.6666666666666666,
             "#ed7953"
            ],
            [
             0.7777777777777778,
             "#fb9f3a"
            ],
            [
             0.8888888888888888,
             "#fdca26"
            ],
            [
             1,
             "#f0f921"
            ]
           ],
           "sequentialminus": [
            [
             0,
             "#0d0887"
            ],
            [
             0.1111111111111111,
             "#46039f"
            ],
            [
             0.2222222222222222,
             "#7201a8"
            ],
            [
             0.3333333333333333,
             "#9c179e"
            ],
            [
             0.4444444444444444,
             "#bd3786"
            ],
            [
             0.5555555555555556,
             "#d8576b"
            ],
            [
             0.6666666666666666,
             "#ed7953"
            ],
            [
             0.7777777777777778,
             "#fb9f3a"
            ],
            [
             0.8888888888888888,
             "#fdca26"
            ],
            [
             1,
             "#f0f921"
            ]
           ]
          },
          "colorway": [
           "#636efa",
           "#EF553B",
           "#00cc96",
           "#ab63fa",
           "#FFA15A",
           "#19d3f3",
           "#FF6692",
           "#B6E880",
           "#FF97FF",
           "#FECB52"
          ],
          "font": {
           "color": "#2a3f5f"
          },
          "geo": {
           "bgcolor": "white",
           "lakecolor": "white",
           "landcolor": "white",
           "showlakes": true,
           "showland": true,
           "subunitcolor": "#C8D4E3"
          },
          "hoverlabel": {
           "align": "left"
          },
          "hovermode": "closest",
          "mapbox": {
           "style": "light"
          },
          "paper_bgcolor": "white",
          "plot_bgcolor": "white",
          "polar": {
           "angularaxis": {
            "gridcolor": "#EBF0F8",
            "linecolor": "#EBF0F8",
            "ticks": ""
           },
           "bgcolor": "white",
           "radialaxis": {
            "gridcolor": "#EBF0F8",
            "linecolor": "#EBF0F8",
            "ticks": ""
           }
          },
          "scene": {
           "xaxis": {
            "backgroundcolor": "white",
            "gridcolor": "#DFE8F3",
            "gridwidth": 2,
            "linecolor": "#EBF0F8",
            "showbackground": true,
            "ticks": "",
            "zerolinecolor": "#EBF0F8"
           },
           "yaxis": {
            "backgroundcolor": "white",
            "gridcolor": "#DFE8F3",
            "gridwidth": 2,
            "linecolor": "#EBF0F8",
            "showbackground": true,
            "ticks": "",
            "zerolinecolor": "#EBF0F8"
           },
           "zaxis": {
            "backgroundcolor": "white",
            "gridcolor": "#DFE8F3",
            "gridwidth": 2,
            "linecolor": "#EBF0F8",
            "showbackground": true,
            "ticks": "",
            "zerolinecolor": "#EBF0F8"
           }
          },
          "shapedefaults": {
           "line": {
            "color": "#2a3f5f"
           }
          },
          "ternary": {
           "aaxis": {
            "gridcolor": "#DFE8F3",
            "linecolor": "#A2B1C6",
            "ticks": ""
           },
           "baxis": {
            "gridcolor": "#DFE8F3",
            "linecolor": "#A2B1C6",
            "ticks": ""
           },
           "bgcolor": "white",
           "caxis": {
            "gridcolor": "#DFE8F3",
            "linecolor": "#A2B1C6",
            "ticks": ""
           }
          },
          "title": {
           "x": 0.05
          },
          "xaxis": {
           "automargin": true,
           "gridcolor": "#EBF0F8",
           "linecolor": "#EBF0F8",
           "ticks": "",
           "title": {
            "standoff": 15
           },
           "zerolinecolor": "#EBF0F8",
           "zerolinewidth": 2
          },
          "yaxis": {
           "automargin": true,
           "gridcolor": "#EBF0F8",
           "linecolor": "#EBF0F8",
           "ticks": "",
           "title": {
            "standoff": 15
           },
           "zerolinecolor": "#EBF0F8",
           "zerolinewidth": 2
          }
         }
        },
        "title": {
         "text": "Algorithm Comparison based on accuracy"
        },
        "width": 1000,
        "xaxis": {
         "title": {
          "text": "Algorithms"
         }
        },
        "yaxis": {
         "title": {
          "text": "accuracy"
         }
        }
       }
      }
     },
     "metadata": {},
     "output_type": "display_data"
    }
   ],
   "source": [
    "import plotly.graph_objs as go\n",
    "import plotly.express as px\n",
    "\n",
    "# Assuming 'names' and 'results' are already defined and populated\n",
    "results_np = np.array(results)\n",
    "\n",
    "# Define colors for the bars\n",
    "colors = px.colors.qualitative.Plotly\n",
    "\n",
    "# Create the interactive bar chart\n",
    "fig = go.Figure()\n",
    "\n",
    "for idx, name in enumerate(names):\n",
    "    mean_value = results_np.mean(axis=1)[idx]\n",
    "    std_value = results_np.std(axis=1)[idx]\n",
    "    fig.add_trace(go.Bar(\n",
    "        x=[name],\n",
    "        y=[mean_value],\n",
    "        error_y=dict(type='data', array=[std_value], visible=True),\n",
    "        name=name,\n",
    "        marker_color=colors[idx % len(colors)],\n",
    "        opacity=0.7,\n",
    "        text=f'Mean: {mean_value:.2f}',\n",
    "        textposition='auto'\n",
    "    ))\n",
    "\n",
    "fig.update_layout(\n",
    "    title=f'Algorithm Comparison based on {scoring}',\n",
    "    xaxis_title='Algorithms',\n",
    "    yaxis_title=scoring,\n",
    "    showlegend=False,\n",
    "    template='plotly_white',  # You can choose other templates like 'ggplot2', 'seaborn', 'simple_white', 'plotly', 'plotly_dark', 'presentation', 'xgridoff', 'ygridoff', 'gridon', 'none'\n",
    "    font=dict(\n",
    "        family=\"Arial, monospace\",\n",
    "        size=14,\n",
    "        color=\"RebeccaPurple\"\n",
    "    ),\n",
    "    hovermode='x unified',\n",
    "    width=1000,\n",
    "    height=500\n",
    ")\n",
    "\n",
    "# Show the interactive plot\n",
    "fig.show()\n"
   ]
  },
  {
   "cell_type": "code",
   "execution_count": 19,
   "metadata": {},
   "outputs": [
    {
     "name": "stderr",
     "output_type": "stream",
     "text": [
      "/var/folders/_t/k4q8g4jd7kq8f8kh6qvvgs_c0000gn/T/ipykernel_24549/4280689190.py:7: UserWarning: FixedFormatter should only be used together with FixedLocator\n",
      "  ax.set_xticklabels(names)\n"
     ]
    },
    {
     "data": {
      "image/png": "[encoded data removed]",
      "text/plain": [
       "<Figure size 1500x500 with 1 Axes>"
      ]
     },
     "metadata": {},
     "output_type": "display_data"
    },
    {
     "data": {
      "image/png": "[encoded data removed]",
      "text/plain": [
       "<Figure size 1500x500 with 1 Axes>"
      ]
     },
     "metadata": {},
     "output_type": "display_data"
    }
   ],
   "source": [
    "# Compare Algorithms\n",
    "\n",
    "fig = plt.figure(figsize=(15, 5))\n",
    "fig.suptitle('Algorithm Comparison based on %s' % scoring)\n",
    "ax = fig.add_subplot(111)\n",
    "plt.plot(results)\n",
    "ax.set_xticklabels(names)\n",
    "plt.show()\n",
    "\n",
    "# Compare Algorithms\n",
    "fig = plt.figure(figsize=(15, 5))\n",
    "fig.suptitle('Algorithm Comparison based on %s' % scoring)\n",
    "ax = fig.add_subplot(111)\n",
    "plt.boxplot(results)\n",
    "ax.set_xticklabels(names)\n",
    "plt.show()\n",
    "\n",
    "\n"
   ]
  },
  {
   "cell_type": "code",
   "execution_count": null,
   "metadata": {},
   "outputs": [],
   "source": []
  },
  {
   "cell_type": "code",
   "execution_count": 32,
   "metadata": {},
   "outputs": [
    {
     "name": "stdout",
     "output_type": "stream",
     "text": [
      "Fitting 5 folds for each of 92 candidates, totalling 460 fits\n",
      "[CV] END ......................max_depth=27, n_estimators=30; total time=  19.8s\n",
      "[CV] END ......................max_depth=27, n_estimators=30; total time=  19.4s\n",
      "[CV] END ......................max_depth=27, n_estimators=30; total time=  19.9s\n",
      "[CV] END ......................max_depth=27, n_estimators=30; total time=  19.4s\n",
      "[CV] END ......................max_depth=27, n_estimators=30; total time=  19.8s\n",
      "[CV] END ......................max_depth=27, n_estimators=35; total time=  23.9s\n",
      "[CV] END ......................max_depth=27, n_estimators=35; total time=  23.6s\n",
      "[CV] END ......................max_depth=27, n_estimators=35; total time=  24.3s\n",
      "[CV] END ......................max_depth=27, n_estimators=35; total time=  23.3s\n",
      "[CV] END ......................max_depth=27, n_estimators=35; total time=  23.3s\n",
      "[CV] END ......................max_depth=27, n_estimators=40; total time=  26.9s\n",
      "[CV] END ......................max_depth=27, n_estimators=40; total time=  26.4s\n",
      "[CV] END ......................max_depth=27, n_estimators=40; total time=  27.4s\n",
      "[CV] END ......................max_depth=27, n_estimators=40; total time=  28.3s\n",
      "[CV] END ......................max_depth=27, n_estimators=40; total time=  29.5s\n",
      "[CV] END ......................max_depth=27, n_estimators=45; total time=  30.3s\n",
      "[CV] END ......................max_depth=27, n_estimators=45; total time=  30.6s\n",
      "[CV] END ......................max_depth=27, n_estimators=45; total time=  30.9s\n",
      "[CV] END ......................max_depth=27, n_estimators=45; total time=  31.6s\n",
      "[CV] END ......................max_depth=27, n_estimators=45; total time=  30.5s\n",
      "[CV] END ......................max_depth=28, n_estimators=30; total time=  20.5s\n",
      "[CV] END ......................max_depth=28, n_estimators=30; total time=  21.4s\n",
      "[CV] END ......................max_depth=28, n_estimators=30; total time=  21.1s\n",
      "[CV] END ......................max_depth=28, n_estimators=30; total time=  22.3s\n",
      "[CV] END ......................max_depth=28, n_estimators=30; total time=  21.9s\n",
      "[CV] END ......................max_depth=28, n_estimators=35; total time=  25.9s\n",
      "[CV] END ......................max_depth=28, n_estimators=35; total time=  24.9s\n",
      "[CV] END ......................max_depth=28, n_estimators=35; total time=  24.4s\n",
      "[CV] END ......................max_depth=28, n_estimators=35; total time=  26.8s\n",
      "[CV] END ......................max_depth=28, n_estimators=35; total time=  25.2s\n",
      "[CV] END ......................max_depth=28, n_estimators=40; total time=  29.6s\n",
      "[CV] END ......................max_depth=28, n_estimators=40; total time=  27.6s\n",
      "[CV] END ......................max_depth=28, n_estimators=40; total time=  27.9s\n",
      "[CV] END ......................max_depth=28, n_estimators=40; total time=  30.9s\n",
      "[CV] END ......................max_depth=28, n_estimators=40; total time=  31.1s\n",
      "[CV] END ......................max_depth=28, n_estimators=45; total time=  35.1s\n",
      "[CV] END ......................max_depth=28, n_estimators=45; total time=  31.3s\n",
      "[CV] END ......................max_depth=28, n_estimators=45; total time=  30.4s\n",
      "[CV] END ......................max_depth=28, n_estimators=45; total time=  31.5s\n",
      "[CV] END ......................max_depth=28, n_estimators=45; total time=  30.7s\n",
      "[CV] END ......................max_depth=29, n_estimators=30; total time=  22.1s\n",
      "[CV] END ......................max_depth=29, n_estimators=30; total time=  20.7s\n",
      "[CV] END ......................max_depth=29, n_estimators=30; total time=  20.8s\n",
      "[CV] END ......................max_depth=29, n_estimators=30; total time=  21.2s\n",
      "[CV] END ......................max_depth=29, n_estimators=30; total time=  20.1s\n",
      "[CV] END ......................max_depth=29, n_estimators=35; total time=  23.7s\n",
      "[CV] END ......................max_depth=29, n_estimators=35; total time=  23.4s\n",
      "[CV] END ......................max_depth=29, n_estimators=35; total time=  24.1s\n",
      "[CV] END ......................max_depth=29, n_estimators=35; total time=  23.8s\n",
      "[CV] END ......................max_depth=29, n_estimators=35; total time=  23.9s\n",
      "[CV] END ......................max_depth=29, n_estimators=40; total time=  26.5s\n",
      "[CV] END ......................max_depth=29, n_estimators=40; total time=  27.2s\n",
      "[CV] END ......................max_depth=29, n_estimators=40; total time=  27.2s\n",
      "[CV] END ......................max_depth=29, n_estimators=40; total time=  28.3s\n",
      "[CV] END ......................max_depth=29, n_estimators=40; total time=  30.4s\n",
      "[CV] END ......................max_depth=29, n_estimators=45; total time=  34.5s\n",
      "[CV] END ......................max_depth=29, n_estimators=45; total time=  31.2s\n",
      "[CV] END ......................max_depth=29, n_estimators=45; total time=  31.2s\n",
      "[CV] END ......................max_depth=29, n_estimators=45; total time=  30.7s\n",
      "[CV] END ......................max_depth=29, n_estimators=45; total time=  30.6s\n",
      "[CV] END ......................max_depth=30, n_estimators=30; total time=  20.5s\n",
      "[CV] END ......................max_depth=30, n_estimators=30; total time=  20.8s\n",
      "[CV] END ......................max_depth=30, n_estimators=30; total time=  20.7s\n",
      "[CV] END ......................max_depth=30, n_estimators=30; total time=  20.3s\n",
      "[CV] END ......................max_depth=30, n_estimators=30; total time=  22.9s\n",
      "[CV] END ......................max_depth=30, n_estimators=35; total time=  29.2s\n",
      "[CV] END ......................max_depth=30, n_estimators=35; total time=  26.9s\n",
      "[CV] END ......................max_depth=30, n_estimators=35; total time=  24.9s\n",
      "[CV] END ......................max_depth=30, n_estimators=35; total time=  24.5s\n",
      "[CV] END ......................max_depth=30, n_estimators=35; total time=  24.8s\n",
      "[CV] END ......................max_depth=30, n_estimators=40; total time=  40.1s\n",
      "[CV] END ......................max_depth=30, n_estimators=40; total time=  32.2s\n",
      "[CV] END ......................max_depth=30, n_estimators=40; total time=  29.4s\n",
      "[CV] END ......................max_depth=30, n_estimators=40; total time=  36.6s\n",
      "[CV] END ......................max_depth=30, n_estimators=40; total time=  30.5s\n",
      "[CV] END ......................max_depth=30, n_estimators=45; total time=  35.0s\n",
      "[CV] END ......................max_depth=30, n_estimators=45; total time=  37.2s\n",
      "[CV] END ......................max_depth=30, n_estimators=45; total time=  38.0s\n",
      "[CV] END ......................max_depth=30, n_estimators=45; total time=  46.6s\n",
      "[CV] END ......................max_depth=30, n_estimators=45; total time=  39.9s\n",
      "[CV] END ......................max_depth=31, n_estimators=30; total time=  28.9s\n",
      "[CV] END ......................max_depth=31, n_estimators=30; total time=  22.4s\n",
      "[CV] END ......................max_depth=31, n_estimators=30; total time=  24.6s\n",
      "[CV] END ......................max_depth=31, n_estimators=30; total time=  29.0s\n",
      "[CV] END ......................max_depth=31, n_estimators=30; total time=  25.9s\n",
      "[CV] END ......................max_depth=31, n_estimators=35; total time=  26.4s\n",
      "[CV] END ......................max_depth=31, n_estimators=35; total time=  25.5s\n",
      "[CV] END ......................max_depth=31, n_estimators=35; total time=  27.3s\n",
      "[CV] END ......................max_depth=31, n_estimators=35; total time=  24.7s\n",
      "[CV] END ......................max_depth=31, n_estimators=35; total time=  25.0s\n",
      "[CV] END ......................max_depth=31, n_estimators=40; total time=  28.5s\n",
      "[CV] END ......................max_depth=31, n_estimators=40; total time=  33.5s\n",
      "[CV] END ......................max_depth=31, n_estimators=40; total time=  29.0s\n",
      "[CV] END ......................max_depth=31, n_estimators=40; total time=  29.3s\n",
      "[CV] END ......................max_depth=31, n_estimators=40; total time=  29.8s\n",
      "[CV] END ......................max_depth=31, n_estimators=45; total time=  33.1s\n",
      "[CV] END ......................max_depth=31, n_estimators=45; total time=  32.3s\n",
      "[CV] END ......................max_depth=31, n_estimators=45; total time=  35.3s\n",
      "[CV] END ......................max_depth=31, n_estimators=45; total time=  37.5s\n",
      "[CV] END ......................max_depth=31, n_estimators=45; total time=  35.5s\n",
      "[CV] END ......................max_depth=32, n_estimators=30; total time=  26.6s\n",
      "[CV] END ......................max_depth=32, n_estimators=30; total time=  25.3s\n",
      "[CV] END ......................max_depth=32, n_estimators=30; total time=  23.0s\n",
      "[CV] END ......................max_depth=32, n_estimators=30; total time=  22.4s\n",
      "[CV] END ......................max_depth=32, n_estimators=30; total time=  23.2s\n",
      "[CV] END ......................max_depth=32, n_estimators=35; total time=  28.1s\n",
      "[CV] END ......................max_depth=32, n_estimators=35; total time=  24.6s\n",
      "[CV] END ......................max_depth=32, n_estimators=35; total time=  23.8s\n",
      "[CV] END ......................max_depth=32, n_estimators=35; total time=  23.9s\n",
      "[CV] END ......................max_depth=32, n_estimators=35; total time=  24.0s\n",
      "[CV] END ......................max_depth=32, n_estimators=40; total time=  28.7s\n",
      "[CV] END ......................max_depth=32, n_estimators=40; total time=  28.8s\n",
      "[CV] END ......................max_depth=32, n_estimators=40; total time=  29.1s\n",
      "[CV] END ......................max_depth=32, n_estimators=40; total time=  28.2s\n",
      "[CV] END ......................max_depth=32, n_estimators=40; total time=  28.5s\n",
      "[CV] END ......................max_depth=32, n_estimators=45; total time=  33.9s\n",
      "[CV] END ......................max_depth=32, n_estimators=45; total time=  32.4s\n",
      "[CV] END ......................max_depth=32, n_estimators=45; total time=  32.3s\n",
      "[CV] END ......................max_depth=32, n_estimators=45; total time=  31.5s\n",
      "[CV] END ......................max_depth=32, n_estimators=45; total time=  32.4s\n",
      "[CV] END ......................max_depth=33, n_estimators=30; total time=  21.3s\n",
      "[CV] END ......................max_depth=33, n_estimators=30; total time=  21.7s\n",
      "[CV] END ......................max_depth=33, n_estimators=30; total time=  22.0s\n",
      "[CV] END ......................max_depth=33, n_estimators=30; total time=  21.9s\n",
      "[CV] END ......................max_depth=33, n_estimators=30; total time=  21.2s\n",
      "[CV] END ......................max_depth=33, n_estimators=35; total time=  25.0s\n",
      "[CV] END ......................max_depth=33, n_estimators=35; total time=  24.8s\n",
      "[CV] END ......................max_depth=33, n_estimators=35; total time=  24.8s\n",
      "[CV] END ......................max_depth=33, n_estimators=35; total time=  24.2s\n",
      "[CV] END ......................max_depth=33, n_estimators=35; total time=  24.6s\n",
      "[CV] END ......................max_depth=33, n_estimators=40; total time=  27.5s\n",
      "[CV] END ......................max_depth=33, n_estimators=40; total time=  28.9s\n",
      "[CV] END ......................max_depth=33, n_estimators=40; total time=  29.4s\n",
      "[CV] END ......................max_depth=33, n_estimators=40; total time=  28.9s\n",
      "[CV] END ......................max_depth=33, n_estimators=40; total time=  29.0s\n",
      "[CV] END ......................max_depth=33, n_estimators=45; total time=  32.2s\n",
      "[CV] END ......................max_depth=33, n_estimators=45; total time=  32.5s\n",
      "[CV] END ......................max_depth=33, n_estimators=45; total time=  32.2s\n",
      "[CV] END ......................max_depth=33, n_estimators=45; total time=  32.6s\n",
      "[CV] END ......................max_depth=33, n_estimators=45; total time=  35.5s\n",
      "[CV] END ......................max_depth=34, n_estimators=30; total time=  21.4s\n",
      "[CV] END ......................max_depth=34, n_estimators=30; total time=  21.5s\n",
      "[CV] END ......................max_depth=34, n_estimators=30; total time=  21.6s\n",
      "[CV] END ......................max_depth=34, n_estimators=30; total time=  21.8s\n",
      "[CV] END ......................max_depth=34, n_estimators=30; total time=  22.0s\n",
      "[CV] END ......................max_depth=34, n_estimators=35; total time=  25.0s\n",
      "[CV] END ......................max_depth=34, n_estimators=35; total time=  25.6s\n",
      "[CV] END ......................max_depth=34, n_estimators=35; total time=  25.0s\n",
      "[CV] END ......................max_depth=34, n_estimators=35; total time=  25.3s\n",
      "[CV] END ......................max_depth=34, n_estimators=35; total time=  25.5s\n",
      "[CV] END ......................max_depth=34, n_estimators=40; total time=  28.5s\n",
      "[CV] END ......................max_depth=34, n_estimators=40; total time=  29.4s\n",
      "[CV] END ......................max_depth=34, n_estimators=40; total time=  30.4s\n",
      "[CV] END ......................max_depth=34, n_estimators=40; total time=  30.1s\n",
      "[CV] END ......................max_depth=34, n_estimators=40; total time=  30.0s\n",
      "[CV] END ......................max_depth=34, n_estimators=45; total time=  33.3s\n",
      "[CV] END ......................max_depth=34, n_estimators=45; total time=  33.9s\n",
      "[CV] END ......................max_depth=34, n_estimators=45; total time=  33.2s\n",
      "[CV] END ......................max_depth=34, n_estimators=45; total time=  32.8s\n",
      "[CV] END ......................max_depth=34, n_estimators=45; total time=  32.3s\n",
      "[CV] END ......................max_depth=35, n_estimators=30; total time=  21.6s\n",
      "[CV] END ......................max_depth=35, n_estimators=30; total time=  21.7s\n",
      "[CV] END ......................max_depth=35, n_estimators=30; total time=  21.8s\n",
      "[CV] END ......................max_depth=35, n_estimators=30; total time=  21.7s\n",
      "[CV] END ......................max_depth=35, n_estimators=30; total time=  22.1s\n",
      "[CV] END ......................max_depth=35, n_estimators=35; total time=  25.3s\n",
      "[CV] END ......................max_depth=35, n_estimators=35; total time=  25.1s\n",
      "[CV] END ......................max_depth=35, n_estimators=35; total time=  25.5s\n",
      "[CV] END ......................max_depth=35, n_estimators=35; total time=  25.2s\n",
      "[CV] END ......................max_depth=35, n_estimators=35; total time=  25.4s\n",
      "[CV] END ......................max_depth=35, n_estimators=40; total time=  28.8s\n",
      "[CV] END ......................max_depth=35, n_estimators=40; total time=  29.1s\n",
      "[CV] END ......................max_depth=35, n_estimators=40; total time=  28.7s\n",
      "[CV] END ......................max_depth=35, n_estimators=40; total time=  28.3s\n",
      "[CV] END ......................max_depth=35, n_estimators=40; total time=  28.6s\n",
      "[CV] END ......................max_depth=35, n_estimators=45; total time=  32.6s\n",
      "[CV] END ......................max_depth=35, n_estimators=45; total time=  32.4s\n",
      "[CV] END ......................max_depth=35, n_estimators=45; total time=  32.9s\n",
      "[CV] END ......................max_depth=35, n_estimators=45; total time=  31.4s\n",
      "[CV] END ......................max_depth=35, n_estimators=45; total time=  33.1s\n",
      "[CV] END ......................max_depth=36, n_estimators=30; total time=  21.0s\n",
      "[CV] END ......................max_depth=36, n_estimators=30; total time=  20.9s\n",
      "[CV] END ......................max_depth=36, n_estimators=30; total time=  21.2s\n",
      "[CV] END ......................max_depth=36, n_estimators=30; total time=  21.5s\n",
      "[CV] END ......................max_depth=36, n_estimators=30; total time=  21.1s\n",
      "[CV] END ......................max_depth=36, n_estimators=35; total time=  24.4s\n",
      "[CV] END ......................max_depth=36, n_estimators=35; total time=  24.2s\n",
      "[CV] END ......................max_depth=36, n_estimators=35; total time=  24.4s\n",
      "[CV] END ......................max_depth=36, n_estimators=35; total time=  24.6s\n",
      "[CV] END ......................max_depth=36, n_estimators=35; total time=  24.4s\n",
      "[CV] END ......................max_depth=36, n_estimators=40; total time=  28.0s\n",
      "[CV] END ......................max_depth=36, n_estimators=40; total time=  27.5s\n",
      "[CV] END ......................max_depth=36, n_estimators=40; total time=  27.5s\n",
      "[CV] END ......................max_depth=36, n_estimators=40; total time=  28.9s\n",
      "[CV] END ......................max_depth=36, n_estimators=40; total time=  28.5s\n",
      "[CV] END ......................max_depth=36, n_estimators=45; total time=  32.4s\n",
      "[CV] END ......................max_depth=36, n_estimators=45; total time=  32.1s\n",
      "[CV] END ......................max_depth=36, n_estimators=45; total time=  32.1s\n",
      "[CV] END ......................max_depth=36, n_estimators=45; total time=  32.4s\n",
      "[CV] END ......................max_depth=36, n_estimators=45; total time=  31.9s\n",
      "[CV] END ......................max_depth=37, n_estimators=30; total time=  22.1s\n",
      "[CV] END ......................max_depth=37, n_estimators=30; total time=  21.8s\n",
      "[CV] END ......................max_depth=37, n_estimators=30; total time=  21.6s\n",
      "[CV] END ......................max_depth=37, n_estimators=30; total time=  21.6s\n",
      "[CV] END ......................max_depth=37, n_estimators=30; total time=  21.5s\n",
      "[CV] END ......................max_depth=37, n_estimators=35; total time=  26.4s\n",
      "[CV] END ......................max_depth=37, n_estimators=35; total time=  25.5s\n",
      "[CV] END ......................max_depth=37, n_estimators=35; total time=  25.3s\n",
      "[CV] END ......................max_depth=37, n_estimators=35; total time=  25.3s\n",
      "[CV] END ......................max_depth=37, n_estimators=35; total time=  25.4s\n",
      "[CV] END ......................max_depth=37, n_estimators=40; total time=  28.8s\n",
      "[CV] END ......................max_depth=37, n_estimators=40; total time=  29.3s\n",
      "[CV] END ......................max_depth=37, n_estimators=40; total time=  29.8s\n",
      "[CV] END ......................max_depth=37, n_estimators=40; total time=  29.2s\n",
      "[CV] END ......................max_depth=37, n_estimators=40; total time=  29.1s\n",
      "[CV] END ......................max_depth=37, n_estimators=45; total time=  32.7s\n",
      "[CV] END ......................max_depth=37, n_estimators=45; total time=  32.4s\n",
      "[CV] END ......................max_depth=37, n_estimators=45; total time=  32.3s\n",
      "[CV] END ......................max_depth=37, n_estimators=45; total time=  32.7s\n",
      "[CV] END ......................max_depth=37, n_estimators=45; total time=  32.7s\n",
      "[CV] END ......................max_depth=38, n_estimators=30; total time=  21.9s\n",
      "[CV] END ......................max_depth=38, n_estimators=30; total time=  21.5s\n",
      "[CV] END ......................max_depth=38, n_estimators=30; total time=  21.6s\n",
      "[CV] END ......................max_depth=38, n_estimators=30; total time=  21.8s\n",
      "[CV] END ......................max_depth=38, n_estimators=30; total time=  21.9s\n",
      "[CV] END ......................max_depth=38, n_estimators=35; total time=  25.3s\n",
      "[CV] END ......................max_depth=38, n_estimators=35; total time=  25.1s\n",
      "[CV] END ......................max_depth=38, n_estimators=35; total time=  26.4s\n",
      "[CV] END ......................max_depth=38, n_estimators=35; total time=  25.5s\n",
      "[CV] END ......................max_depth=38, n_estimators=35; total time=  25.2s\n",
      "[CV] END ......................max_depth=38, n_estimators=40; total time=  29.0s\n",
      "[CV] END ......................max_depth=38, n_estimators=40; total time=  28.9s\n",
      "[CV] END ......................max_depth=38, n_estimators=40; total time=  28.8s\n",
      "[CV] END ......................max_depth=38, n_estimators=40; total time=  29.8s\n",
      "[CV] END ......................max_depth=38, n_estimators=40; total time=  28.3s\n",
      "[CV] END ......................max_depth=38, n_estimators=45; total time=  33.5s\n",
      "[CV] END ......................max_depth=38, n_estimators=45; total time=  32.5s\n",
      "[CV] END ......................max_depth=38, n_estimators=45; total time=  32.4s\n",
      "[CV] END ......................max_depth=38, n_estimators=45; total time=  32.7s\n",
      "[CV] END ......................max_depth=38, n_estimators=45; total time=  32.5s\n",
      "[CV] END ......................max_depth=39, n_estimators=30; total time=  21.4s\n",
      "[CV] END ......................max_depth=39, n_estimators=30; total time=  21.7s\n",
      "[CV] END ......................max_depth=39, n_estimators=30; total time=  21.9s\n",
      "[CV] END ......................max_depth=39, n_estimators=30; total time=  22.1s\n",
      "[CV] END ......................max_depth=39, n_estimators=30; total time=  21.9s\n",
      "[CV] END ......................max_depth=39, n_estimators=35; total time=  26.0s\n",
      "[CV] END ......................max_depth=39, n_estimators=35; total time=  25.3s\n",
      "[CV] END ......................max_depth=39, n_estimators=35; total time=  25.6s\n",
      "[CV] END ......................max_depth=39, n_estimators=35; total time=  25.3s\n",
      "[CV] END ......................max_depth=39, n_estimators=35; total time=  25.0s\n",
      "[CV] END ......................max_depth=39, n_estimators=40; total time=  28.8s\n",
      "[CV] END ......................max_depth=39, n_estimators=40; total time=  28.8s\n",
      "[CV] END ......................max_depth=39, n_estimators=40; total time=  28.6s\n",
      "[CV] END ......................max_depth=39, n_estimators=40; total time=  29.0s\n",
      "[CV] END ......................max_depth=39, n_estimators=40; total time=  28.6s\n",
      "[CV] END ......................max_depth=39, n_estimators=45; total time=  32.3s\n",
      "[CV] END ......................max_depth=39, n_estimators=45; total time=  32.1s\n",
      "[CV] END ......................max_depth=39, n_estimators=45; total time=  32.6s\n",
      "[CV] END ......................max_depth=39, n_estimators=45; total time=  32.2s\n",
      "[CV] END ......................max_depth=39, n_estimators=45; total time=  31.9s\n",
      "[CV] END ......................max_depth=40, n_estimators=30; total time=  22.2s\n",
      "[CV] END ......................max_depth=40, n_estimators=30; total time=  21.3s\n",
      "[CV] END ......................max_depth=40, n_estimators=30; total time=  21.8s\n",
      "[CV] END ......................max_depth=40, n_estimators=30; total time=  21.7s\n",
      "[CV] END ......................max_depth=40, n_estimators=30; total time=  21.3s\n",
      "[CV] END ......................max_depth=40, n_estimators=35; total time=  26.1s\n",
      "[CV] END ......................max_depth=40, n_estimators=35; total time=  25.3s\n",
      "[CV] END ......................max_depth=40, n_estimators=35; total time=  25.1s\n",
      "[CV] END ......................max_depth=40, n_estimators=35; total time=  25.7s\n",
      "[CV] END ......................max_depth=40, n_estimators=35; total time=  25.6s\n",
      "[CV] END ......................max_depth=40, n_estimators=40; total time=  28.6s\n",
      "[CV] END ......................max_depth=40, n_estimators=40; total time=  28.8s\n",
      "[CV] END ......................max_depth=40, n_estimators=40; total time=  28.8s\n",
      "[CV] END ......................max_depth=40, n_estimators=40; total time=  28.8s\n",
      "[CV] END ......................max_depth=40, n_estimators=40; total time=  28.8s\n",
      "[CV] END ......................max_depth=40, n_estimators=45; total time=  32.5s\n",
      "[CV] END ......................max_depth=40, n_estimators=45; total time=  32.6s\n",
      "[CV] END ......................max_depth=40, n_estimators=45; total time=  33.2s\n",
      "[CV] END ......................max_depth=40, n_estimators=45; total time=  32.5s\n",
      "[CV] END ......................max_depth=40, n_estimators=45; total time=  32.1s\n",
      "[CV] END ......................max_depth=41, n_estimators=30; total time=  21.7s\n",
      "[CV] END ......................max_depth=41, n_estimators=30; total time=  21.3s\n",
      "[CV] END ......................max_depth=41, n_estimators=30; total time=  21.8s\n",
      "[CV] END ......................max_depth=41, n_estimators=30; total time=  21.6s\n",
      "[CV] END ......................max_depth=41, n_estimators=30; total time=  21.4s\n",
      "[CV] END ......................max_depth=41, n_estimators=35; total time=  25.3s\n",
      "[CV] END ......................max_depth=41, n_estimators=35; total time=  25.5s\n",
      "[CV] END ......................max_depth=41, n_estimators=35; total time=  25.4s\n",
      "[CV] END ......................max_depth=41, n_estimators=35; total time=  25.5s\n",
      "[CV] END ......................max_depth=41, n_estimators=35; total time=  25.2s\n",
      "[CV] END ......................max_depth=41, n_estimators=40; total time=  29.1s\n",
      "[CV] END ......................max_depth=41, n_estimators=40; total time=  29.1s\n",
      "[CV] END ......................max_depth=41, n_estimators=40; total time=  29.2s\n",
      "[CV] END ......................max_depth=41, n_estimators=40; total time=  28.5s\n",
      "[CV] END ......................max_depth=41, n_estimators=40; total time=  29.1s\n",
      "[CV] END ......................max_depth=41, n_estimators=45; total time=  32.6s\n",
      "[CV] END ......................max_depth=41, n_estimators=45; total time=  32.5s\n",
      "[CV] END ......................max_depth=41, n_estimators=45; total time=  32.5s\n",
      "[CV] END ......................max_depth=41, n_estimators=45; total time=  32.6s\n",
      "[CV] END ......................max_depth=41, n_estimators=45; total time=  32.9s\n",
      "[CV] END ......................max_depth=42, n_estimators=30; total time=  21.7s\n",
      "[CV] END ......................max_depth=42, n_estimators=30; total time=  21.7s\n",
      "[CV] END ......................max_depth=42, n_estimators=30; total time=  22.2s\n",
      "[CV] END ......................max_depth=42, n_estimators=30; total time=  21.7s\n",
      "[CV] END ......................max_depth=42, n_estimators=30; total time=  21.8s\n",
      "[CV] END ......................max_depth=42, n_estimators=35; total time=  25.3s\n",
      "[CV] END ......................max_depth=42, n_estimators=35; total time=  25.6s\n",
      "[CV] END ......................max_depth=42, n_estimators=35; total time=  25.3s\n",
      "[CV] END ......................max_depth=42, n_estimators=35; total time=  25.5s\n",
      "[CV] END ......................max_depth=42, n_estimators=35; total time=  25.4s\n",
      "[CV] END ......................max_depth=42, n_estimators=40; total time=  29.0s\n",
      "[CV] END ......................max_depth=42, n_estimators=40; total time=  28.9s\n",
      "[CV] END ......................max_depth=42, n_estimators=40; total time=  29.7s\n",
      "[CV] END ......................max_depth=42, n_estimators=40; total time=  29.3s\n",
      "[CV] END ......................max_depth=42, n_estimators=40; total time=  28.7s\n",
      "[CV] END ......................max_depth=42, n_estimators=45; total time=  32.6s\n",
      "[CV] END ......................max_depth=42, n_estimators=45; total time=  33.0s\n",
      "[CV] END ......................max_depth=42, n_estimators=45; total time=  32.5s\n",
      "[CV] END ......................max_depth=42, n_estimators=45; total time=  32.7s\n",
      "[CV] END ......................max_depth=42, n_estimators=45; total time=  31.8s\n",
      "[CV] END ......................max_depth=43, n_estimators=30; total time=  21.9s\n",
      "[CV] END ......................max_depth=43, n_estimators=30; total time=  21.8s\n",
      "[CV] END ......................max_depth=43, n_estimators=30; total time=  21.7s\n",
      "[CV] END ......................max_depth=43, n_estimators=30; total time=  21.4s\n",
      "[CV] END ......................max_depth=43, n_estimators=30; total time=  21.7s\n",
      "[CV] END ......................max_depth=43, n_estimators=35; total time=  25.6s\n",
      "[CV] END ......................max_depth=43, n_estimators=35; total time=  25.2s\n",
      "[CV] END ......................max_depth=43, n_estimators=35; total time=  25.5s\n",
      "[CV] END ......................max_depth=43, n_estimators=35; total time=  25.7s\n",
      "[CV] END ......................max_depth=43, n_estimators=35; total time=  25.0s\n",
      "[CV] END ......................max_depth=43, n_estimators=40; total time=  29.2s\n",
      "[CV] END ......................max_depth=43, n_estimators=40; total time=  28.9s\n",
      "[CV] END ......................max_depth=43, n_estimators=40; total time=  29.6s\n",
      "[CV] END ......................max_depth=43, n_estimators=40; total time=  28.5s\n",
      "[CV] END ......................max_depth=43, n_estimators=40; total time=  29.3s\n",
      "[CV] END ......................max_depth=43, n_estimators=45; total time=  32.2s\n",
      "[CV] END ......................max_depth=43, n_estimators=45; total time=  32.9s\n",
      "[CV] END ......................max_depth=43, n_estimators=45; total time=  32.9s\n",
      "[CV] END ......................max_depth=43, n_estimators=45; total time=  33.6s\n",
      "[CV] END ......................max_depth=43, n_estimators=45; total time=  32.4s\n",
      "[CV] END ......................max_depth=44, n_estimators=30; total time=  21.5s\n",
      "[CV] END ......................max_depth=44, n_estimators=30; total time=  21.4s\n",
      "[CV] END ......................max_depth=44, n_estimators=30; total time=  21.9s\n",
      "[CV] END ......................max_depth=44, n_estimators=30; total time=  21.8s\n",
      "[CV] END ......................max_depth=44, n_estimators=30; total time=  21.7s\n",
      "[CV] END ......................max_depth=44, n_estimators=35; total time=  25.2s\n",
      "[CV] END ......................max_depth=44, n_estimators=35; total time=  25.6s\n",
      "[CV] END ......................max_depth=44, n_estimators=35; total time=  25.5s\n",
      "[CV] END ......................max_depth=44, n_estimators=35; total time=  25.3s\n",
      "[CV] END ......................max_depth=44, n_estimators=35; total time=  25.2s\n",
      "[CV] END ......................max_depth=44, n_estimators=40; total time=  29.2s\n",
      "[CV] END ......................max_depth=44, n_estimators=40; total time=  28.7s\n",
      "[CV] END ......................max_depth=44, n_estimators=40; total time=  29.1s\n",
      "[CV] END ......................max_depth=44, n_estimators=40; total time=  29.3s\n",
      "[CV] END ......................max_depth=44, n_estimators=40; total time=  29.6s\n",
      "[CV] END ......................max_depth=44, n_estimators=45; total time=  32.3s\n",
      "[CV] END ......................max_depth=44, n_estimators=45; total time=  32.6s\n",
      "[CV] END ......................max_depth=44, n_estimators=45; total time=  32.8s\n",
      "[CV] END ......................max_depth=44, n_estimators=45; total time=  32.5s\n",
      "[CV] END ......................max_depth=44, n_estimators=45; total time=  32.6s\n",
      "[CV] END ......................max_depth=45, n_estimators=30; total time=  22.2s\n",
      "[CV] END ......................max_depth=45, n_estimators=30; total time=  21.8s\n",
      "[CV] END ......................max_depth=45, n_estimators=30; total time=  21.8s\n",
      "[CV] END ......................max_depth=45, n_estimators=30; total time=  21.9s\n",
      "[CV] END ......................max_depth=45, n_estimators=30; total time=  22.0s\n",
      "[CV] END ......................max_depth=45, n_estimators=35; total time=  27.5s\n",
      "[CV] END ......................max_depth=45, n_estimators=35; total time=  25.2s\n",
      "[CV] END ......................max_depth=45, n_estimators=35; total time=  25.5s\n",
      "[CV] END ......................max_depth=45, n_estimators=35; total time=  25.3s\n",
      "[CV] END ......................max_depth=45, n_estimators=35; total time=  25.3s\n",
      "[CV] END ......................max_depth=45, n_estimators=40; total time=  28.9s\n",
      "[CV] END ......................max_depth=45, n_estimators=40; total time=  28.9s\n",
      "[CV] END ......................max_depth=45, n_estimators=40; total time=  29.4s\n",
      "[CV] END ......................max_depth=45, n_estimators=40; total time=  29.4s\n",
      "[CV] END ......................max_depth=45, n_estimators=40; total time=  29.3s\n",
      "[CV] END ......................max_depth=45, n_estimators=45; total time=  32.7s\n",
      "[CV] END ......................max_depth=45, n_estimators=45; total time=  32.5s\n",
      "[CV] END ......................max_depth=45, n_estimators=45; total time=  33.1s\n",
      "[CV] END ......................max_depth=45, n_estimators=45; total time=  32.1s\n",
      "[CV] END ......................max_depth=45, n_estimators=45; total time=  32.7s\n",
      "[CV] END ......................max_depth=46, n_estimators=30; total time=  21.9s\n",
      "[CV] END ......................max_depth=46, n_estimators=30; total time=  21.9s\n",
      "[CV] END ......................max_depth=46, n_estimators=30; total time=  22.1s\n",
      "[CV] END ......................max_depth=46, n_estimators=30; total time=  21.8s\n",
      "[CV] END ......................max_depth=46, n_estimators=30; total time=  22.0s\n",
      "[CV] END ......................max_depth=46, n_estimators=35; total time=  24.9s\n",
      "[CV] END ......................max_depth=46, n_estimators=35; total time=  25.7s\n",
      "[CV] END ......................max_depth=46, n_estimators=35; total time=  25.7s\n",
      "[CV] END ......................max_depth=46, n_estimators=35; total time=  25.4s\n",
      "[CV] END ......................max_depth=46, n_estimators=35; total time=  25.1s\n",
      "[CV] END ......................max_depth=46, n_estimators=40; total time=  29.0s\n",
      "[CV] END ......................max_depth=46, n_estimators=40; total time=  28.3s\n",
      "[CV] END ......................max_depth=46, n_estimators=40; total time=  29.2s\n",
      "[CV] END ......................max_depth=46, n_estimators=40; total time=  28.8s\n",
      "[CV] END ......................max_depth=46, n_estimators=40; total time=  29.1s\n",
      "[CV] END ......................max_depth=46, n_estimators=45; total time=  33.3s\n",
      "[CV] END ......................max_depth=46, n_estimators=45; total time=  32.7s\n",
      "[CV] END ......................max_depth=46, n_estimators=45; total time=  32.8s\n",
      "[CV] END ......................max_depth=46, n_estimators=45; total time=  32.5s\n",
      "[CV] END ......................max_depth=46, n_estimators=45; total time=  33.0s\n",
      "[CV] END ......................max_depth=47, n_estimators=30; total time=  21.7s\n",
      "[CV] END ......................max_depth=47, n_estimators=30; total time=  21.7s\n",
      "[CV] END ......................max_depth=47, n_estimators=30; total time=  21.4s\n",
      "[CV] END ......................max_depth=47, n_estimators=30; total time=  21.7s\n",
      "[CV] END ......................max_depth=47, n_estimators=30; total time=  21.6s\n",
      "[CV] END ......................max_depth=47, n_estimators=35; total time=  26.0s\n",
      "[CV] END ......................max_depth=47, n_estimators=35; total time=  25.3s\n",
      "[CV] END ......................max_depth=47, n_estimators=35; total time=  25.2s\n",
      "[CV] END ......................max_depth=47, n_estimators=35; total time=  24.9s\n",
      "[CV] END ......................max_depth=47, n_estimators=35; total time=  25.4s\n",
      "[CV] END ......................max_depth=47, n_estimators=40; total time=  29.2s\n",
      "[CV] END ......................max_depth=47, n_estimators=40; total time=  29.1s\n",
      "[CV] END ......................max_depth=47, n_estimators=40; total time=  29.1s\n",
      "[CV] END ......................max_depth=47, n_estimators=40; total time=  28.7s\n",
      "[CV] END ......................max_depth=47, n_estimators=40; total time=  29.3s\n",
      "[CV] END ......................max_depth=47, n_estimators=45; total time=  32.3s\n",
      "[CV] END ......................max_depth=47, n_estimators=45; total time=  32.4s\n",
      "[CV] END ......................max_depth=47, n_estimators=45; total time=  32.8s\n",
      "[CV] END ......................max_depth=47, n_estimators=45; total time=  33.7s\n",
      "[CV] END ......................max_depth=47, n_estimators=45; total time=  33.0s\n",
      "[CV] END ......................max_depth=48, n_estimators=30; total time=  21.7s\n",
      "[CV] END ......................max_depth=48, n_estimators=30; total time=  21.4s\n",
      "[CV] END ......................max_depth=48, n_estimators=30; total time=  21.5s\n",
      "[CV] END ......................max_depth=48, n_estimators=30; total time=  21.9s\n",
      "[CV] END ......................max_depth=48, n_estimators=30; total time=  21.6s\n",
      "[CV] END ......................max_depth=48, n_estimators=35; total time=  25.0s\n",
      "[CV] END ......................max_depth=48, n_estimators=35; total time=  24.8s\n",
      "[CV] END ......................max_depth=48, n_estimators=35; total time=  26.2s\n",
      "[CV] END ......................max_depth=48, n_estimators=35; total time=  25.7s\n",
      "[CV] END ......................max_depth=48, n_estimators=35; total time=  25.4s\n",
      "[CV] END ......................max_depth=48, n_estimators=40; total time=  29.2s\n",
      "[CV] END ......................max_depth=48, n_estimators=40; total time=  28.8s\n",
      "[CV] END ......................max_depth=48, n_estimators=40; total time=  27.8s\n",
      "[CV] END ......................max_depth=48, n_estimators=40; total time=  27.9s\n",
      "[CV] END ......................max_depth=48, n_estimators=40; total time=  27.7s\n",
      "[CV] END ......................max_depth=48, n_estimators=45; total time=  31.3s\n",
      "[CV] END ......................max_depth=48, n_estimators=45; total time=  31.5s\n",
      "[CV] END ......................max_depth=48, n_estimators=45; total time=  31.3s\n",
      "[CV] END ......................max_depth=48, n_estimators=45; total time=  31.9s\n",
      "[CV] END ......................max_depth=48, n_estimators=45; total time=  31.7s\n",
      "[CV] END ......................max_depth=49, n_estimators=30; total time=  21.0s\n",
      "[CV] END ......................max_depth=49, n_estimators=30; total time=  21.3s\n",
      "[CV] END ......................max_depth=49, n_estimators=30; total time=  21.0s\n",
      "[CV] END ......................max_depth=49, n_estimators=30; total time=  20.5s\n",
      "[CV] END ......................max_depth=49, n_estimators=30; total time=  20.9s\n",
      "[CV] END ......................max_depth=49, n_estimators=35; total time=  24.9s\n",
      "[CV] END ......................max_depth=49, n_estimators=35; total time=  26.3s\n",
      "[CV] END ......................max_depth=49, n_estimators=35; total time=  25.6s\n",
      "[CV] END ......................max_depth=49, n_estimators=35; total time=  25.4s\n",
      "[CV] END ......................max_depth=49, n_estimators=35; total time=  25.3s\n",
      "[CV] END ......................max_depth=49, n_estimators=40; total time=  29.0s\n",
      "[CV] END ......................max_depth=49, n_estimators=40; total time=  28.7s\n",
      "[CV] END ......................max_depth=49, n_estimators=40; total time=  29.3s\n",
      "[CV] END ......................max_depth=49, n_estimators=40; total time=  29.3s\n",
      "[CV] END ......................max_depth=49, n_estimators=40; total time=  28.7s\n",
      "[CV] END ......................max_depth=49, n_estimators=45; total time=  32.8s\n",
      "[CV] END ......................max_depth=49, n_estimators=45; total time=  33.5s\n",
      "[CV] END ......................max_depth=49, n_estimators=45; total time=  32.4s\n",
      "[CV] END ......................max_depth=49, n_estimators=45; total time=  32.9s\n",
      "[CV] END ......................max_depth=49, n_estimators=45; total time=  32.9s\n",
      "Best Hyperparameters for Random Forest\n",
      "{'max_depth': 46, 'n_estimators': 40}\n"
     ]
    },
    {
     "name": "stderr",
     "output_type": "stream",
     "text": [
      "100%|██████████| 25/25 [46:39<00:00, 112.00s/it]\n",
      "No artists with labels found to put in legend.  Note that artists whose label start with an underscore are ignored when legend() is called with no argument.\n"
     ]
    },
    {
     "data": {
      "image/png": "[encoded data removed]",
      "text/plain": [
       "<Figure size 640x480 with 1 Axes>"
      ]
     },
     "metadata": {},
     "output_type": "display_data"
    }
   ],
   "source": [
    "# Tuning Random Forest Classifier \n",
    "\n",
    "hyperparameters_RF = {'max_depth': np.arange(\n",
    "    27, 50), 'n_estimators': np.arange(30, 50, 5)}\n",
    "clf = GridSearchCV(RandomForestClassifier(),\n",
    "                   hyperparameters_RF, cv=5, scoring=scoring, verbose=2)\n",
    "clf.fit(X_train, y_train)\n",
    "print(\"Best Hyperparameters for Random Forest\")\n",
    "print(clf.best_params_)\n",
    "tuned_model_RF = clf.best_estimator_\n",
    "\n",
    "training_accuracy = []\n",
    "test_accuracy = []\n",
    "\n",
    "max_dep = range(25, 50)\n",
    "neighbors_setting = range(30, 50)\n",
    "pool = mp.Pool(mp.cpu_count())\n",
    "for md in tqdm(max_dep):\n",
    "    tree = RandomForestClassifier(max_depth=md, random_state=seed)\n",
    "    tree.fit(X_train, y_train)\n",
    "    training_accuracy.append(tree.score(X_train, y_train))\n",
    "    test_accuracy.append(tree.score(X_test, y_test))\n",
    "pool.close()\n",
    "\n"
   ]
  },
  {
   "cell_type": "code",
   "execution_count": 35,
   "metadata": {},
   "outputs": [
    {
     "data": {
      "text/plain": [
       "['random_forest.joblib']"
      ]
     },
     "execution_count": 35,
     "metadata": {},
     "output_type": "execute_result"
    }
   ],
   "source": [
    "\n",
    "joblib.dump(hyperparameters_RF, 'random_forest.joblib',compress=3)"
   ]
  },
  {
   "cell_type": "code",
   "execution_count": 36,
   "metadata": {},
   "outputs": [
    {
     "name": "stderr",
     "output_type": "stream",
     "text": [
      "No artists with labels found to put in legend.  Note that artists whose label start with an underscore are ignored when legend() is called with no argument.\n"
     ]
    },
    {
     "data": {
      "image/png": "[encoded data removed]",
      "text/plain": [
       "<Figure size 640x480 with 1 Axes>"
      ]
     },
     "metadata": {},
     "output_type": "display_data"
    }
   ],
   "source": [
    "sns.set(style=\"darkgrid\")\n",
    "sns.lineplot(x=max_dep, y=training_accuracy)\n",
    "sns.lineplot(x=max_dep, y=test_accuracy)\n",
    "# plt.plot(max_dep, training_accuracy, label='Accuracy of the training set')\n",
    "# plt.plot(max_dep, test_accuracy, label='Accuracy of the test set')\n",
    "plt.ylabel('Accuracy')\n",
    "plt.xlabel('Max Depth')\n",
    "\n",
    "\n",
    "plt.legend()\n",
    "plt.show()"
   ]
  },
  {
   "cell_type": "code",
   "execution_count": 44,
   "metadata": {},
   "outputs": [
    {
     "data": {
      "application/vnd.plotly.v1+json": {
       "config": {
        "plotlyServerURL": "https://plot.ly"
       },
       "data": [
        {
         "hovertemplate": "Max Depth: %{x}<br>Training Accuracy: %{y:.2f}",
         "line": {
          "color": "blue",
          "width": 2
         },
         "marker": {
          "color": "blue",
          "size": 8,
          "symbol": "circle"
         },
         "mode": "lines+markers",
         "name": "Accuracy of the training set",
         "type": "scatter",
         "x": [
          25,
          26,
          27,
          28,
          29,
          30,
          31,
          32,
          33,
          34,
          35,
          36,
          37,
          38,
          39,
          40,
          41,
          42,
          43,
          44,
          45,
          46,
          47,
          48,
          49
         ],
         "y": [
          0.9424129674177536,
          0.9604146377330326,
          0.9726811889759192,
          0.9805971515852735,
          0.9868497354409271,
          0.9911295715169626,
          0.9936697270616046,
          0.9955009697262293,
          0.9962931209091842,
          0.9970367164154257,
          0.9974751048108964,
          0.9976790386530933,
          0.9977581150408839,
          0.9978247056832339,
          0.9978566136993599,
          0.9978760359700453,
          0.9978912963255838,
          0.9979079439861713,
          0.9979107185962692,
          0.9979121059013182,
          0.997920429731612,
          0.997919042426563,
          0.997919042426563,
          0.9979176551215141,
          0.9979176551215141
         ]
        },
        {
         "hovertemplate": "Max Depth: %{x}<br>Test Accuracy: %{y:.2f}",
         "line": {
          "color": "red",
          "width": 2
         },
         "marker": {
          "color": "red",
          "size": 8,
          "symbol": "circle"
         },
         "mode": "lines+markers",
         "name": "Accuracy of the test set",
         "type": "scatter",
         "x": [
          25,
          26,
          27,
          28,
          29,
          30,
          31,
          32,
          33,
          34,
          35,
          36,
          37,
          38,
          39,
          40,
          41,
          42,
          43,
          44,
          45,
          46,
          47,
          48,
          49
         ],
         "y": [
          0.7522391041363773,
          0.7636982120462138,
          0.7728377523500882,
          0.7801405058655094,
          0.7859949169284042,
          0.792420896085591,
          0.7954729587250147,
          0.7980755357757233,
          0.7994184433370698,
          0.8002397256473147,
          0.8006503668024372,
          0.8013051729687136,
          0.8012052872823324,
          0.8009722206807764,
          0.8015493379798675,
          0.800916728632787,
          0.8013329189927083,
          0.8015715347990633,
          0.8016270268470528,
          0.8012663285351209,
          0.8016214776422539,
          0.8010499095479617,
          0.8016159284374549,
          0.8016769696902434,
          0.8017491093526298
         ]
        }
       ],
       "layout": {
        "font": {
         "color": "RebeccaPurple",
         "family": "Arial, monospace",
         "size": 14
        },
        "height": 500,
        "hovermode": "x unified",
        "legend": {
         "bgcolor": "rgba(255, 255, 255, 0)",
         "bordercolor": "rgba(255, 255, 255, 0)",
         "x": 1,
         "y": 1
        },
        "template": {
         "data": {
          "bar": [
           {
            "error_x": {
             "color": "#2a3f5f"
            },
            "error_y": {
             "color": "#2a3f5f"
            },
            "marker": {
             "line": {
              "color": "white",
              "width": 0.5
             },
             "pattern": {
              "fillmode": "overlay",
              "size": 10,
              "solidity": 0.2
             }
            },
            "type": "bar"
           }
          ],
          "barpolar": [
           {
            "marker": {
             "line": {
              "color": "white",
              "width": 0.5
             },
             "pattern": {
              "fillmode": "overlay",
              "size": 10,
              "solidity": 0.2
             }
            },
            "type": "barpolar"
           }
          ],
          "carpet": [
           {
            "aaxis": {
             "endlinecolor": "#2a3f5f",
             "gridcolor": "#C8D4E3",
             "linecolor": "#C8D4E3",
             "minorgridcolor": "#C8D4E3",
             "startlinecolor": "#2a3f5f"
            },
            "baxis": {
             "endlinecolor": "#2a3f5f",
             "gridcolor": "#C8D4E3",
             "linecolor": "#C8D4E3",
             "minorgridcolor": "#C8D4E3",
             "startlinecolor": "#2a3f5f"
            },
            "type": "carpet"
           }
          ],
          "choropleth": [
           {
            "colorbar": {
             "outlinewidth": 0,
             "ticks": ""
            },
            "type": "choropleth"
           }
          ],
          "contour": [
           {
            "colorbar": {
             "outlinewidth": 0,
             "ticks": ""
            },
            "colorscale": [
             [
              0,
              "#0d0887"
             ],
             [
              0.1111111111111111,
              "#46039f"
             ],
             [
              0.2222222222222222,
              "#7201a8"
             ],
             [
              0.3333333333333333,
              "#9c179e"
             ],
             [
              0.4444444444444444,
              "#bd3786"
             ],
             [
              0.5555555555555556,
              "#d8576b"
             ],
             [
              0.6666666666666666,
              "#ed7953"
             ],
             [
              0.7777777777777778,
              "#fb9f3a"
             ],
             [
              0.8888888888888888,
              "#fdca26"
             ],
             [
              1,
              "#f0f921"
             ]
            ],
            "type": "contour"
           }
          ],
          "contourcarpet": [
           {
            "colorbar": {
             "outlinewidth": 0,
             "ticks": ""
            },
            "type": "contourcarpet"
           }
          ],
          "heatmap": [
           {
            "colorbar": {
             "outlinewidth": 0,
             "ticks": ""
            },
            "colorscale": [
             [
              0,
              "#0d0887"
             ],
             [
              0.1111111111111111,
              "#46039f"
             ],
             [
              0.2222222222222222,
              "#7201a8"
             ],
             [
              0.3333333333333333,
              "#9c179e"
             ],
             [
              0.4444444444444444,
              "#bd3786"
             ],
             [
              0.5555555555555556,
              "#d8576b"
             ],
             [
              0.6666666666666666,
              "#ed7953"
             ],
             [
              0.7777777777777778,
              "#fb9f3a"
             ],
             [
              0.8888888888888888,
              "#fdca26"
             ],
             [
              1,
              "#f0f921"
             ]
            ],
            "type": "heatmap"
           }
          ],
          "heatmapgl": [
           {
            "colorbar": {
             "outlinewidth": 0,
             "ticks": ""
            },
            "colorscale": [
             [
              0,
              "#0d0887"
             ],
             [
              0.1111111111111111,
              "#46039f"
             ],
             [
              0.2222222222222222,
              "#7201a8"
             ],
             [
              0.3333333333333333,
              "#9c179e"
             ],
             [
              0.4444444444444444,
              "#bd3786"
             ],
             [
              0.5555555555555556,
              "#d8576b"
             ],
             [
              0.6666666666666666,
              "#ed7953"
             ],
             [
              0.7777777777777778,
              "#fb9f3a"
             ],
             [
              0.8888888888888888,
              "#fdca26"
             ],
             [
              1,
              "#f0f921"
             ]
            ],
            "type": "heatmapgl"
           }
          ],
          "histogram": [
           {
            "marker": {
             "pattern": {
              "fillmode": "overlay",
              "size": 10,
              "solidity": 0.2
             }
            },
            "type": "histogram"
           }
          ],
          "histogram2d": [
           {
            "colorbar": {
             "outlinewidth": 0,
             "ticks": ""
            },
            "colorscale": [
             [
              0,
              "#0d0887"
             ],
             [
              0.1111111111111111,
              "#46039f"
             ],
             [
              0.2222222222222222,
              "#7201a8"
             ],
             [
              0.3333333333333333,
              "#9c179e"
             ],
             [
              0.4444444444444444,
              "#bd3786"
             ],
             [
              0.5555555555555556,
              "#d8576b"
             ],
             [
              0.6666666666666666,
              "#ed7953"
             ],
             [
              0.7777777777777778,
              "#fb9f3a"
             ],
             [
              0.8888888888888888,
              "#fdca26"
             ],
             [
              1,
              "#f0f921"
             ]
            ],
            "type": "histogram2d"
           }
          ],
          "histogram2dcontour": [
           {
            "colorbar": {
             "outlinewidth": 0,
             "ticks": ""
            },
            "colorscale": [
             [
              0,
              "#0d0887"
             ],
             [
              0.1111111111111111,
              "#46039f"
             ],
             [
              0.2222222222222222,
              "#7201a8"
             ],
             [
              0.3333333333333333,
              "#9c179e"
             ],
             [
              0.4444444444444444,
              "#bd3786"
             ],
             [
              0.5555555555555556,
              "#d8576b"
             ],
             [
              0.6666666666666666,
              "#ed7953"
             ],
             [
              0.7777777777777778,
              "#fb9f3a"
             ],
             [
              0.8888888888888888,
              "#fdca26"
             ],
             [
              1,
              "#f0f921"
             ]
            ],
            "type": "histogram2dcontour"
           }
          ],
          "mesh3d": [
           {
            "colorbar": {
             "outlinewidth": 0,
             "ticks": ""
            },
            "type": "mesh3d"
           }
          ],
          "parcoords": [
           {
            "line": {
             "colorbar": {
              "outlinewidth": 0,
              "ticks": ""
             }
            },
            "type": "parcoords"
           }
          ],
          "pie": [
           {
            "automargin": true,
            "type": "pie"
           }
          ],
          "scatter": [
           {
            "fillpattern": {
             "fillmode": "overlay",
             "size": 10,
             "solidity": 0.2
            },
            "type": "scatter"
           }
          ],
          "scatter3d": [
           {
            "line": {
             "colorbar": {
              "outlinewidth": 0,
              "ticks": ""
             }
            },
            "marker": {
             "colorbar": {
              "outlinewidth": 0,
              "ticks": ""
             }
            },
            "type": "scatter3d"
           }
          ],
          "scattercarpet": [
           {
            "marker": {
             "colorbar": {
              "outlinewidth": 0,
              "ticks": ""
             }
            },
            "type": "scattercarpet"
           }
          ],
          "scattergeo": [
           {
            "marker": {
             "colorbar": {
              "outlinewidth": 0,
              "ticks": ""
             }
            },
            "type": "scattergeo"
           }
          ],
          "scattergl": [
           {
            "marker": {
             "colorbar": {
              "outlinewidth": 0,
              "ticks": ""
             }
            },
            "type": "scattergl"
           }
          ],
          "scattermapbox": [
           {
            "marker": {
             "colorbar": {
              "outlinewidth": 0,
              "ticks": ""
             }
            },
            "type": "scattermapbox"
           }
          ],
          "scatterpolar": [
           {
            "marker": {
             "colorbar": {
              "outlinewidth": 0,
              "ticks": ""
             }
            },
            "type": "scatterpolar"
           }
          ],
          "scatterpolargl": [
           {
            "marker": {
             "colorbar": {
              "outlinewidth": 0,
              "ticks": ""
             }
            },
            "type": "scatterpolargl"
           }
          ],
          "scatterternary": [
           {
            "marker": {
             "colorbar": {
              "outlinewidth": 0,
              "ticks": ""
             }
            },
            "type": "scatterternary"
           }
          ],
          "surface": [
           {
            "colorbar": {
             "outlinewidth": 0,
             "ticks": ""
            },
            "colorscale": [
             [
              0,
              "#0d0887"
             ],
             [
              0.1111111111111111,
              "#46039f"
             ],
             [
              0.2222222222222222,
              "#7201a8"
             ],
             [
              0.3333333333333333,
              "#9c179e"
             ],
             [
              0.4444444444444444,
              "#bd3786"
             ],
             [
              0.5555555555555556,
              "#d8576b"
             ],
             [
              0.6666666666666666,
              "#ed7953"
             ],
             [
              0.7777777777777778,
              "#fb9f3a"
             ],
             [
              0.8888888888888888,
              "#fdca26"
             ],
             [
              1,
              "#f0f921"
             ]
            ],
            "type": "surface"
           }
          ],
          "table": [
           {
            "cells": {
             "fill": {
              "color": "#EBF0F8"
             },
             "line": {
              "color": "white"
             }
            },
            "header": {
             "fill": {
              "color": "#C8D4E3"
             },
             "line": {
              "color": "white"
             }
            },
            "type": "table"
           }
          ]
         },
         "layout": {
          "annotationdefaults": {
           "arrowcolor": "#2a3f5f",
           "arrowhead": 0,
           "arrowwidth": 1
          },
          "autotypenumbers": "strict",
          "coloraxis": {
           "colorbar": {
            "outlinewidth": 0,
            "ticks": ""
           }
          },
          "colorscale": {
           "diverging": [
            [
             0,
             "#8e0152"
            ],
            [
             0.1,
             "#c51b7d"
            ],
            [
             0.2,
             "#de77ae"
            ],
            [
             0.3,
             "#f1b6da"
            ],
            [
             0.4,
             "#fde0ef"
            ],
            [
             0.5,
             "#f7f7f7"
            ],
            [
             0.6,
             "#e6f5d0"
            ],
            [
             0.7,
             "#b8e186"
            ],
            [
             0.8,
             "#7fbc41"
            ],
            [
             0.9,
             "#4d9221"
            ],
            [
             1,
             "#276419"
            ]
           ],
           "sequential": [
            [
             0,
             "#0d0887"
            ],
            [
             0.1111111111111111,
             "#46039f"
            ],
            [
             0.2222222222222222,
             "#7201a8"
            ],
            [
             0.3333333333333333,
             "#9c179e"
            ],
            [
             0.4444444444444444,
             "#bd3786"
            ],
            [
             0.5555555555555556,
             "#d8576b"
            ],
            [
             0.6666666666666666,
             "#ed7953"
            ],
            [
             0.7777777777777778,
             "#fb9f3a"
            ],
            [
             0.8888888888888888,
             "#fdca26"
            ],
            [
             1,
             "#f0f921"
            ]
           ],
           "sequentialminus": [
            [
             0,
             "#0d0887"
            ],
            [
             0.1111111111111111,
             "#46039f"
            ],
            [
             0.2222222222222222,
             "#7201a8"
            ],
            [
             0.3333333333333333,
             "#9c179e"
            ],
            [
             0.4444444444444444,
             "#bd3786"
            ],
            [
             0.5555555555555556,
             "#d8576b"
            ],
            [
             0.6666666666666666,
             "#ed7953"
            ],
            [
             0.7777777777777778,
             "#fb9f3a"
            ],
            [
             0.8888888888888888,
             "#fdca26"
            ],
            [
             1,
             "#f0f921"
            ]
           ]
          },
          "colorway": [
           "#636efa",
           "#EF553B",
           "#00cc96",
           "#ab63fa",
           "#FFA15A",
           "#19d3f3",
           "#FF6692",
           "#B6E880",
           "#FF97FF",
           "#FECB52"
          ],
          "font": {
           "color": "#2a3f5f"
          },
          "geo": {
           "bgcolor": "white",
           "lakecolor": "white",
           "landcolor": "white",
           "showlakes": true,
           "showland": true,
           "subunitcolor": "#C8D4E3"
          },
          "hoverlabel": {
           "align": "left"
          },
          "hovermode": "closest",
          "mapbox": {
           "style": "light"
          },
          "paper_bgcolor": "white",
          "plot_bgcolor": "white",
          "polar": {
           "angularaxis": {
            "gridcolor": "#EBF0F8",
            "linecolor": "#EBF0F8",
            "ticks": ""
           },
           "bgcolor": "white",
           "radialaxis": {
            "gridcolor": "#EBF0F8",
            "linecolor": "#EBF0F8",
            "ticks": ""
           }
          },
          "scene": {
           "xaxis": {
            "backgroundcolor": "white",
            "gridcolor": "#DFE8F3",
            "gridwidth": 2,
            "linecolor": "#EBF0F8",
            "showbackground": true,
            "ticks": "",
            "zerolinecolor": "#EBF0F8"
           },
           "yaxis": {
            "backgroundcolor": "white",
            "gridcolor": "#DFE8F3",
            "gridwidth": 2,
            "linecolor": "#EBF0F8",
            "showbackground": true,
            "ticks": "",
            "zerolinecolor": "#EBF0F8"
           },
           "zaxis": {
            "backgroundcolor": "white",
            "gridcolor": "#DFE8F3",
            "gridwidth": 2,
            "linecolor": "#EBF0F8",
            "showbackground": true,
            "ticks": "",
            "zerolinecolor": "#EBF0F8"
           }
          },
          "shapedefaults": {
           "line": {
            "color": "#2a3f5f"
           }
          },
          "ternary": {
           "aaxis": {
            "gridcolor": "#DFE8F3",
            "linecolor": "#A2B1C6",
            "ticks": ""
           },
           "baxis": {
            "gridcolor": "#DFE8F3",
            "linecolor": "#A2B1C6",
            "ticks": ""
           },
           "bgcolor": "white",
           "caxis": {
            "gridcolor": "#DFE8F3",
            "linecolor": "#A2B1C6",
            "ticks": ""
           }
          },
          "title": {
           "x": 0.05
          },
          "xaxis": {
           "automargin": true,
           "gridcolor": "#EBF0F8",
           "linecolor": "#EBF0F8",
           "ticks": "",
           "title": {
            "standoff": 15
           },
           "zerolinecolor": "#EBF0F8",
           "zerolinewidth": 2
          },
          "yaxis": {
           "automargin": true,
           "gridcolor": "#EBF0F8",
           "linecolor": "#EBF0F8",
           "ticks": "",
           "title": {
            "standoff": 15
           },
           "zerolinecolor": "#EBF0F8",
           "zerolinewidth": 2
          }
         }
        },
        "title": {
         "text": "Model Accuracy vs Max Depth in Random Forest Classifier"
        },
        "width": 1000,
        "xaxis": {
         "title": {
          "text": "Max Depth"
         }
        },
        "yaxis": {
         "title": {
          "text": "Accuracy"
         }
        }
       }
      }
     },
     "metadata": {},
     "output_type": "display_data"
    }
   ],
   "source": [
    "\n",
    "# Assuming 'max_dep', 'training_accuracy', and 'test_accuracy' are already defined and populated\n",
    "# Create the interactive line chart\n",
    "fig = go.Figure()\n",
    "\n",
    "fig.add_trace(go.Scatter(\n",
    "    x=list(max_dep),\n",
    "    y=training_accuracy,\n",
    "    mode='lines+markers',\n",
    "    name='Accuracy of the training set',\n",
    "    line=dict(color='blue', width=2),\n",
    "    marker=dict(size=8, symbol='circle', color='blue'),\n",
    "    hovertemplate='Max Depth: %{x}<br>Training Accuracy: %{y:.2f}'\n",
    "))\n",
    "\n",
    "fig.add_trace(go.Scatter(\n",
    "    x=list(max_dep),\n",
    "    y=test_accuracy,\n",
    "    mode='lines+markers',\n",
    "    name='Accuracy of the test set',\n",
    "    line=dict(color='red', width=2),\n",
    "    marker=dict(size=8, symbol='circle', color='red'),\n",
    "    hovertemplate='Max Depth: %{x}<br>Test Accuracy: %{y:.2f}'\n",
    "))\n",
    "\n",
    "fig.update_layout(\n",
    "    title='Model Accuracy vs Max Depth in Random Forest Classifier',\n",
    "    xaxis_title='Max Depth',\n",
    "    yaxis_title='Accuracy',\n",
    "    legend=dict(\n",
    "        x=1,\n",
    "        y=1,\n",
    "        bgcolor='rgba(255, 255, 255, 0)',\n",
    "        bordercolor='rgba(255, 255, 255, 0)'\n",
    "    ),\n",
    "    template='plotly_white',\n",
    "    font=dict(\n",
    "        family=\"Arial, monospace\",\n",
    "        size=14,\n",
    "        color=\"RebeccaPurple\"\n",
    "    ),\n",
    "    hovermode='x unified',\n",
    "    width=1000,\n",
    "    height=500\n",
    ")\n",
    "\n",
    "# Show the interactive plot\n",
    "fig.show()\n"
   ]
  },
  {
   "cell_type": "code",
   "execution_count": 53,
   "metadata": {},
   "outputs": [
    {
     "name": "stderr",
     "output_type": "stream",
     "text": [
      "100%|██████████| 20/20 [15:24<00:00, 46.24s/it]\n"
     ]
    }
   ],
   "source": [
    "neighbors_setting = range(30, 50)\n",
    "training_accuracy_ns = []\n",
    "test_accuracy_ns = []\n",
    "for ns in tqdm(neighbors_setting):\n",
    "    tree = RandomForestClassifier(n_estimators=ns, random_state=seed)\n",
    "    tree.fit(X_train, y_train)\n",
    "    training_accuracy_ns.append(tree.score(X_train, y_train))\n",
    "    test_accuracy_ns.append(tree.score(X_test, y_test))\n"
   ]
  },
  {
   "cell_type": "code",
   "execution_count": 54,
   "metadata": {},
   "outputs": [
    {
     "name": "stderr",
     "output_type": "stream",
     "text": [
      "No artists with labels found to put in legend.  Note that artists whose label start with an underscore are ignored when legend() is called with no argument.\n"
     ]
    },
    {
     "data": {
      "image/png": "[encoded data removed]",
      "text/plain": [
       "<Figure size 640x480 with 1 Axes>"
      ]
     },
     "metadata": {},
     "output_type": "display_data"
    }
   ],
   "source": [
    "sns.set(style=\"darkgrid\")\n",
    "sns.lineplot(x=neighbors_setting, y=training_accuracy_ns)\n",
    "sns.lineplot(x=neighbors_setting, y=test_accuracy_ns)\n",
    "# plt.plot(max_dep, training_accuracy, label='Accuracy of the training set')\n",
    "# plt.plot(max_dep, test_accuracy, label='Accuracy of the test set')\n",
    "plt.ylabel('Accuracy')\n",
    "plt.xlabel('Neighbor Settings')\n",
    "\n",
    "\n",
    "plt.legend()\n",
    "plt.show()\n"
   ]
  },
  {
   "cell_type": "code",
   "execution_count": 55,
   "metadata": {},
   "outputs": [
    {
     "data": {
      "application/vnd.plotly.v1+json": {
       "config": {
        "plotlyServerURL": "https://plot.ly"
       },
       "data": [
        {
         "hovertemplate": "Neighbors Settings: %{x}<br>Training Accuracy: %{y:.2f}",
         "line": {
          "color": "blue",
          "width": 2
         },
         "marker": {
          "color": "blue",
          "size": 8,
          "symbol": "circle"
         },
         "mode": "lines+markers",
         "name": "Accuracy of the training set",
         "type": "scatter",
         "x": [
          30,
          31,
          32,
          33,
          34,
          35,
          36,
          37,
          38,
          39,
          40,
          41,
          42,
          43,
          44,
          45,
          46,
          47,
          48,
          49
         ],
         "y": [
          0.9958658309541052,
          0.995869992869252,
          0.9961849111153656,
          0.9961002855073791,
          0.9963930068727093,
          0.996333352755604,
          0.9966219122057873,
          0.9965816803593674,
          0.9968119729974946,
          0.9967578681005852,
          0.9969257320115091,
          0.9968744017246977,
          0.9970297798901809,
          0.9970117449245445,
          0.9971823834455663,
          0.9971130181931184,
          0.9972434248677204,
          0.9971809961405174,
          0.9973460854413434,
          0.9973127901201684
         ]
        },
        {
         "hovertemplate": "Neighbors Settings: %{x}<br>Test Accuracy: %{y:.2f}",
         "line": {
          "color": "red",
          "width": 2
         },
         "marker": {
          "color": "red",
          "size": 8,
          "symbol": "circle"
         },
         "mode": "lines+markers",
         "name": "Accuracy of the test set",
         "type": "scatter",
         "x": [
          30,
          31,
          32,
          33,
          34,
          35,
          36,
          37,
          38,
          39,
          40,
          41,
          42,
          43,
          44,
          45,
          46,
          47,
          48,
          49
         ],
         "y": [
          0.7993685004938792,
          0.7967326282143768,
          0.7998956749497796,
          0.79729864710387,
          0.8004117509960823,
          0.797770329511781,
          0.800556030320855,
          0.7977814279213788,
          0.8009555730663795,
          0.7981532246429087,
          0.8008778841991943,
          0.7985250213644385,
          0.8011553444391418,
          0.7988912688811693,
          0.8012330333063272,
          0.7990133513867462,
          0.8015382395702696,
          0.7992297703739054,
          0.8016214776422539,
          0.79962931311943
         ]
        }
       ],
       "layout": {
        "font": {
         "color": "RebeccaPurple",
         "family": "Arial, monospace",
         "size": 14
        },
        "height": 500,
        "hovermode": "x unified",
        "legend": {
         "bgcolor": "rgba(255, 255, 255, 0)",
         "bordercolor": "rgba(255, 255, 255, 0)",
         "x": 1,
         "y": 1
        },
        "template": {
         "data": {
          "bar": [
           {
            "error_x": {
             "color": "#2a3f5f"
            },
            "error_y": {
             "color": "#2a3f5f"
            },
            "marker": {
             "line": {
              "color": "white",
              "width": 0.5
             },
             "pattern": {
              "fillmode": "overlay",
              "size": 10,
              "solidity": 0.2
             }
            },
            "type": "bar"
           }
          ],
          "barpolar": [
           {
            "marker": {
             "line": {
              "color": "white",
              "width": 0.5
             },
             "pattern": {
              "fillmode": "overlay",
              "size": 10,
              "solidity": 0.2
             }
            },
            "type": "barpolar"
           }
          ],
          "carpet": [
           {
            "aaxis": {
             "endlinecolor": "#2a3f5f",
             "gridcolor": "#C8D4E3",
             "linecolor": "#C8D4E3",
             "minorgridcolor": "#C8D4E3",
             "startlinecolor": "#2a3f5f"
            },
            "baxis": {
             "endlinecolor": "#2a3f5f",
             "gridcolor": "#C8D4E3",
             "linecolor": "#C8D4E3",
             "minorgridcolor": "#C8D4E3",
             "startlinecolor": "#2a3f5f"
            },
            "type": "carpet"
           }
          ],
          "choropleth": [
           {
            "colorbar": {
             "outlinewidth": 0,
             "ticks": ""
            },
            "type": "choropleth"
           }
          ],
          "contour": [
           {
            "colorbar": {
             "outlinewidth": 0,
             "ticks": ""
            },
            "colorscale": [
             [
              0,
              "#0d0887"
             ],
             [
              0.1111111111111111,
              "#46039f"
             ],
             [
              0.2222222222222222,
              "#7201a8"
             ],
             [
              0.3333333333333333,
              "#9c179e"
             ],
             [
              0.4444444444444444,
              "#bd3786"
             ],
             [
              0.5555555555555556,
              "#d8576b"
             ],
             [
              0.6666666666666666,
              "#ed7953"
             ],
             [
              0.7777777777777778,
              "#fb9f3a"
             ],
             [
              0.8888888888888888,
              "#fdca26"
             ],
             [
              1,
              "#f0f921"
             ]
            ],
            "type": "contour"
           }
          ],
          "contourcarpet": [
           {
            "colorbar": {
             "outlinewidth": 0,
             "ticks": ""
            },
            "type": "contourcarpet"
           }
          ],
          "heatmap": [
           {
            "colorbar": {
             "outlinewidth": 0,
             "ticks": ""
            },
            "colorscale": [
             [
              0,
              "#0d0887"
             ],
             [
              0.1111111111111111,
              "#46039f"
             ],
             [
              0.2222222222222222,
              "#7201a8"
             ],
             [
              0.3333333333333333,
              "#9c179e"
             ],
             [
              0.4444444444444444,
              "#bd3786"
             ],
             [
              0.5555555555555556,
              "#d8576b"
             ],
             [
              0.6666666666666666,
              "#ed7953"
             ],
             [
              0.7777777777777778,
              "#fb9f3a"
             ],
             [
              0.8888888888888888,
              "#fdca26"
             ],
             [
              1,
              "#f0f921"
             ]
            ],
            "type": "heatmap"
           }
          ],
          "heatmapgl": [
           {
            "colorbar": {
             "outlinewidth": 0,
             "ticks": ""
            },
            "colorscale": [
             [
              0,
              "#0d0887"
             ],
             [
              0.1111111111111111,
              "#46039f"
             ],
             [
              0.2222222222222222,
              "#7201a8"
             ],
             [
              0.3333333333333333,
              "#9c179e"
             ],
             [
              0.4444444444444444,
              "#bd3786"
             ],
             [
              0.5555555555555556,
              "#d8576b"
             ],
             [
              0.6666666666666666,
              "#ed7953"
             ],
             [
              0.7777777777777778,
              "#fb9f3a"
             ],
             [
              0.8888888888888888,
              "#fdca26"
             ],
             [
              1,
              "#f0f921"
             ]
            ],
            "type": "heatmapgl"
           }
          ],
          "histogram": [
           {
            "marker": {
             "pattern": {
              "fillmode": "overlay",
              "size": 10,
              "solidity": 0.2
             }
            },
            "type": "histogram"
           }
          ],
          "histogram2d": [
           {
            "colorbar": {
             "outlinewidth": 0,
             "ticks": ""
            },
            "colorscale": [
             [
              0,
              "#0d0887"
             ],
             [
              0.1111111111111111,
              "#46039f"
             ],
             [
              0.2222222222222222,
              "#7201a8"
             ],
             [
              0.3333333333333333,
              "#9c179e"
             ],
             [
              0.4444444444444444,
              "#bd3786"
             ],
             [
              0.5555555555555556,
              "#d8576b"
             ],
             [
              0.6666666666666666,
              "#ed7953"
             ],
             [
              0.7777777777777778,
              "#fb9f3a"
             ],
             [
              0.8888888888888888,
              "#fdca26"
             ],
             [
              1,
              "#f0f921"
             ]
            ],
            "type": "histogram2d"
           }
          ],
          "histogram2dcontour": [
           {
            "colorbar": {
             "outlinewidth": 0,
             "ticks": ""
            },
            "colorscale": [
             [
              0,
              "#0d0887"
             ],
             [
              0.1111111111111111,
              "#46039f"
             ],
             [
              0.2222222222222222,
              "#7201a8"
             ],
             [
              0.3333333333333333,
              "#9c179e"
             ],
             [
              0.4444444444444444,
              "#bd3786"
             ],
             [
              0.5555555555555556,
              "#d8576b"
             ],
             [
              0.6666666666666666,
              "#ed7953"
             ],
             [
              0.7777777777777778,
              "#fb9f3a"
             ],
             [
              0.8888888888888888,
              "#fdca26"
             ],
             [
              1,
              "#f0f921"
             ]
            ],
            "type": "histogram2dcontour"
           }
          ],
          "mesh3d": [
           {
            "colorbar": {
             "outlinewidth": 0,
             "ticks": ""
            },
            "type": "mesh3d"
           }
          ],
          "parcoords": [
           {
            "line": {
             "colorbar": {
              "outlinewidth": 0,
              "ticks": ""
             }
            },
            "type": "parcoords"
           }
          ],
          "pie": [
           {
            "automargin": true,
            "type": "pie"
           }
          ],
          "scatter": [
           {
            "fillpattern": {
             "fillmode": "overlay",
             "size": 10,
             "solidity": 0.2
            },
            "type": "scatter"
           }
          ],
          "scatter3d": [
           {
            "line": {
             "colorbar": {
              "outlinewidth": 0,
              "ticks": ""
             }
            },
            "marker": {
             "colorbar": {
              "outlinewidth": 0,
              "ticks": ""
             }
            },
            "type": "scatter3d"
           }
          ],
          "scattercarpet": [
           {
            "marker": {
             "colorbar": {
              "outlinewidth": 0,
              "ticks": ""
             }
            },
            "type": "scattercarpet"
           }
          ],
          "scattergeo": [
           {
            "marker": {
             "colorbar": {
              "outlinewidth": 0,
              "ticks": ""
             }
            },
            "type": "scattergeo"
           }
          ],
          "scattergl": [
           {
            "marker": {
             "colorbar": {
              "outlinewidth": 0,
              "ticks": ""
             }
            },
            "type": "scattergl"
           }
          ],
          "scattermapbox": [
           {
            "marker": {
             "colorbar": {
              "outlinewidth": 0,
              "ticks": ""
             }
            },
            "type": "scattermapbox"
           }
          ],
          "scatterpolar": [
           {
            "marker": {
             "colorbar": {
              "outlinewidth": 0,
              "ticks": ""
             }
            },
            "type": "scatterpolar"
           }
          ],
          "scatterpolargl": [
           {
            "marker": {
             "colorbar": {
              "outlinewidth": 0,
              "ticks": ""
             }
            },
            "type": "scatterpolargl"
           }
          ],
          "scatterternary": [
           {
            "marker": {
             "colorbar": {
              "outlinewidth": 0,
              "ticks": ""
             }
            },
            "type": "scatterternary"
           }
          ],
          "surface": [
           {
            "colorbar": {
             "outlinewidth": 0,
             "ticks": ""
            },
            "colorscale": [
             [
              0,
              "#0d0887"
             ],
             [
              0.1111111111111111,
              "#46039f"
             ],
             [
              0.2222222222222222,
              "#7201a8"
             ],
             [
              0.3333333333333333,
              "#9c179e"
             ],
             [
              0.4444444444444444,
              "#bd3786"
             ],
             [
              0.5555555555555556,
              "#d8576b"
             ],
             [
              0.6666666666666666,
              "#ed7953"
             ],
             [
              0.7777777777777778,
              "#fb9f3a"
             ],
             [
              0.8888888888888888,
              "#fdca26"
             ],
             [
              1,
              "#f0f921"
             ]
            ],
            "type": "surface"
           }
          ],
          "table": [
           {
            "cells": {
             "fill": {
              "color": "#EBF0F8"
             },
             "line": {
              "color": "white"
             }
            },
            "header": {
             "fill": {
              "color": "#C8D4E3"
             },
             "line": {
              "color": "white"
             }
            },
            "type": "table"
           }
          ]
         },
         "layout": {
          "annotationdefaults": {
           "arrowcolor": "#2a3f5f",
           "arrowhead": 0,
           "arrowwidth": 1
          },
          "autotypenumbers": "strict",
          "coloraxis": {
           "colorbar": {
            "outlinewidth": 0,
            "ticks": ""
           }
          },
          "colorscale": {
           "diverging": [
            [
             0,
             "#8e0152"
            ],
            [
             0.1,
             "#c51b7d"
            ],
            [
             0.2,
             "#de77ae"
            ],
            [
             0.3,
             "#f1b6da"
            ],
            [
             0.4,
             "#fde0ef"
            ],
            [
             0.5,
             "#f7f7f7"
            ],
            [
             0.6,
             "#e6f5d0"
            ],
            [
             0.7,
             "#b8e186"
            ],
            [
             0.8,
             "#7fbc41"
            ],
            [
             0.9,
             "#4d9221"
            ],
            [
             1,
             "#276419"
            ]
           ],
           "sequential": [
            [
             0,
             "#0d0887"
            ],
            [
             0.1111111111111111,
             "#46039f"
            ],
            [
             0.2222222222222222,
             "#7201a8"
            ],
            [
             0.3333333333333333,
             "#9c179e"
            ],
            [
             0.4444444444444444,
             "#bd3786"
            ],
            [
             0.5555555555555556,
             "#d8576b"
            ],
            [
             0.6666666666666666,
             "#ed7953"
            ],
            [
             0.7777777777777778,
             "#fb9f3a"
            ],
            [
             0.8888888888888888,
             "#fdca26"
            ],
            [
             1,
             "#f0f921"
            ]
           ],
           "sequentialminus": [
            [
             0,
             "#0d0887"
            ],
            [
             0.1111111111111111,
             "#46039f"
            ],
            [
             0.2222222222222222,
             "#7201a8"
            ],
            [
             0.3333333333333333,
             "#9c179e"
            ],
            [
             0.4444444444444444,
             "#bd3786"
            ],
            [
             0.5555555555555556,
             "#d8576b"
            ],
            [
             0.6666666666666666,
             "#ed7953"
            ],
            [
             0.7777777777777778,
             "#fb9f3a"
            ],
            [
             0.8888888888888888,
             "#fdca26"
            ],
            [
             1,
             "#f0f921"
            ]
           ]
          },
          "colorway": [
           "#636efa",
           "#EF553B",
           "#00cc96",
           "#ab63fa",
           "#FFA15A",
           "#19d3f3",
           "#FF6692",
           "#B6E880",
           "#FF97FF",
           "#FECB52"
          ],
          "font": {
           "color": "#2a3f5f"
          },
          "geo": {
           "bgcolor": "white",
           "lakecolor": "white",
           "landcolor": "white",
           "showlakes": true,
           "showland": true,
           "subunitcolor": "#C8D4E3"
          },
          "hoverlabel": {
           "align": "left"
          },
          "hovermode": "closest",
          "mapbox": {
           "style": "light"
          },
          "paper_bgcolor": "white",
          "plot_bgcolor": "white",
          "polar": {
           "angularaxis": {
            "gridcolor": "#EBF0F8",
            "linecolor": "#EBF0F8",
            "ticks": ""
           },
           "bgcolor": "white",
           "radialaxis": {
            "gridcolor": "#EBF0F8",
            "linecolor": "#EBF0F8",
            "ticks": ""
           }
          },
          "scene": {
           "xaxis": {
            "backgroundcolor": "white",
            "gridcolor": "#DFE8F3",
            "gridwidth": 2,
            "linecolor": "#EBF0F8",
            "showbackground": true,
            "ticks": "",
            "zerolinecolor": "#EBF0F8"
           },
           "yaxis": {
            "backgroundcolor": "white",
            "gridcolor": "#DFE8F3",
            "gridwidth": 2,
            "linecolor": "#EBF0F8",
            "showbackground": true,
            "ticks": "",
            "zerolinecolor": "#EBF0F8"
           },
           "zaxis": {
            "backgroundcolor": "white",
            "gridcolor": "#DFE8F3",
            "gridwidth": 2,
            "linecolor": "#EBF0F8",
            "showbackground": true,
            "ticks": "",
            "zerolinecolor": "#EBF0F8"
           }
          },
          "shapedefaults": {
           "line": {
            "color": "#2a3f5f"
           }
          },
          "ternary": {
           "aaxis": {
            "gridcolor": "#DFE8F3",
            "linecolor": "#A2B1C6",
            "ticks": ""
           },
           "baxis": {
            "gridcolor": "#DFE8F3",
            "linecolor": "#A2B1C6",
            "ticks": ""
           },
           "bgcolor": "white",
           "caxis": {
            "gridcolor": "#DFE8F3",
            "linecolor": "#A2B1C6",
            "ticks": ""
           }
          },
          "title": {
           "x": 0.05
          },
          "xaxis": {
           "automargin": true,
           "gridcolor": "#EBF0F8",
           "linecolor": "#EBF0F8",
           "ticks": "",
           "title": {
            "standoff": 15
           },
           "zerolinecolor": "#EBF0F8",
           "zerolinewidth": 2
          },
          "yaxis": {
           "automargin": true,
           "gridcolor": "#EBF0F8",
           "linecolor": "#EBF0F8",
           "ticks": "",
           "title": {
            "standoff": 15
           },
           "zerolinecolor": "#EBF0F8",
           "zerolinewidth": 2
          }
         }
        },
        "title": {
         "text": "Model Accuracy vs Neighbors Setting in Random Forest Classifier"
        },
        "width": 1000,
        "xaxis": {
         "title": {
          "text": "Neighbor Setting"
         }
        },
        "yaxis": {
         "title": {
          "text": "Accuracy"
         }
        }
       }
      }
     },
     "metadata": {},
     "output_type": "display_data"
    }
   ],
   "source": [
    "# Create the interactive line chart\n",
    "fig = go.Figure()\n",
    "\n",
    "fig.add_trace(go.Scatter(\n",
    "    x=list(neighbors_setting),\n",
    "    y=training_accuracy_ns,\n",
    "    mode='lines+markers',\n",
    "    name='Accuracy of the training set',\n",
    "    line=dict(color='blue', width=2),\n",
    "    marker=dict(size=8, symbol='circle', color='blue'),\n",
    "    hovertemplate='Neighbors Settings: %{x}<br>Training Accuracy: %{y:.2f}'\n",
    "))\n",
    "\n",
    "fig.add_trace(go.Scatter(\n",
    "    x=list(neighbors_setting),\n",
    "    y=test_accuracy_ns,\n",
    "    mode='lines+markers',\n",
    "    name='Accuracy of the test set',\n",
    "    line=dict(color='red', width=2),\n",
    "    marker=dict(size=8, symbol='circle', color='red'),\n",
    "    hovertemplate='Neighbors Settings: %{x}<br>Test Accuracy: %{y:.2f}'\n",
    "))\n",
    "\n",
    "fig.update_layout(\n",
    "    title='Model Accuracy vs Neighbors Setting in Random Forest Classifier',\n",
    "    xaxis_title='Neighbor Setting',\n",
    "    yaxis_title='Accuracy',\n",
    "    legend=dict(\n",
    "        x=1,\n",
    "        y=1,\n",
    "        bgcolor='rgba(255, 255, 255, 0)',\n",
    "        bordercolor='rgba(255, 255, 255, 0)'\n",
    "    ),\n",
    "    template='plotly_white',\n",
    "    font=dict(\n",
    "        family=\"Arial, monospace\",\n",
    "        size=14,\n",
    "        color=\"RebeccaPurple\"\n",
    "    ),\n",
    "    hovermode='x unified',\n",
    "    width=1000,\n",
    "    height=500\n",
    ")\n",
    "\n",
    "# Show the interactive plot\n",
    "fig.show()\n"
   ]
  },
  {
   "cell_type": "code",
   "execution_count": 63,
   "metadata": {},
   "outputs": [
    {
     "data": {
      "application/vnd.plotly.v1+json": {
       "config": {
        "plotlyServerURL": "https://plot.ly"
       },
       "data": [
        {
         "hovertemplate": "Neighbor Settings: %{x}<br>Training Accuracy: %{y:.2f}",
         "line": {
          "color": "blue",
          "width": 2
         },
         "marker": {
          "color": "blue",
          "size": 8,
          "symbol": "circle"
         },
         "mode": "lines+markers",
         "name": "Training Accuracy (Neighbor Settings)",
         "type": "scatter",
         "x": [
          30,
          31,
          32,
          33,
          34,
          35,
          36,
          37,
          38,
          39,
          40,
          41,
          42,
          43,
          44,
          45,
          46,
          47,
          48,
          49
         ],
         "y": [
          0.9958658309541052,
          0.995869992869252,
          0.9961849111153656,
          0.9961002855073791,
          0.9963930068727093,
          0.996333352755604,
          0.9966219122057873,
          0.9965816803593674,
          0.9968119729974946,
          0.9967578681005852,
          0.9969257320115091,
          0.9968744017246977,
          0.9970297798901809,
          0.9970117449245445,
          0.9971823834455663,
          0.9971130181931184,
          0.9972434248677204,
          0.9971809961405174,
          0.9973460854413434,
          0.9973127901201684
         ]
        },
        {
         "hovertemplate": "Neighbor Settings: %{x}<br>Test Accuracy: %{y:.2f}",
         "line": {
          "color": "red",
          "width": 2
         },
         "marker": {
          "color": "red",
          "size": 8,
          "symbol": "circle"
         },
         "mode": "lines+markers",
         "name": "Test Accuracy (Neighbor Settings)",
         "type": "scatter",
         "x": [
          30,
          31,
          32,
          33,
          34,
          35,
          36,
          37,
          38,
          39,
          40,
          41,
          42,
          43,
          44,
          45,
          46,
          47,
          48,
          49
         ],
         "y": [
          0.7993685004938792,
          0.7967326282143768,
          0.7998956749497796,
          0.79729864710387,
          0.8004117509960823,
          0.797770329511781,
          0.800556030320855,
          0.7977814279213788,
          0.8009555730663795,
          0.7981532246429087,
          0.8008778841991943,
          0.7985250213644385,
          0.8011553444391418,
          0.7988912688811693,
          0.8012330333063272,
          0.7990133513867462,
          0.8015382395702696,
          0.7992297703739054,
          0.8016214776422539,
          0.79962931311943
         ]
        },
        {
         "hovertemplate": "Max Depth: %{x}<br>Training Accuracy: %{y:.2f}",
         "line": {
          "color": "green",
          "width": 2
         },
         "marker": {
          "color": "green",
          "size": 8,
          "symbol": "square"
         },
         "mode": "lines+markers",
         "name": "Training Accuracy (Max Depth)",
         "type": "scatter",
         "x": [
          25,
          26,
          27,
          28,
          29,
          30,
          31,
          32,
          33,
          34,
          35,
          36,
          37,
          38,
          39,
          40,
          41,
          42,
          43,
          44,
          45,
          46,
          47,
          48,
          49
         ],
         "y": [
          0.9424129674177536,
          0.9604146377330326,
          0.9726811889759192,
          0.9805971515852735,
          0.9868497354409271,
          0.9911295715169626,
          0.9936697270616046,
          0.9955009697262293,
          0.9962931209091842,
          0.9970367164154257,
          0.9974751048108964,
          0.9976790386530933,
          0.9977581150408839,
          0.9978247056832339,
          0.9978566136993599,
          0.9978760359700453,
          0.9978912963255838,
          0.9979079439861713,
          0.9979107185962692,
          0.9979121059013182,
          0.997920429731612,
          0.997919042426563,
          0.997919042426563,
          0.9979176551215141,
          0.9979176551215141
         ]
        },
        {
         "hovertemplate": "Max Depth: %{x}<br>Test Accuracy: %{y:.2f}",
         "line": {
          "color": "purple",
          "width": 2
         },
         "marker": {
          "color": "purple",
          "size": 8,
          "symbol": "square"
         },
         "mode": "lines+markers",
         "name": "Test Accuracy (Max Depth)",
         "type": "scatter",
         "x": [
          25,
          26,
          27,
          28,
          29,
          30,
          31,
          32,
          33,
          34,
          35,
          36,
          37,
          38,
          39,
          40,
          41,
          42,
          43,
          44,
          45,
          46,
          47,
          48,
          49
         ],
         "y": [
          0.7522391041363773,
          0.7636982120462138,
          0.7728377523500882,
          0.7801405058655094,
          0.7859949169284042,
          0.792420896085591,
          0.7954729587250147,
          0.7980755357757233,
          0.7994184433370698,
          0.8002397256473147,
          0.8006503668024372,
          0.8013051729687136,
          0.8012052872823324,
          0.8009722206807764,
          0.8015493379798675,
          0.800916728632787,
          0.8013329189927083,
          0.8015715347990633,
          0.8016270268470528,
          0.8012663285351209,
          0.8016214776422539,
          0.8010499095479617,
          0.8016159284374549,
          0.8016769696902434,
          0.8017491093526298
         ]
        }
       ],
       "layout": {
        "hovermode": "x unified",
        "legend": {
         "orientation": "h",
         "x": 1,
         "xanchor": "right",
         "y": 1.02,
         "yanchor": "bottom"
        },
        "template": {
         "data": {
          "bar": [
           {
            "error_x": {
             "color": "#2a3f5f"
            },
            "error_y": {
             "color": "#2a3f5f"
            },
            "marker": {
             "line": {
              "color": "#E5ECF6",
              "width": 0.5
             },
             "pattern": {
              "fillmode": "overlay",
              "size": 10,
              "solidity": 0.2
             }
            },
            "type": "bar"
           }
          ],
          "barpolar": [
           {
            "marker": {
             "line": {
              "color": "#E5ECF6",
              "width": 0.5
             },
             "pattern": {
              "fillmode": "overlay",
              "size": 10,
              "solidity": 0.2
             }
            },
            "type": "barpolar"
           }
          ],
          "carpet": [
           {
            "aaxis": {
             "endlinecolor": "#2a3f5f",
             "gridcolor": "white",
             "linecolor": "white",
             "minorgridcolor": "white",
             "startlinecolor": "#2a3f5f"
            },
            "baxis": {
             "endlinecolor": "#2a3f5f",
             "gridcolor": "white",
             "linecolor": "white",
             "minorgridcolor": "white",
             "startlinecolor": "#2a3f5f"
            },
            "type": "carpet"
           }
          ],
          "choropleth": [
           {
            "colorbar": {
             "outlinewidth": 0,
             "ticks": ""
            },
            "type": "choropleth"
           }
          ],
          "contour": [
           {
            "colorbar": {
             "outlinewidth": 0,
             "ticks": ""
            },
            "colorscale": [
             [
              0,
              "#0d0887"
             ],
             [
              0.1111111111111111,
              "#46039f"
             ],
             [
              0.2222222222222222,
              "#7201a8"
             ],
             [
              0.3333333333333333,
              "#9c179e"
             ],
             [
              0.4444444444444444,
              "#bd3786"
             ],
             [
              0.5555555555555556,
              "#d8576b"
             ],
             [
              0.6666666666666666,
              "#ed7953"
             ],
             [
              0.7777777777777778,
              "#fb9f3a"
             ],
             [
              0.8888888888888888,
              "#fdca26"
             ],
             [
              1,
              "#f0f921"
             ]
            ],
            "type": "contour"
           }
          ],
          "contourcarpet": [
           {
            "colorbar": {
             "outlinewidth": 0,
             "ticks": ""
            },
            "type": "contourcarpet"
           }
          ],
          "heatmap": [
           {
            "colorbar": {
             "outlinewidth": 0,
             "ticks": ""
            },
            "colorscale": [
             [
              0,
              "#0d0887"
             ],
             [
              0.1111111111111111,
              "#46039f"
             ],
             [
              0.2222222222222222,
              "#7201a8"
             ],
             [
              0.3333333333333333,
              "#9c179e"
             ],
             [
              0.4444444444444444,
              "#bd3786"
             ],
             [
              0.5555555555555556,
              "#d8576b"
             ],
             [
              0.6666666666666666,
              "#ed7953"
             ],
             [
              0.7777777777777778,
              "#fb9f3a"
             ],
             [
              0.8888888888888888,
              "#fdca26"
             ],
             [
              1,
              "#f0f921"
             ]
            ],
            "type": "heatmap"
           }
          ],
          "heatmapgl": [
           {
            "colorbar": {
             "outlinewidth": 0,
             "ticks": ""
            },
            "colorscale": [
             [
              0,
              "#0d0887"
             ],
             [
              0.1111111111111111,
              "#46039f"
             ],
             [
              0.2222222222222222,
              "#7201a8"
             ],
             [
              0.3333333333333333,
              "#9c179e"
             ],
             [
              0.4444444444444444,
              "#bd3786"
             ],
             [
              0.5555555555555556,
              "#d8576b"
             ],
             [
              0.6666666666666666,
              "#ed7953"
             ],
             [
              0.7777777777777778,
              "#fb9f3a"
             ],
             [
              0.8888888888888888,
              "#fdca26"
             ],
             [
              1,
              "#f0f921"
             ]
            ],
            "type": "heatmapgl"
           }
          ],
          "histogram": [
           {
            "marker": {
             "pattern": {
              "fillmode": "overlay",
              "size": 10,
              "solidity": 0.2
             }
            },
            "type": "histogram"
           }
          ],
          "histogram2d": [
           {
            "colorbar": {
             "outlinewidth": 0,
             "ticks": ""
            },
            "colorscale": [
             [
              0,
              "#0d0887"
             ],
             [
              0.1111111111111111,
              "#46039f"
             ],
             [
              0.2222222222222222,
              "#7201a8"
             ],
             [
              0.3333333333333333,
              "#9c179e"
             ],
             [
              0.4444444444444444,
              "#bd3786"
             ],
             [
              0.5555555555555556,
              "#d8576b"
             ],
             [
              0.6666666666666666,
              "#ed7953"
             ],
             [
              0.7777777777777778,
              "#fb9f3a"
             ],
             [
              0.8888888888888888,
              "#fdca26"
             ],
             [
              1,
              "#f0f921"
             ]
            ],
            "type": "histogram2d"
           }
          ],
          "histogram2dcontour": [
           {
            "colorbar": {
             "outlinewidth": 0,
             "ticks": ""
            },
            "colorscale": [
             [
              0,
              "#0d0887"
             ],
             [
              0.1111111111111111,
              "#46039f"
             ],
             [
              0.2222222222222222,
              "#7201a8"
             ],
             [
              0.3333333333333333,
              "#9c179e"
             ],
             [
              0.4444444444444444,
              "#bd3786"
             ],
             [
              0.5555555555555556,
              "#d8576b"
             ],
             [
              0.6666666666666666,
              "#ed7953"
             ],
             [
              0.7777777777777778,
              "#fb9f3a"
             ],
             [
              0.8888888888888888,
              "#fdca26"
             ],
             [
              1,
              "#f0f921"
             ]
            ],
            "type": "histogram2dcontour"
           }
          ],
          "mesh3d": [
           {
            "colorbar": {
             "outlinewidth": 0,
             "ticks": ""
            },
            "type": "mesh3d"
           }
          ],
          "parcoords": [
           {
            "line": {
             "colorbar": {
              "outlinewidth": 0,
              "ticks": ""
             }
            },
            "type": "parcoords"
           }
          ],
          "pie": [
           {
            "automargin": true,
            "type": "pie"
           }
          ],
          "scatter": [
           {
            "fillpattern": {
             "fillmode": "overlay",
             "size": 10,
             "solidity": 0.2
            },
            "type": "scatter"
           }
          ],
          "scatter3d": [
           {
            "line": {
             "colorbar": {
              "outlinewidth": 0,
              "ticks": ""
             }
            },
            "marker": {
             "colorbar": {
              "outlinewidth": 0,
              "ticks": ""
             }
            },
            "type": "scatter3d"
           }
          ],
          "scattercarpet": [
           {
            "marker": {
             "colorbar": {
              "outlinewidth": 0,
              "ticks": ""
             }
            },
            "type": "scattercarpet"
           }
          ],
          "scattergeo": [
           {
            "marker": {
             "colorbar": {
              "outlinewidth": 0,
              "ticks": ""
             }
            },
            "type": "scattergeo"
           }
          ],
          "scattergl": [
           {
            "marker": {
             "colorbar": {
              "outlinewidth": 0,
              "ticks": ""
             }
            },
            "type": "scattergl"
           }
          ],
          "scattermapbox": [
           {
            "marker": {
             "colorbar": {
              "outlinewidth": 0,
              "ticks": ""
             }
            },
            "type": "scattermapbox"
           }
          ],
          "scatterpolar": [
           {
            "marker": {
             "colorbar": {
              "outlinewidth": 0,
              "ticks": ""
             }
            },
            "type": "scatterpolar"
           }
          ],
          "scatterpolargl": [
           {
            "marker": {
             "colorbar": {
              "outlinewidth": 0,
              "ticks": ""
             }
            },
            "type": "scatterpolargl"
           }
          ],
          "scatterternary": [
           {
            "marker": {
             "colorbar": {
              "outlinewidth": 0,
              "ticks": ""
             }
            },
            "type": "scatterternary"
           }
          ],
          "surface": [
           {
            "colorbar": {
             "outlinewidth": 0,
             "ticks": ""
            },
            "colorscale": [
             [
              0,
              "#0d0887"
             ],
             [
              0.1111111111111111,
              "#46039f"
             ],
             [
              0.2222222222222222,
              "#7201a8"
             ],
             [
              0.3333333333333333,
              "#9c179e"
             ],
             [
              0.4444444444444444,
              "#bd3786"
             ],
             [
              0.5555555555555556,
              "#d8576b"
             ],
             [
              0.6666666666666666,
              "#ed7953"
             ],
             [
              0.7777777777777778,
              "#fb9f3a"
             ],
             [
              0.8888888888888888,
              "#fdca26"
             ],
             [
              1,
              "#f0f921"
             ]
            ],
            "type": "surface"
           }
          ],
          "table": [
           {
            "cells": {
             "fill": {
              "color": "#EBF0F8"
             },
             "line": {
              "color": "white"
             }
            },
            "header": {
             "fill": {
              "color": "#C8D4E3"
             },
             "line": {
              "color": "white"
             }
            },
            "type": "table"
           }
          ]
         },
         "layout": {
          "annotationdefaults": {
           "arrowcolor": "#2a3f5f",
           "arrowhead": 0,
           "arrowwidth": 1
          },
          "autotypenumbers": "strict",
          "coloraxis": {
           "colorbar": {
            "outlinewidth": 0,
            "ticks": ""
           }
          },
          "colorscale": {
           "diverging": [
            [
             0,
             "#8e0152"
            ],
            [
             0.1,
             "#c51b7d"
            ],
            [
             0.2,
             "#de77ae"
            ],
            [
             0.3,
             "#f1b6da"
            ],
            [
             0.4,
             "#fde0ef"
            ],
            [
             0.5,
             "#f7f7f7"
            ],
            [
             0.6,
             "#e6f5d0"
            ],
            [
             0.7,
             "#b8e186"
            ],
            [
             0.8,
             "#7fbc41"
            ],
            [
             0.9,
             "#4d9221"
            ],
            [
             1,
             "#276419"
            ]
           ],
           "sequential": [
            [
             0,
             "#0d0887"
            ],
            [
             0.1111111111111111,
             "#46039f"
            ],
            [
             0.2222222222222222,
             "#7201a8"
            ],
            [
             0.3333333333333333,
             "#9c179e"
            ],
            [
             0.4444444444444444,
             "#bd3786"
            ],
            [
             0.5555555555555556,
             "#d8576b"
            ],
            [
             0.6666666666666666,
             "#ed7953"
            ],
            [
             0.7777777777777778,
             "#fb9f3a"
            ],
            [
             0.8888888888888888,
             "#fdca26"
            ],
            [
             1,
             "#f0f921"
            ]
           ],
           "sequentialminus": [
            [
             0,
             "#0d0887"
            ],
            [
             0.1111111111111111,
             "#46039f"
            ],
            [
             0.2222222222222222,
             "#7201a8"
            ],
            [
             0.3333333333333333,
             "#9c179e"
            ],
            [
             0.4444444444444444,
             "#bd3786"
            ],
            [
             0.5555555555555556,
             "#d8576b"
            ],
            [
             0.6666666666666666,
             "#ed7953"
            ],
            [
             0.7777777777777778,
             "#fb9f3a"
            ],
            [
             0.8888888888888888,
             "#fdca26"
            ],
            [
             1,
             "#f0f921"
            ]
           ]
          },
          "colorway": [
           "#636efa",
           "#EF553B",
           "#00cc96",
           "#ab63fa",
           "#FFA15A",
           "#19d3f3",
           "#FF6692",
           "#B6E880",
           "#FF97FF",
           "#FECB52"
          ],
          "font": {
           "color": "#2a3f5f"
          },
          "geo": {
           "bgcolor": "white",
           "lakecolor": "white",
           "landcolor": "#E5ECF6",
           "showlakes": true,
           "showland": true,
           "subunitcolor": "white"
          },
          "hoverlabel": {
           "align": "left"
          },
          "hovermode": "closest",
          "mapbox": {
           "style": "light"
          },
          "paper_bgcolor": "white",
          "plot_bgcolor": "#E5ECF6",
          "polar": {
           "angularaxis": {
            "gridcolor": "white",
            "linecolor": "white",
            "ticks": ""
           },
           "bgcolor": "#E5ECF6",
           "radialaxis": {
            "gridcolor": "white",
            "linecolor": "white",
            "ticks": ""
           }
          },
          "scene": {
           "xaxis": {
            "backgroundcolor": "#E5ECF6",
            "gridcolor": "white",
            "gridwidth": 2,
            "linecolor": "white",
            "showbackground": true,
            "ticks": "",
            "zerolinecolor": "white"
           },
           "yaxis": {
            "backgroundcolor": "#E5ECF6",
            "gridcolor": "white",
            "gridwidth": 2,
            "linecolor": "white",
            "showbackground": true,
            "ticks": "",
            "zerolinecolor": "white"
           },
           "zaxis": {
            "backgroundcolor": "#E5ECF6",
            "gridcolor": "white",
            "gridwidth": 2,
            "linecolor": "white",
            "showbackground": true,
            "ticks": "",
            "zerolinecolor": "white"
           }
          },
          "shapedefaults": {
           "line": {
            "color": "#2a3f5f"
           }
          },
          "ternary": {
           "aaxis": {
            "gridcolor": "white",
            "linecolor": "white",
            "ticks": ""
           },
           "baxis": {
            "gridcolor": "white",
            "linecolor": "white",
            "ticks": ""
           },
           "bgcolor": "#E5ECF6",
           "caxis": {
            "gridcolor": "white",
            "linecolor": "white",
            "ticks": ""
           }
          },
          "title": {
           "x": 0.05
          },
          "xaxis": {
           "automargin": true,
           "gridcolor": "white",
           "linecolor": "white",
           "ticks": "",
           "title": {
            "standoff": 15
           },
           "zerolinecolor": "white",
           "zerolinewidth": 2
          },
          "yaxis": {
           "automargin": true,
           "gridcolor": "white",
           "linecolor": "white",
           "ticks": "",
           "title": {
            "standoff": 15
           },
           "zerolinecolor": "white",
           "zerolinewidth": 2
          }
         }
        },
        "title": {
         "text": "Combined Accuracy Plots"
        },
        "xaxis": {
         "title": {
          "text": "Parameter Values"
         }
        },
        "yaxis": {
         "title": {
          "text": "Accuracy"
         }
        }
       }
      }
     },
     "metadata": {},
     "output_type": "display_data"
    }
   ],
   "source": [
    "# Create a new figure\n",
    "fig = go.Figure()\n",
    "\n",
    "# Add the first two traces (Neighbor Settings)\n",
    "fig.add_trace(go.Scatter(\n",
    "    x=list(neighbors_setting),\n",
    "    y=training_accuracy_ns,\n",
    "    mode='lines+markers',\n",
    "    name='Training Accuracy (Neighbor Settings)',\n",
    "    line=dict(color='blue', width=2),\n",
    "    marker=dict(size=8, symbol='circle', color='blue'),\n",
    "    hovertemplate='Neighbor Settings: %{x}<br>Training Accuracy: %{y:.2f}'\n",
    "))\n",
    "\n",
    "fig.add_trace(go.Scatter(\n",
    "    x=list(neighbors_setting),\n",
    "    y=test_accuracy_ns,\n",
    "    mode='lines+markers',\n",
    "    name='Test Accuracy (Neighbor Settings)',\n",
    "    line=dict(color='red', width=2),\n",
    "    marker=dict(size=8, symbol='circle', color='red'),\n",
    "    hovertemplate='Neighbor Settings: %{x}<br>Test Accuracy: %{y:.2f}'\n",
    "))\n",
    "\n",
    "# Add the other two traces (Max Depth)\n",
    "fig.add_trace(go.Scatter(\n",
    "    x=list(max_dep),\n",
    "    y=training_accuracy,\n",
    "    mode='lines+markers',\n",
    "    name='Training Accuracy (Max Depth)',\n",
    "    line=dict(color='green', width=2),\n",
    "    marker=dict(size=8, symbol='square', color='green'),\n",
    "    hovertemplate='Max Depth: %{x}<br>Training Accuracy: %{y:.2f}'\n",
    "))\n",
    "\n",
    "fig.add_trace(go.Scatter(\n",
    "    x=list(max_dep),\n",
    "    y=test_accuracy,\n",
    "    mode='lines+markers',\n",
    "    name='Test Accuracy (Max Depth)',\n",
    "    line=dict(color='purple', width=2),\n",
    "    marker=dict(size=8, symbol='square', color='purple'),\n",
    "    hovertemplate='Max Depth: %{x}<br>Test Accuracy: %{y:.2f}'\n",
    "))\n",
    "\n",
    "# Update the layout\n",
    "fig.update_layout(\n",
    "    title='Combined Accuracy Plots',\n",
    "    xaxis_title='Parameter Values',\n",
    "    yaxis_title='Accuracy',\n",
    "    legend=dict(\n",
    "        orientation='h',\n",
    "        yanchor='bottom',\n",
    "        y=1.02,\n",
    "        xanchor='right',\n",
    "        x=1\n",
    "    ),\n",
    "    hovermode='x unified'\n",
    ")\n",
    "\n",
    "# Show the figure\n",
    "fig.show()\n"
   ]
  },
  {
   "cell_type": "code",
   "execution_count": 33,
   "metadata": {},
   "outputs": [
    {
     "name": "stdout",
     "output_type": "stream",
     "text": [
      "Best Hyperparameters for Random Forest\n",
      "{'criterion': 'gini', 'max_depth': None, 'min_samples_leaf': 1, 'min_samples_split': 2, 'splitter': 'best'}\n"
     ]
    },
    {
     "name": "stderr",
     "output_type": "stream",
     "text": [
      "100%|██████████| 19/19 [00:23<00:00,  1.23s/it]\n"
     ]
    }
   ],
   "source": [
    "# Tuning Decision Tree Classifier\n",
    "\n",
    "hyperparameters_DT = {\n",
    "    'criterion': ['gini', 'entropy'],\n",
    "    'splitter': ['best', 'random'],\n",
    "    'max_depth': [None, 5, 10, 15, 20],\n",
    "    'min_samples_split': [2, 5, 10, 20],\n",
    "    'min_samples_leaf': [1, 5, 10, 20],\n",
    "}\n",
    "clf_dt = GridSearchCV(DecisionTreeClassifier(random_state=42),\n",
    "                   hyperparameters_DT, cv=5, scoring='accuracy', n_jobs=-1)\n",
    "clf_dt.fit(X_train, y_train)\n",
    "print(\"Best Hyperparameters for Random Forest\")\n",
    "print(clf_dt.best_params_)\n",
    "tuned_model_DT = clf_dt.best_estimator_\n",
    "\n",
    "training_accuracy_dt = []\n",
    "test_accuracy_dt = []\n",
    "\n",
    "max_depth = range(1,20)\n",
    "\n",
    "\n",
    "for ms in tqdm(max_depth): # Switch max_depth with min_samples and min_sample_leaf\n",
    "    tree_dt = DecisionTreeClassifier(max_depth=ms, random_state=seed)\n",
    "    tree_dt.fit(X_train, y_train)\n",
    "    training_accuracy_dt.append(tree_dt.score(X_train, y_train))\n",
    "    test_accuracy_dt.append(tree_dt.score(X_test, y_test))\n",
    "\n"
   ]
  },
  {
   "cell_type": "code",
   "execution_count": 38,
   "metadata": {},
   "outputs": [
    {
     "data": {
      "text/plain": [
       "['Decision_tree.joblib']"
      ]
     },
     "execution_count": 38,
     "metadata": {},
     "output_type": "execute_result"
    }
   ],
   "source": [
    "joblib.dump(hyperparameters_DT, 'Decision_tree.joblib',compress=3)"
   ]
  },
  {
   "cell_type": "code",
   "execution_count": 39,
   "metadata": {},
   "outputs": [
    {
     "name": "stderr",
     "output_type": "stream",
     "text": [
      "No artists with labels found to put in legend.  Note that artists whose label start with an underscore are ignored when legend() is called with no argument.\n"
     ]
    },
    {
     "data": {
      "image/png": "[encoded data removed]",
      "text/plain": [
       "<Figure size 640x480 with 1 Axes>"
      ]
     },
     "metadata": {},
     "output_type": "display_data"
    }
   ],
   "source": [
    "sns.set(style=\"darkgrid\")\n",
    "sns.lineplot(x=max_depth, y=training_accuracy_dt)\n",
    "sns.lineplot(x=max_depth, y=test_accuracy_dt)\n",
    "# plt.plot(max_dep, training_accuracy, label='Accuracy of the training set')\n",
    "# plt.plot(max_dep, test_accuracy, label='Accuracy of the test set')\n",
    "plt.ylabel('Accuracy')\n",
    "plt.xlabel('Max Depth')\n",
    "plt.legend()\n",
    "plt.show()\n"
   ]
  },
  {
   "cell_type": "code",
   "execution_count": 48,
   "metadata": {},
   "outputs": [
    {
     "data": {
      "application/vnd.plotly.v1+json": {
       "config": {
        "plotlyServerURL": "https://plot.ly"
       },
       "data": [
        {
         "hovertemplate": "Max Depth: %{x}<br>Training Accuracy: %{y:.2f}",
         "line": {
          "color": "blue",
          "width": 2
         },
         "marker": {
          "color": "blue",
          "size": 8,
          "symbol": "circle"
         },
         "mode": "lines+markers",
         "name": "Accuracy of the training set",
         "type": "scatter",
         "x": [
          1,
          2,
          3,
          4,
          5,
          6,
          7,
          8,
          9,
          10,
          11,
          12,
          13,
          14,
          15,
          16,
          17,
          18,
          19
         ],
         "y": [
          0.53147378964571,
          0.5504243766144763,
          0.5513067026256135,
          0.5566519889792487,
          0.5604226841023165,
          0.5644555798796375,
          0.5708191481392078,
          0.5758772623477086,
          0.5821575923043414,
          0.5874307387954307,
          0.5957420833437381,
          0.6022984870051136,
          0.6097136324917941,
          0.6193137834305834,
          0.6295285105060612,
          0.6415939025168488,
          0.6555793247153944,
          0.6701723865253835,
          0.6868214344179284
         ]
        },
        {
         "hovertemplate": "Max Depth: %{x}<br>Test Accuracy: %{y:.2f}",
         "line": {
          "color": "red",
          "width": 2
         },
         "marker": {
          "color": "red",
          "size": 8,
          "symbol": "circle"
         },
         "mode": "lines+markers",
         "name": "Accuracy of the test set",
         "type": "scatter",
         "x": [
          1,
          2,
          3,
          4,
          5,
          6,
          7,
          8,
          9,
          10,
          11,
          12,
          13,
          14,
          15,
          16,
          17,
          18,
          19
         ],
         "y": [
          0.5331953431073327,
          0.5533944485755191,
          0.554570879992897,
          0.5601478308158441,
          0.5637215187063693,
          0.5670787876097355,
          0.5727112304806721,
          0.57563566140972,
          0.5806632409575708,
          0.5829717101539349,
          0.5888150228072317,
          0.5935041008623464,
          0.5965006714537807,
          0.6009344860881436,
          0.6043084026059066,
          0.6102848961743782,
          0.6173323862690476,
          0.6236362829206574,
          0.6292687257915941
         ]
        }
       ],
       "layout": {
        "font": {
         "color": "RebeccaPurple",
         "family": "Arial, monospace",
         "size": 14
        },
        "height": 500,
        "hovermode": "x unified",
        "legend": {
         "bgcolor": "rgba(255, 255, 255, 0)",
         "bordercolor": "rgba(255, 255, 255, 0)",
         "x": 1,
         "y": 1
        },
        "template": {
         "data": {
          "bar": [
           {
            "error_x": {
             "color": "#2a3f5f"
            },
            "error_y": {
             "color": "#2a3f5f"
            },
            "marker": {
             "line": {
              "color": "white",
              "width": 0.5
             },
             "pattern": {
              "fillmode": "overlay",
              "size": 10,
              "solidity": 0.2
             }
            },
            "type": "bar"
           }
          ],
          "barpolar": [
           {
            "marker": {
             "line": {
              "color": "white",
              "width": 0.5
             },
             "pattern": {
              "fillmode": "overlay",
              "size": 10,
              "solidity": 0.2
             }
            },
            "type": "barpolar"
           }
          ],
          "carpet": [
           {
            "aaxis": {
             "endlinecolor": "#2a3f5f",
             "gridcolor": "#C8D4E3",
             "linecolor": "#C8D4E3",
             "minorgridcolor": "#C8D4E3",
             "startlinecolor": "#2a3f5f"
            },
            "baxis": {
             "endlinecolor": "#2a3f5f",
             "gridcolor": "#C8D4E3",
             "linecolor": "#C8D4E3",
             "minorgridcolor": "#C8D4E3",
             "startlinecolor": "#2a3f5f"
            },
            "type": "carpet"
           }
          ],
          "choropleth": [
           {
            "colorbar": {
             "outlinewidth": 0,
             "ticks": ""
            },
            "type": "choropleth"
           }
          ],
          "contour": [
           {
            "colorbar": {
             "outlinewidth": 0,
             "ticks": ""
            },
            "colorscale": [
             [
              0,
              "#0d0887"
             ],
             [
              0.1111111111111111,
              "#46039f"
             ],
             [
              0.2222222222222222,
              "#7201a8"
             ],
             [
              0.3333333333333333,
              "#9c179e"
             ],
             [
              0.4444444444444444,
              "#bd3786"
             ],
             [
              0.5555555555555556,
              "#d8576b"
             ],
             [
              0.6666666666666666,
              "#ed7953"
             ],
             [
              0.7777777777777778,
              "#fb9f3a"
             ],
             [
              0.8888888888888888,
              "#fdca26"
             ],
             [
              1,
              "#f0f921"
             ]
            ],
            "type": "contour"
           }
          ],
          "contourcarpet": [
           {
            "colorbar": {
             "outlinewidth": 0,
             "ticks": ""
            },
            "type": "contourcarpet"
           }
          ],
          "heatmap": [
           {
            "colorbar": {
             "outlinewidth": 0,
             "ticks": ""
            },
            "colorscale": [
             [
              0,
              "#0d0887"
             ],
             [
              0.1111111111111111,
              "#46039f"
             ],
             [
              0.2222222222222222,
              "#7201a8"
             ],
             [
              0.3333333333333333,
              "#9c179e"
             ],
             [
              0.4444444444444444,
              "#bd3786"
             ],
             [
              0.5555555555555556,
              "#d8576b"
             ],
             [
              0.6666666666666666,
              "#ed7953"
             ],
             [
              0.7777777777777778,
              "#fb9f3a"
             ],
             [
              0.8888888888888888,
              "#fdca26"
             ],
             [
              1,
              "#f0f921"
             ]
            ],
            "type": "heatmap"
           }
          ],
          "heatmapgl": [
           {
            "colorbar": {
             "outlinewidth": 0,
             "ticks": ""
            },
            "colorscale": [
             [
              0,
              "#0d0887"
             ],
             [
              0.1111111111111111,
              "#46039f"
             ],
             [
              0.2222222222222222,
              "#7201a8"
             ],
             [
              0.3333333333333333,
              "#9c179e"
             ],
             [
              0.4444444444444444,
              "#bd3786"
             ],
             [
              0.5555555555555556,
              "#d8576b"
             ],
             [
              0.6666666666666666,
              "#ed7953"
             ],
             [
              0.7777777777777778,
              "#fb9f3a"
             ],
             [
              0.8888888888888888,
              "#fdca26"
             ],
             [
              1,
              "#f0f921"
             ]
            ],
            "type": "heatmapgl"
           }
          ],
          "histogram": [
           {
            "marker": {
             "pattern": {
              "fillmode": "overlay",
              "size": 10,
              "solidity": 0.2
             }
            },
            "type": "histogram"
           }
          ],
          "histogram2d": [
           {
            "colorbar": {
             "outlinewidth": 0,
             "ticks": ""
            },
            "colorscale": [
             [
              0,
              "#0d0887"
             ],
             [
              0.1111111111111111,
              "#46039f"
             ],
             [
              0.2222222222222222,
              "#7201a8"
             ],
             [
              0.3333333333333333,
              "#9c179e"
             ],
             [
              0.4444444444444444,
              "#bd3786"
             ],
             [
              0.5555555555555556,
              "#d8576b"
             ],
             [
              0.6666666666666666,
              "#ed7953"
             ],
             [
              0.7777777777777778,
              "#fb9f3a"
             ],
             [
              0.8888888888888888,
              "#fdca26"
             ],
             [
              1,
              "#f0f921"
             ]
            ],
            "type": "histogram2d"
           }
          ],
          "histogram2dcontour": [
           {
            "colorbar": {
             "outlinewidth": 0,
             "ticks": ""
            },
            "colorscale": [
             [
              0,
              "#0d0887"
             ],
             [
              0.1111111111111111,
              "#46039f"
             ],
             [
              0.2222222222222222,
              "#7201a8"
             ],
             [
              0.3333333333333333,
              "#9c179e"
             ],
             [
              0.4444444444444444,
              "#bd3786"
             ],
             [
              0.5555555555555556,
              "#d8576b"
             ],
             [
              0.6666666666666666,
              "#ed7953"
             ],
             [
              0.7777777777777778,
              "#fb9f3a"
             ],
             [
              0.8888888888888888,
              "#fdca26"
             ],
             [
              1,
              "#f0f921"
             ]
            ],
            "type": "histogram2dcontour"
           }
          ],
          "mesh3d": [
           {
            "colorbar": {
             "outlinewidth": 0,
             "ticks": ""
            },
            "type": "mesh3d"
           }
          ],
          "parcoords": [
           {
            "line": {
             "colorbar": {
              "outlinewidth": 0,
              "ticks": ""
             }
            },
            "type": "parcoords"
           }
          ],
          "pie": [
           {
            "automargin": true,
            "type": "pie"
           }
          ],
          "scatter": [
           {
            "fillpattern": {
             "fillmode": "overlay",
             "size": 10,
             "solidity": 0.2
            },
            "type": "scatter"
           }
          ],
          "scatter3d": [
           {
            "line": {
             "colorbar": {
              "outlinewidth": 0,
              "ticks": ""
             }
            },
            "marker": {
             "colorbar": {
              "outlinewidth": 0,
              "ticks": ""
             }
            },
            "type": "scatter3d"
           }
          ],
          "scattercarpet": [
           {
            "marker": {
             "colorbar": {
              "outlinewidth": 0,
              "ticks": ""
             }
            },
            "type": "scattercarpet"
           }
          ],
          "scattergeo": [
           {
            "marker": {
             "colorbar": {
              "outlinewidth": 0,
              "ticks": ""
             }
            },
            "type": "scattergeo"
           }
          ],
          "scattergl": [
           {
            "marker": {
             "colorbar": {
              "outlinewidth": 0,
              "ticks": ""
             }
            },
            "type": "scattergl"
           }
          ],
          "scattermapbox": [
           {
            "marker": {
             "colorbar": {
              "outlinewidth": 0,
              "ticks": ""
             }
            },
            "type": "scattermapbox"
           }
          ],
          "scatterpolar": [
           {
            "marker": {
             "colorbar": {
              "outlinewidth": 0,
              "ticks": ""
             }
            },
            "type": "scatterpolar"
           }
          ],
          "scatterpolargl": [
           {
            "marker": {
             "colorbar": {
              "outlinewidth": 0,
              "ticks": ""
             }
            },
            "type": "scatterpolargl"
           }
          ],
          "scatterternary": [
           {
            "marker": {
             "colorbar": {
              "outlinewidth": 0,
              "ticks": ""
             }
            },
            "type": "scatterternary"
           }
          ],
          "surface": [
           {
            "colorbar": {
             "outlinewidth": 0,
             "ticks": ""
            },
            "colorscale": [
             [
              0,
              "#0d0887"
             ],
             [
              0.1111111111111111,
              "#46039f"
             ],
             [
              0.2222222222222222,
              "#7201a8"
             ],
             [
              0.3333333333333333,
              "#9c179e"
             ],
             [
              0.4444444444444444,
              "#bd3786"
             ],
             [
              0.5555555555555556,
              "#d8576b"
             ],
             [
              0.6666666666666666,
              "#ed7953"
             ],
             [
              0.7777777777777778,
              "#fb9f3a"
             ],
             [
              0.8888888888888888,
              "#fdca26"
             ],
             [
              1,
              "#f0f921"
             ]
            ],
            "type": "surface"
           }
          ],
          "table": [
           {
            "cells": {
             "fill": {
              "color": "#EBF0F8"
             },
             "line": {
              "color": "white"
             }
            },
            "header": {
             "fill": {
              "color": "#C8D4E3"
             },
             "line": {
              "color": "white"
             }
            },
            "type": "table"
           }
          ]
         },
         "layout": {
          "annotationdefaults": {
           "arrowcolor": "#2a3f5f",
           "arrowhead": 0,
           "arrowwidth": 1
          },
          "autotypenumbers": "strict",
          "coloraxis": {
           "colorbar": {
            "outlinewidth": 0,
            "ticks": ""
           }
          },
          "colorscale": {
           "diverging": [
            [
             0,
             "#8e0152"
            ],
            [
             0.1,
             "#c51b7d"
            ],
            [
             0.2,
             "#de77ae"
            ],
            [
             0.3,
             "#f1b6da"
            ],
            [
             0.4,
             "#fde0ef"
            ],
            [
             0.5,
             "#f7f7f7"
            ],
            [
             0.6,
             "#e6f5d0"
            ],
            [
             0.7,
             "#b8e186"
            ],
            [
             0.8,
             "#7fbc41"
            ],
            [
             0.9,
             "#4d9221"
            ],
            [
             1,
             "#276419"
            ]
           ],
           "sequential": [
            [
             0,
             "#0d0887"
            ],
            [
             0.1111111111111111,
             "#46039f"
            ],
            [
             0.2222222222222222,
             "#7201a8"
            ],
            [
             0.3333333333333333,
             "#9c179e"
            ],
            [
             0.4444444444444444,
             "#bd3786"
            ],
            [
             0.5555555555555556,
             "#d8576b"
            ],
            [
             0.6666666666666666,
             "#ed7953"
            ],
            [
             0.7777777777777778,
             "#fb9f3a"
            ],
            [
             0.8888888888888888,
             "#fdca26"
            ],
            [
             1,
             "#f0f921"
            ]
           ],
           "sequentialminus": [
            [
             0,
             "#0d0887"
            ],
            [
             0.1111111111111111,
             "#46039f"
            ],
            [
             0.2222222222222222,
             "#7201a8"
            ],
            [
             0.3333333333333333,
             "#9c179e"
            ],
            [
             0.4444444444444444,
             "#bd3786"
            ],
            [
             0.5555555555555556,
             "#d8576b"
            ],
            [
             0.6666666666666666,
             "#ed7953"
            ],
            [
             0.7777777777777778,
             "#fb9f3a"
            ],
            [
             0.8888888888888888,
             "#fdca26"
            ],
            [
             1,
             "#f0f921"
            ]
           ]
          },
          "colorway": [
           "#636efa",
           "#EF553B",
           "#00cc96",
           "#ab63fa",
           "#FFA15A",
           "#19d3f3",
           "#FF6692",
           "#B6E880",
           "#FF97FF",
           "#FECB52"
          ],
          "font": {
           "color": "#2a3f5f"
          },
          "geo": {
           "bgcolor": "white",
           "lakecolor": "white",
           "landcolor": "white",
           "showlakes": true,
           "showland": true,
           "subunitcolor": "#C8D4E3"
          },
          "hoverlabel": {
           "align": "left"
          },
          "hovermode": "closest",
          "mapbox": {
           "style": "light"
          },
          "paper_bgcolor": "white",
          "plot_bgcolor": "white",
          "polar": {
           "angularaxis": {
            "gridcolor": "#EBF0F8",
            "linecolor": "#EBF0F8",
            "ticks": ""
           },
           "bgcolor": "white",
           "radialaxis": {
            "gridcolor": "#EBF0F8",
            "linecolor": "#EBF0F8",
            "ticks": ""
           }
          },
          "scene": {
           "xaxis": {
            "backgroundcolor": "white",
            "gridcolor": "#DFE8F3",
            "gridwidth": 2,
            "linecolor": "#EBF0F8",
            "showbackground": true,
            "ticks": "",
            "zerolinecolor": "#EBF0F8"
           },
           "yaxis": {
            "backgroundcolor": "white",
            "gridcolor": "#DFE8F3",
            "gridwidth": 2,
            "linecolor": "#EBF0F8",
            "showbackground": true,
            "ticks": "",
            "zerolinecolor": "#EBF0F8"
           },
           "zaxis": {
            "backgroundcolor": "white",
            "gridcolor": "#DFE8F3",
            "gridwidth": 2,
            "linecolor": "#EBF0F8",
            "showbackground": true,
            "ticks": "",
            "zerolinecolor": "#EBF0F8"
           }
          },
          "shapedefaults": {
           "line": {
            "color": "#2a3f5f"
           }
          },
          "ternary": {
           "aaxis": {
            "gridcolor": "#DFE8F3",
            "linecolor": "#A2B1C6",
            "ticks": ""
           },
           "baxis": {
            "gridcolor": "#DFE8F3",
            "linecolor": "#A2B1C6",
            "ticks": ""
           },
           "bgcolor": "white",
           "caxis": {
            "gridcolor": "#DFE8F3",
            "linecolor": "#A2B1C6",
            "ticks": ""
           }
          },
          "title": {
           "x": 0.05
          },
          "xaxis": {
           "automargin": true,
           "gridcolor": "#EBF0F8",
           "linecolor": "#EBF0F8",
           "ticks": "",
           "title": {
            "standoff": 15
           },
           "zerolinecolor": "#EBF0F8",
           "zerolinewidth": 2
          },
          "yaxis": {
           "automargin": true,
           "gridcolor": "#EBF0F8",
           "linecolor": "#EBF0F8",
           "ticks": "",
           "title": {
            "standoff": 15
           },
           "zerolinecolor": "#EBF0F8",
           "zerolinewidth": 2
          }
         }
        },
        "title": {
         "text": "Model Accuracy vs Max Depth in Decision Tree"
        },
        "width": 1000,
        "xaxis": {
         "title": {
          "text": "Max Depth"
         }
        },
        "yaxis": {
         "title": {
          "text": "Accuracy"
         }
        }
       }
      }
     },
     "metadata": {},
     "output_type": "display_data"
    }
   ],
   "source": [
    "# Assuming 'max_dep', 'training_accuracy', and 'test_accuracy' are already defined and populated\n",
    "# Create the interactive line chart\n",
    "fig = go.Figure()\n",
    "\n",
    "fig.add_trace(go.Scatter(\n",
    "    x=list(max_depth),\n",
    "    y=training_accuracy_dt,\n",
    "    mode='lines+markers',\n",
    "    name='Accuracy of the training set',\n",
    "    line=dict(color='blue', width=2),\n",
    "    marker=dict(size=8, symbol='circle', color='blue'),\n",
    "    hovertemplate='Max Depth: %{x}<br>Training Accuracy: %{y:.2f}'\n",
    "))\n",
    "\n",
    "fig.add_trace(go.Scatter(\n",
    "    x=list(max_depth),\n",
    "    y=test_accuracy_dt,\n",
    "    mode='lines+markers',\n",
    "    name='Accuracy of the test set',\n",
    "    line=dict(color='red', width=2),\n",
    "    marker=dict(size=8, symbol='circle', color='red'),\n",
    "    hovertemplate='Max Depth: %{x}<br>Test Accuracy: %{y:.2f}'\n",
    "))\n",
    "\n",
    "fig.update_layout(\n",
    "    title='Model Accuracy vs Max Depth in Decision Tree',\n",
    "    xaxis_title='Max Depth',\n",
    "    yaxis_title='Accuracy',\n",
    "    legend=dict(\n",
    "        x=1,\n",
    "        y=1,\n",
    "        bgcolor='rgba(255, 255, 255, 0)',\n",
    "        bordercolor='rgba(255, 255, 255, 0)'\n",
    "    ),\n",
    "    template='plotly_white',\n",
    "    font=dict(\n",
    "        family=\"Arial, monospace\",\n",
    "        size=14,\n",
    "        color=\"RebeccaPurple\"\n",
    "    ),\n",
    "    hovermode='x unified',\n",
    "    width=1000,\n",
    "    height=500\n",
    ")\n",
    "\n",
    "# Show the interactive plot\n",
    "fig.show()\n"
   ]
  },
  {
   "cell_type": "code",
   "execution_count": 66,
   "metadata": {},
   "outputs": [
    {
     "name": "stderr",
     "output_type": "stream",
     "text": [
      "100%|██████████| 18/18 [00:50<00:00,  2.79s/it]\n"
     ]
    }
   ],
   "source": [
    "training_accuracy_samples = []\n",
    "test_accuracy_samples = []\n",
    "\n",
    "min_sample_leaf = range(1, 20)\n",
    "\n",
    "\n",
    "for ms in tqdm(min_samples):  # Switch max_depth with min_samples and min_sample_leaf\n",
    "    tree_samples = DecisionTreeClassifier(\n",
    "        min_samples_split=ms, random_state=seed)\n",
    "    tree_samples.fit(X_train, y_train)\n",
    "    training_accuracy_samples.append(tree_samples.score(X_train, y_train))\n",
    "    test_accuracy_samples.append(tree_samples.score(X_test, y_test))\n"
   ]
  },
  {
   "cell_type": "code",
   "execution_count": 67,
   "metadata": {},
   "outputs": [
    {
     "name": "stderr",
     "output_type": "stream",
     "text": [
      "No artists with labels found to put in legend.  Note that artists whose label start with an underscore are ignored when legend() is called with no argument.\n"
     ]
    },
    {
     "data": {
      "image/png": "[encoded data removed]",
      "text/plain": [
       "<Figure size 640x480 with 1 Axes>"
      ]
     },
     "metadata": {},
     "output_type": "display_data"
    }
   ],
   "source": [
    "sns.set(style=\"darkgrid\")\n",
    "sns.lineplot(x=min_samples, y=training_accuracy_samples)\n",
    "sns.lineplot(x=min_samples, y=test_accuracy_samples)\n",
    "# plt.plot(max_dep, training_accuracy, label='Accuracy of the training set')\n",
    "# plt.plot(max_dep, test_accuracy, label='Accuracy of the test set')\n",
    "plt.ylabel('Accuracy')\n",
    "plt.xlabel('Min samples split')\n",
    "plt.legend()\n",
    "plt.show()\n"
   ]
  },
  {
   "cell_type": "code",
   "execution_count": 68,
   "metadata": {},
   "outputs": [
    {
     "data": {
      "application/vnd.plotly.v1+json": {
       "config": {
        "plotlyServerURL": "https://plot.ly"
       },
       "data": [
        {
         "hovertemplate": "Min Sample Split: %{x}<br>Training Accuracy: %{y:.2f}",
         "line": {
          "color": "blue",
          "width": 2
         },
         "marker": {
          "color": "blue",
          "size": 8,
          "symbol": "circle"
         },
         "mode": "lines+markers",
         "name": "Accuracy of the training set",
         "type": "scatter",
         "x": [
          2,
          3,
          4,
          5,
          6,
          7,
          8,
          9,
          10,
          11,
          12,
          13,
          14,
          15,
          16,
          17,
          18,
          19
         ],
         "y": [
          0.9979467885275422,
          0.9854180366304025,
          0.963438962739761,
          0.9475307357433597,
          0.9315184608682865,
          0.9173513017083275,
          0.9055120404205199,
          0.8939266559566716,
          0.8841267330908325,
          0.874928900616241,
          0.8664233333610795,
          0.8588805558098949,
          0.8520133958175528,
          0.8451157151141336,
          0.8390171221189142,
          0.8334679019230823,
          0.8282696699046367,
          0.8231990699506951
         ]
        },
        {
         "hovertemplate": "Min Sample Split: %{x}<br>Test Accuracy: %{y:.2f}",
         "line": {
          "color": "red",
          "width": 2
         },
         "marker": {
          "color": "red",
          "size": 8,
          "symbol": "circle"
         },
         "mode": "lines+markers",
         "name": "Accuracy of the test set",
         "type": "scatter",
         "x": [
          2,
          3,
          4,
          5,
          6,
          7,
          8,
          9,
          10,
          11,
          12,
          13,
          14,
          15,
          16,
          17,
          18,
          19
         ],
         "y": [
          0.7886363384127054,
          0.745174966427311,
          0.7204810050719732,
          0.7143935274075225,
          0.7109308236129762,
          0.7023184577650022,
          0.6960922499805778,
          0.6905596927960224,
          0.6868195287615285,
          0.682113803092017,
          0.6783514422383272,
          0.6754603065380731,
          0.6721918249114902,
          0.668956638513701,
          0.6670310644484645,
          0.6642065192057978,
          0.6618259103470473,
          0.6599003362818108
         ]
        }
       ],
       "layout": {
        "font": {
         "color": "RebeccaPurple",
         "family": "Arial, monospace",
         "size": 14
        },
        "height": 500,
        "hovermode": "x unified",
        "legend": {
         "bgcolor": "rgba(255, 255, 255, 0)",
         "bordercolor": "rgba(255, 255, 255, 0)",
         "x": 1,
         "y": 1
        },
        "template": {
         "data": {
          "bar": [
           {
            "error_x": {
             "color": "#2a3f5f"
            },
            "error_y": {
             "color": "#2a3f5f"
            },
            "marker": {
             "line": {
              "color": "white",
              "width": 0.5
             },
             "pattern": {
              "fillmode": "overlay",
              "size": 10,
              "solidity": 0.2
             }
            },
            "type": "bar"
           }
          ],
          "barpolar": [
           {
            "marker": {
             "line": {
              "color": "white",
              "width": 0.5
             },
             "pattern": {
              "fillmode": "overlay",
              "size": 10,
              "solidity": 0.2
             }
            },
            "type": "barpolar"
           }
          ],
          "carpet": [
           {
            "aaxis": {
             "endlinecolor": "#2a3f5f",
             "gridcolor": "#C8D4E3",
             "linecolor": "#C8D4E3",
             "minorgridcolor": "#C8D4E3",
             "startlinecolor": "#2a3f5f"
            },
            "baxis": {
             "endlinecolor": "#2a3f5f",
             "gridcolor": "#C8D4E3",
             "linecolor": "#C8D4E3",
             "minorgridcolor": "#C8D4E3",
             "startlinecolor": "#2a3f5f"
            },
            "type": "carpet"
           }
          ],
          "choropleth": [
           {
            "colorbar": {
             "outlinewidth": 0,
             "ticks": ""
            },
            "type": "choropleth"
           }
          ],
          "contour": [
           {
            "colorbar": {
             "outlinewidth": 0,
             "ticks": ""
            },
            "colorscale": [
             [
              0,
              "#0d0887"
             ],
             [
              0.1111111111111111,
              "#46039f"
             ],
             [
              0.2222222222222222,
              "#7201a8"
             ],
             [
              0.3333333333333333,
              "#9c179e"
             ],
             [
              0.4444444444444444,
              "#bd3786"
             ],
             [
              0.5555555555555556,
              "#d8576b"
             ],
             [
              0.6666666666666666,
              "#ed7953"
             ],
             [
              0.7777777777777778,
              "#fb9f3a"
             ],
             [
              0.8888888888888888,
              "#fdca26"
             ],
             [
              1,
              "#f0f921"
             ]
            ],
            "type": "contour"
           }
          ],
          "contourcarpet": [
           {
            "colorbar": {
             "outlinewidth": 0,
             "ticks": ""
            },
            "type": "contourcarpet"
           }
          ],
          "heatmap": [
           {
            "colorbar": {
             "outlinewidth": 0,
             "ticks": ""
            },
            "colorscale": [
             [
              0,
              "#0d0887"
             ],
             [
              0.1111111111111111,
              "#46039f"
             ],
             [
              0.2222222222222222,
              "#7201a8"
             ],
             [
              0.3333333333333333,
              "#9c179e"
             ],
             [
              0.4444444444444444,
              "#bd3786"
             ],
             [
              0.5555555555555556,
              "#d8576b"
             ],
             [
              0.6666666666666666,
              "#ed7953"
             ],
             [
              0.7777777777777778,
              "#fb9f3a"
             ],
             [
              0.8888888888888888,
              "#fdca26"
             ],
             [
              1,
              "#f0f921"
             ]
            ],
            "type": "heatmap"
           }
          ],
          "heatmapgl": [
           {
            "colorbar": {
             "outlinewidth": 0,
             "ticks": ""
            },
            "colorscale": [
             [
              0,
              "#0d0887"
             ],
             [
              0.1111111111111111,
              "#46039f"
             ],
             [
              0.2222222222222222,
              "#7201a8"
             ],
             [
              0.3333333333333333,
              "#9c179e"
             ],
             [
              0.4444444444444444,
              "#bd3786"
             ],
             [
              0.5555555555555556,
              "#d8576b"
             ],
             [
              0.6666666666666666,
              "#ed7953"
             ],
             [
              0.7777777777777778,
              "#fb9f3a"
             ],
             [
              0.8888888888888888,
              "#fdca26"
             ],
             [
              1,
              "#f0f921"
             ]
            ],
            "type": "heatmapgl"
           }
          ],
          "histogram": [
           {
            "marker": {
             "pattern": {
              "fillmode": "overlay",
              "size": 10,
              "solidity": 0.2
             }
            },
            "type": "histogram"
           }
          ],
          "histogram2d": [
           {
            "colorbar": {
             "outlinewidth": 0,
             "ticks": ""
            },
            "colorscale": [
             [
              0,
              "#0d0887"
             ],
             [
              0.1111111111111111,
              "#46039f"
             ],
             [
              0.2222222222222222,
              "#7201a8"
             ],
             [
              0.3333333333333333,
              "#9c179e"
             ],
             [
              0.4444444444444444,
              "#bd3786"
             ],
             [
              0.5555555555555556,
              "#d8576b"
             ],
             [
              0.6666666666666666,
              "#ed7953"
             ],
             [
              0.7777777777777778,
              "#fb9f3a"
             ],
             [
              0.8888888888888888,
              "#fdca26"
             ],
             [
              1,
              "#f0f921"
             ]
            ],
            "type": "histogram2d"
           }
          ],
          "histogram2dcontour": [
           {
            "colorbar": {
             "outlinewidth": 0,
             "ticks": ""
            },
            "colorscale": [
             [
              0,
              "#0d0887"
             ],
             [
              0.1111111111111111,
              "#46039f"
             ],
             [
              0.2222222222222222,
              "#7201a8"
             ],
             [
              0.3333333333333333,
              "#9c179e"
             ],
             [
              0.4444444444444444,
              "#bd3786"
             ],
             [
              0.5555555555555556,
              "#d8576b"
             ],
             [
              0.6666666666666666,
              "#ed7953"
             ],
             [
              0.7777777777777778,
              "#fb9f3a"
             ],
             [
              0.8888888888888888,
              "#fdca26"
             ],
             [
              1,
              "#f0f921"
             ]
            ],
            "type": "histogram2dcontour"
           }
          ],
          "mesh3d": [
           {
            "colorbar": {
             "outlinewidth": 0,
             "ticks": ""
            },
            "type": "mesh3d"
           }
          ],
          "parcoords": [
           {
            "line": {
             "colorbar": {
              "outlinewidth": 0,
              "ticks": ""
             }
            },
            "type": "parcoords"
           }
          ],
          "pie": [
           {
            "automargin": true,
            "type": "pie"
           }
          ],
          "scatter": [
           {
            "fillpattern": {
             "fillmode": "overlay",
             "size": 10,
             "solidity": 0.2
            },
            "type": "scatter"
           }
          ],
          "scatter3d": [
           {
            "line": {
             "colorbar": {
              "outlinewidth": 0,
              "ticks": ""
             }
            },
            "marker": {
             "colorbar": {
              "outlinewidth": 0,
              "ticks": ""
             }
            },
            "type": "scatter3d"
           }
          ],
          "scattercarpet": [
           {
            "marker": {
             "colorbar": {
              "outlinewidth": 0,
              "ticks": ""
             }
            },
            "type": "scattercarpet"
           }
          ],
          "scattergeo": [
           {
            "marker": {
             "colorbar": {
              "outlinewidth": 0,
              "ticks": ""
             }
            },
            "type": "scattergeo"
           }
          ],
          "scattergl": [
           {
            "marker": {
             "colorbar": {
              "outlinewidth": 0,
              "ticks": ""
             }
            },
            "type": "scattergl"
           }
          ],
          "scattermapbox": [
           {
            "marker": {
             "colorbar": {
              "outlinewidth": 0,
              "ticks": ""
             }
            },
            "type": "scattermapbox"
           }
          ],
          "scatterpolar": [
           {
            "marker": {
             "colorbar": {
              "outlinewidth": 0,
              "ticks": ""
             }
            },
            "type": "scatterpolar"
           }
          ],
          "scatterpolargl": [
           {
            "marker": {
             "colorbar": {
              "outlinewidth": 0,
              "ticks": ""
             }
            },
            "type": "scatterpolargl"
           }
          ],
          "scatterternary": [
           {
            "marker": {
             "colorbar": {
              "outlinewidth": 0,
              "ticks": ""
             }
            },
            "type": "scatterternary"
           }
          ],
          "surface": [
           {
            "colorbar": {
             "outlinewidth": 0,
             "ticks": ""
            },
            "colorscale": [
             [
              0,
              "#0d0887"
             ],
             [
              0.1111111111111111,
              "#46039f"
             ],
             [
              0.2222222222222222,
              "#7201a8"
             ],
             [
              0.3333333333333333,
              "#9c179e"
             ],
             [
              0.4444444444444444,
              "#bd3786"
             ],
             [
              0.5555555555555556,
              "#d8576b"
             ],
             [
              0.6666666666666666,
              "#ed7953"
             ],
             [
              0.7777777777777778,
              "#fb9f3a"
             ],
             [
              0.8888888888888888,
              "#fdca26"
             ],
             [
              1,
              "#f0f921"
             ]
            ],
            "type": "surface"
           }
          ],
          "table": [
           {
            "cells": {
             "fill": {
              "color": "#EBF0F8"
             },
             "line": {
              "color": "white"
             }
            },
            "header": {
             "fill": {
              "color": "#C8D4E3"
             },
             "line": {
              "color": "white"
             }
            },
            "type": "table"
           }
          ]
         },
         "layout": {
          "annotationdefaults": {
           "arrowcolor": "#2a3f5f",
           "arrowhead": 0,
           "arrowwidth": 1
          },
          "autotypenumbers": "strict",
          "coloraxis": {
           "colorbar": {
            "outlinewidth": 0,
            "ticks": ""
           }
          },
          "colorscale": {
           "diverging": [
            [
             0,
             "#8e0152"
            ],
            [
             0.1,
             "#c51b7d"
            ],
            [
             0.2,
             "#de77ae"
            ],
            [
             0.3,
             "#f1b6da"
            ],
            [
             0.4,
             "#fde0ef"
            ],
            [
             0.5,
             "#f7f7f7"
            ],
            [
             0.6,
             "#e6f5d0"
            ],
            [
             0.7,
             "#b8e186"
            ],
            [
             0.8,
             "#7fbc41"
            ],
            [
             0.9,
             "#4d9221"
            ],
            [
             1,
             "#276419"
            ]
           ],
           "sequential": [
            [
             0,
             "#0d0887"
            ],
            [
             0.1111111111111111,
             "#46039f"
            ],
            [
             0.2222222222222222,
             "#7201a8"
            ],
            [
             0.3333333333333333,
             "#9c179e"
            ],
            [
             0.4444444444444444,
             "#bd3786"
            ],
            [
             0.5555555555555556,
             "#d8576b"
            ],
            [
             0.6666666666666666,
             "#ed7953"
            ],
            [
             0.7777777777777778,
             "#fb9f3a"
            ],
            [
             0.8888888888888888,
             "#fdca26"
            ],
            [
             1,
             "#f0f921"
            ]
           ],
           "sequentialminus": [
            [
             0,
             "#0d0887"
            ],
            [
             0.1111111111111111,
             "#46039f"
            ],
            [
             0.2222222222222222,
             "#7201a8"
            ],
            [
             0.3333333333333333,
             "#9c179e"
            ],
            [
             0.4444444444444444,
             "#bd3786"
            ],
            [
             0.5555555555555556,
             "#d8576b"
            ],
            [
             0.6666666666666666,
             "#ed7953"
            ],
            [
             0.7777777777777778,
             "#fb9f3a"
            ],
            [
             0.8888888888888888,
             "#fdca26"
            ],
            [
             1,
             "#f0f921"
            ]
           ]
          },
          "colorway": [
           "#636efa",
           "#EF553B",
           "#00cc96",
           "#ab63fa",
           "#FFA15A",
           "#19d3f3",
           "#FF6692",
           "#B6E880",
           "#FF97FF",
           "#FECB52"
          ],
          "font": {
           "color": "#2a3f5f"
          },
          "geo": {
           "bgcolor": "white",
           "lakecolor": "white",
           "landcolor": "white",
           "showlakes": true,
           "showland": true,
           "subunitcolor": "#C8D4E3"
          },
          "hoverlabel": {
           "align": "left"
          },
          "hovermode": "closest",
          "mapbox": {
           "style": "light"
          },
          "paper_bgcolor": "white",
          "plot_bgcolor": "white",
          "polar": {
           "angularaxis": {
            "gridcolor": "#EBF0F8",
            "linecolor": "#EBF0F8",
            "ticks": ""
           },
           "bgcolor": "white",
           "radialaxis": {
            "gridcolor": "#EBF0F8",
            "linecolor": "#EBF0F8",
            "ticks": ""
           }
          },
          "scene": {
           "xaxis": {
            "backgroundcolor": "white",
            "gridcolor": "#DFE8F3",
            "gridwidth": 2,
            "linecolor": "#EBF0F8",
            "showbackground": true,
            "ticks": "",
            "zerolinecolor": "#EBF0F8"
           },
           "yaxis": {
            "backgroundcolor": "white",
            "gridcolor": "#DFE8F3",
            "gridwidth": 2,
            "linecolor": "#EBF0F8",
            "showbackground": true,
            "ticks": "",
            "zerolinecolor": "#EBF0F8"
           },
           "zaxis": {
            "backgroundcolor": "white",
            "gridcolor": "#DFE8F3",
            "gridwidth": 2,
            "linecolor": "#EBF0F8",
            "showbackground": true,
            "ticks": "",
            "zerolinecolor": "#EBF0F8"
           }
          },
          "shapedefaults": {
           "line": {
            "color": "#2a3f5f"
           }
          },
          "ternary": {
           "aaxis": {
            "gridcolor": "#DFE8F3",
            "linecolor": "#A2B1C6",
            "ticks": ""
           },
           "baxis": {
            "gridcolor": "#DFE8F3",
            "linecolor": "#A2B1C6",
            "ticks": ""
           },
           "bgcolor": "white",
           "caxis": {
            "gridcolor": "#DFE8F3",
            "linecolor": "#A2B1C6",
            "ticks": ""
           }
          },
          "title": {
           "x": 0.05
          },
          "xaxis": {
           "automargin": true,
           "gridcolor": "#EBF0F8",
           "linecolor": "#EBF0F8",
           "ticks": "",
           "title": {
            "standoff": 15
           },
           "zerolinecolor": "#EBF0F8",
           "zerolinewidth": 2
          },
          "yaxis": {
           "automargin": true,
           "gridcolor": "#EBF0F8",
           "linecolor": "#EBF0F8",
           "ticks": "",
           "title": {
            "standoff": 15
           },
           "zerolinecolor": "#EBF0F8",
           "zerolinewidth": 2
          }
         }
        },
        "title": {
         "text": "Model Accuracy vs Min Sample Split in Decision Tree"
        },
        "width": 1000,
        "xaxis": {
         "title": {
          "text": "Min Sample Split"
         }
        },
        "yaxis": {
         "title": {
          "text": "Accuracy"
         }
        }
       }
      }
     },
     "metadata": {},
     "output_type": "display_data"
    }
   ],
   "source": [
    "# Create the interactive line chart\n",
    "fig = go.Figure()\n",
    "\n",
    "fig.add_trace(go.Scatter(\n",
    "    x=list(min_samples),\n",
    "    y=training_accuracy_samples,\n",
    "    mode='lines+markers',\n",
    "    name='Accuracy of the training set',\n",
    "    line=dict(color='blue', width=2),\n",
    "    marker=dict(size=8, symbol='circle', color='blue'),\n",
    "    hovertemplate='Min Sample Split: %{x}<br>Training Accuracy: %{y:.2f}'\n",
    "))\n",
    "\n",
    "fig.add_trace(go.Scatter(\n",
    "    x=list(min_samples),\n",
    "    y=test_accuracy_samples,\n",
    "    mode='lines+markers',\n",
    "    name='Accuracy of the test set',\n",
    "    line=dict(color='red', width=2),\n",
    "    marker=dict(size=8, symbol='circle', color='red'),\n",
    "    hovertemplate='Min Sample Split: %{x}<br>Test Accuracy: %{y:.2f}'\n",
    "))\n",
    "\n",
    "fig.update_layout(\n",
    "    title='Model Accuracy vs Min Sample Split in Decision Tree',\n",
    "    xaxis_title='Min Sample Split',\n",
    "    yaxis_title='Accuracy',\n",
    "    legend=dict(\n",
    "        x=1,\n",
    "        y=1,\n",
    "        bgcolor='rgba(255, 255, 255, 0)',\n",
    "        bordercolor='rgba(255, 255, 255, 0)'\n",
    "    ),\n",
    "    template='plotly_white',\n",
    "    font=dict(\n",
    "        family=\"Arial, monospace\",\n",
    "        size=14,\n",
    "        color=\"RebeccaPurple\"\n",
    "    ),\n",
    "    hovermode='x unified',\n",
    "    width=1000,\n",
    "    height=500\n",
    ")\n",
    "\n",
    "# Show the interactive plot\n",
    "fig.show()\n"
   ]
  },
  {
   "cell_type": "code",
   "execution_count": 69,
   "metadata": {},
   "outputs": [
    {
     "name": "stderr",
     "output_type": "stream",
     "text": [
      "100%|██████████| 19/19 [00:47<00:00,  2.52s/it]\n"
     ]
    }
   ],
   "source": [
    "training_accuracy_leaf = []\n",
    "test_accuracy_leaf = []\n",
    "\n",
    "min_sample_leaf = range(1, 20)\n",
    "\n",
    "\n",
    "for ms in tqdm(min_sample_leaf):  # Switch max_depth with min_samples and min_sample_leaf\n",
    "    tree_leaf = DecisionTreeClassifier(\n",
    "        min_samples_leaf=ms, random_state=seed)\n",
    "    tree_leaf.fit(X_train, y_train)\n",
    "    training_accuracy_leaf.append(tree_leaf.score(X_train, y_train))\n",
    "    test_accuracy_leaf.append(tree_leaf.score(X_test, y_test))\n"
   ]
  },
  {
   "cell_type": "code",
   "execution_count": 70,
   "metadata": {},
   "outputs": [
    {
     "name": "stderr",
     "output_type": "stream",
     "text": [
      "No artists with labels found to put in legend.  Note that artists whose label start with an underscore are ignored when legend() is called with no argument.\n"
     ]
    },
    {
     "data": {
      "image/png": "[encoded data removed]",
      "text/plain": [
       "<Figure size 640x480 with 1 Axes>"
      ]
     },
     "metadata": {},
     "output_type": "display_data"
    }
   ],
   "source": [
    "sns.set(style=\"darkgrid\")\n",
    "sns.lineplot(x=min_sample_leaf, y=training_accuracy_leaf)\n",
    "sns.lineplot(x=min_sample_leaf, y=test_accuracy_leaf)\n",
    "# plt.plot(max_dep, training_accuracy, label='Accuracy of the training set')\n",
    "# plt.plot(max_dep, test_accuracy, label='Accuracy of the test set')\n",
    "plt.ylabel('Accuracy')\n",
    "plt.xlabel('Min samples leaf')\n",
    "plt.legend()\n",
    "plt.show()\n"
   ]
  },
  {
   "cell_type": "code",
   "execution_count": 71,
   "metadata": {},
   "outputs": [
    {
     "data": {
      "application/vnd.plotly.v1+json": {
       "config": {
        "plotlyServerURL": "https://plot.ly"
       },
       "data": [
        {
         "hovertemplate": "Min Sample leaf: %{x}<br>Training Accuracy: %{y:.2f}",
         "line": {
          "color": "blue",
          "width": 2
         },
         "marker": {
          "color": "blue",
          "size": 8,
          "symbol": "circle"
         },
         "mode": "lines+markers",
         "name": "Accuracy of the training set",
         "type": "scatter",
         "x": [
          1,
          2,
          3,
          4,
          5,
          6,
          7,
          8,
          9,
          10,
          11,
          12,
          13,
          14,
          15,
          16,
          17,
          18,
          19
         ],
         "y": [
          0.9979467885275422,
          0.9349118090180377,
          0.8826131832824192,
          0.8489779723704326,
          0.8285263213386939,
          0.8081995277613613,
          0.7929932771197328,
          0.7793158366420558,
          0.7694326754732791,
          0.759428818765243,
          0.7511507695381107,
          0.7432028989126302,
          0.7367491558248777,
          0.7309668683808208,
          0.7257242426008085,
          0.7209241671314138,
          0.7167539281542461,
          0.7129735218958356,
          0.7090418993870886
         ]
        },
        {
         "hovertemplate": "Min Sample leaf: %{x}<br>Test Accuracy: %{y:.2f}",
         "line": {
          "color": "red",
          "width": 2
         },
         "marker": {
          "color": "red",
          "size": 8,
          "symbol": "circle"
         },
         "mode": "lines+markers",
         "name": "Accuracy of the test set",
         "type": "scatter",
         "x": [
          1,
          2,
          3,
          4,
          5,
          6,
          7,
          8,
          9,
          10,
          11,
          12,
          13,
          14,
          15,
          16,
          17,
          18,
          19
         ],
         "y": [
          0.7886363384127054,
          0.6671808929780363,
          0.6784846231535021,
          0.6744891956982565,
          0.6619535420574232,
          0.6454058133469474,
          0.6438742328224365,
          0.6416212556740619,
          0.63765912344761,
          0.6328257660677225,
          0.6319767377334828,
          0.629512890802748,
          0.6269380597760341,
          0.625894809273831,
          0.6236251845110595,
          0.6225486387800628,
          0.6210836487131394,
          0.6196963475134013,
          0.6178651099297471
         ]
        }
       ],
       "layout": {
        "font": {
         "color": "RebeccaPurple",
         "family": "Arial, monospace",
         "size": 14
        },
        "height": 500,
        "hovermode": "x unified",
        "legend": {
         "bgcolor": "rgba(255, 255, 255, 0)",
         "bordercolor": "rgba(255, 255, 255, 0)",
         "x": 1,
         "y": 1
        },
        "template": {
         "data": {
          "bar": [
           {
            "error_x": {
             "color": "#2a3f5f"
            },
            "error_y": {
             "color": "#2a3f5f"
            },
            "marker": {
             "line": {
              "color": "white",
              "width": 0.5
             },
             "pattern": {
              "fillmode": "overlay",
              "size": 10,
              "solidity": 0.2
             }
            },
            "type": "bar"
           }
          ],
          "barpolar": [
           {
            "marker": {
             "line": {
              "color": "white",
              "width": 0.5
             },
             "pattern": {
              "fillmode": "overlay",
              "size": 10,
              "solidity": 0.2
             }
            },
            "type": "barpolar"
           }
          ],
          "carpet": [
           {
            "aaxis": {
             "endlinecolor": "#2a3f5f",
             "gridcolor": "#C8D4E3",
             "linecolor": "#C8D4E3",
             "minorgridcolor": "#C8D4E3",
             "startlinecolor": "#2a3f5f"
            },
            "baxis": {
             "endlinecolor": "#2a3f5f",
             "gridcolor": "#C8D4E3",
             "linecolor": "#C8D4E3",
             "minorgridcolor": "#C8D4E3",
             "startlinecolor": "#2a3f5f"
            },
            "type": "carpet"
           }
          ],
          "choropleth": [
           {
            "colorbar": {
             "outlinewidth": 0,
             "ticks": ""
            },
            "type": "choropleth"
           }
          ],
          "contour": [
           {
            "colorbar": {
             "outlinewidth": 0,
             "ticks": ""
            },
            "colorscale": [
             [
              0,
              "#0d0887"
             ],
             [
              0.1111111111111111,
              "#46039f"
             ],
             [
              0.2222222222222222,
              "#7201a8"
             ],
             [
              0.3333333333333333,
              "#9c179e"
             ],
             [
              0.4444444444444444,
              "#bd3786"
             ],
             [
              0.5555555555555556,
              "#d8576b"
             ],
             [
              0.6666666666666666,
              "#ed7953"
             ],
             [
              0.7777777777777778,
              "#fb9f3a"
             ],
             [
              0.8888888888888888,
              "#fdca26"
             ],
             [
              1,
              "#f0f921"
             ]
            ],
            "type": "contour"
           }
          ],
          "contourcarpet": [
           {
            "colorbar": {
             "outlinewidth": 0,
             "ticks": ""
            },
            "type": "contourcarpet"
           }
          ],
          "heatmap": [
           {
            "colorbar": {
             "outlinewidth": 0,
             "ticks": ""
            },
            "colorscale": [
             [
              0,
              "#0d0887"
             ],
             [
              0.1111111111111111,
              "#46039f"
             ],
             [
              0.2222222222222222,
              "#7201a8"
             ],
             [
              0.3333333333333333,
              "#9c179e"
             ],
             [
              0.4444444444444444,
              "#bd3786"
             ],
             [
              0.5555555555555556,
              "#d8576b"
             ],
             [
              0.6666666666666666,
              "#ed7953"
             ],
             [
              0.7777777777777778,
              "#fb9f3a"
             ],
             [
              0.8888888888888888,
              "#fdca26"
             ],
             [
              1,
              "#f0f921"
             ]
            ],
            "type": "heatmap"
           }
          ],
          "heatmapgl": [
           {
            "colorbar": {
             "outlinewidth": 0,
             "ticks": ""
            },
            "colorscale": [
             [
              0,
              "#0d0887"
             ],
             [
              0.1111111111111111,
              "#46039f"
             ],
             [
              0.2222222222222222,
              "#7201a8"
             ],
             [
              0.3333333333333333,
              "#9c179e"
             ],
             [
              0.4444444444444444,
              "#bd3786"
             ],
             [
              0.5555555555555556,
              "#d8576b"
             ],
             [
              0.6666666666666666,
              "#ed7953"
             ],
             [
              0.7777777777777778,
              "#fb9f3a"
             ],
             [
              0.8888888888888888,
              "#fdca26"
             ],
             [
              1,
              "#f0f921"
             ]
            ],
            "type": "heatmapgl"
           }
          ],
          "histogram": [
           {
            "marker": {
             "pattern": {
              "fillmode": "overlay",
              "size": 10,
              "solidity": 0.2
             }
            },
            "type": "histogram"
           }
          ],
          "histogram2d": [
           {
            "colorbar": {
             "outlinewidth": 0,
             "ticks": ""
            },
            "colorscale": [
             [
              0,
              "#0d0887"
             ],
             [
              0.1111111111111111,
              "#46039f"
             ],
             [
              0.2222222222222222,
              "#7201a8"
             ],
             [
              0.3333333333333333,
              "#9c179e"
             ],
             [
              0.4444444444444444,
              "#bd3786"
             ],
             [
              0.5555555555555556,
              "#d8576b"
             ],
             [
              0.6666666666666666,
              "#ed7953"
             ],
             [
              0.7777777777777778,
              "#fb9f3a"
             ],
             [
              0.8888888888888888,
              "#fdca26"
             ],
             [
              1,
              "#f0f921"
             ]
            ],
            "type": "histogram2d"
           }
          ],
          "histogram2dcontour": [
           {
            "colorbar": {
             "outlinewidth": 0,
             "ticks": ""
            },
            "colorscale": [
             [
              0,
              "#0d0887"
             ],
             [
              0.1111111111111111,
              "#46039f"
             ],
             [
              0.2222222222222222,
              "#7201a8"
             ],
             [
              0.3333333333333333,
              "#9c179e"
             ],
             [
              0.4444444444444444,
              "#bd3786"
             ],
             [
              0.5555555555555556,
              "#d8576b"
             ],
             [
              0.6666666666666666,
              "#ed7953"
             ],
             [
              0.7777777777777778,
              "#fb9f3a"
             ],
             [
              0.8888888888888888,
              "#fdca26"
             ],
             [
              1,
              "#f0f921"
             ]
            ],
            "type": "histogram2dcontour"
           }
          ],
          "mesh3d": [
           {
            "colorbar": {
             "outlinewidth": 0,
             "ticks": ""
            },
            "type": "mesh3d"
           }
          ],
          "parcoords": [
           {
            "line": {
             "colorbar": {
              "outlinewidth": 0,
              "ticks": ""
             }
            },
            "type": "parcoords"
           }
          ],
          "pie": [
           {
            "automargin": true,
            "type": "pie"
           }
          ],
          "scatter": [
           {
            "fillpattern": {
             "fillmode": "overlay",
             "size": 10,
             "solidity": 0.2
            },
            "type": "scatter"
           }
          ],
          "scatter3d": [
           {
            "line": {
             "colorbar": {
              "outlinewidth": 0,
              "ticks": ""
             }
            },
            "marker": {
             "colorbar": {
              "outlinewidth": 0,
              "ticks": ""
             }
            },
            "type": "scatter3d"
           }
          ],
          "scattercarpet": [
           {
            "marker": {
             "colorbar": {
              "outlinewidth": 0,
              "ticks": ""
             }
            },
            "type": "scattercarpet"
           }
          ],
          "scattergeo": [
           {
            "marker": {
             "colorbar": {
              "outlinewidth": 0,
              "ticks": ""
             }
            },
            "type": "scattergeo"
           }
          ],
          "scattergl": [
           {
            "marker": {
             "colorbar": {
              "outlinewidth": 0,
              "ticks": ""
             }
            },
            "type": "scattergl"
           }
          ],
          "scattermapbox": [
           {
            "marker": {
             "colorbar": {
              "outlinewidth": 0,
              "ticks": ""
             }
            },
            "type": "scattermapbox"
           }
          ],
          "scatterpolar": [
           {
            "marker": {
             "colorbar": {
              "outlinewidth": 0,
              "ticks": ""
             }
            },
            "type": "scatterpolar"
           }
          ],
          "scatterpolargl": [
           {
            "marker": {
             "colorbar": {
              "outlinewidth": 0,
              "ticks": ""
             }
            },
            "type": "scatterpolargl"
           }
          ],
          "scatterternary": [
           {
            "marker": {
             "colorbar": {
              "outlinewidth": 0,
              "ticks": ""
             }
            },
            "type": "scatterternary"
           }
          ],
          "surface": [
           {
            "colorbar": {
             "outlinewidth": 0,
             "ticks": ""
            },
            "colorscale": [
             [
              0,
              "#0d0887"
             ],
             [
              0.1111111111111111,
              "#46039f"
             ],
             [
              0.2222222222222222,
              "#7201a8"
             ],
             [
              0.3333333333333333,
              "#9c179e"
             ],
             [
              0.4444444444444444,
              "#bd3786"
             ],
             [
              0.5555555555555556,
              "#d8576b"
             ],
             [
              0.6666666666666666,
              "#ed7953"
             ],
             [
              0.7777777777777778,
              "#fb9f3a"
             ],
             [
              0.8888888888888888,
              "#fdca26"
             ],
             [
              1,
              "#f0f921"
             ]
            ],
            "type": "surface"
           }
          ],
          "table": [
           {
            "cells": {
             "fill": {
              "color": "#EBF0F8"
             },
             "line": {
              "color": "white"
             }
            },
            "header": {
             "fill": {
              "color": "#C8D4E3"
             },
             "line": {
              "color": "white"
             }
            },
            "type": "table"
           }
          ]
         },
         "layout": {
          "annotationdefaults": {
           "arrowcolor": "#2a3f5f",
           "arrowhead": 0,
           "arrowwidth": 1
          },
          "autotypenumbers": "strict",
          "coloraxis": {
           "colorbar": {
            "outlinewidth": 0,
            "ticks": ""
           }
          },
          "colorscale": {
           "diverging": [
            [
             0,
             "#8e0152"
            ],
            [
             0.1,
             "#c51b7d"
            ],
            [
             0.2,
             "#de77ae"
            ],
            [
             0.3,
             "#f1b6da"
            ],
            [
             0.4,
             "#fde0ef"
            ],
            [
             0.5,
             "#f7f7f7"
            ],
            [
             0.6,
             "#e6f5d0"
            ],
            [
             0.7,
             "#b8e186"
            ],
            [
             0.8,
             "#7fbc41"
            ],
            [
             0.9,
             "#4d9221"
            ],
            [
             1,
             "#276419"
            ]
           ],
           "sequential": [
            [
             0,
             "#0d0887"
            ],
            [
             0.1111111111111111,
             "#46039f"
            ],
            [
             0.2222222222222222,
             "#7201a8"
            ],
            [
             0.3333333333333333,
             "#9c179e"
            ],
            [
             0.4444444444444444,
             "#bd3786"
            ],
            [
             0.5555555555555556,
             "#d8576b"
            ],
            [
             0.6666666666666666,
             "#ed7953"
            ],
            [
             0.7777777777777778,
             "#fb9f3a"
            ],
            [
             0.8888888888888888,
             "#fdca26"
            ],
            [
             1,
             "#f0f921"
            ]
           ],
           "sequentialminus": [
            [
             0,
             "#0d0887"
            ],
            [
             0.1111111111111111,
             "#46039f"
            ],
            [
             0.2222222222222222,
             "#7201a8"
            ],
            [
             0.3333333333333333,
             "#9c179e"
            ],
            [
             0.4444444444444444,
             "#bd3786"
            ],
            [
             0.5555555555555556,
             "#d8576b"
            ],
            [
             0.6666666666666666,
             "#ed7953"
            ],
            [
             0.7777777777777778,
             "#fb9f3a"
            ],
            [
             0.8888888888888888,
             "#fdca26"
            ],
            [
             1,
             "#f0f921"
            ]
           ]
          },
          "colorway": [
           "#636efa",
           "#EF553B",
           "#00cc96",
           "#ab63fa",
           "#FFA15A",
           "#19d3f3",
           "#FF6692",
           "#B6E880",
           "#FF97FF",
           "#FECB52"
          ],
          "font": {
           "color": "#2a3f5f"
          },
          "geo": {
           "bgcolor": "white",
           "lakecolor": "white",
           "landcolor": "white",
           "showlakes": true,
           "showland": true,
           "subunitcolor": "#C8D4E3"
          },
          "hoverlabel": {
           "align": "left"
          },
          "hovermode": "closest",
          "mapbox": {
           "style": "light"
          },
          "paper_bgcolor": "white",
          "plot_bgcolor": "white",
          "polar": {
           "angularaxis": {
            "gridcolor": "#EBF0F8",
            "linecolor": "#EBF0F8",
            "ticks": ""
           },
           "bgcolor": "white",
           "radialaxis": {
            "gridcolor": "#EBF0F8",
            "linecolor": "#EBF0F8",
            "ticks": ""
           }
          },
          "scene": {
           "xaxis": {
            "backgroundcolor": "white",
            "gridcolor": "#DFE8F3",
            "gridwidth": 2,
            "linecolor": "#EBF0F8",
            "showbackground": true,
            "ticks": "",
            "zerolinecolor": "#EBF0F8"
           },
           "yaxis": {
            "backgroundcolor": "white",
            "gridcolor": "#DFE8F3",
            "gridwidth": 2,
            "linecolor": "#EBF0F8",
            "showbackground": true,
            "ticks": "",
            "zerolinecolor": "#EBF0F8"
           },
           "zaxis": {
            "backgroundcolor": "white",
            "gridcolor": "#DFE8F3",
            "gridwidth": 2,
            "linecolor": "#EBF0F8",
            "showbackground": true,
            "ticks": "",
            "zerolinecolor": "#EBF0F8"
           }
          },
          "shapedefaults": {
           "line": {
            "color": "#2a3f5f"
           }
          },
          "ternary": {
           "aaxis": {
            "gridcolor": "#DFE8F3",
            "linecolor": "#A2B1C6",
            "ticks": ""
           },
           "baxis": {
            "gridcolor": "#DFE8F3",
            "linecolor": "#A2B1C6",
            "ticks": ""
           },
           "bgcolor": "white",
           "caxis": {
            "gridcolor": "#DFE8F3",
            "linecolor": "#A2B1C6",
            "ticks": ""
           }
          },
          "title": {
           "x": 0.05
          },
          "xaxis": {
           "automargin": true,
           "gridcolor": "#EBF0F8",
           "linecolor": "#EBF0F8",
           "ticks": "",
           "title": {
            "standoff": 15
           },
           "zerolinecolor": "#EBF0F8",
           "zerolinewidth": 2
          },
          "yaxis": {
           "automargin": true,
           "gridcolor": "#EBF0F8",
           "linecolor": "#EBF0F8",
           "ticks": "",
           "title": {
            "standoff": 15
           },
           "zerolinecolor": "#EBF0F8",
           "zerolinewidth": 2
          }
         }
        },
        "title": {
         "text": "Model Accuracy vs Min Sample leaf in Decision Tree"
        },
        "width": 1000,
        "xaxis": {
         "title": {
          "text": "Min Sample leaf"
         }
        },
        "yaxis": {
         "title": {
          "text": "Accuracy"
         }
        }
       }
      }
     },
     "metadata": {},
     "output_type": "display_data"
    }
   ],
   "source": [
    "# Create the interactive line chart\n",
    "fig = go.Figure()\n",
    "\n",
    "fig.add_trace(go.Scatter(\n",
    "    x=list(min_sample_leaf),\n",
    "    y=training_accuracy_leaf ,\n",
    "    mode='lines+markers',\n",
    "    name='Accuracy of the training set',\n",
    "    line=dict(color='blue', width=2),\n",
    "    marker=dict(size=8, symbol='circle', color='blue'),\n",
    "    hovertemplate='Min Sample leaf: %{x}<br>Training Accuracy: %{y:.2f}'\n",
    "))\n",
    "\n",
    "fig.add_trace(go.Scatter(\n",
    "    x=list(min_sample_leaf ),\n",
    "    y=test_accuracy_leaf,\n",
    "    mode='lines+markers',\n",
    "    name='Accuracy of the test set',\n",
    "    line=dict(color='red', width=2),\n",
    "    marker=dict(size=8, symbol='circle', color='red'),\n",
    "    hovertemplate='Min Sample leaf: %{x}<br>Test Accuracy: %{y:.2f}'\n",
    "))\n",
    "\n",
    "fig.update_layout(\n",
    "    title='Model Accuracy vs Min Sample leaf in Decision Tree',\n",
    "    xaxis_title='Min Sample leaf',\n",
    "    yaxis_title='Accuracy',\n",
    "    legend=dict(\n",
    "        x=1,\n",
    "        y=1,\n",
    "        bgcolor='rgba(255, 255, 255, 0)',\n",
    "        bordercolor='rgba(255, 255, 255, 0)'\n",
    "    ),\n",
    "    template='plotly_white',\n",
    "    font=dict(\n",
    "        family=\"Arial, monospace\",\n",
    "        size=14,\n",
    "        color=\"RebeccaPurple\"\n",
    "    ),\n",
    "    hovermode='x unified',\n",
    "    width=1000,\n",
    "    height=500\n",
    ")\n",
    "\n",
    "# Show the interactive plot\n",
    "fig.show()\n"
   ]
  },
  {
   "cell_type": "code",
   "execution_count": 75,
   "metadata": {},
   "outputs": [
    {
     "data": {
      "application/vnd.plotly.v1+json": {
       "config": {
        "plotlyServerURL": "https://plot.ly"
       },
       "data": [
        {
         "hovertemplate": "Max Depth: %{x}<br>Training Accuracy: %{y:.2f}",
         "line": {
          "color": "blue",
          "width": 2
         },
         "marker": {
          "color": "blue",
          "size": 8,
          "symbol": "circle"
         },
         "mode": "lines+markers",
         "name": "Training Accuracy (Max Depth)",
         "type": "scatter",
         "x": [
          1,
          2,
          3,
          4,
          5,
          6,
          7,
          8,
          9,
          10,
          11,
          12,
          13,
          14,
          15,
          16,
          17,
          18,
          19
         ],
         "y": [
          0.53147378964571,
          0.5504243766144763,
          0.5513067026256135,
          0.5566519889792487,
          0.5604226841023165,
          0.5644555798796375,
          0.5708191481392078,
          0.5758772623477086,
          0.5821575923043414,
          0.5874307387954307,
          0.5957420833437381,
          0.6022984870051136,
          0.6097136324917941,
          0.6193137834305834,
          0.6295285105060612,
          0.6415939025168488,
          0.6555793247153944,
          0.6701723865253835,
          0.6868214344179284
         ]
        },
        {
         "hovertemplate": "Max Depth: %{x}<br>Test Accuracy: %{y:.2f}",
         "line": {
          "color": "red",
          "width": 2
         },
         "marker": {
          "color": "red",
          "size": 8,
          "symbol": "circle"
         },
         "mode": "lines+markers",
         "name": "Test Accuracy (Max Depth)",
         "type": "scatter",
         "x": [
          1,
          2,
          3,
          4,
          5,
          6,
          7,
          8,
          9,
          10,
          11,
          12,
          13,
          14,
          15,
          16,
          17,
          18,
          19
         ],
         "y": [
          0.5331953431073327,
          0.5533944485755191,
          0.554570879992897,
          0.5601478308158441,
          0.5637215187063693,
          0.5670787876097355,
          0.5727112304806721,
          0.57563566140972,
          0.5806632409575708,
          0.5829717101539349,
          0.5888150228072317,
          0.5935041008623464,
          0.5965006714537807,
          0.6009344860881436,
          0.6043084026059066,
          0.6102848961743782,
          0.6173323862690476,
          0.6236362829206574,
          0.6292687257915941
         ]
        },
        {
         "hovertemplate": "Min Samples Split: %{x}<br>Training Accuracy: %{y:.2f}",
         "line": {
          "color": "green",
          "width": 2
         },
         "marker": {
          "color": "green",
          "size": 8,
          "symbol": "square"
         },
         "mode": "lines+markers",
         "name": "Training Accuracy (Min Samples Split)",
         "type": "scatter",
         "x": [
          2,
          3,
          4,
          5,
          6,
          7,
          8,
          9,
          10,
          11,
          12,
          13,
          14,
          15,
          16,
          17,
          18,
          19
         ],
         "y": [
          0.9979467885275422,
          0.9854180366304025,
          0.963438962739761,
          0.9475307357433597,
          0.9315184608682865,
          0.9173513017083275,
          0.9055120404205199,
          0.8939266559566716,
          0.8841267330908325,
          0.874928900616241,
          0.8664233333610795,
          0.8588805558098949,
          0.8520133958175528,
          0.8451157151141336,
          0.8390171221189142,
          0.8334679019230823,
          0.8282696699046367,
          0.8231990699506951
         ]
        },
        {
         "hovertemplate": "Min Samples Split: %{x}<br>Test Accuracy: %{y:.2f}",
         "line": {
          "color": "purple",
          "width": 2
         },
         "marker": {
          "color": "purple",
          "size": 8,
          "symbol": "square"
         },
         "mode": "lines+markers",
         "name": "Test Accuracy (Min Samples Split)",
         "type": "scatter",
         "x": [
          2,
          3,
          4,
          5,
          6,
          7,
          8,
          9,
          10,
          11,
          12,
          13,
          14,
          15,
          16,
          17,
          18,
          19
         ],
         "y": [
          0.7886363384127054,
          0.745174966427311,
          0.7204810050719732,
          0.7143935274075225,
          0.7109308236129762,
          0.7023184577650022,
          0.6960922499805778,
          0.6905596927960224,
          0.6868195287615285,
          0.682113803092017,
          0.6783514422383272,
          0.6754603065380731,
          0.6721918249114902,
          0.668956638513701,
          0.6670310644484645,
          0.6642065192057978,
          0.6618259103470473,
          0.6599003362818108
         ]
        },
        {
         "hovertemplate": "Min Samples Leaf: %{x}<br>Training Accuracy: %{y:.2f}",
         "line": {
          "color": "orange",
          "width": 2
         },
         "marker": {
          "color": "orange",
          "size": 8,
          "symbol": "diamond"
         },
         "mode": "lines+markers",
         "name": "Training Accuracy (Min Samples Leaf)",
         "type": "scatter",
         "x": [
          1,
          2,
          3,
          4,
          5,
          6,
          7,
          8,
          9,
          10,
          11,
          12,
          13,
          14,
          15,
          16,
          17,
          18,
          19
         ],
         "y": [
          0.9979467885275422,
          0.9349118090180377,
          0.8826131832824192,
          0.8489779723704326,
          0.8285263213386939,
          0.8081995277613613,
          0.7929932771197328,
          0.7793158366420558,
          0.7694326754732791,
          0.759428818765243,
          0.7511507695381107,
          0.7432028989126302,
          0.7367491558248777,
          0.7309668683808208,
          0.7257242426008085,
          0.7209241671314138,
          0.7167539281542461,
          0.7129735218958356,
          0.7090418993870886
         ]
        },
        {
         "hovertemplate": "Min Samples Leaf: %{x}<br>Test Accuracy: %{y:.2f}",
         "line": {
          "color": "brown",
          "width": 2
         },
         "marker": {
          "color": "brown",
          "size": 8,
          "symbol": "diamond"
         },
         "mode": "lines+markers",
         "name": "Test Accuracy (Min Samples Leaf)",
         "type": "scatter",
         "x": [
          1,
          2,
          3,
          4,
          5,
          6,
          7,
          8,
          9,
          10,
          11,
          12,
          13,
          14,
          15,
          16,
          17,
          18,
          19
         ],
         "y": [
          0.7886363384127054,
          0.6671808929780363,
          0.6784846231535021,
          0.6744891956982565,
          0.6619535420574232,
          0.6454058133469474,
          0.6438742328224365,
          0.6416212556740619,
          0.63765912344761,
          0.6328257660677225,
          0.6319767377334828,
          0.629512890802748,
          0.6269380597760341,
          0.625894809273831,
          0.6236251845110595,
          0.6225486387800628,
          0.6210836487131394,
          0.6196963475134013,
          0.6178651099297471
         ]
        }
       ],
       "layout": {
        "hovermode": "x unified",
        "legend": {
         "orientation": "h",
         "x": 1,
         "xanchor": "right",
         "y": 1.02,
         "yanchor": "bottom"
        },
        "template": {
         "data": {
          "bar": [
           {
            "error_x": {
             "color": "#2a3f5f"
            },
            "error_y": {
             "color": "#2a3f5f"
            },
            "marker": {
             "line": {
              "color": "#E5ECF6",
              "width": 0.5
             },
             "pattern": {
              "fillmode": "overlay",
              "size": 10,
              "solidity": 0.2
             }
            },
            "type": "bar"
           }
          ],
          "barpolar": [
           {
            "marker": {
             "line": {
              "color": "#E5ECF6",
              "width": 0.5
             },
             "pattern": {
              "fillmode": "overlay",
              "size": 10,
              "solidity": 0.2
             }
            },
            "type": "barpolar"
           }
          ],
          "carpet": [
           {
            "aaxis": {
             "endlinecolor": "#2a3f5f",
             "gridcolor": "white",
             "linecolor": "white",
             "minorgridcolor": "white",
             "startlinecolor": "#2a3f5f"
            },
            "baxis": {
             "endlinecolor": "#2a3f5f",
             "gridcolor": "white",
             "linecolor": "white",
             "minorgridcolor": "white",
             "startlinecolor": "#2a3f5f"
            },
            "type": "carpet"
           }
          ],
          "choropleth": [
           {
            "colorbar": {
             "outlinewidth": 0,
             "ticks": ""
            },
            "type": "choropleth"
           }
          ],
          "contour": [
           {
            "colorbar": {
             "outlinewidth": 0,
             "ticks": ""
            },
            "colorscale": [
             [
              0,
              "#0d0887"
             ],
             [
              0.1111111111111111,
              "#46039f"
             ],
             [
              0.2222222222222222,
              "#7201a8"
             ],
             [
              0.3333333333333333,
              "#9c179e"
             ],
             [
              0.4444444444444444,
              "#bd3786"
             ],
             [
              0.5555555555555556,
              "#d8576b"
             ],
             [
              0.6666666666666666,
              "#ed7953"
             ],
             [
              0.7777777777777778,
              "#fb9f3a"
             ],
             [
              0.8888888888888888,
              "#fdca26"
             ],
             [
              1,
              "#f0f921"
             ]
            ],
            "type": "contour"
           }
          ],
          "contourcarpet": [
           {
            "colorbar": {
             "outlinewidth": 0,
             "ticks": ""
            },
            "type": "contourcarpet"
           }
          ],
          "heatmap": [
           {
            "colorbar": {
             "outlinewidth": 0,
             "ticks": ""
            },
            "colorscale": [
             [
              0,
              "#0d0887"
             ],
             [
              0.1111111111111111,
              "#46039f"
             ],
             [
              0.2222222222222222,
              "#7201a8"
             ],
             [
              0.3333333333333333,
              "#9c179e"
             ],
             [
              0.4444444444444444,
              "#bd3786"
             ],
             [
              0.5555555555555556,
              "#d8576b"
             ],
             [
              0.6666666666666666,
              "#ed7953"
             ],
             [
              0.7777777777777778,
              "#fb9f3a"
             ],
             [
              0.8888888888888888,
              "#fdca26"
             ],
             [
              1,
              "#f0f921"
             ]
            ],
            "type": "heatmap"
           }
          ],
          "heatmapgl": [
           {
            "colorbar": {
             "outlinewidth": 0,
             "ticks": ""
            },
            "colorscale": [
             [
              0,
              "#0d0887"
             ],
             [
              0.1111111111111111,
              "#46039f"
             ],
             [
              0.2222222222222222,
              "#7201a8"
             ],
             [
              0.3333333333333333,
              "#9c179e"
             ],
             [
              0.4444444444444444,
              "#bd3786"
             ],
             [
              0.5555555555555556,
              "#d8576b"
             ],
             [
              0.6666666666666666,
              "#ed7953"
             ],
             [
              0.7777777777777778,
              "#fb9f3a"
             ],
             [
              0.8888888888888888,
              "#fdca26"
             ],
             [
              1,
              "#f0f921"
             ]
            ],
            "type": "heatmapgl"
           }
          ],
          "histogram": [
           {
            "marker": {
             "pattern": {
              "fillmode": "overlay",
              "size": 10,
              "solidity": 0.2
             }
            },
            "type": "histogram"
           }
          ],
          "histogram2d": [
           {
            "colorbar": {
             "outlinewidth": 0,
             "ticks": ""
            },
            "colorscale": [
             [
              0,
              "#0d0887"
             ],
             [
              0.1111111111111111,
              "#46039f"
             ],
             [
              0.2222222222222222,
              "#7201a8"
             ],
             [
              0.3333333333333333,
              "#9c179e"
             ],
             [
              0.4444444444444444,
              "#bd3786"
             ],
             [
              0.5555555555555556,
              "#d8576b"
             ],
             [
              0.6666666666666666,
              "#ed7953"
             ],
             [
              0.7777777777777778,
              "#fb9f3a"
             ],
             [
              0.8888888888888888,
              "#fdca26"
             ],
             [
              1,
              "#f0f921"
             ]
            ],
            "type": "histogram2d"
           }
          ],
          "histogram2dcontour": [
           {
            "colorbar": {
             "outlinewidth": 0,
             "ticks": ""
            },
            "colorscale": [
             [
              0,
              "#0d0887"
             ],
             [
              0.1111111111111111,
              "#46039f"
             ],
             [
              0.2222222222222222,
              "#7201a8"
             ],
             [
              0.3333333333333333,
              "#9c179e"
             ],
             [
              0.4444444444444444,
              "#bd3786"
             ],
             [
              0.5555555555555556,
              "#d8576b"
             ],
             [
              0.6666666666666666,
              "#ed7953"
             ],
             [
              0.7777777777777778,
              "#fb9f3a"
             ],
             [
              0.8888888888888888,
              "#fdca26"
             ],
             [
              1,
              "#f0f921"
             ]
            ],
            "type": "histogram2dcontour"
           }
          ],
          "mesh3d": [
           {
            "colorbar": {
             "outlinewidth": 0,
             "ticks": ""
            },
            "type": "mesh3d"
           }
          ],
          "parcoords": [
           {
            "line": {
             "colorbar": {
              "outlinewidth": 0,
              "ticks": ""
             }
            },
            "type": "parcoords"
           }
          ],
          "pie": [
           {
            "automargin": true,
            "type": "pie"
           }
          ],
          "scatter": [
           {
            "fillpattern": {
             "fillmode": "overlay",
             "size": 10,
             "solidity": 0.2
            },
            "type": "scatter"
           }
          ],
          "scatter3d": [
           {
            "line": {
             "colorbar": {
              "outlinewidth": 0,
              "ticks": ""
             }
            },
            "marker": {
             "colorbar": {
              "outlinewidth": 0,
              "ticks": ""
             }
            },
            "type": "scatter3d"
           }
          ],
          "scattercarpet": [
           {
            "marker": {
             "colorbar": {
              "outlinewidth": 0,
              "ticks": ""
             }
            },
            "type": "scattercarpet"
           }
          ],
          "scattergeo": [
           {
            "marker": {
             "colorbar": {
              "outlinewidth": 0,
              "ticks": ""
             }
            },
            "type": "scattergeo"
           }
          ],
          "scattergl": [
           {
            "marker": {
             "colorbar": {
              "outlinewidth": 0,
              "ticks": ""
             }
            },
            "type": "scattergl"
           }
          ],
          "scattermapbox": [
           {
            "marker": {
             "colorbar": {
              "outlinewidth": 0,
              "ticks": ""
             }
            },
            "type": "scattermapbox"
           }
          ],
          "scatterpolar": [
           {
            "marker": {
             "colorbar": {
              "outlinewidth": 0,
              "ticks": ""
             }
            },
            "type": "scatterpolar"
           }
          ],
          "scatterpolargl": [
           {
            "marker": {
             "colorbar": {
              "outlinewidth": 0,
              "ticks": ""
             }
            },
            "type": "scatterpolargl"
           }
          ],
          "scatterternary": [
           {
            "marker": {
             "colorbar": {
              "outlinewidth": 0,
              "ticks": ""
             }
            },
            "type": "scatterternary"
           }
          ],
          "surface": [
           {
            "colorbar": {
             "outlinewidth": 0,
             "ticks": ""
            },
            "colorscale": [
             [
              0,
              "#0d0887"
             ],
             [
              0.1111111111111111,
              "#46039f"
             ],
             [
              0.2222222222222222,
              "#7201a8"
             ],
             [
              0.3333333333333333,
              "#9c179e"
             ],
             [
              0.4444444444444444,
              "#bd3786"
             ],
             [
              0.5555555555555556,
              "#d8576b"
             ],
             [
              0.6666666666666666,
              "#ed7953"
             ],
             [
              0.7777777777777778,
              "#fb9f3a"
             ],
             [
              0.8888888888888888,
              "#fdca26"
             ],
             [
              1,
              "#f0f921"
             ]
            ],
            "type": "surface"
           }
          ],
          "table": [
           {
            "cells": {
             "fill": {
              "color": "#EBF0F8"
             },
             "line": {
              "color": "white"
             }
            },
            "header": {
             "fill": {
              "color": "#C8D4E3"
             },
             "line": {
              "color": "white"
             }
            },
            "type": "table"
           }
          ]
         },
         "layout": {
          "annotationdefaults": {
           "arrowcolor": "#2a3f5f",
           "arrowhead": 0,
           "arrowwidth": 1
          },
          "autotypenumbers": "strict",
          "coloraxis": {
           "colorbar": {
            "outlinewidth": 0,
            "ticks": ""
           }
          },
          "colorscale": {
           "diverging": [
            [
             0,
             "#8e0152"
            ],
            [
             0.1,
             "#c51b7d"
            ],
            [
             0.2,
             "#de77ae"
            ],
            [
             0.3,
             "#f1b6da"
            ],
            [
             0.4,
             "#fde0ef"
            ],
            [
             0.5,
             "#f7f7f7"
            ],
            [
             0.6,
             "#e6f5d0"
            ],
            [
             0.7,
             "#b8e186"
            ],
            [
             0.8,
             "#7fbc41"
            ],
            [
             0.9,
             "#4d9221"
            ],
            [
             1,
             "#276419"
            ]
           ],
           "sequential": [
            [
             0,
             "#0d0887"
            ],
            [
             0.1111111111111111,
             "#46039f"
            ],
            [
             0.2222222222222222,
             "#7201a8"
            ],
            [
             0.3333333333333333,
             "#9c179e"
            ],
            [
             0.4444444444444444,
             "#bd3786"
            ],
            [
             0.5555555555555556,
             "#d8576b"
            ],
            [
             0.6666666666666666,
             "#ed7953"
            ],
            [
             0.7777777777777778,
             "#fb9f3a"
            ],
            [
             0.8888888888888888,
             "#fdca26"
            ],
            [
             1,
             "#f0f921"
            ]
           ],
           "sequentialminus": [
            [
             0,
             "#0d0887"
            ],
            [
             0.1111111111111111,
             "#46039f"
            ],
            [
             0.2222222222222222,
             "#7201a8"
            ],
            [
             0.3333333333333333,
             "#9c179e"
            ],
            [
             0.4444444444444444,
             "#bd3786"
            ],
            [
             0.5555555555555556,
             "#d8576b"
            ],
            [
             0.6666666666666666,
             "#ed7953"
            ],
            [
             0.7777777777777778,
             "#fb9f3a"
            ],
            [
             0.8888888888888888,
             "#fdca26"
            ],
            [
             1,
             "#f0f921"
            ]
           ]
          },
          "colorway": [
           "#636efa",
           "#EF553B",
           "#00cc96",
           "#ab63fa",
           "#FFA15A",
           "#19d3f3",
           "#FF6692",
           "#B6E880",
           "#FF97FF",
           "#FECB52"
          ],
          "font": {
           "color": "#2a3f5f"
          },
          "geo": {
           "bgcolor": "white",
           "lakecolor": "white",
           "landcolor": "#E5ECF6",
           "showlakes": true,
           "showland": true,
           "subunitcolor": "white"
          },
          "hoverlabel": {
           "align": "left"
          },
          "hovermode": "closest",
          "mapbox": {
           "style": "light"
          },
          "paper_bgcolor": "white",
          "plot_bgcolor": "#E5ECF6",
          "polar": {
           "angularaxis": {
            "gridcolor": "white",
            "linecolor": "white",
            "ticks": ""
           },
           "bgcolor": "#E5ECF6",
           "radialaxis": {
            "gridcolor": "white",
            "linecolor": "white",
            "ticks": ""
           }
          },
          "scene": {
           "xaxis": {
            "backgroundcolor": "#E5ECF6",
            "gridcolor": "white",
            "gridwidth": 2,
            "linecolor": "white",
            "showbackground": true,
            "ticks": "",
            "zerolinecolor": "white"
           },
           "yaxis": {
            "backgroundcolor": "#E5ECF6",
            "gridcolor": "white",
            "gridwidth": 2,
            "linecolor": "white",
            "showbackground": true,
            "ticks": "",
            "zerolinecolor": "white"
           },
           "zaxis": {
            "backgroundcolor": "#E5ECF6",
            "gridcolor": "white",
            "gridwidth": 2,
            "linecolor": "white",
            "showbackground": true,
            "ticks": "",
            "zerolinecolor": "white"
           }
          },
          "shapedefaults": {
           "line": {
            "color": "#2a3f5f"
           }
          },
          "ternary": {
           "aaxis": {
            "gridcolor": "white",
            "linecolor": "white",
            "ticks": ""
           },
           "baxis": {
            "gridcolor": "white",
            "linecolor": "white",
            "ticks": ""
           },
           "bgcolor": "#E5ECF6",
           "caxis": {
            "gridcolor": "white",
            "linecolor": "white",
            "ticks": ""
           }
          },
          "title": {
           "x": 0.05
          },
          "xaxis": {
           "automargin": true,
           "gridcolor": "white",
           "linecolor": "white",
           "ticks": "",
           "title": {
            "standoff": 15
           },
           "zerolinecolor": "white",
           "zerolinewidth": 2
          },
          "yaxis": {
           "automargin": true,
           "gridcolor": "white",
           "linecolor": "white",
           "ticks": "",
           "title": {
            "standoff": 15
           },
           "zerolinecolor": "white",
           "zerolinewidth": 2
          }
         }
        },
        "title": {
         "text": "Combined Accuracy Plots"
        },
        "xaxis": {
         "title": {
          "text": "Parameter Values"
         }
        },
        "yaxis": {
         "title": {
          "text": "Accuracy"
         }
        }
       }
      }
     },
     "metadata": {},
     "output_type": "display_data"
    }
   ],
   "source": [
    "import plotly.graph_objects as go\n",
    "\n",
    "# Create a new figure\n",
    "fig = go.Figure()\n",
    "\n",
    "# Add the first two traces (Max Depth)\n",
    "fig.add_trace(go.Scatter(\n",
    "    x=list(max_depth),\n",
    "    y=training_accuracy_dt,\n",
    "    mode='lines+markers',\n",
    "    name='Training Accuracy (Max Depth)',\n",
    "    line=dict(color='blue', width=2),\n",
    "    marker=dict(size=8, symbol='circle', color='blue'),\n",
    "    hovertemplate='Max Depth: %{x}<br>Training Accuracy: %{y:.2f}'\n",
    "))\n",
    "\n",
    "fig.add_trace(go.Scatter(\n",
    "    x=list(max_depth),\n",
    "    y=test_accuracy_dt,\n",
    "    mode='lines+markers',\n",
    "    name='Test Accuracy (Max Depth)',\n",
    "    line=dict(color='red', width=2),\n",
    "    marker=dict(size=8, symbol='circle', color='red'),\n",
    "    hovertemplate='Max Depth: %{x}<br>Test Accuracy: %{y:.2f}'\n",
    "))\n",
    "\n",
    "# Add the other two traces (Min Samples Split)\n",
    "fig.add_trace(go.Scatter(\n",
    "    x=list(min_samples),\n",
    "    y=training_accuracy_samples,\n",
    "    mode='lines+markers',\n",
    "    name='Training Accuracy (Min Samples Split)',\n",
    "    line=dict(color='green', width=2),\n",
    "    marker=dict(size=8, symbol='square', color='green'),\n",
    "    hovertemplate='Min Samples Split: %{x}<br>Training Accuracy: %{y:.2f}'\n",
    "))\n",
    "\n",
    "fig.add_trace(go.Scatter(\n",
    "    x=list(min_samples),\n",
    "    y=test_accuracy_samples,\n",
    "    mode='lines+markers',\n",
    "    name='Test Accuracy (Min Samples Split)',\n",
    "    line=dict(color='purple', width=2),\n",
    "    marker=dict(size=8, symbol='square', color='purple'),\n",
    "    hovertemplate='Min Samples Split: %{x}<br>Test Accuracy: %{y:.2f}'\n",
    "))\n",
    "\n",
    "# Add the last two traces (Min Samples Leaf)\n",
    "fig.add_trace(go.Scatter(\n",
    "    x=list(min_sample_leaf),\n",
    "    y=training_accuracy_leaf,\n",
    "    mode='lines+markers',\n",
    "    name='Training Accuracy (Min Samples Leaf)',\n",
    "    line=dict(color='orange', width=2),\n",
    "    marker=dict(size=8, symbol='diamond', color='orange'),\n",
    "    hovertemplate='Min Samples Leaf: %{x}<br>Training Accuracy: %{y:.2f}'\n",
    "))\n",
    "\n",
    "fig.add_trace(go.Scatter(\n",
    "    x=list(min_sample_leaf),\n",
    "    y=test_accuracy_leaf,\n",
    "    mode='lines+markers',\n",
    "    name='Test Accuracy (Min Samples Leaf)',\n",
    "    line=dict(color='brown', width=2),\n",
    "    marker=dict(size=8, symbol='diamond', color='brown'),\n",
    "    hovertemplate='Min Samples Leaf: %{x}<br>Test Accuracy: %{y:.2f}'\n",
    "))\n",
    "\n",
    "# Update the layout\n",
    "fig.update_layout(\n",
    "    title='Combined Accuracy Plots',\n",
    "    xaxis_title='Parameter Values',\n",
    "    yaxis_title='Accuracy',\n",
    "    legend=dict(\n",
    "        orientation='h',\n",
    "        yanchor='bottom',\n",
    "        y=1.02,\n",
    "        xanchor='right',\n",
    "        x=1\n",
    "    ),\n",
    "    hovermode='x unified'\n",
    ")\n",
    "\n",
    "# Show the figure\n",
    "fig.show()\n"
   ]
  },
  {
   "cell_type": "code",
   "execution_count": 87,
   "metadata": {},
   "outputs": [
    {
     "name": "stdout",
     "output_type": "stream",
     "text": [
      "Tuning Linear SVC Model!\n",
      "Fitting 5 folds for each of 9 candidates, totalling 45 fits\n"
     ]
    },
    {
     "name": "stderr",
     "output_type": "stream",
     "text": [
      "/opt/homebrew/lib/python3.10/site-packages/sklearn/model_selection/_search.py:306: UserWarning:\n",
      "\n",
      "The total space of parameters 9 is smaller than n_iter=10. Running 9 iterations. For exhaustive searches, use GridSearchCV.\n",
      "\n",
      "/opt/homebrew/lib/python3.10/site-packages/sklearn/svm/_base.py:1225: ConvergenceWarning:\n",
      "\n",
      "Liblinear failed to converge, increase the number of iterations.\n",
      "\n"
     ]
    },
    {
     "name": "stdout",
     "output_type": "stream",
     "text": [
      "[CV 1/5] END ....................C=0.1, tol=0.1;, score=0.493 total time= 4.9min\n"
     ]
    },
    {
     "name": "stderr",
     "output_type": "stream",
     "text": [
      "/opt/homebrew/lib/python3.10/site-packages/sklearn/svm/_base.py:1225: ConvergenceWarning:\n",
      "\n",
      "Liblinear failed to converge, increase the number of iterations.\n",
      "\n"
     ]
    },
    {
     "name": "stdout",
     "output_type": "stream",
     "text": [
      "[CV 2/5] END ....................C=0.1, tol=0.1;, score=0.498 total time=44.5min\n"
     ]
    },
    {
     "name": "stderr",
     "output_type": "stream",
     "text": [
      "/opt/homebrew/lib/python3.10/site-packages/sklearn/svm/_base.py:1225: ConvergenceWarning:\n",
      "\n",
      "Liblinear failed to converge, increase the number of iterations.\n",
      "\n"
     ]
    },
    {
     "name": "stdout",
     "output_type": "stream",
     "text": [
      "[CV 3/5] END ...................C=0.1, tol=0.1;, score=0.496 total time=162.5min\n"
     ]
    },
    {
     "name": "stderr",
     "output_type": "stream",
     "text": [
      "/opt/homebrew/lib/python3.10/site-packages/sklearn/svm/_base.py:1225: ConvergenceWarning:\n",
      "\n",
      "Liblinear failed to converge, increase the number of iterations.\n",
      "\n"
     ]
    },
    {
     "name": "stdout",
     "output_type": "stream",
     "text": [
      "[CV 4/5] END ....................C=0.1, tol=0.1;, score=0.519 total time= 4.9min\n"
     ]
    },
    {
     "name": "stderr",
     "output_type": "stream",
     "text": [
      "/opt/homebrew/lib/python3.10/site-packages/sklearn/svm/_base.py:1225: ConvergenceWarning:\n",
      "\n",
      "Liblinear failed to converge, increase the number of iterations.\n",
      "\n"
     ]
    },
    {
     "name": "stdout",
     "output_type": "stream",
     "text": [
      "[CV 5/5] END ....................C=0.1, tol=0.1;, score=0.499 total time= 4.8min\n"
     ]
    },
    {
     "name": "stderr",
     "output_type": "stream",
     "text": [
      "/opt/homebrew/lib/python3.10/site-packages/sklearn/svm/_base.py:1225: ConvergenceWarning:\n",
      "\n",
      "Liblinear failed to converge, increase the number of iterations.\n",
      "\n"
     ]
    },
    {
     "name": "stdout",
     "output_type": "stream",
     "text": [
      "[CV 1/5] END ...................C=0.1, tol=0.01;, score=0.494 total time= 5.0min\n"
     ]
    },
    {
     "name": "stderr",
     "output_type": "stream",
     "text": [
      "/opt/homebrew/lib/python3.10/site-packages/sklearn/svm/_base.py:1225: ConvergenceWarning:\n",
      "\n",
      "Liblinear failed to converge, increase the number of iterations.\n",
      "\n"
     ]
    },
    {
     "name": "stdout",
     "output_type": "stream",
     "text": [
      "[CV 2/5] END ...................C=0.1, tol=0.01;, score=0.497 total time= 5.1min\n"
     ]
    },
    {
     "name": "stderr",
     "output_type": "stream",
     "text": [
      "/opt/homebrew/lib/python3.10/site-packages/sklearn/svm/_base.py:1225: ConvergenceWarning:\n",
      "\n",
      "Liblinear failed to converge, increase the number of iterations.\n",
      "\n"
     ]
    },
    {
     "name": "stdout",
     "output_type": "stream",
     "text": [
      "[CV 3/5] END ...................C=0.1, tol=0.01;, score=0.507 total time= 5.3min\n"
     ]
    },
    {
     "name": "stderr",
     "output_type": "stream",
     "text": [
      "/opt/homebrew/lib/python3.10/site-packages/sklearn/svm/_base.py:1225: ConvergenceWarning:\n",
      "\n",
      "Liblinear failed to converge, increase the number of iterations.\n",
      "\n"
     ]
    },
    {
     "name": "stdout",
     "output_type": "stream",
     "text": [
      "[CV 4/5] END ...................C=0.1, tol=0.01;, score=0.490 total time= 5.2min\n"
     ]
    },
    {
     "name": "stderr",
     "output_type": "stream",
     "text": [
      "/opt/homebrew/lib/python3.10/site-packages/sklearn/svm/_base.py:1225: ConvergenceWarning:\n",
      "\n",
      "Liblinear failed to converge, increase the number of iterations.\n",
      "\n"
     ]
    },
    {
     "name": "stdout",
     "output_type": "stream",
     "text": [
      "[CV 5/5] END ...................C=0.1, tol=0.01;, score=0.494 total time= 4.9min\n"
     ]
    },
    {
     "name": "stderr",
     "output_type": "stream",
     "text": [
      "/opt/homebrew/lib/python3.10/site-packages/sklearn/svm/_base.py:1225: ConvergenceWarning:\n",
      "\n",
      "Liblinear failed to converge, increase the number of iterations.\n",
      "\n"
     ]
    },
    {
     "name": "stdout",
     "output_type": "stream",
     "text": [
      "[CV 1/5] END ..................C=0.1, tol=0.001;, score=0.496 total time= 4.9min\n"
     ]
    },
    {
     "name": "stderr",
     "output_type": "stream",
     "text": [
      "/opt/homebrew/lib/python3.10/site-packages/sklearn/svm/_base.py:1225: ConvergenceWarning:\n",
      "\n",
      "Liblinear failed to converge, increase the number of iterations.\n",
      "\n"
     ]
    },
    {
     "name": "stdout",
     "output_type": "stream",
     "text": [
      "[CV 2/5] END ..................C=0.1, tol=0.001;, score=0.502 total time= 4.9min\n"
     ]
    },
    {
     "name": "stderr",
     "output_type": "stream",
     "text": [
      "/opt/homebrew/lib/python3.10/site-packages/sklearn/svm/_base.py:1225: ConvergenceWarning:\n",
      "\n",
      "Liblinear failed to converge, increase the number of iterations.\n",
      "\n"
     ]
    },
    {
     "name": "stdout",
     "output_type": "stream",
     "text": [
      "[CV 3/5] END ..................C=0.1, tol=0.001;, score=0.499 total time= 4.9min\n"
     ]
    },
    {
     "name": "stderr",
     "output_type": "stream",
     "text": [
      "/opt/homebrew/lib/python3.10/site-packages/sklearn/svm/_base.py:1225: ConvergenceWarning:\n",
      "\n",
      "Liblinear failed to converge, increase the number of iterations.\n",
      "\n"
     ]
    },
    {
     "name": "stdout",
     "output_type": "stream",
     "text": [
      "[CV 4/5] END ..................C=0.1, tol=0.001;, score=0.498 total time= 4.8min\n"
     ]
    },
    {
     "name": "stderr",
     "output_type": "stream",
     "text": [
      "/opt/homebrew/lib/python3.10/site-packages/sklearn/svm/_base.py:1225: ConvergenceWarning:\n",
      "\n",
      "Liblinear failed to converge, increase the number of iterations.\n",
      "\n"
     ]
    },
    {
     "name": "stdout",
     "output_type": "stream",
     "text": [
      "[CV 5/5] END ..................C=0.1, tol=0.001;, score=0.496 total time= 4.9min\n"
     ]
    },
    {
     "name": "stderr",
     "output_type": "stream",
     "text": [
      "/opt/homebrew/lib/python3.10/site-packages/sklearn/svm/_base.py:1225: ConvergenceWarning:\n",
      "\n",
      "Liblinear failed to converge, increase the number of iterations.\n",
      "\n"
     ]
    },
    {
     "name": "stdout",
     "output_type": "stream",
     "text": [
      "[CV 1/5] END ...................C=0.01, tol=0.1;, score=0.499 total time= 4.9min\n"
     ]
    },
    {
     "name": "stderr",
     "output_type": "stream",
     "text": [
      "/opt/homebrew/lib/python3.10/site-packages/sklearn/svm/_base.py:1225: ConvergenceWarning:\n",
      "\n",
      "Liblinear failed to converge, increase the number of iterations.\n",
      "\n"
     ]
    },
    {
     "name": "stdout",
     "output_type": "stream",
     "text": [
      "[CV 2/5] END ...................C=0.01, tol=0.1;, score=0.500 total time= 4.8min\n"
     ]
    },
    {
     "name": "stderr",
     "output_type": "stream",
     "text": [
      "/opt/homebrew/lib/python3.10/site-packages/sklearn/svm/_base.py:1225: ConvergenceWarning:\n",
      "\n",
      "Liblinear failed to converge, increase the number of iterations.\n",
      "\n"
     ]
    },
    {
     "name": "stdout",
     "output_type": "stream",
     "text": [
      "[CV 3/5] END ...................C=0.01, tol=0.1;, score=0.501 total time= 4.9min\n"
     ]
    },
    {
     "name": "stderr",
     "output_type": "stream",
     "text": [
      "/opt/homebrew/lib/python3.10/site-packages/sklearn/svm/_base.py:1225: ConvergenceWarning:\n",
      "\n",
      "Liblinear failed to converge, increase the number of iterations.\n",
      "\n"
     ]
    },
    {
     "name": "stdout",
     "output_type": "stream",
     "text": [
      "[CV 4/5] END ...................C=0.01, tol=0.1;, score=0.500 total time= 4.9min\n"
     ]
    },
    {
     "name": "stderr",
     "output_type": "stream",
     "text": [
      "/opt/homebrew/lib/python3.10/site-packages/sklearn/svm/_base.py:1225: ConvergenceWarning:\n",
      "\n",
      "Liblinear failed to converge, increase the number of iterations.\n",
      "\n"
     ]
    },
    {
     "name": "stdout",
     "output_type": "stream",
     "text": [
      "[CV 5/5] END ...................C=0.01, tol=0.1;, score=0.500 total time= 4.9min\n"
     ]
    },
    {
     "name": "stderr",
     "output_type": "stream",
     "text": [
      "/opt/homebrew/lib/python3.10/site-packages/sklearn/svm/_base.py:1225: ConvergenceWarning:\n",
      "\n",
      "Liblinear failed to converge, increase the number of iterations.\n",
      "\n"
     ]
    },
    {
     "name": "stdout",
     "output_type": "stream",
     "text": [
      "[CV 1/5] END ..................C=0.01, tol=0.01;, score=0.499 total time= 4.9min\n"
     ]
    },
    {
     "name": "stderr",
     "output_type": "stream",
     "text": [
      "/opt/homebrew/lib/python3.10/site-packages/sklearn/svm/_base.py:1225: ConvergenceWarning:\n",
      "\n",
      "Liblinear failed to converge, increase the number of iterations.\n",
      "\n"
     ]
    },
    {
     "name": "stdout",
     "output_type": "stream",
     "text": [
      "[CV 2/5] END ..................C=0.01, tol=0.01;, score=0.500 total time= 4.8min\n"
     ]
    },
    {
     "name": "stderr",
     "output_type": "stream",
     "text": [
      "/opt/homebrew/lib/python3.10/site-packages/sklearn/svm/_base.py:1225: ConvergenceWarning:\n",
      "\n",
      "Liblinear failed to converge, increase the number of iterations.\n",
      "\n"
     ]
    },
    {
     "name": "stdout",
     "output_type": "stream",
     "text": [
      "[CV 3/5] END ..................C=0.01, tol=0.01;, score=0.500 total time= 4.9min\n"
     ]
    },
    {
     "name": "stderr",
     "output_type": "stream",
     "text": [
      "/opt/homebrew/lib/python3.10/site-packages/sklearn/svm/_base.py:1225: ConvergenceWarning:\n",
      "\n",
      "Liblinear failed to converge, increase the number of iterations.\n",
      "\n"
     ]
    },
    {
     "name": "stdout",
     "output_type": "stream",
     "text": [
      "[CV 4/5] END ..................C=0.01, tol=0.01;, score=0.500 total time= 4.8min\n"
     ]
    },
    {
     "name": "stderr",
     "output_type": "stream",
     "text": [
      "/opt/homebrew/lib/python3.10/site-packages/sklearn/svm/_base.py:1225: ConvergenceWarning:\n",
      "\n",
      "Liblinear failed to converge, increase the number of iterations.\n",
      "\n"
     ]
    },
    {
     "name": "stdout",
     "output_type": "stream",
     "text": [
      "[CV 5/5] END ..................C=0.01, tol=0.01;, score=0.500 total time= 4.8min\n"
     ]
    },
    {
     "name": "stderr",
     "output_type": "stream",
     "text": [
      "/opt/homebrew/lib/python3.10/site-packages/sklearn/svm/_base.py:1225: ConvergenceWarning:\n",
      "\n",
      "Liblinear failed to converge, increase the number of iterations.\n",
      "\n"
     ]
    },
    {
     "name": "stdout",
     "output_type": "stream",
     "text": [
      "[CV 1/5] END .................C=0.01, tol=0.001;, score=0.500 total time= 5.1min\n"
     ]
    },
    {
     "name": "stderr",
     "output_type": "stream",
     "text": [
      "/opt/homebrew/lib/python3.10/site-packages/sklearn/svm/_base.py:1225: ConvergenceWarning:\n",
      "\n",
      "Liblinear failed to converge, increase the number of iterations.\n",
      "\n"
     ]
    },
    {
     "name": "stdout",
     "output_type": "stream",
     "text": [
      "[CV 2/5] END .................C=0.01, tol=0.001;, score=0.500 total time= 4.9min\n"
     ]
    },
    {
     "name": "stderr",
     "output_type": "stream",
     "text": [
      "/opt/homebrew/lib/python3.10/site-packages/sklearn/svm/_base.py:1225: ConvergenceWarning:\n",
      "\n",
      "Liblinear failed to converge, increase the number of iterations.\n",
      "\n"
     ]
    },
    {
     "name": "stdout",
     "output_type": "stream",
     "text": [
      "[CV 3/5] END .................C=0.01, tol=0.001;, score=0.500 total time= 5.0min\n"
     ]
    },
    {
     "name": "stderr",
     "output_type": "stream",
     "text": [
      "/opt/homebrew/lib/python3.10/site-packages/sklearn/svm/_base.py:1225: ConvergenceWarning:\n",
      "\n",
      "Liblinear failed to converge, increase the number of iterations.\n",
      "\n"
     ]
    },
    {
     "name": "stdout",
     "output_type": "stream",
     "text": [
      "[CV 4/5] END .................C=0.01, tol=0.001;, score=0.500 total time= 5.0min\n"
     ]
    },
    {
     "name": "stderr",
     "output_type": "stream",
     "text": [
      "/opt/homebrew/lib/python3.10/site-packages/sklearn/svm/_base.py:1225: ConvergenceWarning:\n",
      "\n",
      "Liblinear failed to converge, increase the number of iterations.\n",
      "\n"
     ]
    },
    {
     "name": "stdout",
     "output_type": "stream",
     "text": [
      "[CV 5/5] END .................C=0.01, tol=0.001;, score=0.500 total time= 4.9min\n"
     ]
    },
    {
     "name": "stderr",
     "output_type": "stream",
     "text": [
      "/opt/homebrew/lib/python3.10/site-packages/sklearn/svm/_base.py:1225: ConvergenceWarning:\n",
      "\n",
      "Liblinear failed to converge, increase the number of iterations.\n",
      "\n"
     ]
    },
    {
     "name": "stdout",
     "output_type": "stream",
     "text": [
      "[CV 1/5] END ..................C=0.001, tol=0.1;, score=0.501 total time= 4.9min\n"
     ]
    },
    {
     "name": "stderr",
     "output_type": "stream",
     "text": [
      "/opt/homebrew/lib/python3.10/site-packages/sklearn/svm/_base.py:1225: ConvergenceWarning:\n",
      "\n",
      "Liblinear failed to converge, increase the number of iterations.\n",
      "\n"
     ]
    },
    {
     "name": "stdout",
     "output_type": "stream",
     "text": [
      "[CV 2/5] END ..................C=0.001, tol=0.1;, score=0.501 total time= 4.9min\n"
     ]
    },
    {
     "name": "stderr",
     "output_type": "stream",
     "text": [
      "/opt/homebrew/lib/python3.10/site-packages/sklearn/svm/_base.py:1225: ConvergenceWarning:\n",
      "\n",
      "Liblinear failed to converge, increase the number of iterations.\n",
      "\n"
     ]
    },
    {
     "name": "stdout",
     "output_type": "stream",
     "text": [
      "[CV 3/5] END ..................C=0.001, tol=0.1;, score=0.501 total time= 4.9min\n",
      "[CV 4/5] END ..................C=0.001, tol=0.1;, score=0.501 total time= 4.7min\n"
     ]
    },
    {
     "name": "stderr",
     "output_type": "stream",
     "text": [
      "/opt/homebrew/lib/python3.10/site-packages/sklearn/svm/_base.py:1225: ConvergenceWarning:\n",
      "\n",
      "Liblinear failed to converge, increase the number of iterations.\n",
      "\n"
     ]
    },
    {
     "name": "stdout",
     "output_type": "stream",
     "text": [
      "[CV 5/5] END ..................C=0.001, tol=0.1;, score=0.501 total time= 4.9min\n"
     ]
    },
    {
     "name": "stderr",
     "output_type": "stream",
     "text": [
      "/opt/homebrew/lib/python3.10/site-packages/sklearn/svm/_base.py:1225: ConvergenceWarning:\n",
      "\n",
      "Liblinear failed to converge, increase the number of iterations.\n",
      "\n"
     ]
    },
    {
     "name": "stdout",
     "output_type": "stream",
     "text": [
      "[CV 1/5] END .................C=0.001, tol=0.01;, score=0.501 total time= 5.0min\n"
     ]
    },
    {
     "name": "stderr",
     "output_type": "stream",
     "text": [
      "/opt/homebrew/lib/python3.10/site-packages/sklearn/svm/_base.py:1225: ConvergenceWarning:\n",
      "\n",
      "Liblinear failed to converge, increase the number of iterations.\n",
      "\n"
     ]
    },
    {
     "name": "stdout",
     "output_type": "stream",
     "text": [
      "[CV 2/5] END .................C=0.001, tol=0.01;, score=0.501 total time= 5.8min\n"
     ]
    },
    {
     "name": "stderr",
     "output_type": "stream",
     "text": [
      "/opt/homebrew/lib/python3.10/site-packages/sklearn/svm/_base.py:1225: ConvergenceWarning:\n",
      "\n",
      "Liblinear failed to converge, increase the number of iterations.\n",
      "\n"
     ]
    },
    {
     "name": "stdout",
     "output_type": "stream",
     "text": [
      "[CV 3/5] END .................C=0.001, tol=0.01;, score=0.501 total time= 4.8min\n"
     ]
    },
    {
     "name": "stderr",
     "output_type": "stream",
     "text": [
      "/opt/homebrew/lib/python3.10/site-packages/sklearn/svm/_base.py:1225: ConvergenceWarning:\n",
      "\n",
      "Liblinear failed to converge, increase the number of iterations.\n",
      "\n"
     ]
    },
    {
     "name": "stdout",
     "output_type": "stream",
     "text": [
      "[CV 4/5] END .................C=0.001, tol=0.01;, score=0.501 total time= 4.8min\n"
     ]
    },
    {
     "name": "stderr",
     "output_type": "stream",
     "text": [
      "/opt/homebrew/lib/python3.10/site-packages/sklearn/svm/_base.py:1225: ConvergenceWarning:\n",
      "\n",
      "Liblinear failed to converge, increase the number of iterations.\n",
      "\n"
     ]
    },
    {
     "name": "stdout",
     "output_type": "stream",
     "text": [
      "[CV 5/5] END .................C=0.001, tol=0.01;, score=0.501 total time= 4.9min\n"
     ]
    },
    {
     "name": "stderr",
     "output_type": "stream",
     "text": [
      "/opt/homebrew/lib/python3.10/site-packages/sklearn/svm/_base.py:1225: ConvergenceWarning:\n",
      "\n",
      "Liblinear failed to converge, increase the number of iterations.\n",
      "\n"
     ]
    },
    {
     "name": "stdout",
     "output_type": "stream",
     "text": [
      "[CV 1/5] END ................C=0.001, tol=0.001;, score=0.501 total time= 4.9min\n"
     ]
    },
    {
     "name": "stderr",
     "output_type": "stream",
     "text": [
      "/opt/homebrew/lib/python3.10/site-packages/sklearn/svm/_base.py:1225: ConvergenceWarning:\n",
      "\n",
      "Liblinear failed to converge, increase the number of iterations.\n",
      "\n"
     ]
    },
    {
     "name": "stdout",
     "output_type": "stream",
     "text": [
      "[CV 2/5] END ................C=0.001, tol=0.001;, score=0.501 total time= 4.8min\n"
     ]
    },
    {
     "name": "stderr",
     "output_type": "stream",
     "text": [
      "/opt/homebrew/lib/python3.10/site-packages/sklearn/svm/_base.py:1225: ConvergenceWarning:\n",
      "\n",
      "Liblinear failed to converge, increase the number of iterations.\n",
      "\n"
     ]
    },
    {
     "name": "stdout",
     "output_type": "stream",
     "text": [
      "[CV 3/5] END ................C=0.001, tol=0.001;, score=0.501 total time= 4.9min\n"
     ]
    },
    {
     "name": "stderr",
     "output_type": "stream",
     "text": [
      "/opt/homebrew/lib/python3.10/site-packages/sklearn/svm/_base.py:1225: ConvergenceWarning:\n",
      "\n",
      "Liblinear failed to converge, increase the number of iterations.\n",
      "\n"
     ]
    },
    {
     "name": "stdout",
     "output_type": "stream",
     "text": [
      "[CV 4/5] END ................C=0.001, tol=0.001;, score=0.501 total time= 4.9min\n"
     ]
    },
    {
     "name": "stderr",
     "output_type": "stream",
     "text": [
      "/opt/homebrew/lib/python3.10/site-packages/sklearn/svm/_base.py:1225: ConvergenceWarning:\n",
      "\n",
      "Liblinear failed to converge, increase the number of iterations.\n",
      "\n"
     ]
    },
    {
     "name": "stdout",
     "output_type": "stream",
     "text": [
      "[CV 5/5] END ................C=0.001, tol=0.001;, score=0.501 total time= 4.9min\n",
      "Best Hyperparameters for linear SVC\n",
      "{'tol': 0.1, 'C': 0.1}\n"
     ]
    },
    {
     "name": "stderr",
     "output_type": "stream",
     "text": [
      "/opt/homebrew/lib/python3.10/site-packages/sklearn/svm/_base.py:1225: ConvergenceWarning:\n",
      "\n",
      "Liblinear failed to converge, increase the number of iterations.\n",
      "\n"
     ]
    }
   ],
   "source": [
    "# Tuning linearSVC\n",
    "from sklearn.model_selection import RandomizedSearchCV\n",
    "print(\"Tuning Linear SVC Model!\")\n",
    "\n",
    "# Scale the input features using MinMaxScaler\n",
    "scaler = MinMaxScaler()\n",
    "X_train_scaled = scaler.fit_transform(X_train)\n",
    "X_test_scaled = scaler.transform(X_test)\n",
    "\n",
    "hyperparameters_lSVC = {'C': [0.1, 0.01, 0.001],\n",
    "                        'tol': [0.1, 0.01, 0.001]}\n",
    "clf = RandomizedSearchCV(LinearSVC(max_iter=5000),\n",
    "                   hyperparameters_lSVC, cv=5, scoring=scoring, verbose=3)\n",
    "clf.fit(X_train, y_train)\n",
    "print(\"Best Hyperparameters for linear SVC\")\n",
    "print(clf.best_params_)\n",
    "tuned_model_RF = clf.best_estimator_\n"
   ]
  },
  {
   "cell_type": "code",
   "execution_count": 88,
   "metadata": {},
   "outputs": [
    {
     "name": "stderr",
     "output_type": "stream",
     "text": [
      "  0%|          | 0/100 [00:00<?, ?it/s]/opt/homebrew/lib/python3.10/site-packages/sklearn/svm/_base.py:1225: ConvergenceWarning:\n",
      "\n",
      "Liblinear failed to converge, increase the number of iterations.\n",
      "\n",
      "  1%|          | 1/100 [01:16<2:06:58, 76.95s/it]/opt/homebrew/lib/python3.10/site-packages/sklearn/svm/_base.py:1225: ConvergenceWarning:\n",
      "\n",
      "Liblinear failed to converge, increase the number of iterations.\n",
      "\n",
      "  2%|▏         | 2/100 [02:34<2:06:05, 77.20s/it]/opt/homebrew/lib/python3.10/site-packages/sklearn/svm/_base.py:1225: ConvergenceWarning:\n",
      "\n",
      "Liblinear failed to converge, increase the number of iterations.\n",
      "\n",
      "  3%|▎         | 3/100 [05:08<2:46:24, 102.94s/it]\n"
     ]
    },
    {
     "ename": "KeyboardInterrupt",
     "evalue": "",
     "output_type": "error",
     "traceback": [
      "\u001b[0;31m---------------------------------------------------------------------------\u001b[0m",
      "\u001b[0;31mKeyboardInterrupt\u001b[0m                         Traceback (most recent call last)",
      "\u001b[1;32m/Users/aayushgupta/Library/Mobile Documents/com~apple~CloudDocs/Program testing and analysis/PAT-Clone-Detection_old/Project.ipynb Cell 32\u001b[0m in \u001b[0;36m8\n\u001b[1;32m      <a href='vscode-notebook-cell:/Users/aayushgupta/Library/Mobile%20Documents/com~apple~CloudDocs/Program%20testing%20and%20analysis/PAT-Clone-Detection_old/Project.ipynb#X60sZmlsZQ%3D%3D?line=5'>6</a>\u001b[0m \u001b[39mfor\u001b[39;00m ls \u001b[39min\u001b[39;00m tqdm(C):\n\u001b[1;32m      <a href='vscode-notebook-cell:/Users/aayushgupta/Library/Mobile%20Documents/com~apple~CloudDocs/Program%20testing%20and%20analysis/PAT-Clone-Detection_old/Project.ipynb#X60sZmlsZQ%3D%3D?line=6'>7</a>\u001b[0m     tree_lsvc \u001b[39m=\u001b[39m LinearSVC(C\u001b[39m=\u001b[39mls)\n\u001b[0;32m----> <a href='vscode-notebook-cell:/Users/aayushgupta/Library/Mobile%20Documents/com~apple~CloudDocs/Program%20testing%20and%20analysis/PAT-Clone-Detection_old/Project.ipynb#X60sZmlsZQ%3D%3D?line=7'>8</a>\u001b[0m     tree_lsvc\u001b[39m.\u001b[39;49mfit(X_train, y_train)\n\u001b[1;32m      <a href='vscode-notebook-cell:/Users/aayushgupta/Library/Mobile%20Documents/com~apple~CloudDocs/Program%20testing%20and%20analysis/PAT-Clone-Detection_old/Project.ipynb#X60sZmlsZQ%3D%3D?line=8'>9</a>\u001b[0m     training_accuracy_lsvc\u001b[39m.\u001b[39mappend(tree_lsvc\u001b[39m.\u001b[39mscore(X_train, y_train))\n\u001b[1;32m     <a href='vscode-notebook-cell:/Users/aayushgupta/Library/Mobile%20Documents/com~apple~CloudDocs/Program%20testing%20and%20analysis/PAT-Clone-Detection_old/Project.ipynb#X60sZmlsZQ%3D%3D?line=9'>10</a>\u001b[0m     test_accuracy_lsvc\u001b[39m.\u001b[39mappend(tree_lsvc\u001b[39m.\u001b[39mscore(X_test, y_test))\n",
      "File \u001b[0;32m/opt/homebrew/lib/python3.10/site-packages/sklearn/svm/_classes.py:257\u001b[0m, in \u001b[0;36mLinearSVC.fit\u001b[0;34m(self, X, y, sample_weight)\u001b[0m\n\u001b[1;32m    254\u001b[0m check_classification_targets(y)\n\u001b[1;32m    255\u001b[0m \u001b[39mself\u001b[39m\u001b[39m.\u001b[39mclasses_ \u001b[39m=\u001b[39m np\u001b[39m.\u001b[39munique(y)\n\u001b[0;32m--> 257\u001b[0m \u001b[39mself\u001b[39m\u001b[39m.\u001b[39mcoef_, \u001b[39mself\u001b[39m\u001b[39m.\u001b[39mintercept_, n_iter_ \u001b[39m=\u001b[39m _fit_liblinear(\n\u001b[1;32m    258\u001b[0m     X,\n\u001b[1;32m    259\u001b[0m     y,\n\u001b[1;32m    260\u001b[0m     \u001b[39mself\u001b[39;49m\u001b[39m.\u001b[39;49mC,\n\u001b[1;32m    261\u001b[0m     \u001b[39mself\u001b[39;49m\u001b[39m.\u001b[39;49mfit_intercept,\n\u001b[1;32m    262\u001b[0m     \u001b[39mself\u001b[39;49m\u001b[39m.\u001b[39;49mintercept_scaling,\n\u001b[1;32m    263\u001b[0m     \u001b[39mself\u001b[39;49m\u001b[39m.\u001b[39;49mclass_weight,\n\u001b[1;32m    264\u001b[0m     \u001b[39mself\u001b[39;49m\u001b[39m.\u001b[39;49mpenalty,\n\u001b[1;32m    265\u001b[0m     \u001b[39mself\u001b[39;49m\u001b[39m.\u001b[39;49mdual,\n\u001b[1;32m    266\u001b[0m     \u001b[39mself\u001b[39;49m\u001b[39m.\u001b[39;49mverbose,\n\u001b[1;32m    267\u001b[0m     \u001b[39mself\u001b[39;49m\u001b[39m.\u001b[39;49mmax_iter,\n\u001b[1;32m    268\u001b[0m     \u001b[39mself\u001b[39;49m\u001b[39m.\u001b[39;49mtol,\n\u001b[1;32m    269\u001b[0m     \u001b[39mself\u001b[39;49m\u001b[39m.\u001b[39;49mrandom_state,\n\u001b[1;32m    270\u001b[0m     \u001b[39mself\u001b[39;49m\u001b[39m.\u001b[39;49mmulti_class,\n\u001b[1;32m    271\u001b[0m     \u001b[39mself\u001b[39;49m\u001b[39m.\u001b[39;49mloss,\n\u001b[1;32m    272\u001b[0m     sample_weight\u001b[39m=\u001b[39;49msample_weight,\n\u001b[1;32m    273\u001b[0m )\n\u001b[1;32m    274\u001b[0m \u001b[39m# Backward compatibility: _fit_liblinear is used both by LinearSVC/R\u001b[39;00m\n\u001b[1;32m    275\u001b[0m \u001b[39m# and LogisticRegression but LogisticRegression sets a structured\u001b[39;00m\n\u001b[1;32m    276\u001b[0m \u001b[39m# `n_iter_` attribute with information about the underlying OvR fits\u001b[39;00m\n\u001b[1;32m    277\u001b[0m \u001b[39m# while LinearSVC/R only reports the maximum value.\u001b[39;00m\n\u001b[1;32m    278\u001b[0m \u001b[39mself\u001b[39m\u001b[39m.\u001b[39mn_iter_ \u001b[39m=\u001b[39m n_iter_\u001b[39m.\u001b[39mmax()\u001b[39m.\u001b[39mitem()\n",
      "File \u001b[0;32m/opt/homebrew/lib/python3.10/site-packages/sklearn/svm/_base.py:1205\u001b[0m, in \u001b[0;36m_fit_liblinear\u001b[0;34m(X, y, C, fit_intercept, intercept_scaling, class_weight, penalty, dual, verbose, max_iter, tol, random_state, multi_class, loss, epsilon, sample_weight)\u001b[0m\n\u001b[1;32m   1202\u001b[0m sample_weight \u001b[39m=\u001b[39m _check_sample_weight(sample_weight, X, dtype\u001b[39m=\u001b[39mnp\u001b[39m.\u001b[39mfloat64)\n\u001b[1;32m   1204\u001b[0m solver_type \u001b[39m=\u001b[39m _get_liblinear_solver_type(multi_class, penalty, loss, dual)\n\u001b[0;32m-> 1205\u001b[0m raw_coef_, n_iter_ \u001b[39m=\u001b[39m liblinear\u001b[39m.\u001b[39;49mtrain_wrap(\n\u001b[1;32m   1206\u001b[0m     X,\n\u001b[1;32m   1207\u001b[0m     y_ind,\n\u001b[1;32m   1208\u001b[0m     sp\u001b[39m.\u001b[39;49misspmatrix(X),\n\u001b[1;32m   1209\u001b[0m     solver_type,\n\u001b[1;32m   1210\u001b[0m     tol,\n\u001b[1;32m   1211\u001b[0m     bias,\n\u001b[1;32m   1212\u001b[0m     C,\n\u001b[1;32m   1213\u001b[0m     class_weight_,\n\u001b[1;32m   1214\u001b[0m     max_iter,\n\u001b[1;32m   1215\u001b[0m     rnd\u001b[39m.\u001b[39;49mrandint(np\u001b[39m.\u001b[39;49miinfo(\u001b[39m\"\u001b[39;49m\u001b[39mi\u001b[39;49m\u001b[39m\"\u001b[39;49m)\u001b[39m.\u001b[39;49mmax),\n\u001b[1;32m   1216\u001b[0m     epsilon,\n\u001b[1;32m   1217\u001b[0m     sample_weight,\n\u001b[1;32m   1218\u001b[0m )\n\u001b[1;32m   1219\u001b[0m \u001b[39m# Regarding rnd.randint(..) in the above signature:\u001b[39;00m\n\u001b[1;32m   1220\u001b[0m \u001b[39m# seed for srand in range [0..INT_MAX); due to limitations in Numpy\u001b[39;00m\n\u001b[1;32m   1221\u001b[0m \u001b[39m# on 32-bit platforms, we can't get to the UINT_MAX limit that\u001b[39;00m\n\u001b[1;32m   1222\u001b[0m \u001b[39m# srand supports\u001b[39;00m\n\u001b[1;32m   1223\u001b[0m n_iter_max \u001b[39m=\u001b[39m \u001b[39mmax\u001b[39m(n_iter_)\n",
      "\u001b[0;31mKeyboardInterrupt\u001b[0m: "
     ]
    }
   ],
   "source": [
    "training_accuracy_lsvc = []\n",
    "test_accuracy_lsvc = []\n",
    "\n",
    "C = [x / 10.0 for x in range(1, 101)]\n",
    "\n",
    "for ls in tqdm(C):\n",
    "    tree_lsvc = LinearSVC(C=ls)\n",
    "    tree_lsvc.fit(X_train, y_train)\n",
    "    training_accuracy_lsvc.append(tree_lsvc.score(X_train, y_train))\n",
    "    test_accuracy_lsvc.append(tree_lsvc.score(X_test, y_test))\n"
   ]
  },
  {
   "cell_type": "code",
   "execution_count": null,
   "metadata": {},
   "outputs": [
    {
     "ename": "NameError",
     "evalue": "name 'max_depth_lsvc' is not defined",
     "output_type": "error",
     "traceback": [
      "\u001b[0;31m---------------------------------------------------------------------------\u001b[0m",
      "\u001b[0;31mNameError\u001b[0m                                 Traceback (most recent call last)",
      "\u001b[1;32m/Users/aayushgupta/Library/Mobile Documents/com~apple~CloudDocs/Program testing and analysis/PAT-Clone-Detection_old/Project.ipynb Cell 32\u001b[0m in \u001b[0;36m2\n\u001b[1;32m      <a href='vscode-notebook-cell:/Users/aayushgupta/Library/Mobile%20Documents/com~apple~CloudDocs/Program%20testing%20and%20analysis/PAT-Clone-Detection_old/Project.ipynb#X56sZmlsZQ%3D%3D?line=0'>1</a>\u001b[0m sns\u001b[39m.\u001b[39mset(style\u001b[39m=\u001b[39m\u001b[39m\"\u001b[39m\u001b[39mdarkgrid\u001b[39m\u001b[39m\"\u001b[39m)\n\u001b[0;32m----> <a href='vscode-notebook-cell:/Users/aayushgupta/Library/Mobile%20Documents/com~apple~CloudDocs/Program%20testing%20and%20analysis/PAT-Clone-Detection_old/Project.ipynb#X56sZmlsZQ%3D%3D?line=1'>2</a>\u001b[0m sns\u001b[39m.\u001b[39mlineplot(x\u001b[39m=\u001b[39mmax_depth_lsvc, y\u001b[39m=\u001b[39mtraining_accuracy_lsvc)\n\u001b[1;32m      <a href='vscode-notebook-cell:/Users/aayushgupta/Library/Mobile%20Documents/com~apple~CloudDocs/Program%20testing%20and%20analysis/PAT-Clone-Detection_old/Project.ipynb#X56sZmlsZQ%3D%3D?line=2'>3</a>\u001b[0m sns\u001b[39m.\u001b[39mlineplot(x\u001b[39m=\u001b[39mmax_depth_lsvc, y\u001b[39m=\u001b[39mtest_accuracy_lsvc)\n\u001b[1;32m      <a href='vscode-notebook-cell:/Users/aayushgupta/Library/Mobile%20Documents/com~apple~CloudDocs/Program%20testing%20and%20analysis/PAT-Clone-Detection_old/Project.ipynb#X56sZmlsZQ%3D%3D?line=3'>4</a>\u001b[0m \u001b[39m# plt.plot(max_dep, training_accuracy, label='Accuracy of the training set')\u001b[39;00m\n\u001b[1;32m      <a href='vscode-notebook-cell:/Users/aayushgupta/Library/Mobile%20Documents/com~apple~CloudDocs/Program%20testing%20and%20analysis/PAT-Clone-Detection_old/Project.ipynb#X56sZmlsZQ%3D%3D?line=4'>5</a>\u001b[0m \u001b[39m# plt.plot(max_dep, test_accuracy, label='Accuracy of the test set')\u001b[39;00m\n",
      "\u001b[0;31mNameError\u001b[0m: name 'max_depth_lsvc' is not defined"
     ]
    }
   ],
   "source": [
    "sns.set(style=\"darkgrid\")\n",
    "sns.lineplot(x=C, y=training_accuracy_lsvc)\n",
    "sns.lineplot(x=C, y=test_accuracy_lsvc)\n",
    "# plt.plot(max_dep, training_accuracy, label='Accuracy of the training set')\n",
    "# plt.plot(max_dep, test_accuracy, label='Accuracy of the test set')\n",
    "plt.ylabel('Accuracy')\n",
    "plt.xlabel('Max Depth')\n",
    "plt.legend()\n",
    "plt.show()\n"
   ]
  },
  {
   "cell_type": "code",
   "execution_count": null,
   "metadata": {},
   "outputs": [],
   "source": [
    "# joblib.dump(hyperparameters_lSVC, 'Linear_SVC.joblib',compress=3)"
   ]
  },
  {
   "cell_type": "code",
   "execution_count": null,
   "metadata": {},
   "outputs": [],
   "source": [
    "# # For MLP Classifier \n",
    "# from sklearn.neural_network import MLPClassifier\n",
    "# # 1st combination of architecture choices\n",
    "# mlp_1 = MLPClassifier(hidden_layer_sizes=(10, 10, 10),\n",
    "#                       activation='relu')\n",
    "# scores_1 = cross_val_score(mlp_1, X, y, cv=5)\n",
    "# scores_1a = accuracy_score(mlp_1)\n",
    "\n",
    "# # 2nd combination of architecture choices\n",
    "# mlp_2 = MLPClassifier(hidden_layer_sizes=(20, 20,),\n",
    "#                       activation='logistic')\n",
    "# scores_2 = cross_val_score(mlp_2, X, y, cv=5)\n",
    "\n",
    "# # 3rd combination of architecture choices\n",
    "# mlp_3 = MLPClassifier(hidden_layer_sizes=(30,),\n",
    "#                       activation='tanh')\n",
    "# scores_3 = cross_val_score(mlp_3, X, y, cv=5)\n"
   ]
  },
  {
   "cell_type": "code",
   "execution_count": null,
   "metadata": {},
   "outputs": [],
   "source": [
    "# print(\"Cross Validation score for Model 1: \", scores_1.mean())\n",
    "# print(\"Cross Validation score for Model 2: \", scores_2.mean())\n",
    "# print(\"Cross Validation score for Model 3: \", scores_3.mean())\n"
   ]
  },
  {
   "cell_type": "code",
   "execution_count": 112,
   "metadata": {},
   "outputs": [
    {
     "name": "stdout",
     "output_type": "stream",
     "text": [
      "Fitting 5 folds for each of 84 candidates, totalling 420 fits\n",
      "[CV] END base_estimator=DecisionTreeClassifier(max_depth=1), bootstrap=True, max_samples=0.6; total time=   0.9s\n",
      "[CV] END base_estimator=DecisionTreeClassifier(max_depth=1), bootstrap=True, max_samples=0.6; total time=   0.9s\n",
      "[CV] END base_estimator=DecisionTreeClassifier(max_depth=1), bootstrap=True, max_samples=0.6; total time=   0.9s\n",
      "[CV] END base_estimator=DecisionTreeClassifier(max_depth=1), bootstrap=True, max_samples=0.6; total time=   0.9s\n",
      "[CV] END base_estimator=DecisionTreeClassifier(max_depth=1), bootstrap=True, max_samples=0.6; total time=   1.1s\n",
      "[CV] END base_estimator=DecisionTreeClassifier(max_depth=1), bootstrap=True, max_samples=0.7; total time=   1.0s\n",
      "[CV] END base_estimator=DecisionTreeClassifier(max_depth=1), bootstrap=True, max_samples=0.7; total time=   1.1s\n",
      "[CV] END base_estimator=DecisionTreeClassifier(max_depth=1), bootstrap=True, max_samples=0.7; total time=   1.1s\n",
      "[CV] END base_estimator=DecisionTreeClassifier(max_depth=1), bootstrap=True, max_samples=0.7; total time=   1.1s\n",
      "[CV] END base_estimator=DecisionTreeClassifier(max_depth=1), bootstrap=True, max_samples=0.7; total time=   1.0s\n",
      "[CV] END base_estimator=DecisionTreeClassifier(max_depth=1), bootstrap=True, max_samples=0.8; total time=   1.0s\n",
      "[CV] END base_estimator=DecisionTreeClassifier(max_depth=1), bootstrap=True, max_samples=0.8; total time=   1.0s\n",
      "[CV] END base_estimator=DecisionTreeClassifier(max_depth=1), bootstrap=True, max_samples=0.8; total time=   1.0s\n",
      "[CV] END base_estimator=DecisionTreeClassifier(max_depth=1), bootstrap=True, max_samples=0.8; total time=   1.0s\n",
      "[CV] END base_estimator=DecisionTreeClassifier(max_depth=1), bootstrap=True, max_samples=0.8; total time=   1.0s\n",
      "[CV] END base_estimator=DecisionTreeClassifier(max_depth=1), bootstrap=True, max_samples=0.9; total time=   1.1s\n",
      "[CV] END base_estimator=DecisionTreeClassifier(max_depth=1), bootstrap=True, max_samples=0.9; total time=   1.1s\n",
      "[CV] END base_estimator=DecisionTreeClassifier(max_depth=1), bootstrap=True, max_samples=0.9; total time=   1.1s\n",
      "[CV] END base_estimator=DecisionTreeClassifier(max_depth=1), bootstrap=True, max_samples=0.9; total time=   1.0s\n",
      "[CV] END base_estimator=DecisionTreeClassifier(max_depth=1), bootstrap=True, max_samples=0.9; total time=   1.1s\n",
      "[CV] END base_estimator=DecisionTreeClassifier(max_depth=1), bootstrap=True, max_samples=0.99; total time=   1.1s\n",
      "[CV] END base_estimator=DecisionTreeClassifier(max_depth=1), bootstrap=True, max_samples=0.99; total time=   1.1s\n",
      "[CV] END base_estimator=DecisionTreeClassifier(max_depth=1), bootstrap=True, max_samples=0.99; total time=   1.1s\n",
      "[CV] END base_estimator=DecisionTreeClassifier(max_depth=1), bootstrap=True, max_samples=0.99; total time=   1.1s\n",
      "[CV] END base_estimator=DecisionTreeClassifier(max_depth=1), bootstrap=True, max_samples=0.99; total time=   1.1s\n",
      "[CV] END base_estimator=DecisionTreeClassifier(max_depth=1), bootstrap=True, max_samples=1.0; total time=   1.1s\n",
      "[CV] END base_estimator=DecisionTreeClassifier(max_depth=1), bootstrap=True, max_samples=1.0; total time=   1.1s\n",
      "[CV] END base_estimator=DecisionTreeClassifier(max_depth=1), bootstrap=True, max_samples=1.0; total time=   1.1s\n",
      "[CV] END base_estimator=DecisionTreeClassifier(max_depth=1), bootstrap=True, max_samples=1.0; total time=   1.1s\n",
      "[CV] END base_estimator=DecisionTreeClassifier(max_depth=1), bootstrap=True, max_samples=1.0; total time=   1.1s\n",
      "[CV] END base_estimator=DecisionTreeClassifier(max_depth=2), bootstrap=True, max_samples=0.6; total time=   1.4s\n",
      "[CV] END base_estimator=DecisionTreeClassifier(max_depth=2), bootstrap=True, max_samples=0.6; total time=   1.4s\n",
      "[CV] END base_estimator=DecisionTreeClassifier(max_depth=2), bootstrap=True, max_samples=0.6; total time=   1.4s\n",
      "[CV] END base_estimator=DecisionTreeClassifier(max_depth=2), bootstrap=True, max_samples=0.6; total time=   1.4s\n",
      "[CV] END base_estimator=DecisionTreeClassifier(max_depth=2), bootstrap=True, max_samples=0.6; total time=   1.4s\n",
      "[CV] END base_estimator=DecisionTreeClassifier(max_depth=2), bootstrap=True, max_samples=0.7; total time=   1.5s\n",
      "[CV] END base_estimator=DecisionTreeClassifier(max_depth=2), bootstrap=True, max_samples=0.7; total time=   1.5s\n",
      "[CV] END base_estimator=DecisionTreeClassifier(max_depth=2), bootstrap=True, max_samples=0.7; total time=   1.5s\n",
      "[CV] END base_estimator=DecisionTreeClassifier(max_depth=2), bootstrap=True, max_samples=0.7; total time=   1.5s\n",
      "[CV] END base_estimator=DecisionTreeClassifier(max_depth=2), bootstrap=True, max_samples=0.7; total time=   1.5s\n",
      "[CV] END base_estimator=DecisionTreeClassifier(max_depth=2), bootstrap=True, max_samples=0.8; total time=   1.6s\n",
      "[CV] END base_estimator=DecisionTreeClassifier(max_depth=2), bootstrap=True, max_samples=0.8; total time=   1.6s\n",
      "[CV] END base_estimator=DecisionTreeClassifier(max_depth=2), bootstrap=True, max_samples=0.8; total time=   1.6s\n",
      "[CV] END base_estimator=DecisionTreeClassifier(max_depth=2), bootstrap=True, max_samples=0.8; total time=   1.6s\n",
      "[CV] END base_estimator=DecisionTreeClassifier(max_depth=2), bootstrap=True, max_samples=0.8; total time=   1.6s\n",
      "[CV] END base_estimator=DecisionTreeClassifier(max_depth=2), bootstrap=True, max_samples=0.9; total time=   1.7s\n",
      "[CV] END base_estimator=DecisionTreeClassifier(max_depth=2), bootstrap=True, max_samples=0.9; total time=   1.7s\n",
      "[CV] END base_estimator=DecisionTreeClassifier(max_depth=2), bootstrap=True, max_samples=0.9; total time=   1.7s\n",
      "[CV] END base_estimator=DecisionTreeClassifier(max_depth=2), bootstrap=True, max_samples=0.9; total time=   1.7s\n",
      "[CV] END base_estimator=DecisionTreeClassifier(max_depth=2), bootstrap=True, max_samples=0.9; total time=   1.7s\n",
      "[CV] END base_estimator=DecisionTreeClassifier(max_depth=2), bootstrap=True, max_samples=0.99; total time=   1.8s\n",
      "[CV] END base_estimator=DecisionTreeClassifier(max_depth=2), bootstrap=True, max_samples=0.99; total time=   1.8s\n",
      "[CV] END base_estimator=DecisionTreeClassifier(max_depth=2), bootstrap=True, max_samples=0.99; total time=   1.8s\n",
      "[CV] END base_estimator=DecisionTreeClassifier(max_depth=2), bootstrap=True, max_samples=0.99; total time=   1.8s\n",
      "[CV] END base_estimator=DecisionTreeClassifier(max_depth=2), bootstrap=True, max_samples=0.99; total time=   1.8s\n",
      "[CV] END base_estimator=DecisionTreeClassifier(max_depth=2), bootstrap=True, max_samples=1.0; total time=   1.8s\n",
      "[CV] END base_estimator=DecisionTreeClassifier(max_depth=2), bootstrap=True, max_samples=1.0; total time=   1.8s\n",
      "[CV] END base_estimator=DecisionTreeClassifier(max_depth=2), bootstrap=True, max_samples=1.0; total time=   1.8s\n",
      "[CV] END base_estimator=DecisionTreeClassifier(max_depth=2), bootstrap=True, max_samples=1.0; total time=   1.8s\n",
      "[CV] END base_estimator=DecisionTreeClassifier(max_depth=2), bootstrap=True, max_samples=1.0; total time=   1.8s\n",
      "[CV] END base_estimator=DecisionTreeClassifier(max_depth=3), bootstrap=True, max_samples=0.6; total time=   1.9s\n",
      "[CV] END base_estimator=DecisionTreeClassifier(max_depth=3), bootstrap=True, max_samples=0.6; total time=   1.8s\n",
      "[CV] END base_estimator=DecisionTreeClassifier(max_depth=3), bootstrap=True, max_samples=0.6; total time=   1.9s\n",
      "[CV] END base_estimator=DecisionTreeClassifier(max_depth=3), bootstrap=True, max_samples=0.6; total time=   1.9s\n",
      "[CV] END base_estimator=DecisionTreeClassifier(max_depth=3), bootstrap=True, max_samples=0.6; total time=   1.9s\n",
      "[CV] END base_estimator=DecisionTreeClassifier(max_depth=3), bootstrap=True, max_samples=0.7; total time=   2.2s\n",
      "[CV] END base_estimator=DecisionTreeClassifier(max_depth=3), bootstrap=True, max_samples=0.7; total time=   2.1s\n",
      "[CV] END base_estimator=DecisionTreeClassifier(max_depth=3), bootstrap=True, max_samples=0.7; total time=   2.0s\n",
      "[CV] END base_estimator=DecisionTreeClassifier(max_depth=3), bootstrap=True, max_samples=0.7; total time=   2.1s\n",
      "[CV] END base_estimator=DecisionTreeClassifier(max_depth=3), bootstrap=True, max_samples=0.7; total time=   2.1s\n",
      "[CV] END base_estimator=DecisionTreeClassifier(max_depth=3), bootstrap=True, max_samples=0.8; total time=   2.2s\n",
      "[CV] END base_estimator=DecisionTreeClassifier(max_depth=3), bootstrap=True, max_samples=0.8; total time=   2.3s\n",
      "[CV] END base_estimator=DecisionTreeClassifier(max_depth=3), bootstrap=True, max_samples=0.8; total time=   2.2s\n",
      "[CV] END base_estimator=DecisionTreeClassifier(max_depth=3), bootstrap=True, max_samples=0.8; total time=   2.3s\n",
      "[CV] END base_estimator=DecisionTreeClassifier(max_depth=3), bootstrap=True, max_samples=0.8; total time=   2.2s\n",
      "[CV] END base_estimator=DecisionTreeClassifier(max_depth=3), bootstrap=True, max_samples=0.9; total time=   2.3s\n",
      "[CV] END base_estimator=DecisionTreeClassifier(max_depth=3), bootstrap=True, max_samples=0.9; total time=   2.3s\n",
      "[CV] END base_estimator=DecisionTreeClassifier(max_depth=3), bootstrap=True, max_samples=0.9; total time=   2.4s\n",
      "[CV] END base_estimator=DecisionTreeClassifier(max_depth=3), bootstrap=True, max_samples=0.9; total time=   2.4s\n",
      "[CV] END base_estimator=DecisionTreeClassifier(max_depth=3), bootstrap=True, max_samples=0.9; total time=   2.3s\n",
      "[CV] END base_estimator=DecisionTreeClassifier(max_depth=3), bootstrap=True, max_samples=0.99; total time=   2.5s\n",
      "[CV] END base_estimator=DecisionTreeClassifier(max_depth=3), bootstrap=True, max_samples=0.99; total time=   2.4s\n",
      "[CV] END base_estimator=DecisionTreeClassifier(max_depth=3), bootstrap=True, max_samples=0.99; total time=   2.5s\n",
      "[CV] END base_estimator=DecisionTreeClassifier(max_depth=3), bootstrap=True, max_samples=0.99; total time=   2.5s\n",
      "[CV] END base_estimator=DecisionTreeClassifier(max_depth=3), bootstrap=True, max_samples=0.99; total time=   2.5s\n",
      "[CV] END base_estimator=DecisionTreeClassifier(max_depth=3), bootstrap=True, max_samples=1.0; total time=   2.5s\n",
      "[CV] END base_estimator=DecisionTreeClassifier(max_depth=3), bootstrap=True, max_samples=1.0; total time=   2.5s\n",
      "[CV] END base_estimator=DecisionTreeClassifier(max_depth=3), bootstrap=True, max_samples=1.0; total time=   2.4s\n",
      "[CV] END base_estimator=DecisionTreeClassifier(max_depth=3), bootstrap=True, max_samples=1.0; total time=   2.5s\n",
      "[CV] END base_estimator=DecisionTreeClassifier(max_depth=3), bootstrap=True, max_samples=1.0; total time=   2.5s\n",
      "[CV] END base_estimator=DecisionTreeClassifier(max_depth=4), bootstrap=True, max_samples=0.6; total time=   2.3s\n",
      "[CV] END base_estimator=DecisionTreeClassifier(max_depth=4), bootstrap=True, max_samples=0.6; total time=   2.3s\n",
      "[CV] END base_estimator=DecisionTreeClassifier(max_depth=4), bootstrap=True, max_samples=0.6; total time=   2.3s\n",
      "[CV] END base_estimator=DecisionTreeClassifier(max_depth=4), bootstrap=True, max_samples=0.6; total time=   2.3s\n",
      "[CV] END base_estimator=DecisionTreeClassifier(max_depth=4), bootstrap=True, max_samples=0.6; total time=   2.3s\n",
      "[CV] END base_estimator=DecisionTreeClassifier(max_depth=4), bootstrap=True, max_samples=0.7; total time=   2.6s\n",
      "[CV] END base_estimator=DecisionTreeClassifier(max_depth=4), bootstrap=True, max_samples=0.7; total time=   2.6s\n",
      "[CV] END base_estimator=DecisionTreeClassifier(max_depth=4), bootstrap=True, max_samples=0.7; total time=   2.5s\n",
      "[CV] END base_estimator=DecisionTreeClassifier(max_depth=4), bootstrap=True, max_samples=0.7; total time=   2.5s\n",
      "[CV] END base_estimator=DecisionTreeClassifier(max_depth=4), bootstrap=True, max_samples=0.7; total time=   2.6s\n",
      "[CV] END base_estimator=DecisionTreeClassifier(max_depth=4), bootstrap=True, max_samples=0.8; total time=   2.8s\n",
      "[CV] END base_estimator=DecisionTreeClassifier(max_depth=4), bootstrap=True, max_samples=0.8; total time=   2.8s\n",
      "[CV] END base_estimator=DecisionTreeClassifier(max_depth=4), bootstrap=True, max_samples=0.8; total time=   2.8s\n",
      "[CV] END base_estimator=DecisionTreeClassifier(max_depth=4), bootstrap=True, max_samples=0.8; total time=   2.9s\n",
      "[CV] END base_estimator=DecisionTreeClassifier(max_depth=4), bootstrap=True, max_samples=0.8; total time=   2.8s\n",
      "[CV] END base_estimator=DecisionTreeClassifier(max_depth=4), bootstrap=True, max_samples=0.9; total time=   3.0s\n",
      "[CV] END base_estimator=DecisionTreeClassifier(max_depth=4), bootstrap=True, max_samples=0.9; total time=   3.0s\n",
      "[CV] END base_estimator=DecisionTreeClassifier(max_depth=4), bootstrap=True, max_samples=0.9; total time=   3.0s\n",
      "[CV] END base_estimator=DecisionTreeClassifier(max_depth=4), bootstrap=True, max_samples=0.9; total time=   2.9s\n",
      "[CV] END base_estimator=DecisionTreeClassifier(max_depth=4), bootstrap=True, max_samples=0.9; total time=   3.4s\n",
      "[CV] END base_estimator=DecisionTreeClassifier(max_depth=4), bootstrap=True, max_samples=0.99; total time=   3.1s\n",
      "[CV] END base_estimator=DecisionTreeClassifier(max_depth=4), bootstrap=True, max_samples=0.99; total time=   3.1s\n",
      "[CV] END base_estimator=DecisionTreeClassifier(max_depth=4), bootstrap=True, max_samples=0.99; total time=   3.1s\n",
      "[CV] END base_estimator=DecisionTreeClassifier(max_depth=4), bootstrap=True, max_samples=0.99; total time=   3.1s\n",
      "[CV] END base_estimator=DecisionTreeClassifier(max_depth=4), bootstrap=True, max_samples=0.99; total time=   3.1s\n",
      "[CV] END base_estimator=DecisionTreeClassifier(max_depth=4), bootstrap=True, max_samples=1.0; total time=   3.1s\n",
      "[CV] END base_estimator=DecisionTreeClassifier(max_depth=4), bootstrap=True, max_samples=1.0; total time=   3.1s\n",
      "[CV] END base_estimator=DecisionTreeClassifier(max_depth=4), bootstrap=True, max_samples=1.0; total time=   3.2s\n",
      "[CV] END base_estimator=DecisionTreeClassifier(max_depth=4), bootstrap=True, max_samples=1.0; total time=   3.1s\n",
      "[CV] END base_estimator=DecisionTreeClassifier(max_depth=4), bootstrap=True, max_samples=1.0; total time=   3.1s\n",
      "[CV] END base_estimator=DecisionTreeClassifier(max_depth=5), bootstrap=True, max_samples=0.6; total time=   2.8s\n",
      "[CV] END base_estimator=DecisionTreeClassifier(max_depth=5), bootstrap=True, max_samples=0.6; total time=   2.8s\n",
      "[CV] END base_estimator=DecisionTreeClassifier(max_depth=5), bootstrap=True, max_samples=0.6; total time=   2.7s\n",
      "[CV] END base_estimator=DecisionTreeClassifier(max_depth=5), bootstrap=True, max_samples=0.6; total time=   2.8s\n",
      "[CV] END base_estimator=DecisionTreeClassifier(max_depth=5), bootstrap=True, max_samples=0.6; total time=   2.8s\n",
      "[CV] END base_estimator=DecisionTreeClassifier(max_depth=5), bootstrap=True, max_samples=0.7; total time=   3.1s\n",
      "[CV] END base_estimator=DecisionTreeClassifier(max_depth=5), bootstrap=True, max_samples=0.7; total time=   3.1s\n",
      "[CV] END base_estimator=DecisionTreeClassifier(max_depth=5), bootstrap=True, max_samples=0.7; total time=   3.0s\n",
      "[CV] END base_estimator=DecisionTreeClassifier(max_depth=5), bootstrap=True, max_samples=0.7; total time=   3.1s\n",
      "[CV] END base_estimator=DecisionTreeClassifier(max_depth=5), bootstrap=True, max_samples=0.7; total time=   3.1s\n",
      "[CV] END base_estimator=DecisionTreeClassifier(max_depth=5), bootstrap=True, max_samples=0.8; total time=   3.3s\n",
      "[CV] END base_estimator=DecisionTreeClassifier(max_depth=5), bootstrap=True, max_samples=0.8; total time=   3.3s\n",
      "[CV] END base_estimator=DecisionTreeClassifier(max_depth=5), bootstrap=True, max_samples=0.8; total time=   3.4s\n",
      "[CV] END base_estimator=DecisionTreeClassifier(max_depth=5), bootstrap=True, max_samples=0.8; total time=   3.3s\n",
      "[CV] END base_estimator=DecisionTreeClassifier(max_depth=5), bootstrap=True, max_samples=0.8; total time=   3.3s\n",
      "[CV] END base_estimator=DecisionTreeClassifier(max_depth=5), bootstrap=True, max_samples=0.9; total time=   3.5s\n",
      "[CV] END base_estimator=DecisionTreeClassifier(max_depth=5), bootstrap=True, max_samples=0.9; total time=   3.6s\n",
      "[CV] END base_estimator=DecisionTreeClassifier(max_depth=5), bootstrap=True, max_samples=0.9; total time=   3.5s\n",
      "[CV] END base_estimator=DecisionTreeClassifier(max_depth=5), bootstrap=True, max_samples=0.9; total time=   3.6s\n",
      "[CV] END base_estimator=DecisionTreeClassifier(max_depth=5), bootstrap=True, max_samples=0.9; total time=   3.6s\n",
      "[CV] END base_estimator=DecisionTreeClassifier(max_depth=5), bootstrap=True, max_samples=0.99; total time=   3.7s\n",
      "[CV] END base_estimator=DecisionTreeClassifier(max_depth=5), bootstrap=True, max_samples=0.99; total time=   3.7s\n",
      "[CV] END base_estimator=DecisionTreeClassifier(max_depth=5), bootstrap=True, max_samples=0.99; total time=   3.7s\n",
      "[CV] END base_estimator=DecisionTreeClassifier(max_depth=5), bootstrap=True, max_samples=0.99; total time=   3.7s\n",
      "[CV] END base_estimator=DecisionTreeClassifier(max_depth=5), bootstrap=True, max_samples=0.99; total time=   3.8s\n",
      "[CV] END base_estimator=DecisionTreeClassifier(max_depth=5), bootstrap=True, max_samples=1.0; total time=   3.8s\n",
      "[CV] END base_estimator=DecisionTreeClassifier(max_depth=5), bootstrap=True, max_samples=1.0; total time=   3.8s\n",
      "[CV] END base_estimator=DecisionTreeClassifier(max_depth=5), bootstrap=True, max_samples=1.0; total time=   3.8s\n",
      "[CV] END base_estimator=DecisionTreeClassifier(max_depth=5), bootstrap=True, max_samples=1.0; total time=   3.8s\n",
      "[CV] END base_estimator=DecisionTreeClassifier(max_depth=5), bootstrap=True, max_samples=1.0; total time=   3.8s\n",
      "[CV] END base_estimator=DecisionTreeClassifier(max_depth=6), bootstrap=True, max_samples=0.6; total time=   3.3s\n",
      "[CV] END base_estimator=DecisionTreeClassifier(max_depth=6), bootstrap=True, max_samples=0.6; total time=   3.2s\n",
      "[CV] END base_estimator=DecisionTreeClassifier(max_depth=6), bootstrap=True, max_samples=0.6; total time=   3.3s\n",
      "[CV] END base_estimator=DecisionTreeClassifier(max_depth=6), bootstrap=True, max_samples=0.6; total time=   3.3s\n",
      "[CV] END base_estimator=DecisionTreeClassifier(max_depth=6), bootstrap=True, max_samples=0.6; total time=   3.3s\n",
      "[CV] END base_estimator=DecisionTreeClassifier(max_depth=6), bootstrap=True, max_samples=0.7; total time=   3.6s\n",
      "[CV] END base_estimator=DecisionTreeClassifier(max_depth=6), bootstrap=True, max_samples=0.7; total time=   3.6s\n",
      "[CV] END base_estimator=DecisionTreeClassifier(max_depth=6), bootstrap=True, max_samples=0.7; total time=   3.6s\n",
      "[CV] END base_estimator=DecisionTreeClassifier(max_depth=6), bootstrap=True, max_samples=0.7; total time=   3.6s\n",
      "[CV] END base_estimator=DecisionTreeClassifier(max_depth=6), bootstrap=True, max_samples=0.7; total time=   3.6s\n",
      "[CV] END base_estimator=DecisionTreeClassifier(max_depth=6), bootstrap=True, max_samples=0.8; total time=   3.9s\n",
      "[CV] END base_estimator=DecisionTreeClassifier(max_depth=6), bootstrap=True, max_samples=0.8; total time=   3.9s\n",
      "[CV] END base_estimator=DecisionTreeClassifier(max_depth=6), bootstrap=True, max_samples=0.8; total time=   3.9s\n",
      "[CV] END base_estimator=DecisionTreeClassifier(max_depth=6), bootstrap=True, max_samples=0.8; total time=   3.9s\n",
      "[CV] END base_estimator=DecisionTreeClassifier(max_depth=6), bootstrap=True, max_samples=0.8; total time=   3.9s\n",
      "[CV] END base_estimator=DecisionTreeClassifier(max_depth=6), bootstrap=True, max_samples=0.9; total time=   4.3s\n",
      "[CV] END base_estimator=DecisionTreeClassifier(max_depth=6), bootstrap=True, max_samples=0.9; total time=   4.2s\n",
      "[CV] END base_estimator=DecisionTreeClassifier(max_depth=6), bootstrap=True, max_samples=0.9; total time=   4.2s\n",
      "[CV] END base_estimator=DecisionTreeClassifier(max_depth=6), bootstrap=True, max_samples=0.9; total time=   4.2s\n",
      "[CV] END base_estimator=DecisionTreeClassifier(max_depth=6), bootstrap=True, max_samples=0.9; total time=   4.3s\n",
      "[CV] END base_estimator=DecisionTreeClassifier(max_depth=6), bootstrap=True, max_samples=0.99; total time=   4.6s\n",
      "[CV] END base_estimator=DecisionTreeClassifier(max_depth=6), bootstrap=True, max_samples=0.99; total time=   4.5s\n",
      "[CV] END base_estimator=DecisionTreeClassifier(max_depth=6), bootstrap=True, max_samples=0.99; total time=   4.5s\n",
      "[CV] END base_estimator=DecisionTreeClassifier(max_depth=6), bootstrap=True, max_samples=0.99; total time=   4.4s\n",
      "[CV] END base_estimator=DecisionTreeClassifier(max_depth=6), bootstrap=True, max_samples=0.99; total time=   4.4s\n",
      "[CV] END base_estimator=DecisionTreeClassifier(max_depth=6), bootstrap=True, max_samples=1.0; total time=   4.4s\n",
      "[CV] END base_estimator=DecisionTreeClassifier(max_depth=6), bootstrap=True, max_samples=1.0; total time=   4.4s\n",
      "[CV] END base_estimator=DecisionTreeClassifier(max_depth=6), bootstrap=True, max_samples=1.0; total time=   4.4s\n",
      "[CV] END base_estimator=DecisionTreeClassifier(max_depth=6), bootstrap=True, max_samples=1.0; total time=   4.4s\n",
      "[CV] END base_estimator=DecisionTreeClassifier(max_depth=6), bootstrap=True, max_samples=1.0; total time=   4.4s\n",
      "[CV] END base_estimator=DecisionTreeClassifier(max_depth=7), bootstrap=True, max_samples=0.6; total time=   3.6s\n",
      "[CV] END base_estimator=DecisionTreeClassifier(max_depth=7), bootstrap=True, max_samples=0.6; total time=   3.6s\n",
      "[CV] END base_estimator=DecisionTreeClassifier(max_depth=7), bootstrap=True, max_samples=0.6; total time=   3.7s\n",
      "[CV] END base_estimator=DecisionTreeClassifier(max_depth=7), bootstrap=True, max_samples=0.6; total time=   3.6s\n",
      "[CV] END base_estimator=DecisionTreeClassifier(max_depth=7), bootstrap=True, max_samples=0.6; total time=   3.6s\n",
      "[CV] END base_estimator=DecisionTreeClassifier(max_depth=7), bootstrap=True, max_samples=0.7; total time=   4.0s\n",
      "[CV] END base_estimator=DecisionTreeClassifier(max_depth=7), bootstrap=True, max_samples=0.7; total time=   4.1s\n",
      "[CV] END base_estimator=DecisionTreeClassifier(max_depth=7), bootstrap=True, max_samples=0.7; total time=   4.1s\n",
      "[CV] END base_estimator=DecisionTreeClassifier(max_depth=7), bootstrap=True, max_samples=0.7; total time=   4.1s\n",
      "[CV] END base_estimator=DecisionTreeClassifier(max_depth=7), bootstrap=True, max_samples=0.7; total time=   4.3s\n",
      "[CV] END base_estimator=DecisionTreeClassifier(max_depth=7), bootstrap=True, max_samples=0.8; total time=   4.7s\n",
      "[CV] END base_estimator=DecisionTreeClassifier(max_depth=7), bootstrap=True, max_samples=0.8; total time=   4.5s\n",
      "[CV] END base_estimator=DecisionTreeClassifier(max_depth=7), bootstrap=True, max_samples=0.8; total time=   4.4s\n",
      "[CV] END base_estimator=DecisionTreeClassifier(max_depth=7), bootstrap=True, max_samples=0.8; total time=   4.4s\n",
      "[CV] END base_estimator=DecisionTreeClassifier(max_depth=7), bootstrap=True, max_samples=0.8; total time=   4.4s\n",
      "[CV] END base_estimator=DecisionTreeClassifier(max_depth=7), bootstrap=True, max_samples=0.9; total time=   4.8s\n",
      "[CV] END base_estimator=DecisionTreeClassifier(max_depth=7), bootstrap=True, max_samples=0.9; total time=   4.7s\n",
      "[CV] END base_estimator=DecisionTreeClassifier(max_depth=7), bootstrap=True, max_samples=0.9; total time=   4.7s\n",
      "[CV] END base_estimator=DecisionTreeClassifier(max_depth=7), bootstrap=True, max_samples=0.9; total time=   4.7s\n",
      "[CV] END base_estimator=DecisionTreeClassifier(max_depth=7), bootstrap=True, max_samples=0.9; total time=   4.7s\n",
      "[CV] END base_estimator=DecisionTreeClassifier(max_depth=7), bootstrap=True, max_samples=0.99; total time=   5.0s\n",
      "[CV] END base_estimator=DecisionTreeClassifier(max_depth=7), bootstrap=True, max_samples=0.99; total time=   5.0s\n",
      "[CV] END base_estimator=DecisionTreeClassifier(max_depth=7), bootstrap=True, max_samples=0.99; total time=   4.9s\n",
      "[CV] END base_estimator=DecisionTreeClassifier(max_depth=7), bootstrap=True, max_samples=0.99; total time=   5.0s\n",
      "[CV] END base_estimator=DecisionTreeClassifier(max_depth=7), bootstrap=True, max_samples=0.99; total time=   5.0s\n",
      "[CV] END base_estimator=DecisionTreeClassifier(max_depth=7), bootstrap=True, max_samples=1.0; total time=   5.0s\n",
      "[CV] END base_estimator=DecisionTreeClassifier(max_depth=7), bootstrap=True, max_samples=1.0; total time=   5.0s\n",
      "[CV] END base_estimator=DecisionTreeClassifier(max_depth=7), bootstrap=True, max_samples=1.0; total time=   5.0s\n",
      "[CV] END base_estimator=DecisionTreeClassifier(max_depth=7), bootstrap=True, max_samples=1.0; total time=   4.9s\n",
      "[CV] END base_estimator=DecisionTreeClassifier(max_depth=7), bootstrap=True, max_samples=1.0; total time=   5.0s\n",
      "[CV] END base_estimator=DecisionTreeClassifier(max_depth=8), bootstrap=True, max_samples=0.6; total time=   4.0s\n",
      "[CV] END base_estimator=DecisionTreeClassifier(max_depth=8), bootstrap=True, max_samples=0.6; total time=   4.0s\n",
      "[CV] END base_estimator=DecisionTreeClassifier(max_depth=8), bootstrap=True, max_samples=0.6; total time=   4.0s\n",
      "[CV] END base_estimator=DecisionTreeClassifier(max_depth=8), bootstrap=True, max_samples=0.6; total time=   4.0s\n",
      "[CV] END base_estimator=DecisionTreeClassifier(max_depth=8), bootstrap=True, max_samples=0.6; total time=   4.0s\n",
      "[CV] END base_estimator=DecisionTreeClassifier(max_depth=8), bootstrap=True, max_samples=0.7; total time=   4.5s\n",
      "[CV] END base_estimator=DecisionTreeClassifier(max_depth=8), bootstrap=True, max_samples=0.7; total time=   4.5s\n",
      "[CV] END base_estimator=DecisionTreeClassifier(max_depth=8), bootstrap=True, max_samples=0.7; total time=   4.4s\n",
      "[CV] END base_estimator=DecisionTreeClassifier(max_depth=8), bootstrap=True, max_samples=0.7; total time=   4.5s\n",
      "[CV] END base_estimator=DecisionTreeClassifier(max_depth=8), bootstrap=True, max_samples=0.7; total time=   4.5s\n",
      "[CV] END base_estimator=DecisionTreeClassifier(max_depth=8), bootstrap=True, max_samples=0.8; total time=   4.8s\n",
      "[CV] END base_estimator=DecisionTreeClassifier(max_depth=8), bootstrap=True, max_samples=0.8; total time=   4.8s\n",
      "[CV] END base_estimator=DecisionTreeClassifier(max_depth=8), bootstrap=True, max_samples=0.8; total time=   4.8s\n",
      "[CV] END base_estimator=DecisionTreeClassifier(max_depth=8), bootstrap=True, max_samples=0.8; total time=   4.8s\n",
      "[CV] END base_estimator=DecisionTreeClassifier(max_depth=8), bootstrap=True, max_samples=0.8; total time=   4.8s\n",
      "[CV] END base_estimator=DecisionTreeClassifier(max_depth=8), bootstrap=True, max_samples=0.9; total time=   5.2s\n",
      "[CV] END base_estimator=DecisionTreeClassifier(max_depth=8), bootstrap=True, max_samples=0.9; total time=   5.2s\n",
      "[CV] END base_estimator=DecisionTreeClassifier(max_depth=8), bootstrap=True, max_samples=0.9; total time=   5.2s\n",
      "[CV] END base_estimator=DecisionTreeClassifier(max_depth=8), bootstrap=True, max_samples=0.9; total time=   5.2s\n",
      "[CV] END base_estimator=DecisionTreeClassifier(max_depth=8), bootstrap=True, max_samples=0.9; total time=   5.1s\n",
      "[CV] END base_estimator=DecisionTreeClassifier(max_depth=8), bootstrap=True, max_samples=0.99; total time=   5.5s\n",
      "[CV] END base_estimator=DecisionTreeClassifier(max_depth=8), bootstrap=True, max_samples=0.99; total time=   5.5s\n",
      "[CV] END base_estimator=DecisionTreeClassifier(max_depth=8), bootstrap=True, max_samples=0.99; total time=   5.5s\n",
      "[CV] END base_estimator=DecisionTreeClassifier(max_depth=8), bootstrap=True, max_samples=0.99; total time=   5.5s\n",
      "[CV] END base_estimator=DecisionTreeClassifier(max_depth=8), bootstrap=True, max_samples=0.99; total time=   5.5s\n",
      "[CV] END base_estimator=DecisionTreeClassifier(max_depth=8), bootstrap=True, max_samples=1.0; total time=   5.5s\n",
      "[CV] END base_estimator=DecisionTreeClassifier(max_depth=8), bootstrap=True, max_samples=1.0; total time=   5.4s\n",
      "[CV] END base_estimator=DecisionTreeClassifier(max_depth=8), bootstrap=True, max_samples=1.0; total time=   5.5s\n",
      "[CV] END base_estimator=DecisionTreeClassifier(max_depth=8), bootstrap=True, max_samples=1.0; total time=   5.5s\n",
      "[CV] END base_estimator=DecisionTreeClassifier(max_depth=8), bootstrap=True, max_samples=1.0; total time=   5.5s\n",
      "[CV] END base_estimator=DecisionTreeClassifier(max_depth=9), bootstrap=True, max_samples=0.6; total time=   4.6s\n",
      "[CV] END base_estimator=DecisionTreeClassifier(max_depth=9), bootstrap=True, max_samples=0.6; total time=   4.4s\n",
      "[CV] END base_estimator=DecisionTreeClassifier(max_depth=9), bootstrap=True, max_samples=0.6; total time=   4.4s\n",
      "[CV] END base_estimator=DecisionTreeClassifier(max_depth=9), bootstrap=True, max_samples=0.6; total time=   4.4s\n",
      "[CV] END base_estimator=DecisionTreeClassifier(max_depth=9), bootstrap=True, max_samples=0.6; total time=   4.4s\n",
      "[CV] END base_estimator=DecisionTreeClassifier(max_depth=9), bootstrap=True, max_samples=0.7; total time=   4.9s\n",
      "[CV] END base_estimator=DecisionTreeClassifier(max_depth=9), bootstrap=True, max_samples=0.7; total time=   4.9s\n",
      "[CV] END base_estimator=DecisionTreeClassifier(max_depth=9), bootstrap=True, max_samples=0.7; total time=   4.9s\n",
      "[CV] END base_estimator=DecisionTreeClassifier(max_depth=9), bootstrap=True, max_samples=0.7; total time=   5.0s\n",
      "[CV] END base_estimator=DecisionTreeClassifier(max_depth=9), bootstrap=True, max_samples=0.7; total time=   5.2s\n",
      "[CV] END base_estimator=DecisionTreeClassifier(max_depth=9), bootstrap=True, max_samples=0.8; total time=   5.7s\n",
      "[CV] END base_estimator=DecisionTreeClassifier(max_depth=9), bootstrap=True, max_samples=0.8; total time=   5.7s\n",
      "[CV] END base_estimator=DecisionTreeClassifier(max_depth=9), bootstrap=True, max_samples=0.8; total time=   5.4s\n",
      "[CV] END base_estimator=DecisionTreeClassifier(max_depth=9), bootstrap=True, max_samples=0.8; total time=   5.4s\n",
      "[CV] END base_estimator=DecisionTreeClassifier(max_depth=9), bootstrap=True, max_samples=0.8; total time=   5.3s\n",
      "[CV] END base_estimator=DecisionTreeClassifier(max_depth=9), bootstrap=True, max_samples=0.9; total time=   5.7s\n",
      "[CV] END base_estimator=DecisionTreeClassifier(max_depth=9), bootstrap=True, max_samples=0.9; total time=   5.7s\n",
      "[CV] END base_estimator=DecisionTreeClassifier(max_depth=9), bootstrap=True, max_samples=0.9; total time=   5.7s\n",
      "[CV] END base_estimator=DecisionTreeClassifier(max_depth=9), bootstrap=True, max_samples=0.9; total time=   5.7s\n",
      "[CV] END base_estimator=DecisionTreeClassifier(max_depth=9), bootstrap=True, max_samples=0.9; total time=   5.6s\n",
      "[CV] END base_estimator=DecisionTreeClassifier(max_depth=9), bootstrap=True, max_samples=0.99; total time=   6.0s\n",
      "[CV] END base_estimator=DecisionTreeClassifier(max_depth=9), bootstrap=True, max_samples=0.99; total time=   5.9s\n",
      "[CV] END base_estimator=DecisionTreeClassifier(max_depth=9), bootstrap=True, max_samples=0.99; total time=   6.0s\n",
      "[CV] END base_estimator=DecisionTreeClassifier(max_depth=9), bootstrap=True, max_samples=0.99; total time=   6.0s\n",
      "[CV] END base_estimator=DecisionTreeClassifier(max_depth=9), bootstrap=True, max_samples=0.99; total time=   6.0s\n",
      "[CV] END base_estimator=DecisionTreeClassifier(max_depth=9), bootstrap=True, max_samples=1.0; total time=   6.0s\n",
      "[CV] END base_estimator=DecisionTreeClassifier(max_depth=9), bootstrap=True, max_samples=1.0; total time=   6.0s\n",
      "[CV] END base_estimator=DecisionTreeClassifier(max_depth=9), bootstrap=True, max_samples=1.0; total time=   6.1s\n",
      "[CV] END base_estimator=DecisionTreeClassifier(max_depth=9), bootstrap=True, max_samples=1.0; total time=   6.1s\n",
      "[CV] END base_estimator=DecisionTreeClassifier(max_depth=9), bootstrap=True, max_samples=1.0; total time=   6.0s\n",
      "[CV] END base_estimator=DecisionTreeClassifier(max_depth=10), bootstrap=True, max_samples=0.6; total time=   4.7s\n",
      "[CV] END base_estimator=DecisionTreeClassifier(max_depth=10), bootstrap=True, max_samples=0.6; total time=   4.7s\n",
      "[CV] END base_estimator=DecisionTreeClassifier(max_depth=10), bootstrap=True, max_samples=0.6; total time=   4.7s\n",
      "[CV] END base_estimator=DecisionTreeClassifier(max_depth=10), bootstrap=True, max_samples=0.6; total time=   4.7s\n",
      "[CV] END base_estimator=DecisionTreeClassifier(max_depth=10), bootstrap=True, max_samples=0.6; total time=   4.7s\n",
      "[CV] END base_estimator=DecisionTreeClassifier(max_depth=10), bootstrap=True, max_samples=0.7; total time=   5.2s\n",
      "[CV] END base_estimator=DecisionTreeClassifier(max_depth=10), bootstrap=True, max_samples=0.7; total time=   5.3s\n",
      "[CV] END base_estimator=DecisionTreeClassifier(max_depth=10), bootstrap=True, max_samples=0.7; total time=   5.2s\n",
      "[CV] END base_estimator=DecisionTreeClassifier(max_depth=10), bootstrap=True, max_samples=0.7; total time=   5.3s\n",
      "[CV] END base_estimator=DecisionTreeClassifier(max_depth=10), bootstrap=True, max_samples=0.7; total time=   5.2s\n",
      "[CV] END base_estimator=DecisionTreeClassifier(max_depth=10), bootstrap=True, max_samples=0.8; total time=   5.7s\n",
      "[CV] END base_estimator=DecisionTreeClassifier(max_depth=10), bootstrap=True, max_samples=0.8; total time=   5.7s\n",
      "[CV] END base_estimator=DecisionTreeClassifier(max_depth=10), bootstrap=True, max_samples=0.8; total time=   5.7s\n",
      "[CV] END base_estimator=DecisionTreeClassifier(max_depth=10), bootstrap=True, max_samples=0.8; total time=   5.7s\n",
      "[CV] END base_estimator=DecisionTreeClassifier(max_depth=10), bootstrap=True, max_samples=0.8; total time=   5.7s\n",
      "[CV] END base_estimator=DecisionTreeClassifier(max_depth=10), bootstrap=True, max_samples=0.9; total time=   6.1s\n",
      "[CV] END base_estimator=DecisionTreeClassifier(max_depth=10), bootstrap=True, max_samples=0.9; total time=   6.2s\n",
      "[CV] END base_estimator=DecisionTreeClassifier(max_depth=10), bootstrap=True, max_samples=0.9; total time=   6.1s\n",
      "[CV] END base_estimator=DecisionTreeClassifier(max_depth=10), bootstrap=True, max_samples=0.9; total time=   6.1s\n",
      "[CV] END base_estimator=DecisionTreeClassifier(max_depth=10), bootstrap=True, max_samples=0.9; total time=   6.1s\n",
      "[CV] END base_estimator=DecisionTreeClassifier(max_depth=10), bootstrap=True, max_samples=0.99; total time=   6.4s\n",
      "[CV] END base_estimator=DecisionTreeClassifier(max_depth=10), bootstrap=True, max_samples=0.99; total time=   6.7s\n",
      "[CV] END base_estimator=DecisionTreeClassifier(max_depth=10), bootstrap=True, max_samples=0.99; total time=   6.7s\n",
      "[CV] END base_estimator=DecisionTreeClassifier(max_depth=10), bootstrap=True, max_samples=0.99; total time=   6.5s\n",
      "[CV] END base_estimator=DecisionTreeClassifier(max_depth=10), bootstrap=True, max_samples=0.99; total time=   6.4s\n",
      "[CV] END base_estimator=DecisionTreeClassifier(max_depth=10), bootstrap=True, max_samples=1.0; total time=   6.4s\n",
      "[CV] END base_estimator=DecisionTreeClassifier(max_depth=10), bootstrap=True, max_samples=1.0; total time=   6.4s\n",
      "[CV] END base_estimator=DecisionTreeClassifier(max_depth=10), bootstrap=True, max_samples=1.0; total time=   6.4s\n",
      "[CV] END base_estimator=DecisionTreeClassifier(max_depth=10), bootstrap=True, max_samples=1.0; total time=   6.4s\n",
      "[CV] END base_estimator=DecisionTreeClassifier(max_depth=10), bootstrap=True, max_samples=1.0; total time=   6.4s\n",
      "[CV] END base_estimator=DecisionTreeClassifier(max_depth=11), bootstrap=True, max_samples=0.6; total time=   4.9s\n",
      "[CV] END base_estimator=DecisionTreeClassifier(max_depth=11), bootstrap=True, max_samples=0.6; total time=   4.9s\n",
      "[CV] END base_estimator=DecisionTreeClassifier(max_depth=11), bootstrap=True, max_samples=0.6; total time=   5.1s\n",
      "[CV] END base_estimator=DecisionTreeClassifier(max_depth=11), bootstrap=True, max_samples=0.6; total time=   5.5s\n",
      "[CV] END base_estimator=DecisionTreeClassifier(max_depth=11), bootstrap=True, max_samples=0.6; total time=   5.1s\n",
      "[CV] END base_estimator=DecisionTreeClassifier(max_depth=11), bootstrap=True, max_samples=0.7; total time=   5.6s\n",
      "[CV] END base_estimator=DecisionTreeClassifier(max_depth=11), bootstrap=True, max_samples=0.7; total time=   5.6s\n",
      "[CV] END base_estimator=DecisionTreeClassifier(max_depth=11), bootstrap=True, max_samples=0.7; total time=   5.5s\n",
      "[CV] END base_estimator=DecisionTreeClassifier(max_depth=11), bootstrap=True, max_samples=0.7; total time=   5.6s\n",
      "[CV] END base_estimator=DecisionTreeClassifier(max_depth=11), bootstrap=True, max_samples=0.7; total time=   5.5s\n",
      "[CV] END base_estimator=DecisionTreeClassifier(max_depth=11), bootstrap=True, max_samples=0.8; total time=   6.0s\n",
      "[CV] END base_estimator=DecisionTreeClassifier(max_depth=11), bootstrap=True, max_samples=0.8; total time=   6.0s\n",
      "[CV] END base_estimator=DecisionTreeClassifier(max_depth=11), bootstrap=True, max_samples=0.8; total time=   6.1s\n",
      "[CV] END base_estimator=DecisionTreeClassifier(max_depth=11), bootstrap=True, max_samples=0.8; total time=   6.0s\n",
      "[CV] END base_estimator=DecisionTreeClassifier(max_depth=11), bootstrap=True, max_samples=0.8; total time=   6.0s\n",
      "[CV] END base_estimator=DecisionTreeClassifier(max_depth=11), bootstrap=True, max_samples=0.9; total time=   6.5s\n",
      "[CV] END base_estimator=DecisionTreeClassifier(max_depth=11), bootstrap=True, max_samples=0.9; total time=   6.4s\n",
      "[CV] END base_estimator=DecisionTreeClassifier(max_depth=11), bootstrap=True, max_samples=0.9; total time=   6.5s\n",
      "[CV] END base_estimator=DecisionTreeClassifier(max_depth=11), bootstrap=True, max_samples=0.9; total time=   6.5s\n",
      "[CV] END base_estimator=DecisionTreeClassifier(max_depth=11), bootstrap=True, max_samples=0.9; total time=   6.4s\n",
      "[CV] END base_estimator=DecisionTreeClassifier(max_depth=11), bootstrap=True, max_samples=0.99; total time=   6.8s\n",
      "[CV] END base_estimator=DecisionTreeClassifier(max_depth=11), bootstrap=True, max_samples=0.99; total time=   6.8s\n",
      "[CV] END base_estimator=DecisionTreeClassifier(max_depth=11), bootstrap=True, max_samples=0.99; total time=   6.9s\n",
      "[CV] END base_estimator=DecisionTreeClassifier(max_depth=11), bootstrap=True, max_samples=0.99; total time=   6.9s\n",
      "[CV] END base_estimator=DecisionTreeClassifier(max_depth=11), bootstrap=True, max_samples=0.99; total time=   6.8s\n",
      "[CV] END base_estimator=DecisionTreeClassifier(max_depth=11), bootstrap=True, max_samples=1.0; total time=   7.0s\n",
      "[CV] END base_estimator=DecisionTreeClassifier(max_depth=11), bootstrap=True, max_samples=1.0; total time=   6.9s\n",
      "[CV] END base_estimator=DecisionTreeClassifier(max_depth=11), bootstrap=True, max_samples=1.0; total time=   6.9s\n",
      "[CV] END base_estimator=DecisionTreeClassifier(max_depth=11), bootstrap=True, max_samples=1.0; total time=   6.9s\n",
      "[CV] END base_estimator=DecisionTreeClassifier(max_depth=11), bootstrap=True, max_samples=1.0; total time=   6.9s\n",
      "[CV] END base_estimator=DecisionTreeClassifier(max_depth=12), bootstrap=True, max_samples=0.6; total time=   5.2s\n",
      "[CV] END base_estimator=DecisionTreeClassifier(max_depth=12), bootstrap=True, max_samples=0.6; total time=   5.3s\n",
      "[CV] END base_estimator=DecisionTreeClassifier(max_depth=12), bootstrap=True, max_samples=0.6; total time=   5.3s\n",
      "[CV] END base_estimator=DecisionTreeClassifier(max_depth=12), bootstrap=True, max_samples=0.6; total time=   5.3s\n",
      "[CV] END base_estimator=DecisionTreeClassifier(max_depth=12), bootstrap=True, max_samples=0.6; total time=   5.2s\n",
      "[CV] END base_estimator=DecisionTreeClassifier(max_depth=12), bootstrap=True, max_samples=0.7; total time=   5.9s\n",
      "[CV] END base_estimator=DecisionTreeClassifier(max_depth=12), bootstrap=True, max_samples=0.7; total time=   5.9s\n",
      "[CV] END base_estimator=DecisionTreeClassifier(max_depth=12), bootstrap=True, max_samples=0.7; total time=   5.9s\n",
      "[CV] END base_estimator=DecisionTreeClassifier(max_depth=12), bootstrap=True, max_samples=0.7; total time=   5.9s\n",
      "[CV] END base_estimator=DecisionTreeClassifier(max_depth=12), bootstrap=True, max_samples=0.7; total time=   5.8s\n",
      "[CV] END base_estimator=DecisionTreeClassifier(max_depth=12), bootstrap=True, max_samples=0.8; total time=   6.4s\n",
      "[CV] END base_estimator=DecisionTreeClassifier(max_depth=12), bootstrap=True, max_samples=0.8; total time=   6.4s\n",
      "[CV] END base_estimator=DecisionTreeClassifier(max_depth=12), bootstrap=True, max_samples=0.8; total time=   6.4s\n",
      "[CV] END base_estimator=DecisionTreeClassifier(max_depth=12), bootstrap=True, max_samples=0.8; total time=   6.4s\n",
      "[CV] END base_estimator=DecisionTreeClassifier(max_depth=12), bootstrap=True, max_samples=0.8; total time=   6.4s\n",
      "[CV] END base_estimator=DecisionTreeClassifier(max_depth=12), bootstrap=True, max_samples=0.9; total time=   6.9s\n",
      "[CV] END base_estimator=DecisionTreeClassifier(max_depth=12), bootstrap=True, max_samples=0.9; total time=   6.9s\n",
      "[CV] END base_estimator=DecisionTreeClassifier(max_depth=12), bootstrap=True, max_samples=0.9; total time=   6.9s\n",
      "[CV] END base_estimator=DecisionTreeClassifier(max_depth=12), bootstrap=True, max_samples=0.9; total time=   6.8s\n",
      "[CV] END base_estimator=DecisionTreeClassifier(max_depth=12), bootstrap=True, max_samples=0.9; total time=   6.8s\n",
      "[CV] END base_estimator=DecisionTreeClassifier(max_depth=12), bootstrap=True, max_samples=0.99; total time=   7.2s\n",
      "[CV] END base_estimator=DecisionTreeClassifier(max_depth=12), bootstrap=True, max_samples=0.99; total time=   7.5s\n",
      "[CV] END base_estimator=DecisionTreeClassifier(max_depth=12), bootstrap=True, max_samples=0.99; total time=   7.4s\n",
      "[CV] END base_estimator=DecisionTreeClassifier(max_depth=12), bootstrap=True, max_samples=0.99; total time=   7.3s\n",
      "[CV] END base_estimator=DecisionTreeClassifier(max_depth=12), bootstrap=True, max_samples=0.99; total time=   7.2s\n",
      "[CV] END base_estimator=DecisionTreeClassifier(max_depth=12), bootstrap=True, max_samples=1.0; total time=   7.4s\n",
      "[CV] END base_estimator=DecisionTreeClassifier(max_depth=12), bootstrap=True, max_samples=1.0; total time=   7.4s\n",
      "[CV] END base_estimator=DecisionTreeClassifier(max_depth=12), bootstrap=True, max_samples=1.0; total time=   7.4s\n",
      "[CV] END base_estimator=DecisionTreeClassifier(max_depth=12), bootstrap=True, max_samples=1.0; total time=   7.4s\n",
      "[CV] END base_estimator=DecisionTreeClassifier(max_depth=12), bootstrap=True, max_samples=1.0; total time=   7.4s\n",
      "[CV] END base_estimator=DecisionTreeClassifier(max_depth=13), bootstrap=True, max_samples=0.6; total time=   5.6s\n",
      "[CV] END base_estimator=DecisionTreeClassifier(max_depth=13), bootstrap=True, max_samples=0.6; total time=   5.6s\n",
      "[CV] END base_estimator=DecisionTreeClassifier(max_depth=13), bootstrap=True, max_samples=0.6; total time=   5.6s\n",
      "[CV] END base_estimator=DecisionTreeClassifier(max_depth=13), bootstrap=True, max_samples=0.6; total time=   5.6s\n",
      "[CV] END base_estimator=DecisionTreeClassifier(max_depth=13), bootstrap=True, max_samples=0.6; total time=   5.6s\n",
      "[CV] END base_estimator=DecisionTreeClassifier(max_depth=13), bootstrap=True, max_samples=0.7; total time=   6.2s\n",
      "[CV] END base_estimator=DecisionTreeClassifier(max_depth=13), bootstrap=True, max_samples=0.7; total time=   6.2s\n",
      "[CV] END base_estimator=DecisionTreeClassifier(max_depth=13), bootstrap=True, max_samples=0.7; total time=   6.2s\n",
      "[CV] END base_estimator=DecisionTreeClassifier(max_depth=13), bootstrap=True, max_samples=0.7; total time=   6.2s\n",
      "[CV] END base_estimator=DecisionTreeClassifier(max_depth=13), bootstrap=True, max_samples=0.7; total time=   6.2s\n",
      "[CV] END base_estimator=DecisionTreeClassifier(max_depth=13), bootstrap=True, max_samples=0.8; total time=   6.8s\n",
      "[CV] END base_estimator=DecisionTreeClassifier(max_depth=13), bootstrap=True, max_samples=0.8; total time=   6.8s\n",
      "[CV] END base_estimator=DecisionTreeClassifier(max_depth=13), bootstrap=True, max_samples=0.8; total time=   6.8s\n",
      "[CV] END base_estimator=DecisionTreeClassifier(max_depth=13), bootstrap=True, max_samples=0.8; total time=   6.8s\n",
      "[CV] END base_estimator=DecisionTreeClassifier(max_depth=13), bootstrap=True, max_samples=0.8; total time=   6.8s\n",
      "[CV] END base_estimator=DecisionTreeClassifier(max_depth=13), bootstrap=True, max_samples=0.9; total time=   7.3s\n",
      "[CV] END base_estimator=DecisionTreeClassifier(max_depth=13), bootstrap=True, max_samples=0.9; total time=   7.3s\n",
      "[CV] END base_estimator=DecisionTreeClassifier(max_depth=13), bootstrap=True, max_samples=0.9; total time=   7.6s\n",
      "[CV] END base_estimator=DecisionTreeClassifier(max_depth=13), bootstrap=True, max_samples=0.9; total time=   7.3s\n",
      "[CV] END base_estimator=DecisionTreeClassifier(max_depth=13), bootstrap=True, max_samples=0.9; total time=   7.3s\n",
      "[CV] END base_estimator=DecisionTreeClassifier(max_depth=13), bootstrap=True, max_samples=0.99; total time=   7.8s\n",
      "[CV] END base_estimator=DecisionTreeClassifier(max_depth=13), bootstrap=True, max_samples=0.99; total time=   7.7s\n",
      "[CV] END base_estimator=DecisionTreeClassifier(max_depth=13), bootstrap=True, max_samples=0.99; total time=   7.7s\n",
      "[CV] END base_estimator=DecisionTreeClassifier(max_depth=13), bootstrap=True, max_samples=0.99; total time=   7.7s\n",
      "[CV] END base_estimator=DecisionTreeClassifier(max_depth=13), bootstrap=True, max_samples=0.99; total time=   7.7s\n",
      "[CV] END base_estimator=DecisionTreeClassifier(max_depth=13), bootstrap=True, max_samples=1.0; total time=   7.7s\n",
      "[CV] END base_estimator=DecisionTreeClassifier(max_depth=13), bootstrap=True, max_samples=1.0; total time=   7.7s\n",
      "[CV] END base_estimator=DecisionTreeClassifier(max_depth=13), bootstrap=True, max_samples=1.0; total time=   7.8s\n",
      "[CV] END base_estimator=DecisionTreeClassifier(max_depth=13), bootstrap=True, max_samples=1.0; total time=   7.7s\n",
      "[CV] END base_estimator=DecisionTreeClassifier(max_depth=13), bootstrap=True, max_samples=1.0; total time=   7.7s\n",
      "[CV] END base_estimator=DecisionTreeClassifier(max_depth=14), bootstrap=True, max_samples=0.6; total time=   5.9s\n",
      "[CV] END base_estimator=DecisionTreeClassifier(max_depth=14), bootstrap=True, max_samples=0.6; total time=   5.9s\n",
      "[CV] END base_estimator=DecisionTreeClassifier(max_depth=14), bootstrap=True, max_samples=0.6; total time=   5.9s\n",
      "[CV] END base_estimator=DecisionTreeClassifier(max_depth=14), bootstrap=True, max_samples=0.6; total time=   5.9s\n",
      "[CV] END base_estimator=DecisionTreeClassifier(max_depth=14), bootstrap=True, max_samples=0.6; total time=   6.0s\n",
      "[CV] END base_estimator=DecisionTreeClassifier(max_depth=14), bootstrap=True, max_samples=0.7; total time=   6.6s\n",
      "[CV] END base_estimator=DecisionTreeClassifier(max_depth=14), bootstrap=True, max_samples=0.7; total time=   6.5s\n",
      "[CV] END base_estimator=DecisionTreeClassifier(max_depth=14), bootstrap=True, max_samples=0.7; total time=   6.8s\n",
      "[CV] END base_estimator=DecisionTreeClassifier(max_depth=14), bootstrap=True, max_samples=0.7; total time=   6.7s\n",
      "[CV] END base_estimator=DecisionTreeClassifier(max_depth=14), bootstrap=True, max_samples=0.7; total time=   6.5s\n",
      "[CV] END base_estimator=DecisionTreeClassifier(max_depth=14), bootstrap=True, max_samples=0.8; total time=   7.4s\n",
      "[CV] END base_estimator=DecisionTreeClassifier(max_depth=14), bootstrap=True, max_samples=0.8; total time=   7.3s\n",
      "[CV] END base_estimator=DecisionTreeClassifier(max_depth=14), bootstrap=True, max_samples=0.8; total time=   7.2s\n",
      "[CV] END base_estimator=DecisionTreeClassifier(max_depth=14), bootstrap=True, max_samples=0.8; total time=   7.2s\n",
      "[CV] END base_estimator=DecisionTreeClassifier(max_depth=14), bootstrap=True, max_samples=0.8; total time=   7.1s\n",
      "[CV] END base_estimator=DecisionTreeClassifier(max_depth=14), bootstrap=True, max_samples=0.9; total time=   7.6s\n",
      "[CV] END base_estimator=DecisionTreeClassifier(max_depth=14), bootstrap=True, max_samples=0.9; total time=   7.7s\n",
      "[CV] END base_estimator=DecisionTreeClassifier(max_depth=14), bootstrap=True, max_samples=0.9; total time=   7.6s\n",
      "[CV] END base_estimator=DecisionTreeClassifier(max_depth=14), bootstrap=True, max_samples=0.9; total time=   7.7s\n",
      "[CV] END base_estimator=DecisionTreeClassifier(max_depth=14), bootstrap=True, max_samples=0.9; total time=   7.6s\n",
      "[CV] END base_estimator=DecisionTreeClassifier(max_depth=14), bootstrap=True, max_samples=0.99; total time=   8.1s\n",
      "[CV] END base_estimator=DecisionTreeClassifier(max_depth=14), bootstrap=True, max_samples=0.99; total time=   8.0s\n",
      "[CV] END base_estimator=DecisionTreeClassifier(max_depth=14), bootstrap=True, max_samples=0.99; total time=   8.1s\n",
      "[CV] END base_estimator=DecisionTreeClassifier(max_depth=14), bootstrap=True, max_samples=0.99; total time=   8.1s\n",
      "[CV] END base_estimator=DecisionTreeClassifier(max_depth=14), bootstrap=True, max_samples=0.99; total time=   8.0s\n",
      "[CV] END base_estimator=DecisionTreeClassifier(max_depth=14), bootstrap=True, max_samples=1.0; total time=   8.1s\n",
      "[CV] END base_estimator=DecisionTreeClassifier(max_depth=14), bootstrap=True, max_samples=1.0; total time=   8.1s\n",
      "[CV] END base_estimator=DecisionTreeClassifier(max_depth=14), bootstrap=True, max_samples=1.0; total time=   8.1s\n",
      "[CV] END base_estimator=DecisionTreeClassifier(max_depth=14), bootstrap=True, max_samples=1.0; total time=   8.1s\n",
      "[CV] END base_estimator=DecisionTreeClassifier(max_depth=14), bootstrap=True, max_samples=1.0; total time=   8.1s\n",
      "Best Hyperparameters for Bagging\n",
      "{'base_estimator': DecisionTreeClassifier(max_depth=14), 'bootstrap': True, 'max_samples': 0.99}\n"
     ]
    }
   ],
   "source": [
    "# Tuning Bagging Classifier\n",
    "term = range(1,15)\n",
    "hyperparameters_bag = {\n",
    "    'max_samples': [0.6,0.7,0.8,0.9,0.99,1.0],\n",
    "    'base_estimator': [DecisionTreeClassifier(max_depth=d) for d in term],\n",
    "    'bootstrap': [True]\n",
    "}\n",
    "clf = GridSearchCV(BaggingClassifier(),\n",
    "                   hyperparameters_bag, cv=5, scoring=scoring, verbose=2)\n",
    "clf.fit(X_train, y_train)\n",
    "print(\"Best Hyperparameters for Bagging\")\n",
    "print(clf.best_params_)\n",
    "tuned_model_RF = clf.best_estimator_\n",
    "\n",
    "\n"
   ]
  },
  {
   "cell_type": "code",
   "execution_count": 117,
   "metadata": {},
   "outputs": [
    {
     "name": "stderr",
     "output_type": "stream",
     "text": [
      "100%|██████████| 6/6 [01:49<00:00, 18.25s/it]\n"
     ]
    }
   ],
   "source": [
    "training_accuracy_bag = []\n",
    "test_accuracy_bag = []\n",
    "\n",
    "max_samples_bag = [0.6, 0.7, 0.8, 0.9, 0.99, 1.0]\n",
    "\n",
    "\n",
    "for md in tqdm(max_samples_bag):\n",
    "    tree_bag = BaggingClassifier(max_samples=md, random_state=seed)\n",
    "    tree_bag.fit(X_train, y_train)\n",
    "    training_accuracy_bag.append(tree_bag.score(X_train, y_train))\n",
    "    test_accuracy_bag.append(tree_bag.score(X_test, y_test))\n",
    "\n"
   ]
  },
  {
   "cell_type": "code",
   "execution_count": 114,
   "metadata": {},
   "outputs": [
    {
     "data": {
      "application/vnd.plotly.v1+json": {
       "config": {
        "plotlyServerURL": "https://plot.ly"
       },
       "data": [
        {
         "hovertemplate": "Min Sample leaf: %{x}<br>Training Accuracy: %{y:.2f}",
         "line": {
          "color": "blue",
          "width": 2
         },
         "marker": {
          "color": "blue",
          "size": 8,
          "symbol": "circle"
         },
         "mode": "lines+markers",
         "name": "Accuracy of the training set",
         "type": "scatter",
         "x": [
          0.6,
          0.7,
          0.8,
          0.9,
          0.99,
          1
         ],
         "y": [
          0.9500070752557497,
          0.9649663855986638,
          0.9750798394055675,
          0.982064920327071,
          0.9866666111744647,
          0.9871715902122854
         ]
        },
        {
         "hovertemplate": "Min Sample leaf: %{x}<br>Test Accuracy: %{y:.2f}",
         "line": {
          "color": "red",
          "width": 2
         },
         "marker": {
          "color": "red",
          "size": 8,
          "symbol": "circle"
         },
         "mode": "lines+markers",
         "name": "Accuracy of the test set",
         "type": "scatter",
         "x": [
          0.6,
          0.7,
          0.8,
          0.9,
          0.99,
          1
         ],
         "y": [
          0.7384326825965839,
          0.7549138208494722,
          0.7678712140550259,
          0.7777432493923621,
          0.7865442882035004,
          0.7880758687280113
         ]
        }
       ],
       "layout": {
        "font": {
         "color": "RebeccaPurple",
         "family": "Arial, monospace",
         "size": 14
        },
        "height": 500,
        "hovermode": "x unified",
        "legend": {
         "bgcolor": "rgba(255, 255, 255, 0)",
         "bordercolor": "rgba(255, 255, 255, 0)",
         "x": 1,
         "y": 1
        },
        "template": {
         "data": {
          "bar": [
           {
            "error_x": {
             "color": "#2a3f5f"
            },
            "error_y": {
             "color": "#2a3f5f"
            },
            "marker": {
             "line": {
              "color": "white",
              "width": 0.5
             },
             "pattern": {
              "fillmode": "overlay",
              "size": 10,
              "solidity": 0.2
             }
            },
            "type": "bar"
           }
          ],
          "barpolar": [
           {
            "marker": {
             "line": {
              "color": "white",
              "width": 0.5
             },
             "pattern": {
              "fillmode": "overlay",
              "size": 10,
              "solidity": 0.2
             }
            },
            "type": "barpolar"
           }
          ],
          "carpet": [
           {
            "aaxis": {
             "endlinecolor": "#2a3f5f",
             "gridcolor": "#C8D4E3",
             "linecolor": "#C8D4E3",
             "minorgridcolor": "#C8D4E3",
             "startlinecolor": "#2a3f5f"
            },
            "baxis": {
             "endlinecolor": "#2a3f5f",
             "gridcolor": "#C8D4E3",
             "linecolor": "#C8D4E3",
             "minorgridcolor": "#C8D4E3",
             "startlinecolor": "#2a3f5f"
            },
            "type": "carpet"
           }
          ],
          "choropleth": [
           {
            "colorbar": {
             "outlinewidth": 0,
             "ticks": ""
            },
            "type": "choropleth"
           }
          ],
          "contour": [
           {
            "colorbar": {
             "outlinewidth": 0,
             "ticks": ""
            },
            "colorscale": [
             [
              0,
              "#0d0887"
             ],
             [
              0.1111111111111111,
              "#46039f"
             ],
             [
              0.2222222222222222,
              "#7201a8"
             ],
             [
              0.3333333333333333,
              "#9c179e"
             ],
             [
              0.4444444444444444,
              "#bd3786"
             ],
             [
              0.5555555555555556,
              "#d8576b"
             ],
             [
              0.6666666666666666,
              "#ed7953"
             ],
             [
              0.7777777777777778,
              "#fb9f3a"
             ],
             [
              0.8888888888888888,
              "#fdca26"
             ],
             [
              1,
              "#f0f921"
             ]
            ],
            "type": "contour"
           }
          ],
          "contourcarpet": [
           {
            "colorbar": {
             "outlinewidth": 0,
             "ticks": ""
            },
            "type": "contourcarpet"
           }
          ],
          "heatmap": [
           {
            "colorbar": {
             "outlinewidth": 0,
             "ticks": ""
            },
            "colorscale": [
             [
              0,
              "#0d0887"
             ],
             [
              0.1111111111111111,
              "#46039f"
             ],
             [
              0.2222222222222222,
              "#7201a8"
             ],
             [
              0.3333333333333333,
              "#9c179e"
             ],
             [
              0.4444444444444444,
              "#bd3786"
             ],
             [
              0.5555555555555556,
              "#d8576b"
             ],
             [
              0.6666666666666666,
              "#ed7953"
             ],
             [
              0.7777777777777778,
              "#fb9f3a"
             ],
             [
              0.8888888888888888,
              "#fdca26"
             ],
             [
              1,
              "#f0f921"
             ]
            ],
            "type": "heatmap"
           }
          ],
          "heatmapgl": [
           {
            "colorbar": {
             "outlinewidth": 0,
             "ticks": ""
            },
            "colorscale": [
             [
              0,
              "#0d0887"
             ],
             [
              0.1111111111111111,
              "#46039f"
             ],
             [
              0.2222222222222222,
              "#7201a8"
             ],
             [
              0.3333333333333333,
              "#9c179e"
             ],
             [
              0.4444444444444444,
              "#bd3786"
             ],
             [
              0.5555555555555556,
              "#d8576b"
             ],
             [
              0.6666666666666666,
              "#ed7953"
             ],
             [
              0.7777777777777778,
              "#fb9f3a"
             ],
             [
              0.8888888888888888,
              "#fdca26"
             ],
             [
              1,
              "#f0f921"
             ]
            ],
            "type": "heatmapgl"
           }
          ],
          "histogram": [
           {
            "marker": {
             "pattern": {
              "fillmode": "overlay",
              "size": 10,
              "solidity": 0.2
             }
            },
            "type": "histogram"
           }
          ],
          "histogram2d": [
           {
            "colorbar": {
             "outlinewidth": 0,
             "ticks": ""
            },
            "colorscale": [
             [
              0,
              "#0d0887"
             ],
             [
              0.1111111111111111,
              "#46039f"
             ],
             [
              0.2222222222222222,
              "#7201a8"
             ],
             [
              0.3333333333333333,
              "#9c179e"
             ],
             [
              0.4444444444444444,
              "#bd3786"
             ],
             [
              0.5555555555555556,
              "#d8576b"
             ],
             [
              0.6666666666666666,
              "#ed7953"
             ],
             [
              0.7777777777777778,
              "#fb9f3a"
             ],
             [
              0.8888888888888888,
              "#fdca26"
             ],
             [
              1,
              "#f0f921"
             ]
            ],
            "type": "histogram2d"
           }
          ],
          "histogram2dcontour": [
           {
            "colorbar": {
             "outlinewidth": 0,
             "ticks": ""
            },
            "colorscale": [
             [
              0,
              "#0d0887"
             ],
             [
              0.1111111111111111,
              "#46039f"
             ],
             [
              0.2222222222222222,
              "#7201a8"
             ],
             [
              0.3333333333333333,
              "#9c179e"
             ],
             [
              0.4444444444444444,
              "#bd3786"
             ],
             [
              0.5555555555555556,
              "#d8576b"
             ],
             [
              0.6666666666666666,
              "#ed7953"
             ],
             [
              0.7777777777777778,
              "#fb9f3a"
             ],
             [
              0.8888888888888888,
              "#fdca26"
             ],
             [
              1,
              "#f0f921"
             ]
            ],
            "type": "histogram2dcontour"
           }
          ],
          "mesh3d": [
           {
            "colorbar": {
             "outlinewidth": 0,
             "ticks": ""
            },
            "type": "mesh3d"
           }
          ],
          "parcoords": [
           {
            "line": {
             "colorbar": {
              "outlinewidth": 0,
              "ticks": ""
             }
            },
            "type": "parcoords"
           }
          ],
          "pie": [
           {
            "automargin": true,
            "type": "pie"
           }
          ],
          "scatter": [
           {
            "fillpattern": {
             "fillmode": "overlay",
             "size": 10,
             "solidity": 0.2
            },
            "type": "scatter"
           }
          ],
          "scatter3d": [
           {
            "line": {
             "colorbar": {
              "outlinewidth": 0,
              "ticks": ""
             }
            },
            "marker": {
             "colorbar": {
              "outlinewidth": 0,
              "ticks": ""
             }
            },
            "type": "scatter3d"
           }
          ],
          "scattercarpet": [
           {
            "marker": {
             "colorbar": {
              "outlinewidth": 0,
              "ticks": ""
             }
            },
            "type": "scattercarpet"
           }
          ],
          "scattergeo": [
           {
            "marker": {
             "colorbar": {
              "outlinewidth": 0,
              "ticks": ""
             }
            },
            "type": "scattergeo"
           }
          ],
          "scattergl": [
           {
            "marker": {
             "colorbar": {
              "outlinewidth": 0,
              "ticks": ""
             }
            },
            "type": "scattergl"
           }
          ],
          "scattermapbox": [
           {
            "marker": {
             "colorbar": {
              "outlinewidth": 0,
              "ticks": ""
             }
            },
            "type": "scattermapbox"
           }
          ],
          "scatterpolar": [
           {
            "marker": {
             "colorbar": {
              "outlinewidth": 0,
              "ticks": ""
             }
            },
            "type": "scatterpolar"
           }
          ],
          "scatterpolargl": [
           {
            "marker": {
             "colorbar": {
              "outlinewidth": 0,
              "ticks": ""
             }
            },
            "type": "scatterpolargl"
           }
          ],
          "scatterternary": [
           {
            "marker": {
             "colorbar": {
              "outlinewidth": 0,
              "ticks": ""
             }
            },
            "type": "scatterternary"
           }
          ],
          "surface": [
           {
            "colorbar": {
             "outlinewidth": 0,
             "ticks": ""
            },
            "colorscale": [
             [
              0,
              "#0d0887"
             ],
             [
              0.1111111111111111,
              "#46039f"
             ],
             [
              0.2222222222222222,
              "#7201a8"
             ],
             [
              0.3333333333333333,
              "#9c179e"
             ],
             [
              0.4444444444444444,
              "#bd3786"
             ],
             [
              0.5555555555555556,
              "#d8576b"
             ],
             [
              0.6666666666666666,
              "#ed7953"
             ],
             [
              0.7777777777777778,
              "#fb9f3a"
             ],
             [
              0.8888888888888888,
              "#fdca26"
             ],
             [
              1,
              "#f0f921"
             ]
            ],
            "type": "surface"
           }
          ],
          "table": [
           {
            "cells": {
             "fill": {
              "color": "#EBF0F8"
             },
             "line": {
              "color": "white"
             }
            },
            "header": {
             "fill": {
              "color": "#C8D4E3"
             },
             "line": {
              "color": "white"
             }
            },
            "type": "table"
           }
          ]
         },
         "layout": {
          "annotationdefaults": {
           "arrowcolor": "#2a3f5f",
           "arrowhead": 0,
           "arrowwidth": 1
          },
          "autotypenumbers": "strict",
          "coloraxis": {
           "colorbar": {
            "outlinewidth": 0,
            "ticks": ""
           }
          },
          "colorscale": {
           "diverging": [
            [
             0,
             "#8e0152"
            ],
            [
             0.1,
             "#c51b7d"
            ],
            [
             0.2,
             "#de77ae"
            ],
            [
             0.3,
             "#f1b6da"
            ],
            [
             0.4,
             "#fde0ef"
            ],
            [
             0.5,
             "#f7f7f7"
            ],
            [
             0.6,
             "#e6f5d0"
            ],
            [
             0.7,
             "#b8e186"
            ],
            [
             0.8,
             "#7fbc41"
            ],
            [
             0.9,
             "#4d9221"
            ],
            [
             1,
             "#276419"
            ]
           ],
           "sequential": [
            [
             0,
             "#0d0887"
            ],
            [
             0.1111111111111111,
             "#46039f"
            ],
            [
             0.2222222222222222,
             "#7201a8"
            ],
            [
             0.3333333333333333,
             "#9c179e"
            ],
            [
             0.4444444444444444,
             "#bd3786"
            ],
            [
             0.5555555555555556,
             "#d8576b"
            ],
            [
             0.6666666666666666,
             "#ed7953"
            ],
            [
             0.7777777777777778,
             "#fb9f3a"
            ],
            [
             0.8888888888888888,
             "#fdca26"
            ],
            [
             1,
             "#f0f921"
            ]
           ],
           "sequentialminus": [
            [
             0,
             "#0d0887"
            ],
            [
             0.1111111111111111,
             "#46039f"
            ],
            [
             0.2222222222222222,
             "#7201a8"
            ],
            [
             0.3333333333333333,
             "#9c179e"
            ],
            [
             0.4444444444444444,
             "#bd3786"
            ],
            [
             0.5555555555555556,
             "#d8576b"
            ],
            [
             0.6666666666666666,
             "#ed7953"
            ],
            [
             0.7777777777777778,
             "#fb9f3a"
            ],
            [
             0.8888888888888888,
             "#fdca26"
            ],
            [
             1,
             "#f0f921"
            ]
           ]
          },
          "colorway": [
           "#636efa",
           "#EF553B",
           "#00cc96",
           "#ab63fa",
           "#FFA15A",
           "#19d3f3",
           "#FF6692",
           "#B6E880",
           "#FF97FF",
           "#FECB52"
          ],
          "font": {
           "color": "#2a3f5f"
          },
          "geo": {
           "bgcolor": "white",
           "lakecolor": "white",
           "landcolor": "white",
           "showlakes": true,
           "showland": true,
           "subunitcolor": "#C8D4E3"
          },
          "hoverlabel": {
           "align": "left"
          },
          "hovermode": "closest",
          "mapbox": {
           "style": "light"
          },
          "paper_bgcolor": "white",
          "plot_bgcolor": "white",
          "polar": {
           "angularaxis": {
            "gridcolor": "#EBF0F8",
            "linecolor": "#EBF0F8",
            "ticks": ""
           },
           "bgcolor": "white",
           "radialaxis": {
            "gridcolor": "#EBF0F8",
            "linecolor": "#EBF0F8",
            "ticks": ""
           }
          },
          "scene": {
           "xaxis": {
            "backgroundcolor": "white",
            "gridcolor": "#DFE8F3",
            "gridwidth": 2,
            "linecolor": "#EBF0F8",
            "showbackground": true,
            "ticks": "",
            "zerolinecolor": "#EBF0F8"
           },
           "yaxis": {
            "backgroundcolor": "white",
            "gridcolor": "#DFE8F3",
            "gridwidth": 2,
            "linecolor": "#EBF0F8",
            "showbackground": true,
            "ticks": "",
            "zerolinecolor": "#EBF0F8"
           },
           "zaxis": {
            "backgroundcolor": "white",
            "gridcolor": "#DFE8F3",
            "gridwidth": 2,
            "linecolor": "#EBF0F8",
            "showbackground": true,
            "ticks": "",
            "zerolinecolor": "#EBF0F8"
           }
          },
          "shapedefaults": {
           "line": {
            "color": "#2a3f5f"
           }
          },
          "ternary": {
           "aaxis": {
            "gridcolor": "#DFE8F3",
            "linecolor": "#A2B1C6",
            "ticks": ""
           },
           "baxis": {
            "gridcolor": "#DFE8F3",
            "linecolor": "#A2B1C6",
            "ticks": ""
           },
           "bgcolor": "white",
           "caxis": {
            "gridcolor": "#DFE8F3",
            "linecolor": "#A2B1C6",
            "ticks": ""
           }
          },
          "title": {
           "x": 0.05
          },
          "xaxis": {
           "automargin": true,
           "gridcolor": "#EBF0F8",
           "linecolor": "#EBF0F8",
           "ticks": "",
           "title": {
            "standoff": 15
           },
           "zerolinecolor": "#EBF0F8",
           "zerolinewidth": 2
          },
          "yaxis": {
           "automargin": true,
           "gridcolor": "#EBF0F8",
           "linecolor": "#EBF0F8",
           "ticks": "",
           "title": {
            "standoff": 15
           },
           "zerolinecolor": "#EBF0F8",
           "zerolinewidth": 2
          }
         }
        },
        "title": {
         "text": "Model Accuracy vs Min Sample leaf in Decision Tree"
        },
        "width": 1000,
        "xaxis": {
         "title": {
          "text": "Max Samples"
         }
        },
        "yaxis": {
         "title": {
          "text": "Accuracy"
         }
        }
       }
      }
     },
     "metadata": {},
     "output_type": "display_data"
    }
   ],
   "source": [
    "# Create the interactive line chart\n",
    "fig = go.Figure()\n",
    "\n",
    "fig.add_trace(go.Scatter(\n",
    "    x=list(max_samples_bag),\n",
    "    y=training_accuracy_bag,\n",
    "    mode='lines+markers',\n",
    "    name='Accuracy of the training set',\n",
    "    line=dict(color='blue', width=2),\n",
    "    marker=dict(size=8, symbol='circle', color='blue'),\n",
    "    hovertemplate='Min Sample leaf: %{x}<br>Training Accuracy: %{y:.2f}'\n",
    "))\n",
    "\n",
    "fig.add_trace(go.Scatter(\n",
    "    x=list(max_samples_bag),\n",
    "    y=test_accuracy_bag,\n",
    "    mode='lines+markers',\n",
    "    name='Accuracy of the test set',\n",
    "    line=dict(color='red', width=2),\n",
    "    marker=dict(size=8, symbol='circle', color='red'),\n",
    "    hovertemplate='Min Sample leaf: %{x}<br>Test Accuracy: %{y:.2f}'\n",
    "))\n",
    "\n",
    "fig.update_layout(\n",
    "    title='Model Accuracy vs Min Sample leaf in Decision Tree',\n",
    "    xaxis_title='Max Samples',\n",
    "    yaxis_title='Accuracy',\n",
    "    legend=dict(\n",
    "        x=1,\n",
    "        y=1,\n",
    "        bgcolor='rgba(255, 255, 255, 0)',\n",
    "        bordercolor='rgba(255, 255, 255, 0)'\n",
    "    ),\n",
    "    template='plotly_white',\n",
    "    font=dict(\n",
    "        family=\"Arial, monospace\",\n",
    "        size=14,\n",
    "        color=\"RebeccaPurple\"\n",
    "    ),\n",
    "    hovermode='x unified',\n",
    "    width=1000,\n",
    "    height=500\n",
    ")\n",
    "\n",
    "# Show the interactive plot\n",
    "fig.show()\n"
   ]
  },
  {
   "cell_type": "code",
   "execution_count": 115,
   "metadata": {},
   "outputs": [
    {
     "name": "stderr",
     "output_type": "stream",
     "text": [
      "100%|██████████| 14/14 [01:35<00:00,  6.81s/it]\n"
     ]
    }
   ],
   "source": [
    "training_accuracy_bag1 = []\n",
    "test_accuracy_bag1 = []\n",
    "\n",
    "base_estimator1 = [DecisionTreeClassifier(max_depth=d) for d in term]\n",
    "\n",
    "\n",
    "for md in tqdm(base_estimator1):\n",
    "    tree_bag1 = BaggingClassifier(base_estimator=md, random_state=seed)\n",
    "    tree_bag1.fit(X_train, y_train)\n",
    "    training_accuracy_bag1.append(tree_bag1.score(X_train, y_train))\n",
    "    test_accuracy_bag1.append(tree_bag1.score(X_test, y_test))\n"
   ]
  },
  {
   "cell_type": "code",
   "execution_count": 116,
   "metadata": {},
   "outputs": [
    {
     "data": {
      "application/vnd.plotly.v1+json": {
       "config": {
        "plotlyServerURL": "https://plot.ly"
       },
       "data": [
        {
         "hovertemplate": "Min Sample leaf: %{x}<br>Training Accuracy: %{y:.2f}",
         "line": {
          "color": "blue",
          "width": 2
         },
         "marker": {
          "color": "blue",
          "size": 8,
          "symbol": "circle"
         },
         "mode": "lines+markers",
         "name": "Accuracy of the training set",
         "type": "scatter",
         "x": [
          1,
          2,
          3,
          4,
          5,
          6,
          7,
          8,
          9,
          10,
          11,
          12,
          13,
          14
         ],
         "y": [
          0.53147378964571,
          0.5504243766144763,
          0.5499998612694951,
          0.558588666827594,
          0.562653470621041,
          0.5708274719695015,
          0.5741514548668049,
          0.5822755132335029,
          0.5882201153682879,
          0.595682429226633,
          0.6052159895230723,
          0.6155763836286906,
          0.6279206239543188,
          0.6433308084381443
         ]
        },
        {
         "hovertemplate": "Min Sample leaf: %{x}<br>Test Accuracy: %{y:.2f}",
         "line": {
          "color": "red",
          "width": 2
         },
         "marker": {
          "color": "red",
          "size": 8,
          "symbol": "circle"
         },
         "mode": "lines+markers",
         "name": "Accuracy of the test set",
         "type": "scatter",
         "x": [
          1,
          2,
          3,
          4,
          5,
          6,
          7,
          8,
          9,
          10,
          11,
          12,
          13,
          14
         ],
         "y": [
          0.5331953431073327,
          0.5533944485755191,
          0.551546563377468,
          0.5622010365914565,
          0.5652364516164834,
          0.5720730719287926,
          0.5746035093171149,
          0.580396879127221,
          0.5849028334239703,
          0.590291111283753,
          0.5960955795034572,
          0.6020054826143414,
          0.6092138996481804,
          0.6159672818885054
         ]
        }
       ],
       "layout": {
        "font": {
         "color": "RebeccaPurple",
         "family": "Arial, monospace",
         "size": 14
        },
        "height": 500,
        "hovermode": "x unified",
        "legend": {
         "bgcolor": "rgba(255, 255, 255, 0)",
         "bordercolor": "rgba(255, 255, 255, 0)",
         "x": 1,
         "y": 1
        },
        "template": {
         "data": {
          "bar": [
           {
            "error_x": {
             "color": "#2a3f5f"
            },
            "error_y": {
             "color": "#2a3f5f"
            },
            "marker": {
             "line": {
              "color": "white",
              "width": 0.5
             },
             "pattern": {
              "fillmode": "overlay",
              "size": 10,
              "solidity": 0.2
             }
            },
            "type": "bar"
           }
          ],
          "barpolar": [
           {
            "marker": {
             "line": {
              "color": "white",
              "width": 0.5
             },
             "pattern": {
              "fillmode": "overlay",
              "size": 10,
              "solidity": 0.2
             }
            },
            "type": "barpolar"
           }
          ],
          "carpet": [
           {
            "aaxis": {
             "endlinecolor": "#2a3f5f",
             "gridcolor": "#C8D4E3",
             "linecolor": "#C8D4E3",
             "minorgridcolor": "#C8D4E3",
             "startlinecolor": "#2a3f5f"
            },
            "baxis": {
             "endlinecolor": "#2a3f5f",
             "gridcolor": "#C8D4E3",
             "linecolor": "#C8D4E3",
             "minorgridcolor": "#C8D4E3",
             "startlinecolor": "#2a3f5f"
            },
            "type": "carpet"
           }
          ],
          "choropleth": [
           {
            "colorbar": {
             "outlinewidth": 0,
             "ticks": ""
            },
            "type": "choropleth"
           }
          ],
          "contour": [
           {
            "colorbar": {
             "outlinewidth": 0,
             "ticks": ""
            },
            "colorscale": [
             [
              0,
              "#0d0887"
             ],
             [
              0.1111111111111111,
              "#46039f"
             ],
             [
              0.2222222222222222,
              "#7201a8"
             ],
             [
              0.3333333333333333,
              "#9c179e"
             ],
             [
              0.4444444444444444,
              "#bd3786"
             ],
             [
              0.5555555555555556,
              "#d8576b"
             ],
             [
              0.6666666666666666,
              "#ed7953"
             ],
             [
              0.7777777777777778,
              "#fb9f3a"
             ],
             [
              0.8888888888888888,
              "#fdca26"
             ],
             [
              1,
              "#f0f921"
             ]
            ],
            "type": "contour"
           }
          ],
          "contourcarpet": [
           {
            "colorbar": {
             "outlinewidth": 0,
             "ticks": ""
            },
            "type": "contourcarpet"
           }
          ],
          "heatmap": [
           {
            "colorbar": {
             "outlinewidth": 0,
             "ticks": ""
            },
            "colorscale": [
             [
              0,
              "#0d0887"
             ],
             [
              0.1111111111111111,
              "#46039f"
             ],
             [
              0.2222222222222222,
              "#7201a8"
             ],
             [
              0.3333333333333333,
              "#9c179e"
             ],
             [
              0.4444444444444444,
              "#bd3786"
             ],
             [
              0.5555555555555556,
              "#d8576b"
             ],
             [
              0.6666666666666666,
              "#ed7953"
             ],
             [
              0.7777777777777778,
              "#fb9f3a"
             ],
             [
              0.8888888888888888,
              "#fdca26"
             ],
             [
              1,
              "#f0f921"
             ]
            ],
            "type": "heatmap"
           }
          ],
          "heatmapgl": [
           {
            "colorbar": {
             "outlinewidth": 0,
             "ticks": ""
            },
            "colorscale": [
             [
              0,
              "#0d0887"
             ],
             [
              0.1111111111111111,
              "#46039f"
             ],
             [
              0.2222222222222222,
              "#7201a8"
             ],
             [
              0.3333333333333333,
              "#9c179e"
             ],
             [
              0.4444444444444444,
              "#bd3786"
             ],
             [
              0.5555555555555556,
              "#d8576b"
             ],
             [
              0.6666666666666666,
              "#ed7953"
             ],
             [
              0.7777777777777778,
              "#fb9f3a"
             ],
             [
              0.8888888888888888,
              "#fdca26"
             ],
             [
              1,
              "#f0f921"
             ]
            ],
            "type": "heatmapgl"
           }
          ],
          "histogram": [
           {
            "marker": {
             "pattern": {
              "fillmode": "overlay",
              "size": 10,
              "solidity": 0.2
             }
            },
            "type": "histogram"
           }
          ],
          "histogram2d": [
           {
            "colorbar": {
             "outlinewidth": 0,
             "ticks": ""
            },
            "colorscale": [
             [
              0,
              "#0d0887"
             ],
             [
              0.1111111111111111,
              "#46039f"
             ],
             [
              0.2222222222222222,
              "#7201a8"
             ],
             [
              0.3333333333333333,
              "#9c179e"
             ],
             [
              0.4444444444444444,
              "#bd3786"
             ],
             [
              0.5555555555555556,
              "#d8576b"
             ],
             [
              0.6666666666666666,
              "#ed7953"
             ],
             [
              0.7777777777777778,
              "#fb9f3a"
             ],
             [
              0.8888888888888888,
              "#fdca26"
             ],
             [
              1,
              "#f0f921"
             ]
            ],
            "type": "histogram2d"
           }
          ],
          "histogram2dcontour": [
           {
            "colorbar": {
             "outlinewidth": 0,
             "ticks": ""
            },
            "colorscale": [
             [
              0,
              "#0d0887"
             ],
             [
              0.1111111111111111,
              "#46039f"
             ],
             [
              0.2222222222222222,
              "#7201a8"
             ],
             [
              0.3333333333333333,
              "#9c179e"
             ],
             [
              0.4444444444444444,
              "#bd3786"
             ],
             [
              0.5555555555555556,
              "#d8576b"
             ],
             [
              0.6666666666666666,
              "#ed7953"
             ],
             [
              0.7777777777777778,
              "#fb9f3a"
             ],
             [
              0.8888888888888888,
              "#fdca26"
             ],
             [
              1,
              "#f0f921"
             ]
            ],
            "type": "histogram2dcontour"
           }
          ],
          "mesh3d": [
           {
            "colorbar": {
             "outlinewidth": 0,
             "ticks": ""
            },
            "type": "mesh3d"
           }
          ],
          "parcoords": [
           {
            "line": {
             "colorbar": {
              "outlinewidth": 0,
              "ticks": ""
             }
            },
            "type": "parcoords"
           }
          ],
          "pie": [
           {
            "automargin": true,
            "type": "pie"
           }
          ],
          "scatter": [
           {
            "fillpattern": {
             "fillmode": "overlay",
             "size": 10,
             "solidity": 0.2
            },
            "type": "scatter"
           }
          ],
          "scatter3d": [
           {
            "line": {
             "colorbar": {
              "outlinewidth": 0,
              "ticks": ""
             }
            },
            "marker": {
             "colorbar": {
              "outlinewidth": 0,
              "ticks": ""
             }
            },
            "type": "scatter3d"
           }
          ],
          "scattercarpet": [
           {
            "marker": {
             "colorbar": {
              "outlinewidth": 0,
              "ticks": ""
             }
            },
            "type": "scattercarpet"
           }
          ],
          "scattergeo": [
           {
            "marker": {
             "colorbar": {
              "outlinewidth": 0,
              "ticks": ""
             }
            },
            "type": "scattergeo"
           }
          ],
          "scattergl": [
           {
            "marker": {
             "colorbar": {
              "outlinewidth": 0,
              "ticks": ""
             }
            },
            "type": "scattergl"
           }
          ],
          "scattermapbox": [
           {
            "marker": {
             "colorbar": {
              "outlinewidth": 0,
              "ticks": ""
             }
            },
            "type": "scattermapbox"
           }
          ],
          "scatterpolar": [
           {
            "marker": {
             "colorbar": {
              "outlinewidth": 0,
              "ticks": ""
             }
            },
            "type": "scatterpolar"
           }
          ],
          "scatterpolargl": [
           {
            "marker": {
             "colorbar": {
              "outlinewidth": 0,
              "ticks": ""
             }
            },
            "type": "scatterpolargl"
           }
          ],
          "scatterternary": [
           {
            "marker": {
             "colorbar": {
              "outlinewidth": 0,
              "ticks": ""
             }
            },
            "type": "scatterternary"
           }
          ],
          "surface": [
           {
            "colorbar": {
             "outlinewidth": 0,
             "ticks": ""
            },
            "colorscale": [
             [
              0,
              "#0d0887"
             ],
             [
              0.1111111111111111,
              "#46039f"
             ],
             [
              0.2222222222222222,
              "#7201a8"
             ],
             [
              0.3333333333333333,
              "#9c179e"
             ],
             [
              0.4444444444444444,
              "#bd3786"
             ],
             [
              0.5555555555555556,
              "#d8576b"
             ],
             [
              0.6666666666666666,
              "#ed7953"
             ],
             [
              0.7777777777777778,
              "#fb9f3a"
             ],
             [
              0.8888888888888888,
              "#fdca26"
             ],
             [
              1,
              "#f0f921"
             ]
            ],
            "type": "surface"
           }
          ],
          "table": [
           {
            "cells": {
             "fill": {
              "color": "#EBF0F8"
             },
             "line": {
              "color": "white"
             }
            },
            "header": {
             "fill": {
              "color": "#C8D4E3"
             },
             "line": {
              "color": "white"
             }
            },
            "type": "table"
           }
          ]
         },
         "layout": {
          "annotationdefaults": {
           "arrowcolor": "#2a3f5f",
           "arrowhead": 0,
           "arrowwidth": 1
          },
          "autotypenumbers": "strict",
          "coloraxis": {
           "colorbar": {
            "outlinewidth": 0,
            "ticks": ""
           }
          },
          "colorscale": {
           "diverging": [
            [
             0,
             "#8e0152"
            ],
            [
             0.1,
             "#c51b7d"
            ],
            [
             0.2,
             "#de77ae"
            ],
            [
             0.3,
             "#f1b6da"
            ],
            [
             0.4,
             "#fde0ef"
            ],
            [
             0.5,
             "#f7f7f7"
            ],
            [
             0.6,
             "#e6f5d0"
            ],
            [
             0.7,
             "#b8e186"
            ],
            [
             0.8,
             "#7fbc41"
            ],
            [
             0.9,
             "#4d9221"
            ],
            [
             1,
             "#276419"
            ]
           ],
           "sequential": [
            [
             0,
             "#0d0887"
            ],
            [
             0.1111111111111111,
             "#46039f"
            ],
            [
             0.2222222222222222,
             "#7201a8"
            ],
            [
             0.3333333333333333,
             "#9c179e"
            ],
            [
             0.4444444444444444,
             "#bd3786"
            ],
            [
             0.5555555555555556,
             "#d8576b"
            ],
            [
             0.6666666666666666,
             "#ed7953"
            ],
            [
             0.7777777777777778,
             "#fb9f3a"
            ],
            [
             0.8888888888888888,
             "#fdca26"
            ],
            [
             1,
             "#f0f921"
            ]
           ],
           "sequentialminus": [
            [
             0,
             "#0d0887"
            ],
            [
             0.1111111111111111,
             "#46039f"
            ],
            [
             0.2222222222222222,
             "#7201a8"
            ],
            [
             0.3333333333333333,
             "#9c179e"
            ],
            [
             0.4444444444444444,
             "#bd3786"
            ],
            [
             0.5555555555555556,
             "#d8576b"
            ],
            [
             0.6666666666666666,
             "#ed7953"
            ],
            [
             0.7777777777777778,
             "#fb9f3a"
            ],
            [
             0.8888888888888888,
             "#fdca26"
            ],
            [
             1,
             "#f0f921"
            ]
           ]
          },
          "colorway": [
           "#636efa",
           "#EF553B",
           "#00cc96",
           "#ab63fa",
           "#FFA15A",
           "#19d3f3",
           "#FF6692",
           "#B6E880",
           "#FF97FF",
           "#FECB52"
          ],
          "font": {
           "color": "#2a3f5f"
          },
          "geo": {
           "bgcolor": "white",
           "lakecolor": "white",
           "landcolor": "white",
           "showlakes": true,
           "showland": true,
           "subunitcolor": "#C8D4E3"
          },
          "hoverlabel": {
           "align": "left"
          },
          "hovermode": "closest",
          "mapbox": {
           "style": "light"
          },
          "paper_bgcolor": "white",
          "plot_bgcolor": "white",
          "polar": {
           "angularaxis": {
            "gridcolor": "#EBF0F8",
            "linecolor": "#EBF0F8",
            "ticks": ""
           },
           "bgcolor": "white",
           "radialaxis": {
            "gridcolor": "#EBF0F8",
            "linecolor": "#EBF0F8",
            "ticks": ""
           }
          },
          "scene": {
           "xaxis": {
            "backgroundcolor": "white",
            "gridcolor": "#DFE8F3",
            "gridwidth": 2,
            "linecolor": "#EBF0F8",
            "showbackground": true,
            "ticks": "",
            "zerolinecolor": "#EBF0F8"
           },
           "yaxis": {
            "backgroundcolor": "white",
            "gridcolor": "#DFE8F3",
            "gridwidth": 2,
            "linecolor": "#EBF0F8",
            "showbackground": true,
            "ticks": "",
            "zerolinecolor": "#EBF0F8"
           },
           "zaxis": {
            "backgroundcolor": "white",
            "gridcolor": "#DFE8F3",
            "gridwidth": 2,
            "linecolor": "#EBF0F8",
            "showbackground": true,
            "ticks": "",
            "zerolinecolor": "#EBF0F8"
           }
          },
          "shapedefaults": {
           "line": {
            "color": "#2a3f5f"
           }
          },
          "ternary": {
           "aaxis": {
            "gridcolor": "#DFE8F3",
            "linecolor": "#A2B1C6",
            "ticks": ""
           },
           "baxis": {
            "gridcolor": "#DFE8F3",
            "linecolor": "#A2B1C6",
            "ticks": ""
           },
           "bgcolor": "white",
           "caxis": {
            "gridcolor": "#DFE8F3",
            "linecolor": "#A2B1C6",
            "ticks": ""
           }
          },
          "title": {
           "x": 0.05
          },
          "xaxis": {
           "automargin": true,
           "gridcolor": "#EBF0F8",
           "linecolor": "#EBF0F8",
           "ticks": "",
           "title": {
            "standoff": 15
           },
           "zerolinecolor": "#EBF0F8",
           "zerolinewidth": 2
          },
          "yaxis": {
           "automargin": true,
           "gridcolor": "#EBF0F8",
           "linecolor": "#EBF0F8",
           "ticks": "",
           "title": {
            "standoff": 15
           },
           "zerolinecolor": "#EBF0F8",
           "zerolinewidth": 2
          }
         }
        },
        "title": {
         "text": "Model Accuracy vs Min Sample leaf in Decision Tree"
        },
        "width": 1000,
        "xaxis": {
         "title": {
          "text": "Base Estimator"
         }
        },
        "yaxis": {
         "title": {
          "text": "Accuracy"
         }
        }
       }
      }
     },
     "metadata": {},
     "output_type": "display_data"
    }
   ],
   "source": [
    "# Create the interactive line chart\n",
    "fig = go.Figure()\n",
    "# term = [4, 5, 6, 7, 8]\n",
    "fig.add_trace(go.Scatter(\n",
    "    x=list(term),\n",
    "    y=training_accuracy_bag1,\n",
    "    mode='lines+markers',\n",
    "    name='Accuracy of the training set',\n",
    "    line=dict(color='blue', width=2),\n",
    "    marker=dict(size=8, symbol='circle', color='blue'),\n",
    "    hovertemplate='Min Sample leaf: %{x}<br>Training Accuracy: %{y:.2f}'\n",
    "))\n",
    "\n",
    "fig.add_trace(go.Scatter(\n",
    "    x=list(term),\n",
    "    y=test_accuracy_bag1,\n",
    "    mode='lines+markers',\n",
    "    name='Accuracy of the test set',\n",
    "    line=dict(color='red', width=2),\n",
    "    marker=dict(size=8, symbol='circle', color='red'),\n",
    "    hovertemplate='Min Sample leaf: %{x}<br>Test Accuracy: %{y:.2f}'\n",
    "))\n",
    "\n",
    "fig.update_layout(\n",
    "    title='Model Accuracy vs Min Sample leaf in Decision Tree',\n",
    "    xaxis_title='Base Estimator',\n",
    "    yaxis_title='Accuracy',\n",
    "    legend=dict(\n",
    "        x=1,\n",
    "        y=1,\n",
    "        bgcolor='rgba(255, 255, 255, 0)',\n",
    "        bordercolor='rgba(255, 255, 255, 0)'\n",
    "    ),\n",
    "    template='plotly_white',\n",
    "    font=dict(\n",
    "        family=\"Arial, monospace\",\n",
    "        size=14,\n",
    "        color=\"RebeccaPurple\"\n",
    "    ),\n",
    "    hovermode='x unified',\n",
    "    width=1000,\n",
    "    height=500\n",
    ")\n",
    "\n",
    "# Show the interactive plot\n",
    "fig.show()\n"
   ]
  },
  {
   "cell_type": "code",
   "execution_count": 118,
   "metadata": {},
   "outputs": [
    {
     "data": {
      "application/vnd.plotly.v1+json": {
       "config": {
        "plotlyServerURL": "https://plot.ly"
       },
       "data": [
        {
         "hovertemplate": "Max Depth: %{x}<br>Training Accuracy: %{y:.2f}",
         "line": {
          "color": "blue",
          "width": 2
         },
         "marker": {
          "color": "blue",
          "size": 8,
          "symbol": "circle"
         },
         "mode": "lines+markers",
         "name": "Training Accuracy (Max Depth)",
         "type": "scatter",
         "x": [
          0.6,
          0.7,
          0.8,
          0.9,
          0.99,
          1
         ],
         "y": [
          0.9500070752557497,
          0.9649663855986638,
          0.9750798394055675,
          0.982064920327071,
          0.9866666111744647,
          0.9871715902122854
         ]
        },
        {
         "hovertemplate": "Max Depth: %{x}<br>Test Accuracy: %{y:.2f}",
         "line": {
          "color": "red",
          "width": 2
         },
         "marker": {
          "color": "red",
          "size": 8,
          "symbol": "circle"
         },
         "mode": "lines+markers",
         "name": "Test Accuracy (Max Depth)",
         "type": "scatter",
         "x": [
          0.6,
          0.7,
          0.8,
          0.9,
          0.99,
          1
         ],
         "y": [
          0.7384326825965839,
          0.7549138208494722,
          0.7678712140550259,
          0.7777432493923621,
          0.7865442882035004,
          0.7880758687280113
         ]
        },
        {
         "hovertemplate": "Min Samples Split: %{x}<br>Training Accuracy: %{y:.2f}",
         "line": {
          "color": "green",
          "width": 2
         },
         "marker": {
          "color": "green",
          "size": 8,
          "symbol": "square"
         },
         "mode": "lines+markers",
         "name": "Training Accuracy (Min Samples Split)",
         "type": "scatter",
         "x": [
          1,
          2,
          3,
          4,
          5,
          6,
          7,
          8,
          9,
          10,
          11,
          12,
          13,
          14
         ],
         "y": [
          0.53147378964571,
          0.5504243766144763,
          0.5499998612694951,
          0.558588666827594,
          0.562653470621041,
          0.5708274719695015,
          0.5741514548668049,
          0.5822755132335029,
          0.5882201153682879,
          0.595682429226633,
          0.6052159895230723,
          0.6155763836286906,
          0.6279206239543188,
          0.6433308084381443
         ]
        },
        {
         "hovertemplate": "Min Samples Split: %{x}<br>Test Accuracy: %{y:.2f}",
         "line": {
          "color": "purple",
          "width": 2
         },
         "marker": {
          "color": "purple",
          "size": 8,
          "symbol": "square"
         },
         "mode": "lines+markers",
         "name": "Test Accuracy (Min Samples Split)",
         "type": "scatter",
         "x": [
          1,
          2,
          3,
          4,
          5,
          6,
          7,
          8,
          9,
          10,
          11,
          12,
          13,
          14
         ],
         "y": [
          0.5331953431073327,
          0.5533944485755191,
          0.551546563377468,
          0.5622010365914565,
          0.5652364516164834,
          0.5720730719287926,
          0.5746035093171149,
          0.580396879127221,
          0.5849028334239703,
          0.590291111283753,
          0.5960955795034572,
          0.6020054826143414,
          0.6092138996481804,
          0.6159672818885054
         ]
        }
       ],
       "layout": {
        "hovermode": "x unified",
        "legend": {
         "orientation": "h",
         "x": 1,
         "xanchor": "right",
         "y": 1.02,
         "yanchor": "bottom"
        },
        "template": {
         "data": {
          "bar": [
           {
            "error_x": {
             "color": "#2a3f5f"
            },
            "error_y": {
             "color": "#2a3f5f"
            },
            "marker": {
             "line": {
              "color": "#E5ECF6",
              "width": 0.5
             },
             "pattern": {
              "fillmode": "overlay",
              "size": 10,
              "solidity": 0.2
             }
            },
            "type": "bar"
           }
          ],
          "barpolar": [
           {
            "marker": {
             "line": {
              "color": "#E5ECF6",
              "width": 0.5
             },
             "pattern": {
              "fillmode": "overlay",
              "size": 10,
              "solidity": 0.2
             }
            },
            "type": "barpolar"
           }
          ],
          "carpet": [
           {
            "aaxis": {
             "endlinecolor": "#2a3f5f",
             "gridcolor": "white",
             "linecolor": "white",
             "minorgridcolor": "white",
             "startlinecolor": "#2a3f5f"
            },
            "baxis": {
             "endlinecolor": "#2a3f5f",
             "gridcolor": "white",
             "linecolor": "white",
             "minorgridcolor": "white",
             "startlinecolor": "#2a3f5f"
            },
            "type": "carpet"
           }
          ],
          "choropleth": [
           {
            "colorbar": {
             "outlinewidth": 0,
             "ticks": ""
            },
            "type": "choropleth"
           }
          ],
          "contour": [
           {
            "colorbar": {
             "outlinewidth": 0,
             "ticks": ""
            },
            "colorscale": [
             [
              0,
              "#0d0887"
             ],
             [
              0.1111111111111111,
              "#46039f"
             ],
             [
              0.2222222222222222,
              "#7201a8"
             ],
             [
              0.3333333333333333,
              "#9c179e"
             ],
             [
              0.4444444444444444,
              "#bd3786"
             ],
             [
              0.5555555555555556,
              "#d8576b"
             ],
             [
              0.6666666666666666,
              "#ed7953"
             ],
             [
              0.7777777777777778,
              "#fb9f3a"
             ],
             [
              0.8888888888888888,
              "#fdca26"
             ],
             [
              1,
              "#f0f921"
             ]
            ],
            "type": "contour"
           }
          ],
          "contourcarpet": [
           {
            "colorbar": {
             "outlinewidth": 0,
             "ticks": ""
            },
            "type": "contourcarpet"
           }
          ],
          "heatmap": [
           {
            "colorbar": {
             "outlinewidth": 0,
             "ticks": ""
            },
            "colorscale": [
             [
              0,
              "#0d0887"
             ],
             [
              0.1111111111111111,
              "#46039f"
             ],
             [
              0.2222222222222222,
              "#7201a8"
             ],
             [
              0.3333333333333333,
              "#9c179e"
             ],
             [
              0.4444444444444444,
              "#bd3786"
             ],
             [
              0.5555555555555556,
              "#d8576b"
             ],
             [
              0.6666666666666666,
              "#ed7953"
             ],
             [
              0.7777777777777778,
              "#fb9f3a"
             ],
             [
              0.8888888888888888,
              "#fdca26"
             ],
             [
              1,
              "#f0f921"
             ]
            ],
            "type": "heatmap"
           }
          ],
          "heatmapgl": [
           {
            "colorbar": {
             "outlinewidth": 0,
             "ticks": ""
            },
            "colorscale": [
             [
              0,
              "#0d0887"
             ],
             [
              0.1111111111111111,
              "#46039f"
             ],
             [
              0.2222222222222222,
              "#7201a8"
             ],
             [
              0.3333333333333333,
              "#9c179e"
             ],
             [
              0.4444444444444444,
              "#bd3786"
             ],
             [
              0.5555555555555556,
              "#d8576b"
             ],
             [
              0.6666666666666666,
              "#ed7953"
             ],
             [
              0.7777777777777778,
              "#fb9f3a"
             ],
             [
              0.8888888888888888,
              "#fdca26"
             ],
             [
              1,
              "#f0f921"
             ]
            ],
            "type": "heatmapgl"
           }
          ],
          "histogram": [
           {
            "marker": {
             "pattern": {
              "fillmode": "overlay",
              "size": 10,
              "solidity": 0.2
             }
            },
            "type": "histogram"
           }
          ],
          "histogram2d": [
           {
            "colorbar": {
             "outlinewidth": 0,
             "ticks": ""
            },
            "colorscale": [
             [
              0,
              "#0d0887"
             ],
             [
              0.1111111111111111,
              "#46039f"
             ],
             [
              0.2222222222222222,
              "#7201a8"
             ],
             [
              0.3333333333333333,
              "#9c179e"
             ],
             [
              0.4444444444444444,
              "#bd3786"
             ],
             [
              0.5555555555555556,
              "#d8576b"
             ],
             [
              0.6666666666666666,
              "#ed7953"
             ],
             [
              0.7777777777777778,
              "#fb9f3a"
             ],
             [
              0.8888888888888888,
              "#fdca26"
             ],
             [
              1,
              "#f0f921"
             ]
            ],
            "type": "histogram2d"
           }
          ],
          "histogram2dcontour": [
           {
            "colorbar": {
             "outlinewidth": 0,
             "ticks": ""
            },
            "colorscale": [
             [
              0,
              "#0d0887"
             ],
             [
              0.1111111111111111,
              "#46039f"
             ],
             [
              0.2222222222222222,
              "#7201a8"
             ],
             [
              0.3333333333333333,
              "#9c179e"
             ],
             [
              0.4444444444444444,
              "#bd3786"
             ],
             [
              0.5555555555555556,
              "#d8576b"
             ],
             [
              0.6666666666666666,
              "#ed7953"
             ],
             [
              0.7777777777777778,
              "#fb9f3a"
             ],
             [
              0.8888888888888888,
              "#fdca26"
             ],
             [
              1,
              "#f0f921"
             ]
            ],
            "type": "histogram2dcontour"
           }
          ],
          "mesh3d": [
           {
            "colorbar": {
             "outlinewidth": 0,
             "ticks": ""
            },
            "type": "mesh3d"
           }
          ],
          "parcoords": [
           {
            "line": {
             "colorbar": {
              "outlinewidth": 0,
              "ticks": ""
             }
            },
            "type": "parcoords"
           }
          ],
          "pie": [
           {
            "automargin": true,
            "type": "pie"
           }
          ],
          "scatter": [
           {
            "fillpattern": {
             "fillmode": "overlay",
             "size": 10,
             "solidity": 0.2
            },
            "type": "scatter"
           }
          ],
          "scatter3d": [
           {
            "line": {
             "colorbar": {
              "outlinewidth": 0,
              "ticks": ""
             }
            },
            "marker": {
             "colorbar": {
              "outlinewidth": 0,
              "ticks": ""
             }
            },
            "type": "scatter3d"
           }
          ],
          "scattercarpet": [
           {
            "marker": {
             "colorbar": {
              "outlinewidth": 0,
              "ticks": ""
             }
            },
            "type": "scattercarpet"
           }
          ],
          "scattergeo": [
           {
            "marker": {
             "colorbar": {
              "outlinewidth": 0,
              "ticks": ""
             }
            },
            "type": "scattergeo"
           }
          ],
          "scattergl": [
           {
            "marker": {
             "colorbar": {
              "outlinewidth": 0,
              "ticks": ""
             }
            },
            "type": "scattergl"
           }
          ],
          "scattermapbox": [
           {
            "marker": {
             "colorbar": {
              "outlinewidth": 0,
              "ticks": ""
             }
            },
            "type": "scattermapbox"
           }
          ],
          "scatterpolar": [
           {
            "marker": {
             "colorbar": {
              "outlinewidth": 0,
              "ticks": ""
             }
            },
            "type": "scatterpolar"
           }
          ],
          "scatterpolargl": [
           {
            "marker": {
             "colorbar": {
              "outlinewidth": 0,
              "ticks": ""
             }
            },
            "type": "scatterpolargl"
           }
          ],
          "scatterternary": [
           {
            "marker": {
             "colorbar": {
              "outlinewidth": 0,
              "ticks": ""
             }
            },
            "type": "scatterternary"
           }
          ],
          "surface": [
           {
            "colorbar": {
             "outlinewidth": 0,
             "ticks": ""
            },
            "colorscale": [
             [
              0,
              "#0d0887"
             ],
             [
              0.1111111111111111,
              "#46039f"
             ],
             [
              0.2222222222222222,
              "#7201a8"
             ],
             [
              0.3333333333333333,
              "#9c179e"
             ],
             [
              0.4444444444444444,
              "#bd3786"
             ],
             [
              0.5555555555555556,
              "#d8576b"
             ],
             [
              0.6666666666666666,
              "#ed7953"
             ],
             [
              0.7777777777777778,
              "#fb9f3a"
             ],
             [
              0.8888888888888888,
              "#fdca26"
             ],
             [
              1,
              "#f0f921"
             ]
            ],
            "type": "surface"
           }
          ],
          "table": [
           {
            "cells": {
             "fill": {
              "color": "#EBF0F8"
             },
             "line": {
              "color": "white"
             }
            },
            "header": {
             "fill": {
              "color": "#C8D4E3"
             },
             "line": {
              "color": "white"
             }
            },
            "type": "table"
           }
          ]
         },
         "layout": {
          "annotationdefaults": {
           "arrowcolor": "#2a3f5f",
           "arrowhead": 0,
           "arrowwidth": 1
          },
          "autotypenumbers": "strict",
          "coloraxis": {
           "colorbar": {
            "outlinewidth": 0,
            "ticks": ""
           }
          },
          "colorscale": {
           "diverging": [
            [
             0,
             "#8e0152"
            ],
            [
             0.1,
             "#c51b7d"
            ],
            [
             0.2,
             "#de77ae"
            ],
            [
             0.3,
             "#f1b6da"
            ],
            [
             0.4,
             "#fde0ef"
            ],
            [
             0.5,
             "#f7f7f7"
            ],
            [
             0.6,
             "#e6f5d0"
            ],
            [
             0.7,
             "#b8e186"
            ],
            [
             0.8,
             "#7fbc41"
            ],
            [
             0.9,
             "#4d9221"
            ],
            [
             1,
             "#276419"
            ]
           ],
           "sequential": [
            [
             0,
             "#0d0887"
            ],
            [
             0.1111111111111111,
             "#46039f"
            ],
            [
             0.2222222222222222,
             "#7201a8"
            ],
            [
             0.3333333333333333,
             "#9c179e"
            ],
            [
             0.4444444444444444,
             "#bd3786"
            ],
            [
             0.5555555555555556,
             "#d8576b"
            ],
            [
             0.6666666666666666,
             "#ed7953"
            ],
            [
             0.7777777777777778,
             "#fb9f3a"
            ],
            [
             0.8888888888888888,
             "#fdca26"
            ],
            [
             1,
             "#f0f921"
            ]
           ],
           "sequentialminus": [
            [
             0,
             "#0d0887"
            ],
            [
             0.1111111111111111,
             "#46039f"
            ],
            [
             0.2222222222222222,
             "#7201a8"
            ],
            [
             0.3333333333333333,
             "#9c179e"
            ],
            [
             0.4444444444444444,
             "#bd3786"
            ],
            [
             0.5555555555555556,
             "#d8576b"
            ],
            [
             0.6666666666666666,
             "#ed7953"
            ],
            [
             0.7777777777777778,
             "#fb9f3a"
            ],
            [
             0.8888888888888888,
             "#fdca26"
            ],
            [
             1,
             "#f0f921"
            ]
           ]
          },
          "colorway": [
           "#636efa",
           "#EF553B",
           "#00cc96",
           "#ab63fa",
           "#FFA15A",
           "#19d3f3",
           "#FF6692",
           "#B6E880",
           "#FF97FF",
           "#FECB52"
          ],
          "font": {
           "color": "#2a3f5f"
          },
          "geo": {
           "bgcolor": "white",
           "lakecolor": "white",
           "landcolor": "#E5ECF6",
           "showlakes": true,
           "showland": true,
           "subunitcolor": "white"
          },
          "hoverlabel": {
           "align": "left"
          },
          "hovermode": "closest",
          "mapbox": {
           "style": "light"
          },
          "paper_bgcolor": "white",
          "plot_bgcolor": "#E5ECF6",
          "polar": {
           "angularaxis": {
            "gridcolor": "white",
            "linecolor": "white",
            "ticks": ""
           },
           "bgcolor": "#E5ECF6",
           "radialaxis": {
            "gridcolor": "white",
            "linecolor": "white",
            "ticks": ""
           }
          },
          "scene": {
           "xaxis": {
            "backgroundcolor": "#E5ECF6",
            "gridcolor": "white",
            "gridwidth": 2,
            "linecolor": "white",
            "showbackground": true,
            "ticks": "",
            "zerolinecolor": "white"
           },
           "yaxis": {
            "backgroundcolor": "#E5ECF6",
            "gridcolor": "white",
            "gridwidth": 2,
            "linecolor": "white",
            "showbackground": true,
            "ticks": "",
            "zerolinecolor": "white"
           },
           "zaxis": {
            "backgroundcolor": "#E5ECF6",
            "gridcolor": "white",
            "gridwidth": 2,
            "linecolor": "white",
            "showbackground": true,
            "ticks": "",
            "zerolinecolor": "white"
           }
          },
          "shapedefaults": {
           "line": {
            "color": "#2a3f5f"
           }
          },
          "ternary": {
           "aaxis": {
            "gridcolor": "white",
            "linecolor": "white",
            "ticks": ""
           },
           "baxis": {
            "gridcolor": "white",
            "linecolor": "white",
            "ticks": ""
           },
           "bgcolor": "#E5ECF6",
           "caxis": {
            "gridcolor": "white",
            "linecolor": "white",
            "ticks": ""
           }
          },
          "title": {
           "x": 0.05
          },
          "xaxis": {
           "automargin": true,
           "gridcolor": "white",
           "linecolor": "white",
           "ticks": "",
           "title": {
            "standoff": 15
           },
           "zerolinecolor": "white",
           "zerolinewidth": 2
          },
          "yaxis": {
           "automargin": true,
           "gridcolor": "white",
           "linecolor": "white",
           "ticks": "",
           "title": {
            "standoff": 15
           },
           "zerolinecolor": "white",
           "zerolinewidth": 2
          }
         }
        },
        "title": {
         "text": "Combined Accuracy Plots"
        },
        "xaxis": {
         "title": {
          "text": "Parameter Values"
         }
        },
        "yaxis": {
         "title": {
          "text": "Accuracy"
         }
        }
       }
      }
     },
     "metadata": {},
     "output_type": "display_data"
    }
   ],
   "source": [
    "import plotly.graph_objects as go\n",
    "\n",
    "# Create a new figure\n",
    "fig = go.Figure()\n",
    "\n",
    "# Add the first two traces (Max Depth)\n",
    "fig.add_trace(go.Scatter(\n",
    "    x=list(max_samples_bag),\n",
    "    y=training_accuracy_bag,\n",
    "    mode='lines+markers',\n",
    "    name='Training Accuracy (Max Depth)',\n",
    "    line=dict(color='blue', width=2),\n",
    "    marker=dict(size=8, symbol='circle', color='blue'),\n",
    "    hovertemplate='Max Depth: %{x}<br>Training Accuracy: %{y:.2f}'\n",
    "))\n",
    "\n",
    "fig.add_trace(go.Scatter(\n",
    "    x=list(max_samples_bag),\n",
    "    y=test_accuracy_bag,\n",
    "    mode='lines+markers',\n",
    "    name='Test Accuracy (Max Depth)',\n",
    "    line=dict(color='red', width=2),\n",
    "    marker=dict(size=8, symbol='circle', color='red'),\n",
    "    hovertemplate='Max Depth: %{x}<br>Test Accuracy: %{y:.2f}'\n",
    "))\n",
    "\n",
    "# Add the other two traces (Min Samples Split)\n",
    "fig.add_trace(go.Scatter(\n",
    "    x=list(term),\n",
    "    y=training_accuracy_bag1,\n",
    "    mode='lines+markers',\n",
    "    name='Training Accuracy (Min Samples Split)',\n",
    "    line=dict(color='green', width=2),\n",
    "    marker=dict(size=8, symbol='square', color='green'),\n",
    "    hovertemplate='Min Samples Split: %{x}<br>Training Accuracy: %{y:.2f}'\n",
    "))\n",
    "\n",
    "fig.add_trace(go.Scatter(\n",
    "    x=list(term),\n",
    "    y=test_accuracy_bag1,\n",
    "    mode='lines+markers',\n",
    "    name='Test Accuracy (Min Samples Split)',\n",
    "    line=dict(color='purple', width=2),\n",
    "    marker=dict(size=8, symbol='square', color='purple'),\n",
    "    hovertemplate='Min Samples Split: %{x}<br>Test Accuracy: %{y:.2f}'\n",
    "))\n",
    "\n",
    "\n",
    "# Update the layout\n",
    "fig.update_layout(\n",
    "    title='Combined Accuracy Plots',\n",
    "    xaxis_title='Parameter Values',\n",
    "    yaxis_title='Accuracy',\n",
    "    legend=dict(\n",
    "        orientation='h',\n",
    "        yanchor='bottom',\n",
    "        y=1.02,\n",
    "        xanchor='right',\n",
    "        x=1\n",
    "    ),\n",
    "    hovermode='x unified'\n",
    ")\n",
    "\n",
    "# Show the figure\n",
    "fig.show()\n"
   ]
  }
 ],
 "metadata": {
  "kernelspec": {
   "display_name": "Python 3",
   "language": "python",
   "name": "python3"
  },
  "language_info": {
   "codemirror_mode": {
    "name": "ipython",
    "version": 3
   },
   "file_extension": ".py",
   "mimetype": "text/x-python",
   "name": "python",
   "nbconvert_exporter": "python",
   "pygments_lexer": "ipython3",
   "version": "3.10.10"
  }
 },
 "nbformat": 4,
 "nbformat_minor": 2
}
